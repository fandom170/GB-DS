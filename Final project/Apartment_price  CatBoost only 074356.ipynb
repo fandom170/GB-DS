{
 "cells": [
  {
   "cell_type": "markdown",
   "id": "proof-liberty",
   "metadata": {},
   "source": [
    "# Machine learning project"
   ]
  },
  {
   "cell_type": "markdown",
   "id": "empirical-basis",
   "metadata": {},
   "source": [
    "**Content**\n",
    "\n",
    "1. [Definition](#definition)\n",
    "2. [Data Analysis](#data_analysis)\n",
    "3. [Functions for data processing](#functions)\n",
    "4. [Data visualisation and pre-processing](#visualization)\n",
    "5. [Model creation and applying](#models)\n",
    "6. [Conclusions](#conclusions)"
   ]
  },
  {
   "cell_type": "markdown",
   "id": "signal-kennedy",
   "metadata": {},
   "source": [
    "## 1. Definition <a class='anchor' id='definition'>"
   ]
  },
  {
   "cell_type": "markdown",
   "id": "affiliated-flexibility",
   "metadata": {},
   "source": [
    "### Overview"
   ]
  },
  {
   "cell_type": "markdown",
   "id": "european-suicide",
   "metadata": {},
   "source": [
    "Dataset which is used in the current task was taken from kaggle contest.\n",
    "https://www.kaggle.com/c/realestatepriceprediction/data\n",
    "\n",
    "\n",
    "Main goal of this contest was predict price of appartment based, on set of features which characterizes these appartments."
   ]
  },
  {
   "cell_type": "markdown",
   "id": "forbidden-depression",
   "metadata": {},
   "source": [
    "### Problem statement"
   ]
  },
  {
   "cell_type": "markdown",
   "id": "applicable-harassment",
   "metadata": {},
   "source": [
    "In the current project price of appartment from test dataset is going to be predicted.\n",
    "There are several models of different types will be created and then their results will be compared to found the most optimal model which fit best for Price prediction.\n",
    "\n",
    "Price prognosos is the regression question and target variable has continiuous range of values. \n",
    "When counting parameters of existing appartments we are going to predict price for other appartments described by the same set of features.\n",
    "\n",
    "Main goal: Find the model which will be able predict value of target variable for each new object.\n",
    "Quality of prediction will be R2 score."
   ]
  },
  {
   "cell_type": "markdown",
   "id": "thorough-perfume",
   "metadata": {},
   "source": [
    "### Metrics"
   ]
  },
  {
   "cell_type": "markdown",
   "id": "important-article",
   "metadata": {},
   "source": [
    "There are three metrics which can be used for regression tasks.\n",
    "\n",
    "- Mean_absolute_error\n",
    "- Mean Square Error\n",
    "- R2_score\n",
    "\n",
    "Quality of model will be verified based on R2 score which should be close to 1.0 as close as it is possible."
   ]
  },
  {
   "cell_type": "markdown",
   "id": "early-distributor",
   "metadata": {},
   "source": [
    "### Model selection"
   ]
  },
  {
   "cell_type": "markdown",
   "id": "assigned-concentrate",
   "metadata": {},
   "source": [
    "For the current tasks following models will be applied for comparing of results:\n",
    "- Cat Boost"
   ]
  },
  {
   "cell_type": "markdown",
   "id": "obvious-edinburgh",
   "metadata": {},
   "source": [
    "### Modules import"
   ]
  },
  {
   "cell_type": "code",
   "execution_count": 1,
   "id": "killing-candle",
   "metadata": {},
   "outputs": [],
   "source": [
    "import pandas as pd\n",
    "import numpy as np"
   ]
  },
  {
   "cell_type": "code",
   "execution_count": 2,
   "id": "resistant-questionnaire",
   "metadata": {},
   "outputs": [],
   "source": [
    "from sklearn import tree\n",
    "import matplotlib.pyplot as plt"
   ]
  },
  {
   "cell_type": "code",
   "execution_count": 3,
   "id": "approved-classroom",
   "metadata": {},
   "outputs": [],
   "source": [
    "import seaborn as sns"
   ]
  },
  {
   "cell_type": "code",
   "execution_count": 4,
   "id": "current-practitioner",
   "metadata": {},
   "outputs": [],
   "source": [
    "from sklearn.linear_model import LinearRegression"
   ]
  },
  {
   "cell_type": "code",
   "execution_count": 5,
   "id": "surprising-denial",
   "metadata": {},
   "outputs": [],
   "source": [
    "%matplotlib inline"
   ]
  },
  {
   "cell_type": "code",
   "execution_count": 6,
   "id": "previous-emphasis",
   "metadata": {},
   "outputs": [],
   "source": [
    "from sklearn.model_selection import GridSearchCV"
   ]
  },
  {
   "cell_type": "code",
   "execution_count": 7,
   "id": "collective-optimum",
   "metadata": {},
   "outputs": [],
   "source": [
    "from sklearn.metrics import accuracy_score"
   ]
  },
  {
   "cell_type": "code",
   "execution_count": 8,
   "id": "governmental-increase",
   "metadata": {},
   "outputs": [],
   "source": [
    "from sklearn.ensemble import RandomForestRegressor, GradientBoostingRegressor"
   ]
  },
  {
   "cell_type": "code",
   "execution_count": 9,
   "id": "contrary-fight",
   "metadata": {},
   "outputs": [],
   "source": [
    "from sklearn.model_selection import train_test_split\n",
    "from sklearn.model_selection import GridSearchCV, RandomizedSearchCV\n",
    "from sklearn.model_selection import KFold, RepeatedStratifiedKFold, RepeatedKFold"
   ]
  },
  {
   "cell_type": "code",
   "execution_count": 10,
   "id": "composite-external",
   "metadata": {},
   "outputs": [],
   "source": [
    "from sklearn.metrics import r2_score\n",
    "from sklearn.metrics import mean_absolute_error\n",
    "from sklearn.metrics import mean_squared_error"
   ]
  },
  {
   "cell_type": "code",
   "execution_count": 11,
   "id": "numerical-truth",
   "metadata": {},
   "outputs": [],
   "source": [
    "from sklearn.linear_model import Lasso, Ridge"
   ]
  },
  {
   "cell_type": "code",
   "execution_count": 12,
   "id": "rapid-netscape",
   "metadata": {},
   "outputs": [],
   "source": [
    "from sklearn.preprocessing import StandardScaler, MinMaxScaler"
   ]
  },
  {
   "cell_type": "code",
   "execution_count": 13,
   "id": "electric-veteran",
   "metadata": {},
   "outputs": [],
   "source": [
    "from random import randint, random"
   ]
  },
  {
   "cell_type": "code",
   "execution_count": 14,
   "id": "optical-matter",
   "metadata": {},
   "outputs": [],
   "source": [
    "# garbage collector\n",
    "import gc "
   ]
  },
  {
   "cell_type": "code",
   "execution_count": 15,
   "id": "allied-generator",
   "metadata": {},
   "outputs": [],
   "source": [
    "from catboost import CatBoostRegressor"
   ]
  },
  {
   "cell_type": "markdown",
   "id": "underlying-familiar",
   "metadata": {},
   "source": [
    "Creation of empty dataframe for result storing"
   ]
  },
  {
   "cell_type": "code",
   "execution_count": 16,
   "id": "widespread-ferry",
   "metadata": {},
   "outputs": [],
   "source": [
    "result = pd.DataFrame(columns=['Model_type','data_proprocessing','R2_score', 'MAE', 'MSE'], dtype = object)"
   ]
  },
  {
   "cell_type": "markdown",
   "id": "ongoing-mumbai",
   "metadata": {},
   "source": [
    "## 2. Data analysis <a class='anchor' id='data_analysis'>"
   ]
  },
  {
   "cell_type": "markdown",
   "id": "colonial-habitat",
   "metadata": {},
   "source": [
    "### Data Preparation"
   ]
  },
  {
   "cell_type": "markdown",
   "id": "swiss-government",
   "metadata": {},
   "source": [
    "Dataset which is used in the current task was taken from kaggle contest.\n",
    "https://www.kaggle.com/c/realestatepriceprediction/data\n",
    "\n",
    "Id columns will be used as index because this field should be unique and does not any valueable information for prediction process."
   ]
  },
  {
   "cell_type": "code",
   "execution_count": 17,
   "id": "failing-receptor",
   "metadata": {},
   "outputs": [],
   "source": [
    "df = pd.read_csv(\"D:\\\\Learning\\\\GeekBrains\\\\numpy and pandas\\\\Final project\\\\train.csv\", index_col='Id' )"
   ]
  },
  {
   "cell_type": "code",
   "execution_count": 18,
   "id": "beginning-fiction",
   "metadata": {},
   "outputs": [
    {
     "data": {
      "text/plain": [
       "DistrictId         int64\n",
       "Rooms            float64\n",
       "Square           float64\n",
       "LifeSquare       float64\n",
       "KitchenSquare    float64\n",
       "Floor              int64\n",
       "HouseFloor       float64\n",
       "HouseYear          int64\n",
       "Ecology_1        float64\n",
       "Ecology_2         object\n",
       "Ecology_3         object\n",
       "Social_1           int64\n",
       "Social_2           int64\n",
       "Social_3           int64\n",
       "Healthcare_1     float64\n",
       "Helthcare_2        int64\n",
       "Shops_1            int64\n",
       "Shops_2           object\n",
       "Price            float64\n",
       "dtype: object"
      ]
     },
     "execution_count": 18,
     "metadata": {},
     "output_type": "execute_result"
    }
   ],
   "source": [
    "df.dtypes"
   ]
  },
  {
   "cell_type": "markdown",
   "id": "creative-technique",
   "metadata": {},
   "source": [
    "#### Data fields/Features\n",
    "- Id - id of appartment\n",
    "- DistrictId - id of district where appartment is\n",
    "- Rooms - number of rooms in apartment\n",
    "- Square - area of appartment\n",
    "- LifeSquare - value of life square of appartment\n",
    "- KitchenSquare - value of kitchen square of appartment\n",
    "- Floor - floor where appartment is.\n",
    "- HouseFloor - number of floors of the house.\n",
    "- HouseYear - year where house was built.\n",
    "- Ecology_1, Ecology_2, Ecology_3 - ecological features of region\n",
    "- Social_1, Social_2, Social_3 - social features of region\n",
    "- Healthcare_1, Helthcare_2 - features of reagion related to healthcare\n",
    "- Shops_1, Shops_2 - features which describe existiong of shops, trade centers etc nearby\n",
    "- Price - target value. Price of appartment"
   ]
  },
  {
   "cell_type": "code",
   "execution_count": 19,
   "id": "lovely-longer",
   "metadata": {
    "scrolled": false
   },
   "outputs": [
    {
     "data": {
      "text/html": [
       "<div>\n",
       "<style scoped>\n",
       "    .dataframe tbody tr th:only-of-type {\n",
       "        vertical-align: middle;\n",
       "    }\n",
       "\n",
       "    .dataframe tbody tr th {\n",
       "        vertical-align: top;\n",
       "    }\n",
       "\n",
       "    .dataframe thead th {\n",
       "        text-align: right;\n",
       "    }\n",
       "</style>\n",
       "<table border=\"1\" class=\"dataframe\">\n",
       "  <thead>\n",
       "    <tr style=\"text-align: right;\">\n",
       "      <th></th>\n",
       "      <th>DistrictId</th>\n",
       "      <th>Rooms</th>\n",
       "      <th>Square</th>\n",
       "      <th>LifeSquare</th>\n",
       "      <th>KitchenSquare</th>\n",
       "      <th>Floor</th>\n",
       "      <th>HouseFloor</th>\n",
       "      <th>HouseYear</th>\n",
       "      <th>Ecology_1</th>\n",
       "      <th>Ecology_2</th>\n",
       "      <th>Ecology_3</th>\n",
       "      <th>Social_1</th>\n",
       "      <th>Social_2</th>\n",
       "      <th>Social_3</th>\n",
       "      <th>Healthcare_1</th>\n",
       "      <th>Helthcare_2</th>\n",
       "      <th>Shops_1</th>\n",
       "      <th>Shops_2</th>\n",
       "      <th>Price</th>\n",
       "    </tr>\n",
       "    <tr>\n",
       "      <th>Id</th>\n",
       "      <th></th>\n",
       "      <th></th>\n",
       "      <th></th>\n",
       "      <th></th>\n",
       "      <th></th>\n",
       "      <th></th>\n",
       "      <th></th>\n",
       "      <th></th>\n",
       "      <th></th>\n",
       "      <th></th>\n",
       "      <th></th>\n",
       "      <th></th>\n",
       "      <th></th>\n",
       "      <th></th>\n",
       "      <th></th>\n",
       "      <th></th>\n",
       "      <th></th>\n",
       "      <th></th>\n",
       "      <th></th>\n",
       "    </tr>\n",
       "  </thead>\n",
       "  <tbody>\n",
       "    <tr>\n",
       "      <th>14038</th>\n",
       "      <td>35</td>\n",
       "      <td>2.0</td>\n",
       "      <td>47.981561</td>\n",
       "      <td>29.442751</td>\n",
       "      <td>6.0</td>\n",
       "      <td>7</td>\n",
       "      <td>9.0</td>\n",
       "      <td>1969</td>\n",
       "      <td>0.089040</td>\n",
       "      <td>B</td>\n",
       "      <td>B</td>\n",
       "      <td>33</td>\n",
       "      <td>7976</td>\n",
       "      <td>5</td>\n",
       "      <td>NaN</td>\n",
       "      <td>0</td>\n",
       "      <td>11</td>\n",
       "      <td>B</td>\n",
       "      <td>184966.930730</td>\n",
       "    </tr>\n",
       "    <tr>\n",
       "      <th>15053</th>\n",
       "      <td>41</td>\n",
       "      <td>3.0</td>\n",
       "      <td>65.683640</td>\n",
       "      <td>40.049543</td>\n",
       "      <td>8.0</td>\n",
       "      <td>7</td>\n",
       "      <td>9.0</td>\n",
       "      <td>1978</td>\n",
       "      <td>0.000070</td>\n",
       "      <td>B</td>\n",
       "      <td>B</td>\n",
       "      <td>46</td>\n",
       "      <td>10309</td>\n",
       "      <td>1</td>\n",
       "      <td>240.0</td>\n",
       "      <td>1</td>\n",
       "      <td>16</td>\n",
       "      <td>B</td>\n",
       "      <td>300009.450063</td>\n",
       "    </tr>\n",
       "    <tr>\n",
       "      <th>4765</th>\n",
       "      <td>53</td>\n",
       "      <td>2.0</td>\n",
       "      <td>44.947953</td>\n",
       "      <td>29.197612</td>\n",
       "      <td>0.0</td>\n",
       "      <td>8</td>\n",
       "      <td>12.0</td>\n",
       "      <td>1968</td>\n",
       "      <td>0.049637</td>\n",
       "      <td>B</td>\n",
       "      <td>B</td>\n",
       "      <td>34</td>\n",
       "      <td>7759</td>\n",
       "      <td>0</td>\n",
       "      <td>229.0</td>\n",
       "      <td>1</td>\n",
       "      <td>3</td>\n",
       "      <td>B</td>\n",
       "      <td>220925.908524</td>\n",
       "    </tr>\n",
       "    <tr>\n",
       "      <th>5809</th>\n",
       "      <td>58</td>\n",
       "      <td>2.0</td>\n",
       "      <td>53.352981</td>\n",
       "      <td>52.731512</td>\n",
       "      <td>9.0</td>\n",
       "      <td>8</td>\n",
       "      <td>17.0</td>\n",
       "      <td>1977</td>\n",
       "      <td>0.437885</td>\n",
       "      <td>B</td>\n",
       "      <td>B</td>\n",
       "      <td>23</td>\n",
       "      <td>5735</td>\n",
       "      <td>3</td>\n",
       "      <td>1084.0</td>\n",
       "      <td>0</td>\n",
       "      <td>5</td>\n",
       "      <td>B</td>\n",
       "      <td>175616.227217</td>\n",
       "    </tr>\n",
       "    <tr>\n",
       "      <th>10783</th>\n",
       "      <td>99</td>\n",
       "      <td>1.0</td>\n",
       "      <td>39.649192</td>\n",
       "      <td>23.776169</td>\n",
       "      <td>7.0</td>\n",
       "      <td>11</td>\n",
       "      <td>12.0</td>\n",
       "      <td>1976</td>\n",
       "      <td>0.012339</td>\n",
       "      <td>B</td>\n",
       "      <td>B</td>\n",
       "      <td>35</td>\n",
       "      <td>5776</td>\n",
       "      <td>1</td>\n",
       "      <td>2078.0</td>\n",
       "      <td>2</td>\n",
       "      <td>4</td>\n",
       "      <td>B</td>\n",
       "      <td>150226.531644</td>\n",
       "    </tr>\n",
       "  </tbody>\n",
       "</table>\n",
       "</div>"
      ],
      "text/plain": [
       "       DistrictId  Rooms     Square  LifeSquare  KitchenSquare  Floor  \\\n",
       "Id                                                                      \n",
       "14038          35    2.0  47.981561   29.442751            6.0      7   \n",
       "15053          41    3.0  65.683640   40.049543            8.0      7   \n",
       "4765           53    2.0  44.947953   29.197612            0.0      8   \n",
       "5809           58    2.0  53.352981   52.731512            9.0      8   \n",
       "10783          99    1.0  39.649192   23.776169            7.0     11   \n",
       "\n",
       "       HouseFloor  HouseYear  Ecology_1 Ecology_2 Ecology_3  Social_1  \\\n",
       "Id                                                                      \n",
       "14038         9.0       1969   0.089040         B         B        33   \n",
       "15053         9.0       1978   0.000070         B         B        46   \n",
       "4765         12.0       1968   0.049637         B         B        34   \n",
       "5809         17.0       1977   0.437885         B         B        23   \n",
       "10783        12.0       1976   0.012339         B         B        35   \n",
       "\n",
       "       Social_2  Social_3  Healthcare_1  Helthcare_2  Shops_1 Shops_2  \\\n",
       "Id                                                                      \n",
       "14038      7976         5           NaN            0       11       B   \n",
       "15053     10309         1         240.0            1       16       B   \n",
       "4765       7759         0         229.0            1        3       B   \n",
       "5809       5735         3        1084.0            0        5       B   \n",
       "10783      5776         1        2078.0            2        4       B   \n",
       "\n",
       "               Price  \n",
       "Id                    \n",
       "14038  184966.930730  \n",
       "15053  300009.450063  \n",
       "4765   220925.908524  \n",
       "5809   175616.227217  \n",
       "10783  150226.531644  "
      ]
     },
     "execution_count": 19,
     "metadata": {},
     "output_type": "execute_result"
    }
   ],
   "source": [
    "df.head()"
   ]
  },
  {
   "cell_type": "code",
   "execution_count": 20,
   "id": "orange-explorer",
   "metadata": {
    "scrolled": true
   },
   "outputs": [
    {
     "data": {
      "text/plain": [
       "(10000, 19)"
      ]
     },
     "execution_count": 20,
     "metadata": {},
     "output_type": "execute_result"
    }
   ],
   "source": [
    "df.shape"
   ]
  },
  {
   "cell_type": "code",
   "execution_count": 21,
   "id": "prescription-transcript",
   "metadata": {
    "scrolled": false
   },
   "outputs": [
    {
     "data": {
      "text/html": [
       "<div>\n",
       "<style scoped>\n",
       "    .dataframe tbody tr th:only-of-type {\n",
       "        vertical-align: middle;\n",
       "    }\n",
       "\n",
       "    .dataframe tbody tr th {\n",
       "        vertical-align: top;\n",
       "    }\n",
       "\n",
       "    .dataframe thead th {\n",
       "        text-align: right;\n",
       "    }\n",
       "</style>\n",
       "<table border=\"1\" class=\"dataframe\">\n",
       "  <thead>\n",
       "    <tr style=\"text-align: right;\">\n",
       "      <th></th>\n",
       "      <th>DistrictId</th>\n",
       "      <th>Rooms</th>\n",
       "      <th>Square</th>\n",
       "      <th>LifeSquare</th>\n",
       "      <th>KitchenSquare</th>\n",
       "      <th>Floor</th>\n",
       "      <th>HouseFloor</th>\n",
       "      <th>HouseYear</th>\n",
       "      <th>Ecology_1</th>\n",
       "      <th>Social_1</th>\n",
       "      <th>Social_2</th>\n",
       "      <th>Social_3</th>\n",
       "      <th>Healthcare_1</th>\n",
       "      <th>Helthcare_2</th>\n",
       "      <th>Shops_1</th>\n",
       "      <th>Price</th>\n",
       "    </tr>\n",
       "  </thead>\n",
       "  <tbody>\n",
       "    <tr>\n",
       "      <th>count</th>\n",
       "      <td>10000.000000</td>\n",
       "      <td>10000.000000</td>\n",
       "      <td>10000.000000</td>\n",
       "      <td>7887.000000</td>\n",
       "      <td>10000.000000</td>\n",
       "      <td>10000.000000</td>\n",
       "      <td>10000.000000</td>\n",
       "      <td>1.000000e+04</td>\n",
       "      <td>10000.000000</td>\n",
       "      <td>10000.000000</td>\n",
       "      <td>10000.000000</td>\n",
       "      <td>10000.000000</td>\n",
       "      <td>5202.000000</td>\n",
       "      <td>10000.000000</td>\n",
       "      <td>10000.000000</td>\n",
       "      <td>10000.000000</td>\n",
       "    </tr>\n",
       "    <tr>\n",
       "      <th>mean</th>\n",
       "      <td>50.400800</td>\n",
       "      <td>1.890500</td>\n",
       "      <td>56.315775</td>\n",
       "      <td>37.199645</td>\n",
       "      <td>6.273300</td>\n",
       "      <td>8.526700</td>\n",
       "      <td>12.609400</td>\n",
       "      <td>3.990166e+03</td>\n",
       "      <td>0.118858</td>\n",
       "      <td>24.687000</td>\n",
       "      <td>5352.157400</td>\n",
       "      <td>8.039200</td>\n",
       "      <td>1142.904460</td>\n",
       "      <td>1.319500</td>\n",
       "      <td>4.231300</td>\n",
       "      <td>214138.857399</td>\n",
       "    </tr>\n",
       "    <tr>\n",
       "      <th>std</th>\n",
       "      <td>43.587592</td>\n",
       "      <td>0.839512</td>\n",
       "      <td>21.058732</td>\n",
       "      <td>86.241209</td>\n",
       "      <td>28.560917</td>\n",
       "      <td>5.241148</td>\n",
       "      <td>6.775974</td>\n",
       "      <td>2.005003e+05</td>\n",
       "      <td>0.119025</td>\n",
       "      <td>17.532614</td>\n",
       "      <td>4006.799803</td>\n",
       "      <td>23.831875</td>\n",
       "      <td>1021.517264</td>\n",
       "      <td>1.493601</td>\n",
       "      <td>4.806341</td>\n",
       "      <td>92872.293865</td>\n",
       "    </tr>\n",
       "    <tr>\n",
       "      <th>min</th>\n",
       "      <td>0.000000</td>\n",
       "      <td>0.000000</td>\n",
       "      <td>1.136859</td>\n",
       "      <td>0.370619</td>\n",
       "      <td>0.000000</td>\n",
       "      <td>1.000000</td>\n",
       "      <td>0.000000</td>\n",
       "      <td>1.910000e+03</td>\n",
       "      <td>0.000000</td>\n",
       "      <td>0.000000</td>\n",
       "      <td>168.000000</td>\n",
       "      <td>0.000000</td>\n",
       "      <td>0.000000</td>\n",
       "      <td>0.000000</td>\n",
       "      <td>0.000000</td>\n",
       "      <td>59174.778028</td>\n",
       "    </tr>\n",
       "    <tr>\n",
       "      <th>25%</th>\n",
       "      <td>20.000000</td>\n",
       "      <td>1.000000</td>\n",
       "      <td>41.774881</td>\n",
       "      <td>22.769832</td>\n",
       "      <td>1.000000</td>\n",
       "      <td>4.000000</td>\n",
       "      <td>9.000000</td>\n",
       "      <td>1.974000e+03</td>\n",
       "      <td>0.017647</td>\n",
       "      <td>6.000000</td>\n",
       "      <td>1564.000000</td>\n",
       "      <td>0.000000</td>\n",
       "      <td>350.000000</td>\n",
       "      <td>0.000000</td>\n",
       "      <td>1.000000</td>\n",
       "      <td>153872.633942</td>\n",
       "    </tr>\n",
       "    <tr>\n",
       "      <th>50%</th>\n",
       "      <td>36.000000</td>\n",
       "      <td>2.000000</td>\n",
       "      <td>52.513310</td>\n",
       "      <td>32.781260</td>\n",
       "      <td>6.000000</td>\n",
       "      <td>7.000000</td>\n",
       "      <td>13.000000</td>\n",
       "      <td>1.977000e+03</td>\n",
       "      <td>0.075424</td>\n",
       "      <td>25.000000</td>\n",
       "      <td>5285.000000</td>\n",
       "      <td>2.000000</td>\n",
       "      <td>900.000000</td>\n",
       "      <td>1.000000</td>\n",
       "      <td>3.000000</td>\n",
       "      <td>192269.644879</td>\n",
       "    </tr>\n",
       "    <tr>\n",
       "      <th>75%</th>\n",
       "      <td>75.000000</td>\n",
       "      <td>2.000000</td>\n",
       "      <td>65.900625</td>\n",
       "      <td>45.128803</td>\n",
       "      <td>9.000000</td>\n",
       "      <td>12.000000</td>\n",
       "      <td>17.000000</td>\n",
       "      <td>2.001000e+03</td>\n",
       "      <td>0.195781</td>\n",
       "      <td>36.000000</td>\n",
       "      <td>7227.000000</td>\n",
       "      <td>5.000000</td>\n",
       "      <td>1548.000000</td>\n",
       "      <td>2.000000</td>\n",
       "      <td>6.000000</td>\n",
       "      <td>249135.462171</td>\n",
       "    </tr>\n",
       "    <tr>\n",
       "      <th>max</th>\n",
       "      <td>209.000000</td>\n",
       "      <td>19.000000</td>\n",
       "      <td>641.065193</td>\n",
       "      <td>7480.592129</td>\n",
       "      <td>2014.000000</td>\n",
       "      <td>42.000000</td>\n",
       "      <td>117.000000</td>\n",
       "      <td>2.005201e+07</td>\n",
       "      <td>0.521867</td>\n",
       "      <td>74.000000</td>\n",
       "      <td>19083.000000</td>\n",
       "      <td>141.000000</td>\n",
       "      <td>4849.000000</td>\n",
       "      <td>6.000000</td>\n",
       "      <td>23.000000</td>\n",
       "      <td>633233.466570</td>\n",
       "    </tr>\n",
       "  </tbody>\n",
       "</table>\n",
       "</div>"
      ],
      "text/plain": [
       "         DistrictId         Rooms        Square   LifeSquare  KitchenSquare  \\\n",
       "count  10000.000000  10000.000000  10000.000000  7887.000000   10000.000000   \n",
       "mean      50.400800      1.890500     56.315775    37.199645       6.273300   \n",
       "std       43.587592      0.839512     21.058732    86.241209      28.560917   \n",
       "min        0.000000      0.000000      1.136859     0.370619       0.000000   \n",
       "25%       20.000000      1.000000     41.774881    22.769832       1.000000   \n",
       "50%       36.000000      2.000000     52.513310    32.781260       6.000000   \n",
       "75%       75.000000      2.000000     65.900625    45.128803       9.000000   \n",
       "max      209.000000     19.000000    641.065193  7480.592129    2014.000000   \n",
       "\n",
       "              Floor    HouseFloor     HouseYear     Ecology_1      Social_1  \\\n",
       "count  10000.000000  10000.000000  1.000000e+04  10000.000000  10000.000000   \n",
       "mean       8.526700     12.609400  3.990166e+03      0.118858     24.687000   \n",
       "std        5.241148      6.775974  2.005003e+05      0.119025     17.532614   \n",
       "min        1.000000      0.000000  1.910000e+03      0.000000      0.000000   \n",
       "25%        4.000000      9.000000  1.974000e+03      0.017647      6.000000   \n",
       "50%        7.000000     13.000000  1.977000e+03      0.075424     25.000000   \n",
       "75%       12.000000     17.000000  2.001000e+03      0.195781     36.000000   \n",
       "max       42.000000    117.000000  2.005201e+07      0.521867     74.000000   \n",
       "\n",
       "           Social_2      Social_3  Healthcare_1   Helthcare_2       Shops_1  \\\n",
       "count  10000.000000  10000.000000   5202.000000  10000.000000  10000.000000   \n",
       "mean    5352.157400      8.039200   1142.904460      1.319500      4.231300   \n",
       "std     4006.799803     23.831875   1021.517264      1.493601      4.806341   \n",
       "min      168.000000      0.000000      0.000000      0.000000      0.000000   \n",
       "25%     1564.000000      0.000000    350.000000      0.000000      1.000000   \n",
       "50%     5285.000000      2.000000    900.000000      1.000000      3.000000   \n",
       "75%     7227.000000      5.000000   1548.000000      2.000000      6.000000   \n",
       "max    19083.000000    141.000000   4849.000000      6.000000     23.000000   \n",
       "\n",
       "               Price  \n",
       "count   10000.000000  \n",
       "mean   214138.857399  \n",
       "std     92872.293865  \n",
       "min     59174.778028  \n",
       "25%    153872.633942  \n",
       "50%    192269.644879  \n",
       "75%    249135.462171  \n",
       "max    633233.466570  "
      ]
     },
     "execution_count": 21,
     "metadata": {},
     "output_type": "execute_result"
    }
   ],
   "source": [
    "df.describe()"
   ]
  },
  {
   "cell_type": "markdown",
   "id": "tight-monthly",
   "metadata": {},
   "source": [
    "The most of fields have anomalies and outliers."
   ]
  },
  {
   "cell_type": "markdown",
   "id": "urban-evolution",
   "metadata": {},
   "source": [
    "Distribution of target variable:"
   ]
  },
  {
   "cell_type": "code",
   "execution_count": 22,
   "id": "adequate-monte",
   "metadata": {
    "scrolled": false
   },
   "outputs": [
    {
     "data": {
      "image/png": "[encoded data removed]",
      "text/plain": [
       "<Figure size 576x288 with 2 Axes>"
      ]
     },
     "metadata": {
      "needs_background": "light"
     },
     "output_type": "display_data"
    }
   ],
   "source": [
    "plt.figure(figsize = (8, 4))\n",
    "\n",
    "plt.subplot(121)\n",
    "df['Price'].hist(density=False, bins=20)\n",
    "plt.ylabel('count')\n",
    "plt.xlabel('price_value')\n",
    "\n",
    "plt.subplot(122)\n",
    "sns.kdeplot(df['Price'], shade=True, legend=False)\n",
    "plt.xlabel('price_value')\n",
    "\n",
    "plt.suptitle('Distribution of price_value')\n",
    "plt.show()"
   ]
  },
  {
   "cell_type": "code",
   "execution_count": 23,
   "id": "typical-excerpt",
   "metadata": {},
   "outputs": [
    {
     "data": {
      "text/plain": [
       "count     10000.000000\n",
       "mean     214138.857399\n",
       "std       92872.293865\n",
       "min       59174.778028\n",
       "25%      153872.633942\n",
       "50%      192269.644879\n",
       "75%      249135.462171\n",
       "max      633233.466570\n",
       "Name: Price, dtype: float64"
      ]
     },
     "execution_count": 23,
     "metadata": {},
     "output_type": "execute_result"
    }
   ],
   "source": [
    "df['Price'].describe()"
   ]
  },
  {
   "cell_type": "markdown",
   "id": "careful-deposit",
   "metadata": {},
   "source": [
    "Dispersion of target variable is closed to normal, non-symmetrical. \n",
    "\n",
    "It looks like that changes or processing of target variable Price is not required."
   ]
  },
  {
   "cell_type": "markdown",
   "id": "seven-electron",
   "metadata": {},
   "source": [
    "### Columns with null data"
   ]
  },
  {
   "cell_type": "code",
   "execution_count": 88,
   "id": "touched-quick",
   "metadata": {},
   "outputs": [
    {
     "data": {
      "text/plain": [
       "DistrictId          0\n",
       "Rooms               0\n",
       "Square              0\n",
       "LifeSquare       2113\n",
       "KitchenSquare       0\n",
       "Floor               0\n",
       "HouseFloor          0\n",
       "HouseYear           0\n",
       "Ecology_1           0\n",
       "Ecology_2           0\n",
       "Ecology_3           0\n",
       "Social_1            0\n",
       "Social_2            0\n",
       "Social_3            0\n",
       "Healthcare_1     4798\n",
       "Helthcare_2         0\n",
       "Shops_1             0\n",
       "Shops_2             0\n",
       "Price               0\n",
       "dtype: int64"
      ]
     },
     "execution_count": 88,
     "metadata": {},
     "output_type": "execute_result"
    }
   ],
   "source": [
    "df.isnull().sum()"
   ]
  },
  {
   "cell_type": "markdown",
   "id": "guided-mandate",
   "metadata": {},
   "source": [
    "'LifeSquare' and 'Healthcare_1' columns contains a lot of null data.\n",
    "\n",
    "Training dataset contains 10000 entries.\n",
    "\n",
    "So persent of missing data for 'LifeSquare' is 21.13 ad for Healthcare_1 is 47.98."
   ]
  },
  {
   "cell_type": "markdown",
   "id": "complimentary-fisher",
   "metadata": {},
   "source": [
    "#### Columns with anomalies/outliers"
   ]
  },
  {
   "cell_type": "code",
   "execution_count": 86,
   "id": "different-typing",
   "metadata": {
    "scrolled": true
   },
   "outputs": [
    {
     "data": {
      "text/html": [
       "<div>\n",
       "<style scoped>\n",
       "    .dataframe tbody tr th:only-of-type {\n",
       "        vertical-align: middle;\n",
       "    }\n",
       "\n",
       "    .dataframe tbody tr th {\n",
       "        vertical-align: top;\n",
       "    }\n",
       "\n",
       "    .dataframe thead th {\n",
       "        text-align: right;\n",
       "    }\n",
       "</style>\n",
       "<table border=\"1\" class=\"dataframe\">\n",
       "  <thead>\n",
       "    <tr style=\"text-align: right;\">\n",
       "      <th></th>\n",
       "      <th>count</th>\n",
       "      <th>mean</th>\n",
       "      <th>std</th>\n",
       "      <th>min</th>\n",
       "      <th>25%</th>\n",
       "      <th>50%</th>\n",
       "      <th>75%</th>\n",
       "      <th>max</th>\n",
       "    </tr>\n",
       "  </thead>\n",
       "  <tbody>\n",
       "    <tr>\n",
       "      <th>DistrictId</th>\n",
       "      <td>10000.0</td>\n",
       "      <td>50.400800</td>\n",
       "      <td>43.587592</td>\n",
       "      <td>0.000000</td>\n",
       "      <td>20.000000</td>\n",
       "      <td>36.000000</td>\n",
       "      <td>75.000000</td>\n",
       "      <td>2.090000e+02</td>\n",
       "    </tr>\n",
       "    <tr>\n",
       "      <th>Rooms</th>\n",
       "      <td>10000.0</td>\n",
       "      <td>1.890500</td>\n",
       "      <td>0.839512</td>\n",
       "      <td>0.000000</td>\n",
       "      <td>1.000000</td>\n",
       "      <td>2.000000</td>\n",
       "      <td>2.000000</td>\n",
       "      <td>1.900000e+01</td>\n",
       "    </tr>\n",
       "    <tr>\n",
       "      <th>Square</th>\n",
       "      <td>10000.0</td>\n",
       "      <td>56.315775</td>\n",
       "      <td>21.058732</td>\n",
       "      <td>1.136859</td>\n",
       "      <td>41.774881</td>\n",
       "      <td>52.513310</td>\n",
       "      <td>65.900625</td>\n",
       "      <td>6.410652e+02</td>\n",
       "    </tr>\n",
       "    <tr>\n",
       "      <th>LifeSquare</th>\n",
       "      <td>7887.0</td>\n",
       "      <td>37.199645</td>\n",
       "      <td>86.241209</td>\n",
       "      <td>0.370619</td>\n",
       "      <td>22.769832</td>\n",
       "      <td>32.781260</td>\n",
       "      <td>45.128803</td>\n",
       "      <td>7.480592e+03</td>\n",
       "    </tr>\n",
       "    <tr>\n",
       "      <th>KitchenSquare</th>\n",
       "      <td>10000.0</td>\n",
       "      <td>6.273300</td>\n",
       "      <td>28.560917</td>\n",
       "      <td>0.000000</td>\n",
       "      <td>1.000000</td>\n",
       "      <td>6.000000</td>\n",
       "      <td>9.000000</td>\n",
       "      <td>2.014000e+03</td>\n",
       "    </tr>\n",
       "    <tr>\n",
       "      <th>Floor</th>\n",
       "      <td>10000.0</td>\n",
       "      <td>8.526700</td>\n",
       "      <td>5.241148</td>\n",
       "      <td>1.000000</td>\n",
       "      <td>4.000000</td>\n",
       "      <td>7.000000</td>\n",
       "      <td>12.000000</td>\n",
       "      <td>4.200000e+01</td>\n",
       "    </tr>\n",
       "    <tr>\n",
       "      <th>HouseFloor</th>\n",
       "      <td>10000.0</td>\n",
       "      <td>12.609400</td>\n",
       "      <td>6.775974</td>\n",
       "      <td>0.000000</td>\n",
       "      <td>9.000000</td>\n",
       "      <td>13.000000</td>\n",
       "      <td>17.000000</td>\n",
       "      <td>1.170000e+02</td>\n",
       "    </tr>\n",
       "    <tr>\n",
       "      <th>HouseYear</th>\n",
       "      <td>10000.0</td>\n",
       "      <td>3990.166300</td>\n",
       "      <td>200500.261427</td>\n",
       "      <td>1910.000000</td>\n",
       "      <td>1974.000000</td>\n",
       "      <td>1977.000000</td>\n",
       "      <td>2001.000000</td>\n",
       "      <td>2.005201e+07</td>\n",
       "    </tr>\n",
       "    <tr>\n",
       "      <th>Ecology_1</th>\n",
       "      <td>10000.0</td>\n",
       "      <td>0.118858</td>\n",
       "      <td>0.119025</td>\n",
       "      <td>0.000000</td>\n",
       "      <td>0.017647</td>\n",
       "      <td>0.075424</td>\n",
       "      <td>0.195781</td>\n",
       "      <td>5.218671e-01</td>\n",
       "    </tr>\n",
       "    <tr>\n",
       "      <th>Social_1</th>\n",
       "      <td>10000.0</td>\n",
       "      <td>24.687000</td>\n",
       "      <td>17.532614</td>\n",
       "      <td>0.000000</td>\n",
       "      <td>6.000000</td>\n",
       "      <td>25.000000</td>\n",
       "      <td>36.000000</td>\n",
       "      <td>7.400000e+01</td>\n",
       "    </tr>\n",
       "    <tr>\n",
       "      <th>Social_2</th>\n",
       "      <td>10000.0</td>\n",
       "      <td>5352.157400</td>\n",
       "      <td>4006.799803</td>\n",
       "      <td>168.000000</td>\n",
       "      <td>1564.000000</td>\n",
       "      <td>5285.000000</td>\n",
       "      <td>7227.000000</td>\n",
       "      <td>1.908300e+04</td>\n",
       "    </tr>\n",
       "    <tr>\n",
       "      <th>Social_3</th>\n",
       "      <td>10000.0</td>\n",
       "      <td>8.039200</td>\n",
       "      <td>23.831875</td>\n",
       "      <td>0.000000</td>\n",
       "      <td>0.000000</td>\n",
       "      <td>2.000000</td>\n",
       "      <td>5.000000</td>\n",
       "      <td>1.410000e+02</td>\n",
       "    </tr>\n",
       "    <tr>\n",
       "      <th>Healthcare_1</th>\n",
       "      <td>5202.0</td>\n",
       "      <td>1142.904460</td>\n",
       "      <td>1021.517264</td>\n",
       "      <td>0.000000</td>\n",
       "      <td>350.000000</td>\n",
       "      <td>900.000000</td>\n",
       "      <td>1548.000000</td>\n",
       "      <td>4.849000e+03</td>\n",
       "    </tr>\n",
       "    <tr>\n",
       "      <th>Helthcare_2</th>\n",
       "      <td>10000.0</td>\n",
       "      <td>1.319500</td>\n",
       "      <td>1.493601</td>\n",
       "      <td>0.000000</td>\n",
       "      <td>0.000000</td>\n",
       "      <td>1.000000</td>\n",
       "      <td>2.000000</td>\n",
       "      <td>6.000000e+00</td>\n",
       "    </tr>\n",
       "    <tr>\n",
       "      <th>Shops_1</th>\n",
       "      <td>10000.0</td>\n",
       "      <td>4.231300</td>\n",
       "      <td>4.806341</td>\n",
       "      <td>0.000000</td>\n",
       "      <td>1.000000</td>\n",
       "      <td>3.000000</td>\n",
       "      <td>6.000000</td>\n",
       "      <td>2.300000e+01</td>\n",
       "    </tr>\n",
       "    <tr>\n",
       "      <th>Price</th>\n",
       "      <td>10000.0</td>\n",
       "      <td>214138.857399</td>\n",
       "      <td>92872.293865</td>\n",
       "      <td>59174.778028</td>\n",
       "      <td>153872.633942</td>\n",
       "      <td>192269.644879</td>\n",
       "      <td>249135.462171</td>\n",
       "      <td>6.332335e+05</td>\n",
       "    </tr>\n",
       "  </tbody>\n",
       "</table>\n",
       "</div>"
      ],
      "text/plain": [
       "                 count           mean            std           min  \\\n",
       "DistrictId     10000.0      50.400800      43.587592      0.000000   \n",
       "Rooms          10000.0       1.890500       0.839512      0.000000   \n",
       "Square         10000.0      56.315775      21.058732      1.136859   \n",
       "LifeSquare      7887.0      37.199645      86.241209      0.370619   \n",
       "KitchenSquare  10000.0       6.273300      28.560917      0.000000   \n",
       "Floor          10000.0       8.526700       5.241148      1.000000   \n",
       "HouseFloor     10000.0      12.609400       6.775974      0.000000   \n",
       "HouseYear      10000.0    3990.166300  200500.261427   1910.000000   \n",
       "Ecology_1      10000.0       0.118858       0.119025      0.000000   \n",
       "Social_1       10000.0      24.687000      17.532614      0.000000   \n",
       "Social_2       10000.0    5352.157400    4006.799803    168.000000   \n",
       "Social_3       10000.0       8.039200      23.831875      0.000000   \n",
       "Healthcare_1    5202.0    1142.904460    1021.517264      0.000000   \n",
       "Helthcare_2    10000.0       1.319500       1.493601      0.000000   \n",
       "Shops_1        10000.0       4.231300       4.806341      0.000000   \n",
       "Price          10000.0  214138.857399   92872.293865  59174.778028   \n",
       "\n",
       "                         25%            50%            75%           max  \n",
       "DistrictId         20.000000      36.000000      75.000000  2.090000e+02  \n",
       "Rooms               1.000000       2.000000       2.000000  1.900000e+01  \n",
       "Square             41.774881      52.513310      65.900625  6.410652e+02  \n",
       "LifeSquare         22.769832      32.781260      45.128803  7.480592e+03  \n",
       "KitchenSquare       1.000000       6.000000       9.000000  2.014000e+03  \n",
       "Floor               4.000000       7.000000      12.000000  4.200000e+01  \n",
       "HouseFloor          9.000000      13.000000      17.000000  1.170000e+02  \n",
       "HouseYear        1974.000000    1977.000000    2001.000000  2.005201e+07  \n",
       "Ecology_1           0.017647       0.075424       0.195781  5.218671e-01  \n",
       "Social_1            6.000000      25.000000      36.000000  7.400000e+01  \n",
       "Social_2         1564.000000    5285.000000    7227.000000  1.908300e+04  \n",
       "Social_3            0.000000       2.000000       5.000000  1.410000e+02  \n",
       "Healthcare_1      350.000000     900.000000    1548.000000  4.849000e+03  \n",
       "Helthcare_2         0.000000       1.000000       2.000000  6.000000e+00  \n",
       "Shops_1             1.000000       3.000000       6.000000  2.300000e+01  \n",
       "Price          153872.633942  192269.644879  249135.462171  6.332335e+05  "
      ]
     },
     "execution_count": 86,
     "metadata": {},
     "output_type": "execute_result"
    }
   ],
   "source": [
    "df.describe().T"
   ]
  },
  {
   "cell_type": "code",
   "execution_count": 26,
   "id": "popular-external",
   "metadata": {},
   "outputs": [
    {
     "data": {
      "text/plain": [
       "DistrictId       486\n",
       "Rooms            486\n",
       "Square           486\n",
       "LifeSquare       486\n",
       "KitchenSquare    486\n",
       "Floor            486\n",
       "HouseFloor       486\n",
       "HouseYear        486\n",
       "Ecology_1        486\n",
       "Ecology_2        486\n",
       "Ecology_3        486\n",
       "Social_1         486\n",
       "Social_2         486\n",
       "Social_3         486\n",
       "Healthcare_1     170\n",
       "Helthcare_2      486\n",
       "Shops_1          486\n",
       "Shops_2          486\n",
       "Price            486\n",
       "dtype: int64"
      ]
     },
     "execution_count": 26,
     "metadata": {},
     "output_type": "execute_result"
    }
   ],
   "source": [
    "df[(df['KitchenSquare'] > df['Square']) | (df['LifeSquare'] > df['Square'])].count()"
   ]
  },
  {
   "cell_type": "markdown",
   "id": "accurate-interaction",
   "metadata": {},
   "source": [
    "Amount of columns where floor value exceeds general amount of floor."
   ]
  },
  {
   "cell_type": "code",
   "execution_count": 27,
   "id": "gross-designation",
   "metadata": {},
   "outputs": [
    {
     "data": {
      "text/plain": [
       "DistrictId       1825\n",
       "Rooms            1825\n",
       "Square           1825\n",
       "LifeSquare       1210\n",
       "KitchenSquare    1825\n",
       "Floor            1825\n",
       "HouseFloor       1825\n",
       "HouseYear        1825\n",
       "Ecology_1        1825\n",
       "Ecology_2        1825\n",
       "Ecology_3        1825\n",
       "Social_1         1825\n",
       "Social_2         1825\n",
       "Social_3         1825\n",
       "Healthcare_1      861\n",
       "Helthcare_2      1825\n",
       "Shops_1          1825\n",
       "Shops_2          1825\n",
       "Price            1825\n",
       "dtype: int64"
      ]
     },
     "execution_count": 27,
     "metadata": {},
     "output_type": "execute_result"
    }
   ],
   "source": [
    "df[df['Floor'] > df['HouseFloor']].count()"
   ]
  },
  {
   "cell_type": "markdown",
   "id": "incredible-wales",
   "metadata": {},
   "source": [
    "Data for cases above will be transformed in the next sections."
   ]
  },
  {
   "cell_type": "markdown",
   "id": "laden-castle",
   "metadata": {},
   "source": [
    "#### Categorial variables"
   ]
  },
  {
   "cell_type": "markdown",
   "id": "quarterly-shuttle",
   "metadata": {},
   "source": [
    "The most part of columns contains numerical data, but three of them have object/category data type:\n",
    "- Ecology_2 \n",
    "- Ecology_3\n",
    "- Shops_2 \n",
    "\n",
    "During further processing object datatypes will be changed to their numerical equivalents."
   ]
  },
  {
   "cell_type": "code",
   "execution_count": 28,
   "id": "greek-sentence",
   "metadata": {},
   "outputs": [
    {
     "data": {
      "text/html": [
       "<div>\n",
       "<style scoped>\n",
       "    .dataframe tbody tr th:only-of-type {\n",
       "        vertical-align: middle;\n",
       "    }\n",
       "\n",
       "    .dataframe tbody tr th {\n",
       "        vertical-align: top;\n",
       "    }\n",
       "\n",
       "    .dataframe thead th {\n",
       "        text-align: right;\n",
       "    }\n",
       "</style>\n",
       "<table border=\"1\" class=\"dataframe\">\n",
       "  <thead>\n",
       "    <tr style=\"text-align: right;\">\n",
       "      <th></th>\n",
       "      <th>Ecology_2</th>\n",
       "      <th>Ecology_3</th>\n",
       "      <th>Shops_2</th>\n",
       "    </tr>\n",
       "    <tr>\n",
       "      <th>Id</th>\n",
       "      <th></th>\n",
       "      <th></th>\n",
       "      <th></th>\n",
       "    </tr>\n",
       "  </thead>\n",
       "  <tbody>\n",
       "    <tr>\n",
       "      <th>14038</th>\n",
       "      <td>B</td>\n",
       "      <td>B</td>\n",
       "      <td>B</td>\n",
       "    </tr>\n",
       "    <tr>\n",
       "      <th>15053</th>\n",
       "      <td>B</td>\n",
       "      <td>B</td>\n",
       "      <td>B</td>\n",
       "    </tr>\n",
       "    <tr>\n",
       "      <th>4765</th>\n",
       "      <td>B</td>\n",
       "      <td>B</td>\n",
       "      <td>B</td>\n",
       "    </tr>\n",
       "    <tr>\n",
       "      <th>5809</th>\n",
       "      <td>B</td>\n",
       "      <td>B</td>\n",
       "      <td>B</td>\n",
       "    </tr>\n",
       "    <tr>\n",
       "      <th>10783</th>\n",
       "      <td>B</td>\n",
       "      <td>B</td>\n",
       "      <td>B</td>\n",
       "    </tr>\n",
       "    <tr>\n",
       "      <th>...</th>\n",
       "      <td>...</td>\n",
       "      <td>...</td>\n",
       "      <td>...</td>\n",
       "    </tr>\n",
       "    <tr>\n",
       "      <th>77</th>\n",
       "      <td>B</td>\n",
       "      <td>B</td>\n",
       "      <td>B</td>\n",
       "    </tr>\n",
       "    <tr>\n",
       "      <th>6159</th>\n",
       "      <td>B</td>\n",
       "      <td>B</td>\n",
       "      <td>A</td>\n",
       "    </tr>\n",
       "    <tr>\n",
       "      <th>5123</th>\n",
       "      <td>B</td>\n",
       "      <td>B</td>\n",
       "      <td>A</td>\n",
       "    </tr>\n",
       "    <tr>\n",
       "      <th>5400</th>\n",
       "      <td>B</td>\n",
       "      <td>A</td>\n",
       "      <td>B</td>\n",
       "    </tr>\n",
       "    <tr>\n",
       "      <th>6306</th>\n",
       "      <td>B</td>\n",
       "      <td>B</td>\n",
       "      <td>B</td>\n",
       "    </tr>\n",
       "  </tbody>\n",
       "</table>\n",
       "<p>10000 rows × 3 columns</p>\n",
       "</div>"
      ],
      "text/plain": [
       "      Ecology_2 Ecology_3 Shops_2\n",
       "Id                               \n",
       "14038         B         B       B\n",
       "15053         B         B       B\n",
       "4765          B         B       B\n",
       "5809          B         B       B\n",
       "10783         B         B       B\n",
       "...         ...       ...     ...\n",
       "77            B         B       B\n",
       "6159          B         B       A\n",
       "5123          B         B       A\n",
       "5400          B         A       B\n",
       "6306          B         B       B\n",
       "\n",
       "[10000 rows x 3 columns]"
      ]
     },
     "execution_count": 28,
     "metadata": {},
     "output_type": "execute_result"
    }
   ],
   "source": [
    "df.select_dtypes(include=['object', 'category'])"
   ]
  },
  {
   "cell_type": "markdown",
   "id": "affected-lemon",
   "metadata": {},
   "source": [
    "Changing of datatypes and converting of columns is not required."
   ]
  },
  {
   "cell_type": "markdown",
   "id": "drawn-elizabeth",
   "metadata": {},
   "source": [
    "## 3. Functions for data processing <a class='anchor' id='functions'>"
   ]
  },
  {
   "cell_type": "markdown",
   "id": "sensitive-cassette",
   "metadata": {},
   "source": [
    "This section contains functions which can be used in next sections to simplify performing of some operations."
   ]
  },
  {
   "cell_type": "code",
   "execution_count": 29,
   "id": "streaming-helicopter",
   "metadata": {},
   "outputs": [],
   "source": [
    "def evaluate_preds(true_values, pred_values, save=False):\n",
    "    \"\"\"Evaluation of model quality preds vs true\"\"\"\n",
    "    \n",
    "    print(\"R2:\\t\" + str(round(r2_score(true_values, pred_values), 3)) + \"\\n\" +\n",
    "          \"RMSE:\\t\" + str(round(np.sqrt(mean_squared_error(true_values, pred_values)), 3)) + \"\\n\" +\n",
    "          \"MSE:\\t\" + str(round(mean_squared_error(true_values, pred_values), 3))\n",
    "         )\n",
    "    \n",
    "    plt.figure(figsize=(8,8))\n",
    "    \n",
    "    sns.scatterplot(x=pred_values, y=true_values)\n",
    "    plt.plot([0, 500000], [0, 500000], linestyle='--', color='black')  # line where true_values = pred_values\n",
    "    \n",
    "    plt.xlabel('Predicted values')\n",
    "    plt.ylabel('True values')\n",
    "    plt.title('True vs Predicted values')\n",
    "    \n",
    "    if save == True:\n",
    "        plt.savefig(REPORTS_FILE_PATH + 'report.png')\n",
    "    plt.show()"
   ]
  },
  {
   "cell_type": "code",
   "execution_count": 237,
   "id": "breathing-melbourne",
   "metadata": {},
   "outputs": [],
   "source": [
    "class Data_preprocessing():\n",
    "    def __init__(self):\n",
    "        # Treshold values.\n",
    "        self.min_rooms_trsh = 1\n",
    "        self.max_rooms_trsh = 5\n",
    "        \n",
    "        self.min_sq_trsh = 20\n",
    "        self.max_sq_trsh = 300\n",
    "        \n",
    "        self.min_kitchen_trsh = 3        \n",
    "        self.max_kitchen_trsh = 100\n",
    "        \n",
    "        self.min_ls_trsh = 5\n",
    "        self.max_ls_trsh = 250\n",
    "        \n",
    "        self.extra_square = 3 #probably, betterr to exclude....\n",
    "        \n",
    "        #median values intializing\n",
    "        self.kc_median = None\n",
    "        self.ls_median = None\n",
    "        self.yr_median = None\n",
    "        self.hf_median = None\n",
    "        self.rm_median = None\n",
    "        \n",
    "        #temporary dataframes for validation processing\n",
    "        df_prices_district = None\n",
    "        \n",
    "        #functions that transforms dataset and add new data\n",
    "    def median_calculation(self, dfr):\n",
    "        \"\"\"Function calculates median values and then these values can be used for gaps filling\"\"\"\n",
    "        # all changes for dataframe in this function were made according to feature analysis in section 4\n",
    "        # median values for dataframes. Median values will be used for data preprocessing and gaps filling.\n",
    "        self.kc_median = dfr['KitchenSquare'].median()\n",
    "        self.ls_median = dfr['LifeSquare'].median()\n",
    "        self.yr_median = dfr['HouseYear'].median()\n",
    "        self.hf_median = dfr['HouseFloor'].median()\n",
    "        self.rm_median = dfr['Rooms'].median()\n",
    "    \n",
    "    \n",
    "    def add_features(self, dfr):\n",
    "        \"\"\"Adds some new features\"\"\"\n",
    "        # Average square per room in each appartment\n",
    "        \n",
    "\n",
    "        return dfr\n",
    "    \n",
    "\n",
    "\n",
    "    def data_clearing (self, dfr):\n",
    "        \"\"\"function is need to dataset processing and clearing of data\"\"\"  \n",
    "        \n",
    "        \n",
    "        # Rooms\n",
    "        dfr.loc[dfr['Rooms'] < self.min_rooms_trsh, 'Rooms'] = self.min_rooms_trsh\n",
    "        dfr.loc[dfr['Rooms'] > self.max_rooms_trsh, 'Rooms'] = self.max_rooms_trsh \n",
    "        #self.rm_median #or can be set to 5? Change condition to 5 too?\n",
    "        \n",
    "        \n",
    "        #General square\n",
    "        dfr.loc[dfr['Square'] < self.min_sq_trsh, 'Rooms'] = self.min_sq_trsh\n",
    "        dfr.loc[dfr['Square'] > self.max_sq_trsh, 'Rooms'] = self.max_sq_trsh \n",
    "        \n",
    "        \n",
    "        #life Square\n",
    "        dfr.loc[dfr['LifeSquare'] < self.min_ls_trsh, 'Rooms'] = self.min_ls_trsh\n",
    "        dfr.loc[dfr['LifeSquare'] > self.max_ls_trsh, 'Rooms'] = self.max_ls_trsh\n",
    "        dfr = self.null_populating_ls(self,dfr)\n",
    "        \n",
    "    \n",
    "        #Kitchen square\n",
    "        dfr.loc[dfr['KitchenSquare'] < self.min_kitchen_trsh, 'KitchenSquare'] = self.min_kitchen_trsh\n",
    "        dfr.loc[dfr['KitchenSquare'] > self.max_kitchen_trsh, 'KitchenSquare'] = self.min_kitchen_trsh #self.kc_median\n",
    "        #dfr.loc[dfr['KitchenSquare'] > dfr['Square'], 'KitchenSquare'] = self.kc_median # ????????????????????????????\n",
    "    \n",
    "        \n",
    "        #House Floor and Floor        \n",
    "        dfr.loc[dfr['HouseFloor']==0, 'HouseFloor'] = dfr['Floor'] #or would be better to 1?\n",
    "        dfr.loc[(dfr['Floor'] > dfr['HouseFloor']), 'Floor'] = round(dfr['HouseFloor'] * random(), 0)\n",
    "    \n",
    "        #House Year\n",
    "        dfr.loc[dfr['HouseYear'] > 2021, 'HouseYear'] = self.yr_median\n",
    "        \n",
    "        \n",
    "        #Healthcare_1\n",
    "        dfr =  self.null_populating_hc(self, dfr)\n",
    "    \n",
    "        #district_id\n",
    "        dfr = self.district_id_processing(self, dfr)\n",
    "        \n",
    "        \n",
    "        return dfr\n",
    "    \n",
    "    \n",
    "    @staticmethod\n",
    "    def null_populating_ls(self, dfr, action = 'm'):\n",
    "        \"\"\"Fill null values for LifeSquare\"\"\"\n",
    "        #LifeSquare\n",
    "        #comparing_condition = ((dfr['LifeSquare'].isnull())) | (dfr['LifeSquare'] > (dfr['Square'] - dfr['KitchenSquare'])))\n",
    "        #dfr.loc[comparing_condition, 'LifeSquare'] = \\\n",
    "        #dfr.loc[comparing_condition, 'Square'] - dfr.loc[comparing_condition, 'KitchenSquare'] - self.extra_square\n",
    "        dfr['LifeSquare'] = dfr['LifeSquare'].fillna(self.ls_median)\n",
    "        # or populating by median value for district id\n",
    "        #Avg_life_sq_per_district = dfr.groupby(['DistrictId'], as_index = False).agg({'LifeSquare':'median'})\n",
    "        \n",
    "        \n",
    "        return dfr\n",
    "    \n",
    "  \n",
    "\n",
    "    @staticmethod\n",
    "    def null_populating_hc(self, dfr, action = 'm'):\n",
    "        \"\"\"Function will populate null values for Healthcare_1 in dataframe based on accepted descision\"\"\"\n",
    "        #Healthcare_1\n",
    "        if 'Healthcare_1' in dfr.columns:\n",
    "            if action == 'd':\n",
    "                dfr = dfr.drop('Healthcare_1', axis = 1)\n",
    "            elif action == 'm':\n",
    "                healthcare_per_district = dfr.groupby(['DistrictId'], as_index = False).agg({'Healthcare_1':'median'})                \n",
    "                healthcare_per_district = healthcare_per_district.rename(columns={'Healthcare_1':'hl_pd'})\n",
    "                \n",
    "                idx = dfr.index\n",
    "                dfr = dfr.merge(healthcare_per_district, how = 'left', on='DistrictId')\n",
    "                dfr = dfr.set_index(idx)\n",
    "                \n",
    "                #dfr['hl_pd'] = pd.to_numeric(dfr['hl_pd']downcast='float')\n",
    "                \n",
    "                #fill na if after merge we will have any gaps\n",
    "                if dfr['Healthcare_1'].isnull().sum() != 0:\n",
    "                    dfr['Healthcare_1'] = dfr.fillna(dfr['hl_pd'].median())\n",
    "                    dfr['hl_pd'] = dfr.fillna(dfr['hl_pd'].median())\n",
    "        \n",
    "        dfr['Healthcare_1'] = dfr['Healthcare_1'].astype('int8')\n",
    "        dfr['hl_pd'] = dfr['hl_pd'].astype('float32')\n",
    "        return dfr\n",
    "\n",
    "    \n",
    "\n",
    "\n",
    "       \n",
    "    @staticmethod\n",
    "    def district_id_processing(self, dfr):\n",
    "        \"\"\"Function converts DistrictId to AvgPrice per district. In case of validation dataset uses Price \n",
    "            from train dataset.\n",
    "        \"\"\"\n",
    "        if 'Price' in dfr.columns:\n",
    "            self.df_prices_district = dfr[['Price', 'DistrictId']].copy()\n",
    "            self.df_prices_district['Avg_Price_per_district'] = round(\\\n",
    "                                                         self.df_prices_district.groupby('DistrictId')['Price']\\\n",
    "                                                         .transform('mean'), 0)\n",
    "            self.df_prices_district = self.df_prices_district.drop('Price', axis = 1)\n",
    "            dfr = dfr.merge(self.df_prices_district['Avg_Price_per_district'], how = 'left', left_index=True, right_index=True)\n",
    "            self.distric_price_median = self.df_prices_district['Avg_Price_per_district'].median()\n",
    "                        \n",
    "        else:\n",
    "            df_prices_distinct = self.df_prices_district.drop_duplicates('DistrictId')\n",
    "            idx = dfr.index\n",
    "            dfr = dfr.merge(df_prices_distinct, how = 'left', on='DistrictId')\n",
    "            dfr = dfr.set_index(idx)\n",
    "            if dfr['Avg_Price_per_district'].isnull().sum() != 0:\n",
    "                dfr = dfr.fillna(self.distric_price_median) #also other mothods like pad can be used\n",
    "            \n",
    "        \n",
    "        return dfr\n",
    "    \n"
   ]
  },
  {
   "cell_type": "code",
   "execution_count": 238,
   "id": "ultimate-retrieval",
   "metadata": {},
   "outputs": [],
   "source": [
    "df_fill = df.copy()"
   ]
  },
  {
   "cell_type": "code",
   "execution_count": 239,
   "id": "neutral-tampa",
   "metadata": {},
   "outputs": [],
   "source": [
    "dp = Data_preprocessing()"
   ]
  },
  {
   "cell_type": "code",
   "execution_count": 240,
   "id": "empirical-color",
   "metadata": {},
   "outputs": [],
   "source": [
    "dp.median_calculation(df_fill)"
   ]
  },
  {
   "cell_type": "code",
   "execution_count": 241,
   "id": "advisory-prior",
   "metadata": {},
   "outputs": [],
   "source": [
    "df_fill = dp.data_clearing(df_fill)"
   ]
  },
  {
   "cell_type": "code",
   "execution_count": 242,
   "id": "moving-covering",
   "metadata": {},
   "outputs": [
    {
     "data": {
      "text/plain": [
       "DistrictId                  int64\n",
       "Rooms                     float64\n",
       "Square                    float64\n",
       "LifeSquare                float64\n",
       "KitchenSquare             float64\n",
       "Floor                     float64\n",
       "HouseFloor                float64\n",
       "HouseYear                 float64\n",
       "Ecology_1                 float64\n",
       "Ecology_2                  object\n",
       "Ecology_3                  object\n",
       "Social_1                    int64\n",
       "Social_2                    int64\n",
       "Social_3                    int64\n",
       "Healthcare_1                 int8\n",
       "Helthcare_2                 int64\n",
       "Shops_1                     int64\n",
       "Shops_2                    object\n",
       "Price                     float64\n",
       "hl_pd                     float32\n",
       "Avg_Price_per_district    float64\n",
       "dtype: object"
      ]
     },
     "execution_count": 242,
     "metadata": {},
     "output_type": "execute_result"
    }
   ],
   "source": [
    "df_fill.dtypes"
   ]
  },
  {
   "cell_type": "code",
   "execution_count": 243,
   "id": "banner-telescope",
   "metadata": {},
   "outputs": [
    {
     "data": {
      "text/html": [
       "<div>\n",
       "<style scoped>\n",
       "    .dataframe tbody tr th:only-of-type {\n",
       "        vertical-align: middle;\n",
       "    }\n",
       "\n",
       "    .dataframe tbody tr th {\n",
       "        vertical-align: top;\n",
       "    }\n",
       "\n",
       "    .dataframe thead th {\n",
       "        text-align: right;\n",
       "    }\n",
       "</style>\n",
       "<table border=\"1\" class=\"dataframe\">\n",
       "  <thead>\n",
       "    <tr style=\"text-align: right;\">\n",
       "      <th></th>\n",
       "      <th>count</th>\n",
       "      <th>mean</th>\n",
       "      <th>std</th>\n",
       "      <th>min</th>\n",
       "      <th>25%</th>\n",
       "      <th>50%</th>\n",
       "      <th>75%</th>\n",
       "      <th>max</th>\n",
       "    </tr>\n",
       "  </thead>\n",
       "  <tbody>\n",
       "    <tr>\n",
       "      <th>DistrictId</th>\n",
       "      <td>10000.0</td>\n",
       "      <td>50.400800</td>\n",
       "      <td>43.587592</td>\n",
       "      <td>0.000000</td>\n",
       "      <td>20.000000</td>\n",
       "      <td>36.000000</td>\n",
       "      <td>75.000000</td>\n",
       "      <td>209.000000</td>\n",
       "    </tr>\n",
       "    <tr>\n",
       "      <th>Rooms</th>\n",
       "      <td>10000.0</td>\n",
       "      <td>2.123200</td>\n",
       "      <td>6.396461</td>\n",
       "      <td>1.000000</td>\n",
       "      <td>1.000000</td>\n",
       "      <td>2.000000</td>\n",
       "      <td>3.000000</td>\n",
       "      <td>300.000000</td>\n",
       "    </tr>\n",
       "    <tr>\n",
       "      <th>Square</th>\n",
       "      <td>10000.0</td>\n",
       "      <td>56.315775</td>\n",
       "      <td>21.058732</td>\n",
       "      <td>1.136859</td>\n",
       "      <td>41.774881</td>\n",
       "      <td>52.513310</td>\n",
       "      <td>65.900625</td>\n",
       "      <td>641.065193</td>\n",
       "    </tr>\n",
       "    <tr>\n",
       "      <th>LifeSquare</th>\n",
       "      <td>10000.0</td>\n",
       "      <td>36.266040</td>\n",
       "      <td>76.609981</td>\n",
       "      <td>0.370619</td>\n",
       "      <td>25.527399</td>\n",
       "      <td>32.781260</td>\n",
       "      <td>41.427234</td>\n",
       "      <td>7480.592129</td>\n",
       "    </tr>\n",
       "    <tr>\n",
       "      <th>KitchenSquare</th>\n",
       "      <td>10000.0</td>\n",
       "      <td>6.543200</td>\n",
       "      <td>4.130065</td>\n",
       "      <td>3.000000</td>\n",
       "      <td>3.000000</td>\n",
       "      <td>6.000000</td>\n",
       "      <td>9.000000</td>\n",
       "      <td>96.000000</td>\n",
       "    </tr>\n",
       "    <tr>\n",
       "      <th>Floor</th>\n",
       "      <td>10000.0</td>\n",
       "      <td>7.743200</td>\n",
       "      <td>5.083074</td>\n",
       "      <td>1.000000</td>\n",
       "      <td>4.000000</td>\n",
       "      <td>7.000000</td>\n",
       "      <td>11.000000</td>\n",
       "      <td>42.000000</td>\n",
       "    </tr>\n",
       "    <tr>\n",
       "      <th>HouseFloor</th>\n",
       "      <td>10000.0</td>\n",
       "      <td>12.852200</td>\n",
       "      <td>6.536821</td>\n",
       "      <td>1.000000</td>\n",
       "      <td>9.000000</td>\n",
       "      <td>14.000000</td>\n",
       "      <td>17.000000</td>\n",
       "      <td>117.000000</td>\n",
       "    </tr>\n",
       "    <tr>\n",
       "      <th>HouseYear</th>\n",
       "      <td>10000.0</td>\n",
       "      <td>1984.863800</td>\n",
       "      <td>18.409979</td>\n",
       "      <td>1910.000000</td>\n",
       "      <td>1974.000000</td>\n",
       "      <td>1977.000000</td>\n",
       "      <td>2001.000000</td>\n",
       "      <td>2020.000000</td>\n",
       "    </tr>\n",
       "    <tr>\n",
       "      <th>Ecology_1</th>\n",
       "      <td>10000.0</td>\n",
       "      <td>0.118858</td>\n",
       "      <td>0.119025</td>\n",
       "      <td>0.000000</td>\n",
       "      <td>0.017647</td>\n",
       "      <td>0.075424</td>\n",
       "      <td>0.195781</td>\n",
       "      <td>0.521867</td>\n",
       "    </tr>\n",
       "    <tr>\n",
       "      <th>Social_1</th>\n",
       "      <td>10000.0</td>\n",
       "      <td>24.687000</td>\n",
       "      <td>17.532614</td>\n",
       "      <td>0.000000</td>\n",
       "      <td>6.000000</td>\n",
       "      <td>25.000000</td>\n",
       "      <td>36.000000</td>\n",
       "      <td>74.000000</td>\n",
       "    </tr>\n",
       "    <tr>\n",
       "      <th>Social_2</th>\n",
       "      <td>10000.0</td>\n",
       "      <td>5352.157400</td>\n",
       "      <td>4006.799803</td>\n",
       "      <td>168.000000</td>\n",
       "      <td>1564.000000</td>\n",
       "      <td>5285.000000</td>\n",
       "      <td>7227.000000</td>\n",
       "      <td>19083.000000</td>\n",
       "    </tr>\n",
       "    <tr>\n",
       "      <th>Social_3</th>\n",
       "      <td>10000.0</td>\n",
       "      <td>8.039200</td>\n",
       "      <td>23.831875</td>\n",
       "      <td>0.000000</td>\n",
       "      <td>0.000000</td>\n",
       "      <td>2.000000</td>\n",
       "      <td>5.000000</td>\n",
       "      <td>141.000000</td>\n",
       "    </tr>\n",
       "    <tr>\n",
       "      <th>Healthcare_1</th>\n",
       "      <td>10000.0</td>\n",
       "      <td>31.636000</td>\n",
       "      <td>49.952628</td>\n",
       "      <td>-128.000000</td>\n",
       "      <td>9.000000</td>\n",
       "      <td>27.000000</td>\n",
       "      <td>61.000000</td>\n",
       "      <td>127.000000</td>\n",
       "    </tr>\n",
       "    <tr>\n",
       "      <th>Helthcare_2</th>\n",
       "      <td>10000.0</td>\n",
       "      <td>1.319500</td>\n",
       "      <td>1.493601</td>\n",
       "      <td>0.000000</td>\n",
       "      <td>0.000000</td>\n",
       "      <td>1.000000</td>\n",
       "      <td>2.000000</td>\n",
       "      <td>6.000000</td>\n",
       "    </tr>\n",
       "    <tr>\n",
       "      <th>Shops_1</th>\n",
       "      <td>10000.0</td>\n",
       "      <td>4.231300</td>\n",
       "      <td>4.806341</td>\n",
       "      <td>0.000000</td>\n",
       "      <td>1.000000</td>\n",
       "      <td>3.000000</td>\n",
       "      <td>6.000000</td>\n",
       "      <td>23.000000</td>\n",
       "    </tr>\n",
       "    <tr>\n",
       "      <th>Price</th>\n",
       "      <td>10000.0</td>\n",
       "      <td>214138.857399</td>\n",
       "      <td>92872.293865</td>\n",
       "      <td>59174.778028</td>\n",
       "      <td>153872.633942</td>\n",
       "      <td>192269.644879</td>\n",
       "      <td>249135.462171</td>\n",
       "      <td>633233.466570</td>\n",
       "    </tr>\n",
       "    <tr>\n",
       "      <th>hl_pd</th>\n",
       "      <td>10000.0</td>\n",
       "      <td>50.400799</td>\n",
       "      <td>43.587589</td>\n",
       "      <td>0.000000</td>\n",
       "      <td>20.000000</td>\n",
       "      <td>36.000000</td>\n",
       "      <td>75.000000</td>\n",
       "      <td>209.000000</td>\n",
       "    </tr>\n",
       "    <tr>\n",
       "      <th>Avg_Price_per_district</th>\n",
       "      <td>10000.0</td>\n",
       "      <td>214138.735900</td>\n",
       "      <td>54404.433815</td>\n",
       "      <td>126840.000000</td>\n",
       "      <td>171615.000000</td>\n",
       "      <td>204464.000000</td>\n",
       "      <td>243342.000000</td>\n",
       "      <td>482791.000000</td>\n",
       "    </tr>\n",
       "  </tbody>\n",
       "</table>\n",
       "</div>"
      ],
      "text/plain": [
       "                          count           mean           std            min  \\\n",
       "DistrictId              10000.0      50.400800     43.587592       0.000000   \n",
       "Rooms                   10000.0       2.123200      6.396461       1.000000   \n",
       "Square                  10000.0      56.315775     21.058732       1.136859   \n",
       "LifeSquare              10000.0      36.266040     76.609981       0.370619   \n",
       "KitchenSquare           10000.0       6.543200      4.130065       3.000000   \n",
       "Floor                   10000.0       7.743200      5.083074       1.000000   \n",
       "HouseFloor              10000.0      12.852200      6.536821       1.000000   \n",
       "HouseYear               10000.0    1984.863800     18.409979    1910.000000   \n",
       "Ecology_1               10000.0       0.118858      0.119025       0.000000   \n",
       "Social_1                10000.0      24.687000     17.532614       0.000000   \n",
       "Social_2                10000.0    5352.157400   4006.799803     168.000000   \n",
       "Social_3                10000.0       8.039200     23.831875       0.000000   \n",
       "Healthcare_1            10000.0      31.636000     49.952628    -128.000000   \n",
       "Helthcare_2             10000.0       1.319500      1.493601       0.000000   \n",
       "Shops_1                 10000.0       4.231300      4.806341       0.000000   \n",
       "Price                   10000.0  214138.857399  92872.293865   59174.778028   \n",
       "hl_pd                   10000.0      50.400799     43.587589       0.000000   \n",
       "Avg_Price_per_district  10000.0  214138.735900  54404.433815  126840.000000   \n",
       "\n",
       "                                  25%            50%            75%  \\\n",
       "DistrictId                  20.000000      36.000000      75.000000   \n",
       "Rooms                        1.000000       2.000000       3.000000   \n",
       "Square                      41.774881      52.513310      65.900625   \n",
       "LifeSquare                  25.527399      32.781260      41.427234   \n",
       "KitchenSquare                3.000000       6.000000       9.000000   \n",
       "Floor                        4.000000       7.000000      11.000000   \n",
       "HouseFloor                   9.000000      14.000000      17.000000   \n",
       "HouseYear                 1974.000000    1977.000000    2001.000000   \n",
       "Ecology_1                    0.017647       0.075424       0.195781   \n",
       "Social_1                     6.000000      25.000000      36.000000   \n",
       "Social_2                  1564.000000    5285.000000    7227.000000   \n",
       "Social_3                     0.000000       2.000000       5.000000   \n",
       "Healthcare_1                 9.000000      27.000000      61.000000   \n",
       "Helthcare_2                  0.000000       1.000000       2.000000   \n",
       "Shops_1                      1.000000       3.000000       6.000000   \n",
       "Price                   153872.633942  192269.644879  249135.462171   \n",
       "hl_pd                       20.000000      36.000000      75.000000   \n",
       "Avg_Price_per_district  171615.000000  204464.000000  243342.000000   \n",
       "\n",
       "                                  max  \n",
       "DistrictId                 209.000000  \n",
       "Rooms                      300.000000  \n",
       "Square                     641.065193  \n",
       "LifeSquare                7480.592129  \n",
       "KitchenSquare               96.000000  \n",
       "Floor                       42.000000  \n",
       "HouseFloor                 117.000000  \n",
       "HouseYear                 2020.000000  \n",
       "Ecology_1                    0.521867  \n",
       "Social_1                    74.000000  \n",
       "Social_2                 19083.000000  \n",
       "Social_3                   141.000000  \n",
       "Healthcare_1               127.000000  \n",
       "Helthcare_2                  6.000000  \n",
       "Shops_1                     23.000000  \n",
       "Price                   633233.466570  \n",
       "hl_pd                      209.000000  \n",
       "Avg_Price_per_district  482791.000000  "
      ]
     },
     "execution_count": 243,
     "metadata": {},
     "output_type": "execute_result"
    }
   ],
   "source": [
    "df_fill.describe().T"
   ]
  },
  {
   "cell_type": "markdown",
   "id": "legal-privilege",
   "metadata": {},
   "source": [
    "## 4. Data visualisation and pre-processing <a class='anchor' id='visualization'>"
   ]
  },
  {
   "cell_type": "markdown",
   "id": "fatty-chicago",
   "metadata": {},
   "source": [
    "Visualisation:\n",
    "- Histograms for numeric variables distribution\n",
    "- Boxplots before and after pre-processing\n",
    "- Distribution of categorial variables."
   ]
  },
  {
   "cell_type": "markdown",
   "id": "fundamental-absolute",
   "metadata": {},
   "source": [
    "Preprocessing:\n",
    "\n",
    "1. remove columns with lack of data\n",
    "2. Change NaN to appropriate group median values\n",
    "3. Change categorial features to numerical\n",
    "4. Normalization of data (optional)\n",
    "5. regularization of data (optional)"
   ]
  },
  {
   "cell_type": "markdown",
   "id": "virgin-preserve",
   "metadata": {},
   "source": [
    "Creattion of copy of initial dataset for preprocessing."
   ]
  },
  {
   "cell_type": "code",
   "execution_count": 154,
   "id": "reduced-familiar",
   "metadata": {
    "scrolled": true
   },
   "outputs": [],
   "source": [
    "df_fill = df.copy()\n",
    "df_target = 'Price'"
   ]
  },
  {
   "cell_type": "markdown",
   "id": "finnish-season",
   "metadata": {},
   "source": [
    "Initializing of class with preprocessing functions"
   ]
  },
  {
   "cell_type": "code",
   "execution_count": 115,
   "id": "contrary-secret",
   "metadata": {
    "scrolled": true
   },
   "outputs": [
    {
     "data": {
      "text/html": [
       "<div>\n",
       "<style scoped>\n",
       "    .dataframe tbody tr th:only-of-type {\n",
       "        vertical-align: middle;\n",
       "    }\n",
       "\n",
       "    .dataframe tbody tr th {\n",
       "        vertical-align: top;\n",
       "    }\n",
       "\n",
       "    .dataframe thead th {\n",
       "        text-align: right;\n",
       "    }\n",
       "</style>\n",
       "<table border=\"1\" class=\"dataframe\">\n",
       "  <thead>\n",
       "    <tr style=\"text-align: right;\">\n",
       "      <th></th>\n",
       "      <th>DistrictId</th>\n",
       "      <th>Rooms</th>\n",
       "      <th>Square</th>\n",
       "      <th>LifeSquare</th>\n",
       "      <th>KitchenSquare</th>\n",
       "      <th>Floor</th>\n",
       "      <th>HouseFloor</th>\n",
       "      <th>HouseYear</th>\n",
       "      <th>Ecology_1</th>\n",
       "      <th>Ecology_2</th>\n",
       "      <th>Ecology_3</th>\n",
       "      <th>Social_1</th>\n",
       "      <th>Social_2</th>\n",
       "      <th>Social_3</th>\n",
       "      <th>Healthcare_1</th>\n",
       "      <th>Helthcare_2</th>\n",
       "      <th>Shops_1</th>\n",
       "      <th>Shops_2</th>\n",
       "      <th>Price</th>\n",
       "    </tr>\n",
       "    <tr>\n",
       "      <th>Id</th>\n",
       "      <th></th>\n",
       "      <th></th>\n",
       "      <th></th>\n",
       "      <th></th>\n",
       "      <th></th>\n",
       "      <th></th>\n",
       "      <th></th>\n",
       "      <th></th>\n",
       "      <th></th>\n",
       "      <th></th>\n",
       "      <th></th>\n",
       "      <th></th>\n",
       "      <th></th>\n",
       "      <th></th>\n",
       "      <th></th>\n",
       "      <th></th>\n",
       "      <th></th>\n",
       "      <th></th>\n",
       "      <th></th>\n",
       "    </tr>\n",
       "  </thead>\n",
       "  <tbody>\n",
       "    <tr>\n",
       "      <th>14038</th>\n",
       "      <td>35</td>\n",
       "      <td>2.0</td>\n",
       "      <td>47.981561</td>\n",
       "      <td>29.442751</td>\n",
       "      <td>6.0</td>\n",
       "      <td>7</td>\n",
       "      <td>9.0</td>\n",
       "      <td>1969</td>\n",
       "      <td>0.089040</td>\n",
       "      <td>B</td>\n",
       "      <td>B</td>\n",
       "      <td>33</td>\n",
       "      <td>7976</td>\n",
       "      <td>5</td>\n",
       "      <td>NaN</td>\n",
       "      <td>0</td>\n",
       "      <td>11</td>\n",
       "      <td>B</td>\n",
       "      <td>184966.930730</td>\n",
       "    </tr>\n",
       "    <tr>\n",
       "      <th>15053</th>\n",
       "      <td>41</td>\n",
       "      <td>3.0</td>\n",
       "      <td>65.683640</td>\n",
       "      <td>40.049543</td>\n",
       "      <td>8.0</td>\n",
       "      <td>7</td>\n",
       "      <td>9.0</td>\n",
       "      <td>1978</td>\n",
       "      <td>0.000070</td>\n",
       "      <td>B</td>\n",
       "      <td>B</td>\n",
       "      <td>46</td>\n",
       "      <td>10309</td>\n",
       "      <td>1</td>\n",
       "      <td>240.0</td>\n",
       "      <td>1</td>\n",
       "      <td>16</td>\n",
       "      <td>B</td>\n",
       "      <td>300009.450063</td>\n",
       "    </tr>\n",
       "    <tr>\n",
       "      <th>4765</th>\n",
       "      <td>53</td>\n",
       "      <td>2.0</td>\n",
       "      <td>44.947953</td>\n",
       "      <td>29.197612</td>\n",
       "      <td>0.0</td>\n",
       "      <td>8</td>\n",
       "      <td>12.0</td>\n",
       "      <td>1968</td>\n",
       "      <td>0.049637</td>\n",
       "      <td>B</td>\n",
       "      <td>B</td>\n",
       "      <td>34</td>\n",
       "      <td>7759</td>\n",
       "      <td>0</td>\n",
       "      <td>229.0</td>\n",
       "      <td>1</td>\n",
       "      <td>3</td>\n",
       "      <td>B</td>\n",
       "      <td>220925.908524</td>\n",
       "    </tr>\n",
       "    <tr>\n",
       "      <th>5809</th>\n",
       "      <td>58</td>\n",
       "      <td>2.0</td>\n",
       "      <td>53.352981</td>\n",
       "      <td>52.731512</td>\n",
       "      <td>9.0</td>\n",
       "      <td>8</td>\n",
       "      <td>17.0</td>\n",
       "      <td>1977</td>\n",
       "      <td>0.437885</td>\n",
       "      <td>B</td>\n",
       "      <td>B</td>\n",
       "      <td>23</td>\n",
       "      <td>5735</td>\n",
       "      <td>3</td>\n",
       "      <td>1084.0</td>\n",
       "      <td>0</td>\n",
       "      <td>5</td>\n",
       "      <td>B</td>\n",
       "      <td>175616.227217</td>\n",
       "    </tr>\n",
       "    <tr>\n",
       "      <th>10783</th>\n",
       "      <td>99</td>\n",
       "      <td>1.0</td>\n",
       "      <td>39.649192</td>\n",
       "      <td>23.776169</td>\n",
       "      <td>7.0</td>\n",
       "      <td>11</td>\n",
       "      <td>12.0</td>\n",
       "      <td>1976</td>\n",
       "      <td>0.012339</td>\n",
       "      <td>B</td>\n",
       "      <td>B</td>\n",
       "      <td>35</td>\n",
       "      <td>5776</td>\n",
       "      <td>1</td>\n",
       "      <td>2078.0</td>\n",
       "      <td>2</td>\n",
       "      <td>4</td>\n",
       "      <td>B</td>\n",
       "      <td>150226.531644</td>\n",
       "    </tr>\n",
       "  </tbody>\n",
       "</table>\n",
       "</div>"
      ],
      "text/plain": [
       "       DistrictId  Rooms     Square  LifeSquare  KitchenSquare  Floor  \\\n",
       "Id                                                                      \n",
       "14038          35    2.0  47.981561   29.442751            6.0      7   \n",
       "15053          41    3.0  65.683640   40.049543            8.0      7   \n",
       "4765           53    2.0  44.947953   29.197612            0.0      8   \n",
       "5809           58    2.0  53.352981   52.731512            9.0      8   \n",
       "10783          99    1.0  39.649192   23.776169            7.0     11   \n",
       "\n",
       "       HouseFloor  HouseYear  Ecology_1 Ecology_2 Ecology_3  Social_1  \\\n",
       "Id                                                                      \n",
       "14038         9.0       1969   0.089040         B         B        33   \n",
       "15053         9.0       1978   0.000070         B         B        46   \n",
       "4765         12.0       1968   0.049637         B         B        34   \n",
       "5809         17.0       1977   0.437885         B         B        23   \n",
       "10783        12.0       1976   0.012339         B         B        35   \n",
       "\n",
       "       Social_2  Social_3  Healthcare_1  Helthcare_2  Shops_1 Shops_2  \\\n",
       "Id                                                                      \n",
       "14038      7976         5           NaN            0       11       B   \n",
       "15053     10309         1         240.0            1       16       B   \n",
       "4765       7759         0         229.0            1        3       B   \n",
       "5809       5735         3        1084.0            0        5       B   \n",
       "10783      5776         1        2078.0            2        4       B   \n",
       "\n",
       "               Price  \n",
       "Id                    \n",
       "14038  184966.930730  \n",
       "15053  300009.450063  \n",
       "4765   220925.908524  \n",
       "5809   175616.227217  \n",
       "10783  150226.531644  "
      ]
     },
     "execution_count": 115,
     "metadata": {},
     "output_type": "execute_result"
    }
   ],
   "source": [
    "df_fill.head()"
   ]
  },
  {
   "cell_type": "markdown",
   "id": "included-workstation",
   "metadata": {},
   "source": [
    "Distribution of numeric variables:"
   ]
  },
  {
   "cell_type": "code",
   "execution_count": 116,
   "id": "remarkable-living",
   "metadata": {},
   "outputs": [
    {
     "data": {
      "text/html": [
       "<div>\n",
       "<style scoped>\n",
       "    .dataframe tbody tr th:only-of-type {\n",
       "        vertical-align: middle;\n",
       "    }\n",
       "\n",
       "    .dataframe tbody tr th {\n",
       "        vertical-align: top;\n",
       "    }\n",
       "\n",
       "    .dataframe thead th {\n",
       "        text-align: right;\n",
       "    }\n",
       "</style>\n",
       "<table border=\"1\" class=\"dataframe\">\n",
       "  <thead>\n",
       "    <tr style=\"text-align: right;\">\n",
       "      <th></th>\n",
       "      <th>DistrictId</th>\n",
       "      <th>Rooms</th>\n",
       "      <th>Square</th>\n",
       "      <th>LifeSquare</th>\n",
       "      <th>KitchenSquare</th>\n",
       "      <th>Floor</th>\n",
       "      <th>HouseFloor</th>\n",
       "      <th>HouseYear</th>\n",
       "      <th>Ecology_1</th>\n",
       "      <th>Social_1</th>\n",
       "      <th>Social_2</th>\n",
       "      <th>Social_3</th>\n",
       "      <th>Healthcare_1</th>\n",
       "      <th>Helthcare_2</th>\n",
       "      <th>Shops_1</th>\n",
       "      <th>Price</th>\n",
       "    </tr>\n",
       "    <tr>\n",
       "      <th>Id</th>\n",
       "      <th></th>\n",
       "      <th></th>\n",
       "      <th></th>\n",
       "      <th></th>\n",
       "      <th></th>\n",
       "      <th></th>\n",
       "      <th></th>\n",
       "      <th></th>\n",
       "      <th></th>\n",
       "      <th></th>\n",
       "      <th></th>\n",
       "      <th></th>\n",
       "      <th></th>\n",
       "      <th></th>\n",
       "      <th></th>\n",
       "      <th></th>\n",
       "    </tr>\n",
       "  </thead>\n",
       "  <tbody>\n",
       "    <tr>\n",
       "      <th>14038</th>\n",
       "      <td>35</td>\n",
       "      <td>2.0</td>\n",
       "      <td>47.981561</td>\n",
       "      <td>29.442751</td>\n",
       "      <td>6.0</td>\n",
       "      <td>7</td>\n",
       "      <td>9.0</td>\n",
       "      <td>1969</td>\n",
       "      <td>0.089040</td>\n",
       "      <td>33</td>\n",
       "      <td>7976</td>\n",
       "      <td>5</td>\n",
       "      <td>NaN</td>\n",
       "      <td>0</td>\n",
       "      <td>11</td>\n",
       "      <td>184966.930730</td>\n",
       "    </tr>\n",
       "    <tr>\n",
       "      <th>15053</th>\n",
       "      <td>41</td>\n",
       "      <td>3.0</td>\n",
       "      <td>65.683640</td>\n",
       "      <td>40.049543</td>\n",
       "      <td>8.0</td>\n",
       "      <td>7</td>\n",
       "      <td>9.0</td>\n",
       "      <td>1978</td>\n",
       "      <td>0.000070</td>\n",
       "      <td>46</td>\n",
       "      <td>10309</td>\n",
       "      <td>1</td>\n",
       "      <td>240.0</td>\n",
       "      <td>1</td>\n",
       "      <td>16</td>\n",
       "      <td>300009.450063</td>\n",
       "    </tr>\n",
       "    <tr>\n",
       "      <th>4765</th>\n",
       "      <td>53</td>\n",
       "      <td>2.0</td>\n",
       "      <td>44.947953</td>\n",
       "      <td>29.197612</td>\n",
       "      <td>0.0</td>\n",
       "      <td>8</td>\n",
       "      <td>12.0</td>\n",
       "      <td>1968</td>\n",
       "      <td>0.049637</td>\n",
       "      <td>34</td>\n",
       "      <td>7759</td>\n",
       "      <td>0</td>\n",
       "      <td>229.0</td>\n",
       "      <td>1</td>\n",
       "      <td>3</td>\n",
       "      <td>220925.908524</td>\n",
       "    </tr>\n",
       "    <tr>\n",
       "      <th>5809</th>\n",
       "      <td>58</td>\n",
       "      <td>2.0</td>\n",
       "      <td>53.352981</td>\n",
       "      <td>52.731512</td>\n",
       "      <td>9.0</td>\n",
       "      <td>8</td>\n",
       "      <td>17.0</td>\n",
       "      <td>1977</td>\n",
       "      <td>0.437885</td>\n",
       "      <td>23</td>\n",
       "      <td>5735</td>\n",
       "      <td>3</td>\n",
       "      <td>1084.0</td>\n",
       "      <td>0</td>\n",
       "      <td>5</td>\n",
       "      <td>175616.227217</td>\n",
       "    </tr>\n",
       "    <tr>\n",
       "      <th>10783</th>\n",
       "      <td>99</td>\n",
       "      <td>1.0</td>\n",
       "      <td>39.649192</td>\n",
       "      <td>23.776169</td>\n",
       "      <td>7.0</td>\n",
       "      <td>11</td>\n",
       "      <td>12.0</td>\n",
       "      <td>1976</td>\n",
       "      <td>0.012339</td>\n",
       "      <td>35</td>\n",
       "      <td>5776</td>\n",
       "      <td>1</td>\n",
       "      <td>2078.0</td>\n",
       "      <td>2</td>\n",
       "      <td>4</td>\n",
       "      <td>150226.531644</td>\n",
       "    </tr>\n",
       "  </tbody>\n",
       "</table>\n",
       "</div>"
      ],
      "text/plain": [
       "       DistrictId  Rooms     Square  LifeSquare  KitchenSquare  Floor  \\\n",
       "Id                                                                      \n",
       "14038          35    2.0  47.981561   29.442751            6.0      7   \n",
       "15053          41    3.0  65.683640   40.049543            8.0      7   \n",
       "4765           53    2.0  44.947953   29.197612            0.0      8   \n",
       "5809           58    2.0  53.352981   52.731512            9.0      8   \n",
       "10783          99    1.0  39.649192   23.776169            7.0     11   \n",
       "\n",
       "       HouseFloor  HouseYear  Ecology_1  Social_1  Social_2  Social_3  \\\n",
       "Id                                                                      \n",
       "14038         9.0       1969   0.089040        33      7976         5   \n",
       "15053         9.0       1978   0.000070        46     10309         1   \n",
       "4765         12.0       1968   0.049637        34      7759         0   \n",
       "5809         17.0       1977   0.437885        23      5735         3   \n",
       "10783        12.0       1976   0.012339        35      5776         1   \n",
       "\n",
       "       Healthcare_1  Helthcare_2  Shops_1          Price  \n",
       "Id                                                        \n",
       "14038           NaN            0       11  184966.930730  \n",
       "15053         240.0            1       16  300009.450063  \n",
       "4765          229.0            1        3  220925.908524  \n",
       "5809         1084.0            0        5  175616.227217  \n",
       "10783        2078.0            2        4  150226.531644  "
      ]
     },
     "execution_count": 116,
     "metadata": {},
     "output_type": "execute_result"
    }
   ],
   "source": [
    "df_num_features = df_fill.select_dtypes(include=['float64', 'float32', 'float16', 'int64', 'int32', 'int16', 'int8'])\n",
    "df_num_features.head()"
   ]
  },
  {
   "cell_type": "markdown",
   "id": "better-soccer",
   "metadata": {},
   "source": [
    "Selecting of numerical features and check their distribution."
   ]
  },
  {
   "cell_type": "code",
   "execution_count": 93,
   "id": "institutional-montgomery",
   "metadata": {},
   "outputs": [
    {
     "data": {
      "image/png": "[encoded data removed]",
      "text/plain": [
       "<Figure size 864x864 with 16 Axes>"
      ]
     },
     "metadata": {
      "needs_background": "light"
     },
     "output_type": "display_data"
    }
   ],
   "source": [
    "df_num_features.hist(figsize=(12,12), bins=20, grid=False);"
   ]
  },
  {
   "cell_type": "markdown",
   "id": "square-balloon",
   "metadata": {},
   "source": [
    "### Processing of features"
   ]
  },
  {
   "cell_type": "markdown",
   "id": "noble-frontier",
   "metadata": {},
   "source": [
    "In this section some features will be transformed to remove anomalies and outliers"
   ]
  },
  {
   "cell_type": "markdown",
   "id": "unknown-statement",
   "metadata": {},
   "source": [
    "Adding of new temporary features for analyze outliers."
   ]
  },
  {
   "cell_type": "markdown",
   "id": "hindu-radiation",
   "metadata": {},
   "source": [
    "Temporary columns. Will be deleted after completing of preprocessing."
   ]
  },
  {
   "cell_type": "markdown",
   "id": "exposed-trinity",
   "metadata": {},
   "source": [
    "In the rows below each feature will be processed individually and regarding of result analyze optimal way for feature processing will be chosen."
   ]
  },
  {
   "cell_type": "markdown",
   "id": "convertible-failing",
   "metadata": {},
   "source": [
    "**Rooms**"
   ]
  },
  {
   "cell_type": "code",
   "execution_count": 94,
   "id": "suspended-manhattan",
   "metadata": {},
   "outputs": [
    {
     "name": "stderr",
     "output_type": "stream",
     "text": [
      "c:\\users\\пк\\appdata\\local\\programs\\python\\python39\\lib\\site-packages\\seaborn\\_decorators.py:36: FutureWarning: Pass the following variables as keyword args: x, y. From version 0.12, the only valid positional argument will be `data`, and passing other arguments without an explicit keyword will result in an error or misinterpretation.\n",
      "  warnings.warn(\n"
     ]
    },
    {
     "data": {
      "image/png": "[encoded data removed]",
      "text/plain": [
       "<Figure size 432x432 with 3 Axes>"
      ]
     },
     "metadata": {
      "needs_background": "light"
     },
     "output_type": "display_data"
    }
   ],
   "source": [
    "grid = sns.jointplot(df_fill['Rooms'], df_fill['Price'], kind='reg')\n",
    "grid.fig.set_figwidth(6)\n",
    "grid.fig.set_figheight(6)"
   ]
  },
  {
   "cell_type": "code",
   "execution_count": 95,
   "id": "atlantic-tennessee",
   "metadata": {
    "scrolled": false
   },
   "outputs": [
    {
     "name": "stderr",
     "output_type": "stream",
     "text": [
      "c:\\users\\пк\\appdata\\local\\programs\\python\\python39\\lib\\site-packages\\seaborn\\_decorators.py:36: FutureWarning: Pass the following variable as a keyword arg: x. From version 0.12, the only valid positional argument will be `data`, and passing other arguments without an explicit keyword will result in an error or misinterpretation.\n",
      "  warnings.warn(\n"
     ]
    },
    {
     "data": {
      "image/png": "[encoded data removed]",
      "text/plain": [
       "<Figure size 432x216 with 1 Axes>"
      ]
     },
     "metadata": {
      "needs_background": "light"
     },
     "output_type": "display_data"
    }
   ],
   "source": [
    "plt.figure(figsize=(6, 3))\n",
    "sns.boxplot(df_fill['Rooms'])\n",
    "plt.xlabel('Rooms')\n",
    "plt.show()"
   ]
  },
  {
   "cell_type": "code",
   "execution_count": 99,
   "id": "dramatic-history",
   "metadata": {
    "scrolled": true
   },
   "outputs": [
    {
     "data": {
      "text/plain": [
       "count    10000.000000\n",
       "mean         1.890500\n",
       "std          0.839512\n",
       "min          0.000000\n",
       "25%          1.000000\n",
       "50%          2.000000\n",
       "75%          2.000000\n",
       "max         19.000000\n",
       "Name: Rooms, dtype: float64"
      ]
     },
     "execution_count": 99,
     "metadata": {},
     "output_type": "execute_result"
    }
   ],
   "source": [
    "df_fill['Rooms'].describe()"
   ]
  },
  {
   "cell_type": "code",
   "execution_count": 100,
   "id": "headed-night",
   "metadata": {
    "scrolled": true
   },
   "outputs": [
    {
     "data": {
      "text/plain": [
       "6.0        1\n",
       "19.0       1\n",
       "10.0       2\n",
       "0.0        8\n",
       "5.0       18\n",
       "4.0      150\n",
       "3.0     2235\n",
       "1.0     3705\n",
       "2.0     3880\n",
       "Name: Rooms, dtype: int64"
      ]
     },
     "execution_count": 100,
     "metadata": {},
     "output_type": "execute_result"
    }
   ],
   "source": [
    "df_fill['Rooms'].value_counts().sort_values()"
   ]
  },
  {
   "cell_type": "markdown",
   "id": "hundred-distribution",
   "metadata": {},
   "source": [
    "All appartmets where rooms have zero value will be changed to 1"
   ]
  },
  {
   "cell_type": "markdown",
   "id": "divided-ozone",
   "metadata": {},
   "source": [
    "Resolving of outliers cases:\n",
    "   - All values which are less than 1 will be converted to 1.0\n",
    "   - All values which are greater or equal to five or six will be converted to median value. "
   ]
  },
  {
   "cell_type": "markdown",
   "id": "further-buying",
   "metadata": {},
   "source": [
    "**Square**"
   ]
  },
  {
   "cell_type": "code",
   "execution_count": 102,
   "id": "compact-martin",
   "metadata": {
    "scrolled": true
   },
   "outputs": [
    {
     "name": "stderr",
     "output_type": "stream",
     "text": [
      "c:\\users\\пк\\appdata\\local\\programs\\python\\python39\\lib\\site-packages\\seaborn\\_decorators.py:36: FutureWarning: Pass the following variable as a keyword arg: x. From version 0.12, the only valid positional argument will be `data`, and passing other arguments without an explicit keyword will result in an error or misinterpretation.\n",
      "  warnings.warn(\n"
     ]
    },
    {
     "data": {
      "image/png": "[encoded data removed]",
      "text/plain": [
       "<Figure size 432x216 with 1 Axes>"
      ]
     },
     "metadata": {
      "needs_background": "light"
     },
     "output_type": "display_data"
    }
   ],
   "source": [
    "plt.figure(figsize=(6, 3))\n",
    "sns.boxplot(df_fill['Square'])\n",
    "plt.xlabel('Square')\n",
    "plt.show()"
   ]
  },
  {
   "cell_type": "code",
   "execution_count": 138,
   "id": "romantic-nepal",
   "metadata": {
    "scrolled": false
   },
   "outputs": [
    {
     "name": "stderr",
     "output_type": "stream",
     "text": [
      "c:\\users\\пк\\appdata\\local\\programs\\python\\python39\\lib\\site-packages\\seaborn\\_decorators.py:36: FutureWarning: Pass the following variables as keyword args: x, y. From version 0.12, the only valid positional argument will be `data`, and passing other arguments without an explicit keyword will result in an error or misinterpretation.\n",
      "  warnings.warn(\n"
     ]
    },
    {
     "data": {
      "image/png": "[encoded data removed]",
      "text/plain": [
       "<Figure size 432x432 with 3 Axes>"
      ]
     },
     "metadata": {
      "needs_background": "light"
     },
     "output_type": "display_data"
    }
   ],
   "source": [
    "grid = sns.jointplot(df_num_features['Square'], df_num_features['Price'], kind='reg')\n",
    "grid.fig.set_figwidth(6)\n",
    "grid.fig.set_figheight(6)"
   ]
  },
  {
   "cell_type": "code",
   "execution_count": 139,
   "id": "welsh-township",
   "metadata": {},
   "outputs": [
    {
     "data": {
      "text/plain": [
       "DistrictId       20\n",
       "Rooms            20\n",
       "Square           20\n",
       "LifeSquare       20\n",
       "KitchenSquare    20\n",
       "Floor            20\n",
       "HouseFloor       20\n",
       "HouseYear        20\n",
       "Ecology_1        20\n",
       "Social_1         20\n",
       "Social_2         20\n",
       "Social_3         20\n",
       "Healthcare_1     10\n",
       "Helthcare_2      20\n",
       "Shops_1          20\n",
       "Price            20\n",
       "dtype: int64"
      ]
     },
     "execution_count": 139,
     "metadata": {},
     "output_type": "execute_result"
    }
   ],
   "source": [
    "df_num_features[df_num_features['Square'] < 20].count()"
   ]
  },
  {
   "cell_type": "code",
   "execution_count": null,
   "id": "encouraging-words",
   "metadata": {},
   "outputs": [],
   "source": []
  },
  {
   "cell_type": "code",
   "execution_count": null,
   "id": "proud-wings",
   "metadata": {},
   "outputs": [],
   "source": []
  },
  {
   "cell_type": "code",
   "execution_count": null,
   "id": "ordinary-market",
   "metadata": {},
   "outputs": [],
   "source": []
  },
  {
   "cell_type": "markdown",
   "id": "medical-interpretation",
   "metadata": {},
   "source": [
    "Square column will be left without changes"
   ]
  },
  {
   "cell_type": "markdown",
   "id": "loved-outside",
   "metadata": {},
   "source": [
    "**Life square**"
   ]
  },
  {
   "cell_type": "code",
   "execution_count": 117,
   "id": "upset-roller",
   "metadata": {},
   "outputs": [
    {
     "name": "stderr",
     "output_type": "stream",
     "text": [
      "c:\\users\\пк\\appdata\\local\\programs\\python\\python39\\lib\\site-packages\\seaborn\\_decorators.py:36: FutureWarning: Pass the following variables as keyword args: x, y. From version 0.12, the only valid positional argument will be `data`, and passing other arguments without an explicit keyword will result in an error or misinterpretation.\n",
      "  warnings.warn(\n"
     ]
    },
    {
     "data": {
      "image/png": "[encoded data removed]",
      "text/plain": [
       "<Figure size 432x432 with 3 Axes>"
      ]
     },
     "metadata": {
      "needs_background": "light"
     },
     "output_type": "display_data"
    }
   ],
   "source": [
    "grid = sns.jointplot(df_num_features['LifeSquare'], df_num_features['Price'], kind='reg')\n",
    "grid.fig.set_figwidth(6)\n",
    "grid.fig.set_figheight(6)"
   ]
  },
  {
   "cell_type": "code",
   "execution_count": 118,
   "id": "bigger-peeing",
   "metadata": {
    "scrolled": true
   },
   "outputs": [
    {
     "name": "stderr",
     "output_type": "stream",
     "text": [
      "c:\\users\\пк\\appdata\\local\\programs\\python\\python39\\lib\\site-packages\\seaborn\\_decorators.py:36: FutureWarning: Pass the following variable as a keyword arg: x. From version 0.12, the only valid positional argument will be `data`, and passing other arguments without an explicit keyword will result in an error or misinterpretation.\n",
      "  warnings.warn(\n"
     ]
    },
    {
     "data": {
      "image/png": "[encoded data removed]",
      "text/plain": [
       "<Figure size 432x216 with 1 Axes>"
      ]
     },
     "metadata": {
      "needs_background": "light"
     },
     "output_type": "display_data"
    }
   ],
   "source": [
    "plt.figure(figsize=(6, 3))\n",
    "sns.boxplot(df_num_features['LifeSquare'])\n",
    "plt.xlabel('LifeSquare')\n",
    "plt.show()"
   ]
  },
  {
   "cell_type": "code",
   "execution_count": 121,
   "id": "cooperative-roberts",
   "metadata": {},
   "outputs": [],
   "source": [
    "df_num_features = df_num_features[df_num_features['LifeSquare'] < 250]"
   ]
  },
  {
   "cell_type": "code",
   "execution_count": 122,
   "id": "vulnerable-lover",
   "metadata": {},
   "outputs": [
    {
     "name": "stderr",
     "output_type": "stream",
     "text": [
      "c:\\users\\пк\\appdata\\local\\programs\\python\\python39\\lib\\site-packages\\seaborn\\_decorators.py:36: FutureWarning: Pass the following variables as keyword args: x, y. From version 0.12, the only valid positional argument will be `data`, and passing other arguments without an explicit keyword will result in an error or misinterpretation.\n",
      "  warnings.warn(\n"
     ]
    },
    {
     "data": {
      "image/png": "[encoded data removed]",
      "text/plain": [
       "<Figure size 432x432 with 3 Axes>"
      ]
     },
     "metadata": {
      "needs_background": "light"
     },
     "output_type": "display_data"
    }
   ],
   "source": [
    "grid = sns.jointplot(df_num_features['LifeSquare'], df_num_features['Price'], kind='reg')\n",
    "grid.fig.set_figwidth(6)\n",
    "grid.fig.set_figheight(6)"
   ]
  },
  {
   "cell_type": "code",
   "execution_count": 123,
   "id": "narrative-diamond",
   "metadata": {},
   "outputs": [
    {
     "name": "stderr",
     "output_type": "stream",
     "text": [
      "c:\\users\\пк\\appdata\\local\\programs\\python\\python39\\lib\\site-packages\\seaborn\\_decorators.py:36: FutureWarning: Pass the following variable as a keyword arg: x. From version 0.12, the only valid positional argument will be `data`, and passing other arguments without an explicit keyword will result in an error or misinterpretation.\n",
      "  warnings.warn(\n"
     ]
    },
    {
     "data": {
      "image/png": "[encoded data removed]",
      "text/plain": [
       "<Figure size 432x216 with 1 Axes>"
      ]
     },
     "metadata": {
      "needs_background": "light"
     },
     "output_type": "display_data"
    }
   ],
   "source": [
    "plt.figure(figsize=(6, 3))\n",
    "sns.boxplot(df_num_features['LifeSquare'])\n",
    "plt.xlabel('LifeSquare')\n",
    "plt.show()"
   ]
  },
  {
   "cell_type": "code",
   "execution_count": 131,
   "id": "ordinary-spoke",
   "metadata": {},
   "outputs": [
    {
     "data": {
      "text/plain": [
       "DistrictId       162\n",
       "Rooms            162\n",
       "Square           162\n",
       "LifeSquare       162\n",
       "KitchenSquare    162\n",
       "Floor            162\n",
       "HouseFloor       162\n",
       "HouseYear        162\n",
       "Ecology_1        162\n",
       "Social_1         162\n",
       "Social_2         162\n",
       "Social_3         162\n",
       "Healthcare_1      76\n",
       "Helthcare_2      162\n",
       "Shops_1          162\n",
       "Price            162\n",
       "dtype: int64"
      ]
     },
     "execution_count": 131,
     "metadata": {},
     "output_type": "execute_result"
    }
   ],
   "source": [
    "df_num_features[df_num_features['LifeSquare'] < 5].count()"
   ]
  },
  {
   "cell_type": "code",
   "execution_count": 132,
   "id": "distributed-tobago",
   "metadata": {},
   "outputs": [
    {
     "data": {
      "text/plain": [
       "2113"
      ]
     },
     "execution_count": 132,
     "metadata": {},
     "output_type": "execute_result"
    }
   ],
   "source": [
    "df_fill['LifeSquare'].isnull().sum()"
   ]
  },
  {
   "cell_type": "code",
   "execution_count": 133,
   "id": "magnetic-crash",
   "metadata": {},
   "outputs": [
    {
     "data": {
      "text/plain": [
       "482"
      ]
     },
     "execution_count": 133,
     "metadata": {},
     "output_type": "execute_result"
    }
   ],
   "source": [
    "df_fill[df_fill['LifeSquare'] > df_fill['Square']]['LifeSquare'].count()"
   ]
  },
  {
   "cell_type": "code",
   "execution_count": 134,
   "id": "charitable-leone",
   "metadata": {},
   "outputs": [
    {
     "data": {
      "text/plain": [
       "0"
      ]
     },
     "execution_count": 134,
     "metadata": {},
     "output_type": "execute_result"
    }
   ],
   "source": [
    "df_fill[df_fill['LifeSquare'] == 0]['LifeSquare'].count()"
   ]
  },
  {
   "cell_type": "markdown",
   "id": "universal-aside",
   "metadata": {},
   "source": [
    "Resolving of outliers:\n",
    "- if LifeSquare is NaN or LifeSquare > Square, then LifeSquare will be changed to difference between Square and KitchenSquare and median difference between these differences."
   ]
  },
  {
   "cell_type": "markdown",
   "id": "received-substance",
   "metadata": {},
   "source": [
    "**Kitchen Square**"
   ]
  },
  {
   "cell_type": "code",
   "execution_count": 106,
   "id": "mounted-trance",
   "metadata": {},
   "outputs": [
    {
     "name": "stderr",
     "output_type": "stream",
     "text": [
      "c:\\users\\пк\\appdata\\local\\programs\\python\\python39\\lib\\site-packages\\seaborn\\_decorators.py:36: FutureWarning: Pass the following variables as keyword args: x, y. From version 0.12, the only valid positional argument will be `data`, and passing other arguments without an explicit keyword will result in an error or misinterpretation.\n",
      "  warnings.warn(\n"
     ]
    },
    {
     "data": {
      "image/png": "[encoded data removed]",
      "text/plain": [
       "<Figure size 432x432 with 3 Axes>"
      ]
     },
     "metadata": {
      "needs_background": "light"
     },
     "output_type": "display_data"
    }
   ],
   "source": [
    "grid = sns.jointplot(df_fill['KitchenSquare'], df_fill['Price'], kind='reg')\n",
    "grid.fig.set_figwidth(6)\n",
    "grid.fig.set_figheight(6)"
   ]
  },
  {
   "cell_type": "code",
   "execution_count": 107,
   "id": "starting-stylus",
   "metadata": {},
   "outputs": [
    {
     "name": "stderr",
     "output_type": "stream",
     "text": [
      "c:\\users\\пк\\appdata\\local\\programs\\python\\python39\\lib\\site-packages\\seaborn\\_decorators.py:36: FutureWarning: Pass the following variable as a keyword arg: x. From version 0.12, the only valid positional argument will be `data`, and passing other arguments without an explicit keyword will result in an error or misinterpretation.\n",
      "  warnings.warn(\n"
     ]
    },
    {
     "data": {
      "image/png": "[encoded data removed]",
      "text/plain": [
       "<Figure size 432x216 with 1 Axes>"
      ]
     },
     "metadata": {
      "needs_background": "light"
     },
     "output_type": "display_data"
    }
   ],
   "source": [
    "plt.figure(figsize=(6, 3))\n",
    "sns.boxplot(df_fill['KitchenSquare'])\n",
    "plt.xlabel('KitchenSquare')\n",
    "plt.show()"
   ]
  },
  {
   "cell_type": "code",
   "execution_count": null,
   "id": "latest-percentage",
   "metadata": {},
   "outputs": [],
   "source": [
    "# df_fill['KitchenSquare'].value_counts().sort_values()\n",
    "df_fill['KitchenSquare'].describe()"
   ]
  },
  {
   "cell_type": "code",
   "execution_count": null,
   "id": "fiscal-accordance",
   "metadata": {},
   "outputs": [],
   "source": [
    "df_fill[(df['KitchenSquare'] > 80)]['KitchenSquare'].count()"
   ]
  },
  {
   "cell_type": "code",
   "execution_count": null,
   "id": "drawn-honolulu",
   "metadata": {},
   "outputs": [],
   "source": [
    "df_fill[(df['KitchenSquare'] > df_fill['LifeSquare'])]['KitchenSquare'].count()"
   ]
  },
  {
   "cell_type": "markdown",
   "id": "great-spiritual",
   "metadata": {},
   "source": [
    "Resolving of outliers:\n",
    "- If Kitchen square > 100 it will be converted to median value\n",
    "- If Kitchen square < 3 it will be converted to 3\n",
    "- if Kitchen square > general square it will be converted to 3"
   ]
  },
  {
   "cell_type": "markdown",
   "id": "consecutive-smile",
   "metadata": {},
   "source": [
    "**Floor and house floor**"
   ]
  },
  {
   "cell_type": "code",
   "execution_count": 140,
   "id": "expected-throw",
   "metadata": {},
   "outputs": [
    {
     "data": {
      "image/png": "[encoded data removed]",
      "text/plain": [
       "<Figure size 432x288 with 1 Axes>"
      ]
     },
     "metadata": {
      "needs_background": "light"
     },
     "output_type": "display_data"
    }
   ],
   "source": [
    "ax = sns.boxplot(data = df_fill[['Floor', 'HouseFloor']]                )\n",
    "plt.show()"
   ]
  },
  {
   "cell_type": "code",
   "execution_count": 141,
   "id": "threaded-reading",
   "metadata": {},
   "outputs": [
    {
     "data": {
      "text/plain": [
       "0"
      ]
     },
     "execution_count": 141,
     "metadata": {},
     "output_type": "execute_result"
    }
   ],
   "source": [
    "df_fill[df_fill['Floor'] == 0]['Floor'].count()"
   ]
  },
  {
   "cell_type": "code",
   "execution_count": 142,
   "id": "assured-bacon",
   "metadata": {},
   "outputs": [
    {
     "data": {
      "text/plain": [
       "269"
      ]
     },
     "execution_count": 142,
     "metadata": {},
     "output_type": "execute_result"
    }
   ],
   "source": [
    "df_fill[df_fill['HouseFloor'] == 0]['HouseFloor'].count()"
   ]
  },
  {
   "cell_type": "code",
   "execution_count": 143,
   "id": "median-chrome",
   "metadata": {},
   "outputs": [
    {
     "data": {
      "text/plain": [
       "1825"
      ]
     },
     "execution_count": 143,
     "metadata": {},
     "output_type": "execute_result"
    }
   ],
   "source": [
    "df_fill[(df_fill['HouseFloor'] < df_fill['Floor']) ]['Floor'].count()"
   ]
  },
  {
   "cell_type": "code",
   "execution_count": 144,
   "id": "ethical-metabolism",
   "metadata": {
    "scrolled": true
   },
   "outputs": [
    {
     "name": "stderr",
     "output_type": "stream",
     "text": [
      "c:\\users\\пк\\appdata\\local\\programs\\python\\python39\\lib\\site-packages\\seaborn\\_decorators.py:36: FutureWarning: Pass the following variables as keyword args: x, y. From version 0.12, the only valid positional argument will be `data`, and passing other arguments without an explicit keyword will result in an error or misinterpretation.\n",
      "  warnings.warn(\n"
     ]
    },
    {
     "data": {
      "image/png": "[encoded data removed]",
      "text/plain": [
       "<Figure size 432x432 with 3 Axes>"
      ]
     },
     "metadata": {
      "needs_background": "light"
     },
     "output_type": "display_data"
    }
   ],
   "source": [
    "grid = sns.jointplot(df_num_features['Floor'], df_num_features['Price'], kind='reg')\n",
    "grid.fig.set_figwidth(6)\n",
    "grid.fig.set_figheight(6)"
   ]
  },
  {
   "cell_type": "code",
   "execution_count": 147,
   "id": "planned-scientist",
   "metadata": {},
   "outputs": [
    {
     "data": {
      "text/plain": [
       "0"
      ]
     },
     "execution_count": 147,
     "metadata": {},
     "output_type": "execute_result"
    }
   ],
   "source": [
    "df_num_features['Floor'][df_num_features['Floor'] == 0].count()"
   ]
  },
  {
   "cell_type": "code",
   "execution_count": 149,
   "id": "protecting-dakota",
   "metadata": {
    "scrolled": true
   },
   "outputs": [
    {
     "data": {
      "text/plain": [
       "54"
      ]
     },
     "execution_count": 149,
     "metadata": {},
     "output_type": "execute_result"
    }
   ],
   "source": [
    "df_num_features['HouseFloor'][df_num_features['HouseFloor'] == 0].count()"
   ]
  },
  {
   "cell_type": "code",
   "execution_count": 150,
   "id": "minus-walter",
   "metadata": {},
   "outputs": [
    {
     "data": {
      "text/plain": [
       "1208"
      ]
     },
     "execution_count": 150,
     "metadata": {},
     "output_type": "execute_result"
    }
   ],
   "source": [
    "df_num_features['HouseFloor'][df_num_features['Floor'] > df_num_features['HouseFloor']].count()"
   ]
  },
  {
   "cell_type": "markdown",
   "id": "fitted-register",
   "metadata": {},
   "source": [
    "Resolvong of outliers:\n",
    "- if HouseFloor == 0, value will be changed to Floor (or to median value of whole dataset - optional to be compared with result score)\n",
    "- if Floor > HouseFloor, value will be changed to HouseFloor"
   ]
  },
  {
   "cell_type": "markdown",
   "id": "weird-chair",
   "metadata": {},
   "source": [
    "**HouseYear**"
   ]
  },
  {
   "cell_type": "code",
   "execution_count": null,
   "id": "mineral-lesson",
   "metadata": {
    "scrolled": true
   },
   "outputs": [],
   "source": [
    "plt.figure(figsize=(6, 3))\n",
    "sns.boxplot(df_fill['HouseYear'])\n",
    "plt.xlabel('HouseYear')\n",
    "plt.show()"
   ]
  },
  {
   "cell_type": "code",
   "execution_count": null,
   "id": "aggressive-istanbul",
   "metadata": {},
   "outputs": [],
   "source": [
    "df_fill[df_fill['HouseYear'] == 0]['HouseYear'].count()"
   ]
  },
  {
   "cell_type": "code",
   "execution_count": null,
   "id": "divided-single",
   "metadata": {},
   "outputs": [],
   "source": [
    "df_fill[df_fill['HouseYear'] < 1900]['HouseYear'].count()"
   ]
  },
  {
   "cell_type": "code",
   "execution_count": null,
   "id": "congressional-density",
   "metadata": {},
   "outputs": [],
   "source": [
    "df_fill[df_fill['HouseYear'] > 2021]['HouseYear'].count()"
   ]
  },
  {
   "cell_type": "markdown",
   "id": "electric-entrepreneur",
   "metadata": {},
   "source": [
    "Resolvong of outliers:\n",
    "- if year > 2021 it will be changed to median year"
   ]
  },
  {
   "cell_type": "markdown",
   "id": "mounted-emission",
   "metadata": {},
   "source": [
    "**Healthcare_1**"
   ]
  },
  {
   "cell_type": "markdown",
   "id": "dynamic-suspect",
   "metadata": {},
   "source": [
    "Due to big amount of NaN values in Healthcare_1 column, it can be dropped"
   ]
  },
  {
   "cell_type": "markdown",
   "id": "likely-marking",
   "metadata": {},
   "source": [
    "### Applying of data clearing"
   ]
  },
  {
   "cell_type": "code",
   "execution_count": 32,
   "id": "civil-breath",
   "metadata": {},
   "outputs": [],
   "source": [
    "dp = Data_preprocessing()"
   ]
  },
  {
   "cell_type": "markdown",
   "id": "worse-graphic",
   "metadata": {},
   "source": [
    "Function from section 3 will be applied to test dataset"
   ]
  },
  {
   "cell_type": "code",
   "execution_count": 33,
   "id": "parental-butler",
   "metadata": {
    "scrolled": false
   },
   "outputs": [
    {
     "data": {
      "text/plain": [
       "(10000, 19)"
      ]
     },
     "execution_count": 33,
     "metadata": {},
     "output_type": "execute_result"
    }
   ],
   "source": [
    "df_fill.shape"
   ]
  },
  {
   "cell_type": "code",
   "execution_count": 34,
   "id": "animated-sydney",
   "metadata": {},
   "outputs": [],
   "source": [
    "dp.median_calculation(df_fill)"
   ]
  },
  {
   "cell_type": "code",
   "execution_count": 35,
   "id": "indoor-faculty",
   "metadata": {
    "scrolled": true
   },
   "outputs": [],
   "source": [
    "df_fill = dp.data_clearing (df_fill)"
   ]
  },
  {
   "cell_type": "code",
   "execution_count": 36,
   "id": "radical-bowling",
   "metadata": {},
   "outputs": [],
   "source": [
    "df_fill = dp.null_populating_hc(df_fill)"
   ]
  },
  {
   "cell_type": "code",
   "execution_count": 37,
   "id": "differential-literacy",
   "metadata": {},
   "outputs": [],
   "source": [
    "df_fill = dp.null_populating_ls(df_fill)"
   ]
  },
  {
   "cell_type": "code",
   "execution_count": 38,
   "id": "signed-disability",
   "metadata": {},
   "outputs": [],
   "source": [
    "df_fill = dp.district_id_processing(df_fill)"
   ]
  },
  {
   "cell_type": "code",
   "execution_count": 39,
   "id": "equipped-delta",
   "metadata": {
    "scrolled": true
   },
   "outputs": [
    {
     "data": {
      "text/plain": [
       "(10000, 21)"
      ]
     },
     "execution_count": 39,
     "metadata": {},
     "output_type": "execute_result"
    }
   ],
   "source": [
    "df_fill.shape"
   ]
  },
  {
   "cell_type": "code",
   "execution_count": 40,
   "id": "scientific-marshall",
   "metadata": {
    "scrolled": true
   },
   "outputs": [
    {
     "data": {
      "text/plain": [
       "DistrictId                   0\n",
       "Rooms                        0\n",
       "Square                       0\n",
       "LifeSquare                   0\n",
       "KitchenSquare                0\n",
       "Floor                        0\n",
       "HouseFloor                   0\n",
       "HouseYear                    0\n",
       "Ecology_1                    0\n",
       "Ecology_2                    0\n",
       "Ecology_3                    0\n",
       "Social_1                     0\n",
       "Social_2                     0\n",
       "Social_3                     0\n",
       "Healthcare_1                 0\n",
       "Helthcare_2                  0\n",
       "Shops_1                      0\n",
       "Shops_2                      0\n",
       "Price                        0\n",
       "hl_pd                     1884\n",
       "Avg_Price_per_district       0\n",
       "dtype: int64"
      ]
     },
     "execution_count": 40,
     "metadata": {},
     "output_type": "execute_result"
    }
   ],
   "source": [
    "df_fill.isnull().sum()"
   ]
  },
  {
   "cell_type": "code",
   "execution_count": null,
   "id": "grand-distribution",
   "metadata": {},
   "outputs": [],
   "source": [
    "df_fill['hl_pd'] = df_fill['hl_pd'].fillna(df_fill['hl_pd'].median())"
   ]
  },
  {
   "cell_type": "code",
   "execution_count": 41,
   "id": "prescribed-gamma",
   "metadata": {},
   "outputs": [],
   "source": [
    "df_fill = df_fill.drop('hl_pd', axis = 1)"
   ]
  },
  {
   "cell_type": "code",
   "execution_count": 42,
   "id": "cheap-plaza",
   "metadata": {},
   "outputs": [],
   "source": [
    "df_fill = df_fill.drop('DistrictId', axis = 1)"
   ]
  },
  {
   "cell_type": "code",
   "execution_count": null,
   "id": "oriental-journalism",
   "metadata": {},
   "outputs": [],
   "source": [
    "df_fill.isnull().sum()"
   ]
  },
  {
   "cell_type": "code",
   "execution_count": null,
   "id": "decent-stick",
   "metadata": {},
   "outputs": [],
   "source": [
    "df_fill.shape"
   ]
  },
  {
   "cell_type": "code",
   "execution_count": null,
   "id": "isolated-belly",
   "metadata": {},
   "outputs": [],
   "source": [
    "df_fill.describe()"
   ]
  },
  {
   "cell_type": "markdown",
   "id": "pacific-strength",
   "metadata": {},
   "source": [
    "Save dataframe to pickle file."
   ]
  },
  {
   "cell_type": "code",
   "execution_count": null,
   "id": "driven-waterproof",
   "metadata": {},
   "outputs": [],
   "source": [
    "df_fill.to_pickle(\"D:/Learning/GeekBrains/numpy and pandas/df_fill.pkl\")"
   ]
  },
  {
   "cell_type": "code",
   "execution_count": null,
   "id": "given-impossible",
   "metadata": {},
   "outputs": [],
   "source": [
    "df_fill = pd.read_pickle(\"D:/Learning/GeekBrains/numpy and pandas/df_fill.pkl\")"
   ]
  },
  {
   "cell_type": "markdown",
   "id": "proved-chase",
   "metadata": {},
   "source": [
    "### Processing of categorial variables"
   ]
  },
  {
   "cell_type": "markdown",
   "id": "applied-cowboy",
   "metadata": {},
   "source": [
    "There are three categorial columns in the dataset:\n",
    "- Ecology_2\n",
    "- Ecology_3\n",
    "- Shops_2\n",
    "\n",
    "Each columns can have ony one of two values and do not contain any null values."
   ]
  },
  {
   "cell_type": "code",
   "execution_count": 244,
   "id": "uniform-miami",
   "metadata": {},
   "outputs": [],
   "source": [
    "df_cat_features = df_fill.select_dtypes(include=['object', 'category'])"
   ]
  },
  {
   "cell_type": "code",
   "execution_count": 245,
   "id": "taken-newton",
   "metadata": {},
   "outputs": [
    {
     "data": {
      "text/html": [
       "<div>\n",
       "<style scoped>\n",
       "    .dataframe tbody tr th:only-of-type {\n",
       "        vertical-align: middle;\n",
       "    }\n",
       "\n",
       "    .dataframe tbody tr th {\n",
       "        vertical-align: top;\n",
       "    }\n",
       "\n",
       "    .dataframe thead th {\n",
       "        text-align: right;\n",
       "    }\n",
       "</style>\n",
       "<table border=\"1\" class=\"dataframe\">\n",
       "  <thead>\n",
       "    <tr style=\"text-align: right;\">\n",
       "      <th></th>\n",
       "      <th>Ecology_2</th>\n",
       "      <th>Ecology_3</th>\n",
       "      <th>Shops_2</th>\n",
       "    </tr>\n",
       "    <tr>\n",
       "      <th>Id</th>\n",
       "      <th></th>\n",
       "      <th></th>\n",
       "      <th></th>\n",
       "    </tr>\n",
       "  </thead>\n",
       "  <tbody>\n",
       "    <tr>\n",
       "      <th>14038</th>\n",
       "      <td>B</td>\n",
       "      <td>B</td>\n",
       "      <td>B</td>\n",
       "    </tr>\n",
       "    <tr>\n",
       "      <th>15053</th>\n",
       "      <td>B</td>\n",
       "      <td>B</td>\n",
       "      <td>B</td>\n",
       "    </tr>\n",
       "    <tr>\n",
       "      <th>4765</th>\n",
       "      <td>B</td>\n",
       "      <td>B</td>\n",
       "      <td>B</td>\n",
       "    </tr>\n",
       "    <tr>\n",
       "      <th>5809</th>\n",
       "      <td>B</td>\n",
       "      <td>B</td>\n",
       "      <td>B</td>\n",
       "    </tr>\n",
       "    <tr>\n",
       "      <th>10783</th>\n",
       "      <td>B</td>\n",
       "      <td>B</td>\n",
       "      <td>B</td>\n",
       "    </tr>\n",
       "  </tbody>\n",
       "</table>\n",
       "</div>"
      ],
      "text/plain": [
       "      Ecology_2 Ecology_3 Shops_2\n",
       "Id                               \n",
       "14038         B         B       B\n",
       "15053         B         B       B\n",
       "4765          B         B       B\n",
       "5809          B         B       B\n",
       "10783         B         B       B"
      ]
     },
     "execution_count": 245,
     "metadata": {},
     "output_type": "execute_result"
    }
   ],
   "source": [
    "df_cat_features.head()"
   ]
  },
  {
   "cell_type": "code",
   "execution_count": 246,
   "id": "outstanding-amber",
   "metadata": {
    "scrolled": true
   },
   "outputs": [
    {
     "data": {
      "text/plain": [
       "array(['B', 'A'], dtype=object)"
      ]
     },
     "execution_count": 246,
     "metadata": {},
     "output_type": "execute_result"
    }
   ],
   "source": [
    "df_cat_features['Ecology_2'].unique()"
   ]
  },
  {
   "cell_type": "code",
   "execution_count": 247,
   "id": "upper-savings",
   "metadata": {},
   "outputs": [
    {
     "data": {
      "text/plain": [
       "array(['B', 'A'], dtype=object)"
      ]
     },
     "execution_count": 247,
     "metadata": {},
     "output_type": "execute_result"
    }
   ],
   "source": [
    "df_cat_features['Ecology_3'].unique()"
   ]
  },
  {
   "cell_type": "code",
   "execution_count": 248,
   "id": "broken-beverage",
   "metadata": {},
   "outputs": [
    {
     "data": {
      "text/plain": [
       "array(['B', 'A'], dtype=object)"
      ]
     },
     "execution_count": 248,
     "metadata": {},
     "output_type": "execute_result"
    }
   ],
   "source": [
    "df_cat_features['Shops_2'].unique()"
   ]
  },
  {
   "cell_type": "code",
   "execution_count": 249,
   "id": "severe-player",
   "metadata": {
    "scrolled": true
   },
   "outputs": [
    {
     "name": "stderr",
     "output_type": "stream",
     "text": [
      "<ipython-input-249-e8200df81e79>:6: UserWarning: Matplotlib is currently using module://ipykernel.pylab.backend_inline, which is a non-GUI backend, so cannot show the figure.\n",
      "  fig.show()\n"
     ]
    },
    {
     "data": {
      "image/png": "[encoded data removed]",
      "text/plain": [
       "<Figure size 432x288 with 3 Axes>"
      ]
     },
     "metadata": {
      "needs_background": "light"
     },
     "output_type": "display_data"
    }
   ],
   "source": [
    "fig, ax =plt.subplots(1,3)\n",
    "fig.subplots_adjust(wspace=0.7, hspace=0.7)\n",
    "sns.countplot(y = 'Ecology_2',data = df_cat_features, ax=ax[0])\n",
    "sns.countplot(y = 'Ecology_3',data = df_cat_features, ax=ax[1])\n",
    "sns.countplot(y = 'Shops_2',data = df_cat_features, ax=ax[2])\n",
    "fig.show()"
   ]
  },
  {
   "cell_type": "code",
   "execution_count": null,
   "id": "periodic-distinction",
   "metadata": {},
   "outputs": [],
   "source": [
    "df_cat_features['Ecology_2'].value_counts()"
   ]
  },
  {
   "cell_type": "markdown",
   "id": "running-horse",
   "metadata": {},
   "source": [
    "Categorial values will b converted to numerical using get_dummies metgod.\n",
    "\n",
    "As a result of applying this method new columns in the dataset will be added."
   ]
  },
  {
   "cell_type": "code",
   "execution_count": 250,
   "id": "sophisticated-alert",
   "metadata": {},
   "outputs": [],
   "source": [
    "df_fill = pd.get_dummies(df_fill, columns = df_cat_features.columns)"
   ]
  },
  {
   "cell_type": "code",
   "execution_count": 251,
   "id": "legitimate-antibody",
   "metadata": {},
   "outputs": [
    {
     "data": {
      "text/plain": [
       "(10000, 24)"
      ]
     },
     "execution_count": 251,
     "metadata": {},
     "output_type": "execute_result"
    }
   ],
   "source": [
    "df_fill.shape"
   ]
  },
  {
   "cell_type": "code",
   "execution_count": 252,
   "id": "stainless-scottish",
   "metadata": {},
   "outputs": [
    {
     "data": {
      "text/html": [
       "<div>\n",
       "<style scoped>\n",
       "    .dataframe tbody tr th:only-of-type {\n",
       "        vertical-align: middle;\n",
       "    }\n",
       "\n",
       "    .dataframe tbody tr th {\n",
       "        vertical-align: top;\n",
       "    }\n",
       "\n",
       "    .dataframe thead th {\n",
       "        text-align: right;\n",
       "    }\n",
       "</style>\n",
       "<table border=\"1\" class=\"dataframe\">\n",
       "  <thead>\n",
       "    <tr style=\"text-align: right;\">\n",
       "      <th></th>\n",
       "      <th>DistrictId</th>\n",
       "      <th>Rooms</th>\n",
       "      <th>Square</th>\n",
       "      <th>LifeSquare</th>\n",
       "      <th>KitchenSquare</th>\n",
       "      <th>Floor</th>\n",
       "      <th>HouseFloor</th>\n",
       "      <th>HouseYear</th>\n",
       "      <th>Ecology_1</th>\n",
       "      <th>Social_1</th>\n",
       "      <th>...</th>\n",
       "      <th>Shops_1</th>\n",
       "      <th>Price</th>\n",
       "      <th>hl_pd</th>\n",
       "      <th>Avg_Price_per_district</th>\n",
       "      <th>Ecology_2_A</th>\n",
       "      <th>Ecology_2_B</th>\n",
       "      <th>Ecology_3_A</th>\n",
       "      <th>Ecology_3_B</th>\n",
       "      <th>Shops_2_A</th>\n",
       "      <th>Shops_2_B</th>\n",
       "    </tr>\n",
       "    <tr>\n",
       "      <th>Id</th>\n",
       "      <th></th>\n",
       "      <th></th>\n",
       "      <th></th>\n",
       "      <th></th>\n",
       "      <th></th>\n",
       "      <th></th>\n",
       "      <th></th>\n",
       "      <th></th>\n",
       "      <th></th>\n",
       "      <th></th>\n",
       "      <th></th>\n",
       "      <th></th>\n",
       "      <th></th>\n",
       "      <th></th>\n",
       "      <th></th>\n",
       "      <th></th>\n",
       "      <th></th>\n",
       "      <th></th>\n",
       "      <th></th>\n",
       "      <th></th>\n",
       "      <th></th>\n",
       "    </tr>\n",
       "  </thead>\n",
       "  <tbody>\n",
       "    <tr>\n",
       "      <th>14038</th>\n",
       "      <td>35</td>\n",
       "      <td>2.0</td>\n",
       "      <td>47.981561</td>\n",
       "      <td>29.442751</td>\n",
       "      <td>6.0</td>\n",
       "      <td>7.0</td>\n",
       "      <td>9.0</td>\n",
       "      <td>1969.0</td>\n",
       "      <td>0.089040</td>\n",
       "      <td>33</td>\n",
       "      <td>...</td>\n",
       "      <td>11</td>\n",
       "      <td>184966.930730</td>\n",
       "      <td>35.0</td>\n",
       "      <td>219720.0</td>\n",
       "      <td>0</td>\n",
       "      <td>1</td>\n",
       "      <td>0</td>\n",
       "      <td>1</td>\n",
       "      <td>0</td>\n",
       "      <td>1</td>\n",
       "    </tr>\n",
       "    <tr>\n",
       "      <th>15053</th>\n",
       "      <td>41</td>\n",
       "      <td>3.0</td>\n",
       "      <td>65.683640</td>\n",
       "      <td>40.049543</td>\n",
       "      <td>8.0</td>\n",
       "      <td>7.0</td>\n",
       "      <td>9.0</td>\n",
       "      <td>1978.0</td>\n",
       "      <td>0.000070</td>\n",
       "      <td>46</td>\n",
       "      <td>...</td>\n",
       "      <td>16</td>\n",
       "      <td>300009.450063</td>\n",
       "      <td>41.0</td>\n",
       "      <td>225919.0</td>\n",
       "      <td>0</td>\n",
       "      <td>1</td>\n",
       "      <td>0</td>\n",
       "      <td>1</td>\n",
       "      <td>0</td>\n",
       "      <td>1</td>\n",
       "    </tr>\n",
       "    <tr>\n",
       "      <th>4765</th>\n",
       "      <td>53</td>\n",
       "      <td>2.0</td>\n",
       "      <td>44.947953</td>\n",
       "      <td>29.197612</td>\n",
       "      <td>3.0</td>\n",
       "      <td>8.0</td>\n",
       "      <td>12.0</td>\n",
       "      <td>1968.0</td>\n",
       "      <td>0.049637</td>\n",
       "      <td>34</td>\n",
       "      <td>...</td>\n",
       "      <td>3</td>\n",
       "      <td>220925.908524</td>\n",
       "      <td>53.0</td>\n",
       "      <td>255736.0</td>\n",
       "      <td>0</td>\n",
       "      <td>1</td>\n",
       "      <td>0</td>\n",
       "      <td>1</td>\n",
       "      <td>0</td>\n",
       "      <td>1</td>\n",
       "    </tr>\n",
       "    <tr>\n",
       "      <th>5809</th>\n",
       "      <td>58</td>\n",
       "      <td>2.0</td>\n",
       "      <td>53.352981</td>\n",
       "      <td>52.731512</td>\n",
       "      <td>9.0</td>\n",
       "      <td>8.0</td>\n",
       "      <td>17.0</td>\n",
       "      <td>1977.0</td>\n",
       "      <td>0.437885</td>\n",
       "      <td>23</td>\n",
       "      <td>...</td>\n",
       "      <td>5</td>\n",
       "      <td>175616.227217</td>\n",
       "      <td>58.0</td>\n",
       "      <td>162287.0</td>\n",
       "      <td>0</td>\n",
       "      <td>1</td>\n",
       "      <td>0</td>\n",
       "      <td>1</td>\n",
       "      <td>0</td>\n",
       "      <td>1</td>\n",
       "    </tr>\n",
       "    <tr>\n",
       "      <th>10783</th>\n",
       "      <td>99</td>\n",
       "      <td>1.0</td>\n",
       "      <td>39.649192</td>\n",
       "      <td>23.776169</td>\n",
       "      <td>7.0</td>\n",
       "      <td>11.0</td>\n",
       "      <td>12.0</td>\n",
       "      <td>1976.0</td>\n",
       "      <td>0.012339</td>\n",
       "      <td>35</td>\n",
       "      <td>...</td>\n",
       "      <td>4</td>\n",
       "      <td>150226.531644</td>\n",
       "      <td>99.0</td>\n",
       "      <td>184157.0</td>\n",
       "      <td>0</td>\n",
       "      <td>1</td>\n",
       "      <td>0</td>\n",
       "      <td>1</td>\n",
       "      <td>0</td>\n",
       "      <td>1</td>\n",
       "    </tr>\n",
       "  </tbody>\n",
       "</table>\n",
       "<p>5 rows × 24 columns</p>\n",
       "</div>"
      ],
      "text/plain": [
       "       DistrictId  Rooms     Square  LifeSquare  KitchenSquare  Floor  \\\n",
       "Id                                                                      \n",
       "14038          35    2.0  47.981561   29.442751            6.0    7.0   \n",
       "15053          41    3.0  65.683640   40.049543            8.0    7.0   \n",
       "4765           53    2.0  44.947953   29.197612            3.0    8.0   \n",
       "5809           58    2.0  53.352981   52.731512            9.0    8.0   \n",
       "10783          99    1.0  39.649192   23.776169            7.0   11.0   \n",
       "\n",
       "       HouseFloor  HouseYear  Ecology_1  Social_1  ...  Shops_1  \\\n",
       "Id                                                 ...            \n",
       "14038         9.0     1969.0   0.089040        33  ...       11   \n",
       "15053         9.0     1978.0   0.000070        46  ...       16   \n",
       "4765         12.0     1968.0   0.049637        34  ...        3   \n",
       "5809         17.0     1977.0   0.437885        23  ...        5   \n",
       "10783        12.0     1976.0   0.012339        35  ...        4   \n",
       "\n",
       "               Price  hl_pd  Avg_Price_per_district  Ecology_2_A  Ecology_2_B  \\\n",
       "Id                                                                              \n",
       "14038  184966.930730   35.0                219720.0            0            1   \n",
       "15053  300009.450063   41.0                225919.0            0            1   \n",
       "4765   220925.908524   53.0                255736.0            0            1   \n",
       "5809   175616.227217   58.0                162287.0            0            1   \n",
       "10783  150226.531644   99.0                184157.0            0            1   \n",
       "\n",
       "       Ecology_3_A  Ecology_3_B  Shops_2_A  Shops_2_B  \n",
       "Id                                                     \n",
       "14038            0            1          0          1  \n",
       "15053            0            1          0          1  \n",
       "4765             0            1          0          1  \n",
       "5809             0            1          0          1  \n",
       "10783            0            1          0          1  \n",
       "\n",
       "[5 rows x 24 columns]"
      ]
     },
     "execution_count": 252,
     "metadata": {},
     "output_type": "execute_result"
    }
   ],
   "source": [
    "df_fill.head()"
   ]
  },
  {
   "cell_type": "code",
   "execution_count": 253,
   "id": "incomplete-liver",
   "metadata": {
    "scrolled": true
   },
   "outputs": [
    {
     "data": {
      "text/html": [
       "<div>\n",
       "<style scoped>\n",
       "    .dataframe tbody tr th:only-of-type {\n",
       "        vertical-align: middle;\n",
       "    }\n",
       "\n",
       "    .dataframe tbody tr th {\n",
       "        vertical-align: top;\n",
       "    }\n",
       "\n",
       "    .dataframe thead th {\n",
       "        text-align: right;\n",
       "    }\n",
       "</style>\n",
       "<table border=\"1\" class=\"dataframe\">\n",
       "  <thead>\n",
       "    <tr style=\"text-align: right;\">\n",
       "      <th></th>\n",
       "      <th>DistrictId</th>\n",
       "      <th>Rooms</th>\n",
       "      <th>Square</th>\n",
       "      <th>LifeSquare</th>\n",
       "      <th>KitchenSquare</th>\n",
       "      <th>Floor</th>\n",
       "      <th>HouseFloor</th>\n",
       "      <th>HouseYear</th>\n",
       "      <th>Ecology_1</th>\n",
       "      <th>Social_1</th>\n",
       "      <th>...</th>\n",
       "      <th>Shops_1</th>\n",
       "      <th>Price</th>\n",
       "      <th>hl_pd</th>\n",
       "      <th>Avg_Price_per_district</th>\n",
       "      <th>Ecology_2_A</th>\n",
       "      <th>Ecology_2_B</th>\n",
       "      <th>Ecology_3_A</th>\n",
       "      <th>Ecology_3_B</th>\n",
       "      <th>Shops_2_A</th>\n",
       "      <th>Shops_2_B</th>\n",
       "    </tr>\n",
       "    <tr>\n",
       "      <th>Id</th>\n",
       "      <th></th>\n",
       "      <th></th>\n",
       "      <th></th>\n",
       "      <th></th>\n",
       "      <th></th>\n",
       "      <th></th>\n",
       "      <th></th>\n",
       "      <th></th>\n",
       "      <th></th>\n",
       "      <th></th>\n",
       "      <th></th>\n",
       "      <th></th>\n",
       "      <th></th>\n",
       "      <th></th>\n",
       "      <th></th>\n",
       "      <th></th>\n",
       "      <th></th>\n",
       "      <th></th>\n",
       "      <th></th>\n",
       "      <th></th>\n",
       "      <th></th>\n",
       "    </tr>\n",
       "  </thead>\n",
       "  <tbody>\n",
       "    <tr>\n",
       "      <th>14038</th>\n",
       "      <td>35</td>\n",
       "      <td>2.0</td>\n",
       "      <td>47.981561</td>\n",
       "      <td>29.442751</td>\n",
       "      <td>6.0</td>\n",
       "      <td>7.0</td>\n",
       "      <td>9.0</td>\n",
       "      <td>1969.0</td>\n",
       "      <td>0.089040</td>\n",
       "      <td>33</td>\n",
       "      <td>...</td>\n",
       "      <td>11</td>\n",
       "      <td>184966.930730</td>\n",
       "      <td>35.0</td>\n",
       "      <td>219720.0</td>\n",
       "      <td>0</td>\n",
       "      <td>1</td>\n",
       "      <td>0</td>\n",
       "      <td>1</td>\n",
       "      <td>0</td>\n",
       "      <td>1</td>\n",
       "    </tr>\n",
       "    <tr>\n",
       "      <th>15053</th>\n",
       "      <td>41</td>\n",
       "      <td>3.0</td>\n",
       "      <td>65.683640</td>\n",
       "      <td>40.049543</td>\n",
       "      <td>8.0</td>\n",
       "      <td>7.0</td>\n",
       "      <td>9.0</td>\n",
       "      <td>1978.0</td>\n",
       "      <td>0.000070</td>\n",
       "      <td>46</td>\n",
       "      <td>...</td>\n",
       "      <td>16</td>\n",
       "      <td>300009.450063</td>\n",
       "      <td>41.0</td>\n",
       "      <td>225919.0</td>\n",
       "      <td>0</td>\n",
       "      <td>1</td>\n",
       "      <td>0</td>\n",
       "      <td>1</td>\n",
       "      <td>0</td>\n",
       "      <td>1</td>\n",
       "    </tr>\n",
       "    <tr>\n",
       "      <th>4765</th>\n",
       "      <td>53</td>\n",
       "      <td>2.0</td>\n",
       "      <td>44.947953</td>\n",
       "      <td>29.197612</td>\n",
       "      <td>3.0</td>\n",
       "      <td>8.0</td>\n",
       "      <td>12.0</td>\n",
       "      <td>1968.0</td>\n",
       "      <td>0.049637</td>\n",
       "      <td>34</td>\n",
       "      <td>...</td>\n",
       "      <td>3</td>\n",
       "      <td>220925.908524</td>\n",
       "      <td>53.0</td>\n",
       "      <td>255736.0</td>\n",
       "      <td>0</td>\n",
       "      <td>1</td>\n",
       "      <td>0</td>\n",
       "      <td>1</td>\n",
       "      <td>0</td>\n",
       "      <td>1</td>\n",
       "    </tr>\n",
       "    <tr>\n",
       "      <th>5809</th>\n",
       "      <td>58</td>\n",
       "      <td>2.0</td>\n",
       "      <td>53.352981</td>\n",
       "      <td>52.731512</td>\n",
       "      <td>9.0</td>\n",
       "      <td>8.0</td>\n",
       "      <td>17.0</td>\n",
       "      <td>1977.0</td>\n",
       "      <td>0.437885</td>\n",
       "      <td>23</td>\n",
       "      <td>...</td>\n",
       "      <td>5</td>\n",
       "      <td>175616.227217</td>\n",
       "      <td>58.0</td>\n",
       "      <td>162287.0</td>\n",
       "      <td>0</td>\n",
       "      <td>1</td>\n",
       "      <td>0</td>\n",
       "      <td>1</td>\n",
       "      <td>0</td>\n",
       "      <td>1</td>\n",
       "    </tr>\n",
       "    <tr>\n",
       "      <th>10783</th>\n",
       "      <td>99</td>\n",
       "      <td>1.0</td>\n",
       "      <td>39.649192</td>\n",
       "      <td>23.776169</td>\n",
       "      <td>7.0</td>\n",
       "      <td>11.0</td>\n",
       "      <td>12.0</td>\n",
       "      <td>1976.0</td>\n",
       "      <td>0.012339</td>\n",
       "      <td>35</td>\n",
       "      <td>...</td>\n",
       "      <td>4</td>\n",
       "      <td>150226.531644</td>\n",
       "      <td>99.0</td>\n",
       "      <td>184157.0</td>\n",
       "      <td>0</td>\n",
       "      <td>1</td>\n",
       "      <td>0</td>\n",
       "      <td>1</td>\n",
       "      <td>0</td>\n",
       "      <td>1</td>\n",
       "    </tr>\n",
       "  </tbody>\n",
       "</table>\n",
       "<p>5 rows × 24 columns</p>\n",
       "</div>"
      ],
      "text/plain": [
       "       DistrictId  Rooms     Square  LifeSquare  KitchenSquare  Floor  \\\n",
       "Id                                                                      \n",
       "14038          35    2.0  47.981561   29.442751            6.0    7.0   \n",
       "15053          41    3.0  65.683640   40.049543            8.0    7.0   \n",
       "4765           53    2.0  44.947953   29.197612            3.0    8.0   \n",
       "5809           58    2.0  53.352981   52.731512            9.0    8.0   \n",
       "10783          99    1.0  39.649192   23.776169            7.0   11.0   \n",
       "\n",
       "       HouseFloor  HouseYear  Ecology_1  Social_1  ...  Shops_1  \\\n",
       "Id                                                 ...            \n",
       "14038         9.0     1969.0   0.089040        33  ...       11   \n",
       "15053         9.0     1978.0   0.000070        46  ...       16   \n",
       "4765         12.0     1968.0   0.049637        34  ...        3   \n",
       "5809         17.0     1977.0   0.437885        23  ...        5   \n",
       "10783        12.0     1976.0   0.012339        35  ...        4   \n",
       "\n",
       "               Price  hl_pd  Avg_Price_per_district  Ecology_2_A  Ecology_2_B  \\\n",
       "Id                                                                              \n",
       "14038  184966.930730   35.0                219720.0            0            1   \n",
       "15053  300009.450063   41.0                225919.0            0            1   \n",
       "4765   220925.908524   53.0                255736.0            0            1   \n",
       "5809   175616.227217   58.0                162287.0            0            1   \n",
       "10783  150226.531644   99.0                184157.0            0            1   \n",
       "\n",
       "       Ecology_3_A  Ecology_3_B  Shops_2_A  Shops_2_B  \n",
       "Id                                                     \n",
       "14038            0            1          0          1  \n",
       "15053            0            1          0          1  \n",
       "4765             0            1          0          1  \n",
       "5809             0            1          0          1  \n",
       "10783            0            1          0          1  \n",
       "\n",
       "[5 rows x 24 columns]"
      ]
     },
     "execution_count": 253,
     "metadata": {},
     "output_type": "execute_result"
    }
   ],
   "source": [
    "df_fill.head()"
   ]
  },
  {
   "cell_type": "code",
   "execution_count": 254,
   "id": "acting-mobility",
   "metadata": {},
   "outputs": [
    {
     "data": {
      "text/plain": [
       "DistrictId                  int64\n",
       "Rooms                     float64\n",
       "Square                    float64\n",
       "LifeSquare                float64\n",
       "KitchenSquare             float64\n",
       "Floor                     float64\n",
       "HouseFloor                float64\n",
       "HouseYear                 float64\n",
       "Ecology_1                 float64\n",
       "Social_1                    int64\n",
       "Social_2                    int64\n",
       "Social_3                    int64\n",
       "Healthcare_1                 int8\n",
       "Helthcare_2                 int64\n",
       "Shops_1                     int64\n",
       "Price                     float64\n",
       "hl_pd                     float32\n",
       "Avg_Price_per_district    float64\n",
       "Ecology_2_A                 uint8\n",
       "Ecology_2_B                 uint8\n",
       "Ecology_3_A                 uint8\n",
       "Ecology_3_B                 uint8\n",
       "Shops_2_A                   uint8\n",
       "Shops_2_B                   uint8\n",
       "dtype: object"
      ]
     },
     "execution_count": 254,
     "metadata": {},
     "output_type": "execute_result"
    }
   ],
   "source": [
    "df_fill.dtypes"
   ]
  },
  {
   "cell_type": "code",
   "execution_count": 255,
   "id": "medium-consensus",
   "metadata": {},
   "outputs": [],
   "source": [
    "df_fill.to_pickle(\"D:/Learning/GeekBrains/numpy and pandas/df_fill_processed.pkl\")"
   ]
  },
  {
   "cell_type": "code",
   "execution_count": null,
   "id": "found-haven",
   "metadata": {},
   "outputs": [],
   "source": [
    "df_fill = pd.read_pickle(\"D:/Learning/GeekBrains/numpy and pandas/df_fill_processed.pkl\")"
   ]
  },
  {
   "cell_type": "markdown",
   "id": "underlying-characteristic",
   "metadata": {},
   "source": [
    "# 5. Model creation and applying <a class='anchor' id='models'>"
   ]
  },
  {
   "cell_type": "markdown",
   "id": "british-specification",
   "metadata": {},
   "source": [
    "## Algorithms and Techniques"
   ]
  },
  {
   "cell_type": "markdown",
   "id": "northern-raleigh",
   "metadata": {},
   "source": [
    "There are a lot of algorythms for solving of regression tasks:\n",
    "   - linear regression\n",
    "   - polynominal regression\n",
    "   - Decision Tree Regressor\n",
    "   - Random Forest Regressor\n",
    "   - Gradient Boosting etc\n",
    "**Linear regression**\n",
    "One of the simplest algorythms. Sometimes it even is not counted as ML method.\n",
    "Simpliest formula is:\n",
    "Y = kx + b\n",
    "and goal of algorithm is to find weights k and shift b to satisfy the best selected metric value.\n",
    "Implementation of linear regression is based on appropriate module from sklearn.\n",
    "\n",
    "**Decision Tree Regression**\n",
    "This is more flexible and easiy to understand method. It allows to have results which more fit curve of target variable.\n",
    "\n",
    "\n",
    "**Random Forest Regression**\n",
    "Method based on Decision Tree method but it use relatively big amount of Decision Trees. They works with different set of features in different combinations. \n",
    "Selecting of value for target variable is performed via voting of different trees from ensemble.\n",
    "\n",
    "**Gradient Boosting**\n",
    "Method which is based on boosting - method of ensembles building where predictors are built consistently, not in paralleal like in RandomForest. Boosting uses idea that every next model will be learnt based on errors of previous model.\n"
   ]
  },
  {
   "cell_type": "markdown",
   "id": "other-bidder",
   "metadata": {},
   "source": [
    "To split initial dataset for training and test datasets train_test_split from sklearn can be used.\n",
    "\n",
    "For best supervised method selection following methods of price prediction will be applied:\n",
    "2. Random Forest \n",
    "3. Gradient Boosting\n",
    "\n",
    "After processing of all methods the best variant will be selected.\n",
    "\n",
    "To determine of quality of model, following metrics will be used:\n",
    "- R2 score\n",
    "- mean absolute error\n",
    "- mean squared error"
   ]
  },
  {
   "cell_type": "markdown",
   "id": "fitting-burton",
   "metadata": {},
   "source": [
    "### Metrics"
   ]
  },
  {
   "cell_type": "markdown",
   "id": "packed-scale",
   "metadata": {},
   "source": [
    "    \n",
    "ML metric - Mean Squared Error (**MSE**) \n",
    "    - MSE in direct ratio to RMSE и R^2\n",
    "    - MSE  easy to optimize (take the derrivatives)   \n",
    "\n",
    "\n",
    "\n",
    "Business metric - **R^2**, Root Mean Squared Error (**RMSE**)\n",
    "    - Easy interpretable\n",
    "    - easy to understand for business\n",
    "    - R^2 can have velues from 0 to 1, if 1, all our predictions are ideal. It possible to say that r2 score describy accuracy of our model.\n",
    "\n",
    "The best model will have max value of R2MSE for testdataset. "
   ]
  },
  {
   "cell_type": "markdown",
   "id": "challenging-stack",
   "metadata": {},
   "source": [
    " $$MSE = \\frac{1}{n}  \\sum{(y - y_{pred})^2}$$"
   ]
  },
  {
   "cell_type": "markdown",
   "id": "genuine-seattle",
   "metadata": {},
   "source": [
    "$$RMSE = \\sqrt{\\frac{1}{n}  \\sum{(y - y_{pred})^2}}$$"
   ]
  },
  {
   "cell_type": "markdown",
   "id": "furnished-dancing",
   "metadata": {},
   "source": [
    "$$R^2 = 1 - \\frac{\\frac{1}{n}\\sum{(y - y_{pred})^2}}{\\frac{1}{n}\\sum{(y - y_{mean})^2}}$$"
   ]
  },
  {
   "cell_type": "markdown",
   "id": "stable-guarantee",
   "metadata": {},
   "source": [
    "Dataset for each model will be processed by following steps:\n",
    "1. additional preprocessing which can be needed for this particular model\n",
    "2. spliting training and testing \n",
    "3. perform machine learning and record training and testing scores"
   ]
  },
  {
   "cell_type": "markdown",
   "id": "bizarre-earthquake",
   "metadata": {},
   "source": [
    "## CatBoost"
   ]
  },
  {
   "cell_type": "markdown",
   "id": "parental-dubai",
   "metadata": {},
   "source": [
    "**Import validation file**"
   ]
  },
  {
   "cell_type": "code",
   "execution_count": 256,
   "id": "demographic-plenty",
   "metadata": {},
   "outputs": [],
   "source": [
    "df_real_cb = pd.read_csv(\"D:/Learning/GeekBrains/numpy and pandas/test.csv\", index_col='Id')"
   ]
  },
  {
   "cell_type": "markdown",
   "id": "efficient-treaty",
   "metadata": {},
   "source": [
    "**Processing validation dataset**"
   ]
  },
  {
   "cell_type": "code",
   "execution_count": 257,
   "id": "quantitative-aberdeen",
   "metadata": {},
   "outputs": [],
   "source": [
    "df_real_cb = dp.data_clearing (df_real_cb)"
   ]
  },
  {
   "cell_type": "code",
   "execution_count": 258,
   "id": "warming-capacity",
   "metadata": {},
   "outputs": [],
   "source": [
    "df_real_cb = pd.get_dummies(df_real_cb, columns = df_cat_features.columns)"
   ]
  },
  {
   "cell_type": "code",
   "execution_count": 259,
   "id": "interior-bench",
   "metadata": {},
   "outputs": [],
   "source": [
    "df_real_cb = df_real_cb.drop('DistrictId', axis = 1)"
   ]
  },
  {
   "cell_type": "markdown",
   "id": "entertaining-romania",
   "metadata": {},
   "source": [
    "**Applying model to dataset**"
   ]
  },
  {
   "cell_type": "code",
   "execution_count": 260,
   "id": "legitimate-april",
   "metadata": {},
   "outputs": [],
   "source": [
    "X_cb = df_fill.copy()"
   ]
  },
  {
   "cell_type": "code",
   "execution_count": 261,
   "id": "armed-frederick",
   "metadata": {},
   "outputs": [],
   "source": [
    "y_cb = X_cb['Price']"
   ]
  },
  {
   "cell_type": "code",
   "execution_count": 262,
   "id": "ethical-bunch",
   "metadata": {},
   "outputs": [],
   "source": [
    "X_cb = X_cb.drop('Price', axis = 1)"
   ]
  },
  {
   "cell_type": "code",
   "execution_count": 263,
   "id": "quiet-monitor",
   "metadata": {},
   "outputs": [],
   "source": [
    "X_cb = X_cb.drop('DistrictId', axis = 1)"
   ]
  },
  {
   "cell_type": "markdown",
   "id": "involved-johns",
   "metadata": {},
   "source": [
    "**split dataset**"
   ]
  },
  {
   "cell_type": "code",
   "execution_count": 264,
   "id": "phantom-breed",
   "metadata": {},
   "outputs": [],
   "source": [
    "X_train_cb, X_test_cb, y_train_cb, y_test_cb = train_test_split(X_cb, y_cb, test_size=0.3, random_state = 4)"
   ]
  },
  {
   "cell_type": "markdown",
   "id": "official-cambodia",
   "metadata": {},
   "source": [
    "**selecting params and model applying**"
   ]
  },
  {
   "cell_type": "code",
   "execution_count": 62,
   "id": "theoretical-deputy",
   "metadata": {},
   "outputs": [],
   "source": [
    "params = {\"iterations\": range(40, 201, 20),\n",
    "          \"depth\": range(2, 11, 1)          \n",
    "          }"
   ]
  },
  {
   "cell_type": "code",
   "execution_count": 63,
   "id": "marked-parallel",
   "metadata": {},
   "outputs": [],
   "source": [
    "model_cb = CatBoostRegressor(loss_function=\"RMSE\", verbose=False)"
   ]
  },
  {
   "cell_type": "code",
   "execution_count": 64,
   "id": "painted-jonathan",
   "metadata": {},
   "outputs": [],
   "source": [
    "gcb = GridSearchCV(model_cb, params, \n",
    "                  scoring='r2', # r2 score metric \n",
    "                  cv=KFold(n_splits=5,   # k number of fold in cross validation\n",
    "                           random_state=21, \n",
    "                           shuffle=True),\n",
    "                  n_jobs=-1\n",
    "                  )"
   ]
  },
  {
   "cell_type": "code",
   "execution_count": 267,
   "id": "wound-network",
   "metadata": {},
   "outputs": [],
   "source": [
    "index_no = []"
   ]
  },
  {
   "cell_type": "code",
   "execution_count": 268,
   "id": "worldwide-cookbook",
   "metadata": {},
   "outputs": [],
   "source": [
    "index_no.append(X_cb.columns.get_loc('Ecology_2_A'))\n",
    "index_no.append(X_cb.columns.get_loc('Ecology_3_A'))\n",
    "index_no.append(X_cb.columns.get_loc('Shops_2_A'))"
   ]
  },
  {
   "cell_type": "code",
   "execution_count": 269,
   "id": "english-acoustic",
   "metadata": {},
   "outputs": [],
   "source": [
    "index_no.append(X_cb.columns.get_loc('Ecology_2_B'))\n",
    "index_no.append(X_cb.columns.get_loc('Ecology_3_B'))\n",
    "index_no.append(X_cb.columns.get_loc('Shops_2_B'))"
   ]
  },
  {
   "cell_type": "code",
   "execution_count": 270,
   "id": "african-workstation",
   "metadata": {},
   "outputs": [],
   "source": [
    "index_no.sort()"
   ]
  },
  {
   "cell_type": "code",
   "execution_count": 271,
   "id": "played-initial",
   "metadata": {},
   "outputs": [
    {
     "data": {
      "text/plain": [
       "[16, 17, 18, 19, 20, 21]"
      ]
     },
     "execution_count": 271,
     "metadata": {},
     "output_type": "execute_result"
    }
   ],
   "source": [
    "index_no"
   ]
  },
  {
   "cell_type": "code",
   "execution_count": 266,
   "id": "smooth-environment",
   "metadata": {},
   "outputs": [],
   "source": [
    "temp_cb_model = CatBoostRegressor(learning_rate = 0.1, iterations = 1200, depth = 8, eval_metric = 'R2')"
   ]
  },
  {
   "cell_type": "code",
   "execution_count": 273,
   "id": "ongoing-tackle",
   "metadata": {},
   "outputs": [
    {
     "name": "stdout",
     "output_type": "stream",
     "text": [
      "0:\tlearn: 0.1175798\ttotal: 7.19ms\tremaining: 8.62s\n",
      "1:\tlearn: 0.2136260\ttotal: 13.3ms\tremaining: 7.99s\n",
      "2:\tlearn: 0.2950712\ttotal: 19.3ms\tremaining: 7.69s\n",
      "3:\tlearn: 0.3658346\ttotal: 25.6ms\tremaining: 7.64s\n",
      "4:\tlearn: 0.4266695\ttotal: 31.8ms\tremaining: 7.61s\n",
      "5:\tlearn: 0.4762272\ttotal: 38.1ms\tremaining: 7.58s\n",
      "6:\tlearn: 0.5185930\ttotal: 44.3ms\tremaining: 7.54s\n",
      "7:\tlearn: 0.5537455\ttotal: 63.9ms\tremaining: 9.53s\n",
      "8:\tlearn: 0.5827022\ttotal: 69.8ms\tremaining: 9.24s\n",
      "9:\tlearn: 0.6072092\ttotal: 76ms\tremaining: 9.04s\n",
      "10:\tlearn: 0.6277014\ttotal: 81.9ms\tremaining: 8.85s\n",
      "11:\tlearn: 0.6446906\ttotal: 87.9ms\tremaining: 8.7s\n",
      "12:\tlearn: 0.6608230\ttotal: 93.9ms\tremaining: 8.57s\n",
      "13:\tlearn: 0.6727663\ttotal: 99.6ms\tremaining: 8.44s\n",
      "14:\tlearn: 0.6838596\ttotal: 106ms\tremaining: 8.35s\n",
      "15:\tlearn: 0.6947382\ttotal: 112ms\tremaining: 8.26s\n",
      "16:\tlearn: 0.7039810\ttotal: 117ms\tremaining: 8.18s\n",
      "17:\tlearn: 0.7124730\ttotal: 124ms\tremaining: 8.11s\n",
      "18:\tlearn: 0.7200989\ttotal: 129ms\tremaining: 8.04s\n",
      "19:\tlearn: 0.7260330\ttotal: 135ms\tremaining: 7.99s\n",
      "20:\tlearn: 0.7317286\ttotal: 141ms\tremaining: 7.93s\n",
      "21:\tlearn: 0.7376562\ttotal: 147ms\tremaining: 7.87s\n",
      "22:\tlearn: 0.7424574\ttotal: 153ms\tremaining: 7.83s\n",
      "23:\tlearn: 0.7469423\ttotal: 159ms\tremaining: 7.79s\n",
      "24:\tlearn: 0.7506960\ttotal: 165ms\tremaining: 7.74s\n",
      "25:\tlearn: 0.7545357\ttotal: 171ms\tremaining: 7.7s\n",
      "26:\tlearn: 0.7571750\ttotal: 176ms\tremaining: 7.66s\n",
      "27:\tlearn: 0.7602065\ttotal: 182ms\tremaining: 7.63s\n",
      "28:\tlearn: 0.7628584\ttotal: 190ms\tremaining: 7.67s\n",
      "29:\tlearn: 0.7653538\ttotal: 197ms\tremaining: 7.69s\n",
      "30:\tlearn: 0.7685216\ttotal: 204ms\tremaining: 7.71s\n",
      "31:\tlearn: 0.7709196\ttotal: 212ms\tremaining: 7.72s\n",
      "32:\tlearn: 0.7734538\ttotal: 219ms\tremaining: 7.75s\n",
      "33:\tlearn: 0.7758843\ttotal: 225ms\tremaining: 7.72s\n",
      "34:\tlearn: 0.7773189\ttotal: 231ms\tremaining: 7.71s\n",
      "35:\tlearn: 0.7790985\ttotal: 238ms\tremaining: 7.68s\n",
      "36:\tlearn: 0.7807594\ttotal: 244ms\tremaining: 7.66s\n",
      "37:\tlearn: 0.7828988\ttotal: 251ms\tremaining: 7.66s\n",
      "38:\tlearn: 0.7850484\ttotal: 257ms\tremaining: 7.66s\n",
      "39:\tlearn: 0.7872159\ttotal: 265ms\tremaining: 7.67s\n",
      "40:\tlearn: 0.7885771\ttotal: 270ms\tremaining: 7.65s\n",
      "41:\tlearn: 0.7897298\ttotal: 276ms\tremaining: 7.61s\n",
      "42:\tlearn: 0.7912084\ttotal: 283ms\tremaining: 7.61s\n",
      "43:\tlearn: 0.7926707\ttotal: 289ms\tremaining: 7.59s\n",
      "44:\tlearn: 0.7937723\ttotal: 295ms\tremaining: 7.56s\n",
      "45:\tlearn: 0.7955833\ttotal: 300ms\tremaining: 7.54s\n",
      "46:\tlearn: 0.7972709\ttotal: 306ms\tremaining: 7.51s\n",
      "47:\tlearn: 0.7982288\ttotal: 312ms\tremaining: 7.49s\n",
      "48:\tlearn: 0.7996880\ttotal: 318ms\tremaining: 7.47s\n",
      "49:\tlearn: 0.8011446\ttotal: 324ms\tremaining: 7.45s\n",
      "50:\tlearn: 0.8024689\ttotal: 330ms\tremaining: 7.42s\n",
      "51:\tlearn: 0.8033282\ttotal: 336ms\tremaining: 7.41s\n",
      "52:\tlearn: 0.8042171\ttotal: 341ms\tremaining: 7.39s\n",
      "53:\tlearn: 0.8049814\ttotal: 347ms\tremaining: 7.37s\n",
      "54:\tlearn: 0.8066270\ttotal: 353ms\tremaining: 7.35s\n",
      "55:\tlearn: 0.8079658\ttotal: 359ms\tremaining: 7.33s\n",
      "56:\tlearn: 0.8087258\ttotal: 367ms\tremaining: 7.35s\n",
      "57:\tlearn: 0.8097222\ttotal: 375ms\tremaining: 7.38s\n",
      "58:\tlearn: 0.8112631\ttotal: 382ms\tremaining: 7.38s\n",
      "59:\tlearn: 0.8121829\ttotal: 388ms\tremaining: 7.38s\n",
      "60:\tlearn: 0.8129613\ttotal: 395ms\tremaining: 7.38s\n",
      "61:\tlearn: 0.8136942\ttotal: 402ms\tremaining: 7.39s\n",
      "62:\tlearn: 0.8144611\ttotal: 410ms\tremaining: 7.39s\n",
      "63:\tlearn: 0.8155641\ttotal: 415ms\tremaining: 7.37s\n",
      "64:\tlearn: 0.8162977\ttotal: 421ms\tremaining: 7.36s\n",
      "65:\tlearn: 0.8171228\ttotal: 427ms\tremaining: 7.34s\n",
      "66:\tlearn: 0.8180580\ttotal: 433ms\tremaining: 7.32s\n",
      "67:\tlearn: 0.8187426\ttotal: 439ms\tremaining: 7.3s\n",
      "68:\tlearn: 0.8192534\ttotal: 444ms\tremaining: 7.28s\n",
      "69:\tlearn: 0.8202379\ttotal: 450ms\tremaining: 7.27s\n",
      "70:\tlearn: 0.8210245\ttotal: 456ms\tremaining: 7.25s\n",
      "71:\tlearn: 0.8216814\ttotal: 462ms\tremaining: 7.23s\n",
      "72:\tlearn: 0.8225411\ttotal: 467ms\tremaining: 7.22s\n",
      "73:\tlearn: 0.8237235\ttotal: 473ms\tremaining: 7.2s\n",
      "74:\tlearn: 0.8250605\ttotal: 479ms\tremaining: 7.19s\n",
      "75:\tlearn: 0.8258498\ttotal: 485ms\tremaining: 7.17s\n",
      "76:\tlearn: 0.8268107\ttotal: 491ms\tremaining: 7.16s\n",
      "77:\tlearn: 0.8274099\ttotal: 497ms\tremaining: 7.14s\n",
      "78:\tlearn: 0.8280904\ttotal: 503ms\tremaining: 7.13s\n",
      "79:\tlearn: 0.8286442\ttotal: 508ms\tremaining: 7.12s\n",
      "80:\tlearn: 0.8291602\ttotal: 514ms\tremaining: 7.1s\n",
      "81:\tlearn: 0.8296060\ttotal: 520ms\tremaining: 7.09s\n",
      "82:\tlearn: 0.8303878\ttotal: 526ms\tremaining: 7.08s\n",
      "83:\tlearn: 0.8309034\ttotal: 533ms\tremaining: 7.08s\n",
      "84:\tlearn: 0.8315105\ttotal: 538ms\tremaining: 7.06s\n",
      "85:\tlearn: 0.8320932\ttotal: 544ms\tremaining: 7.05s\n",
      "86:\tlearn: 0.8328526\ttotal: 552ms\tremaining: 7.06s\n",
      "87:\tlearn: 0.8333539\ttotal: 559ms\tremaining: 7.06s\n",
      "88:\tlearn: 0.8339144\ttotal: 567ms\tremaining: 7.07s\n",
      "89:\tlearn: 0.8343711\ttotal: 574ms\tremaining: 7.07s\n",
      "90:\tlearn: 0.8348661\ttotal: 580ms\tremaining: 7.07s\n",
      "91:\tlearn: 0.8355189\ttotal: 587ms\tremaining: 7.07s\n",
      "92:\tlearn: 0.8365116\ttotal: 595ms\tremaining: 7.08s\n",
      "93:\tlearn: 0.8378504\ttotal: 601ms\tremaining: 7.08s\n",
      "94:\tlearn: 0.8385778\ttotal: 607ms\tremaining: 7.06s\n",
      "95:\tlearn: 0.8392637\ttotal: 613ms\tremaining: 7.05s\n",
      "96:\tlearn: 0.8402598\ttotal: 620ms\tremaining: 7.05s\n",
      "97:\tlearn: 0.8409745\ttotal: 626ms\tremaining: 7.04s\n",
      "98:\tlearn: 0.8415925\ttotal: 633ms\tremaining: 7.04s\n",
      "99:\tlearn: 0.8421138\ttotal: 639ms\tremaining: 7.03s\n",
      "100:\tlearn: 0.8433484\ttotal: 645ms\tremaining: 7.02s\n",
      "101:\tlearn: 0.8436233\ttotal: 652ms\tremaining: 7.01s\n",
      "102:\tlearn: 0.8437267\ttotal: 657ms\tremaining: 7s\n",
      "103:\tlearn: 0.8442114\ttotal: 664ms\tremaining: 6.99s\n",
      "104:\tlearn: 0.8447301\ttotal: 670ms\tremaining: 6.98s\n",
      "105:\tlearn: 0.8452538\ttotal: 676ms\tremaining: 6.97s\n",
      "106:\tlearn: 0.8456835\ttotal: 681ms\tremaining: 6.96s\n",
      "107:\tlearn: 0.8463564\ttotal: 687ms\tremaining: 6.95s\n",
      "108:\tlearn: 0.8466370\ttotal: 693ms\tremaining: 6.94s\n",
      "109:\tlearn: 0.8475725\ttotal: 699ms\tremaining: 6.93s\n",
      "110:\tlearn: 0.8481694\ttotal: 705ms\tremaining: 6.91s\n",
      "111:\tlearn: 0.8489996\ttotal: 710ms\tremaining: 6.9s\n",
      "112:\tlearn: 0.8493923\ttotal: 718ms\tremaining: 6.91s\n",
      "113:\tlearn: 0.8496902\ttotal: 724ms\tremaining: 6.89s\n",
      "114:\tlearn: 0.8505702\ttotal: 730ms\tremaining: 6.89s\n",
      "115:\tlearn: 0.8516278\ttotal: 736ms\tremaining: 6.87s\n",
      "116:\tlearn: 0.8522112\ttotal: 741ms\tremaining: 6.86s\n",
      "117:\tlearn: 0.8529837\ttotal: 747ms\tremaining: 6.85s\n",
      "118:\tlearn: 0.8535225\ttotal: 755ms\tremaining: 6.86s\n",
      "119:\tlearn: 0.8540570\ttotal: 763ms\tremaining: 6.86s\n",
      "120:\tlearn: 0.8545325\ttotal: 770ms\tremaining: 6.86s\n",
      "121:\tlearn: 0.8546515\ttotal: 774ms\tremaining: 6.84s\n",
      "122:\tlearn: 0.8551945\ttotal: 781ms\tremaining: 6.84s\n",
      "123:\tlearn: 0.8556253\ttotal: 788ms\tremaining: 6.83s\n",
      "124:\tlearn: 0.8556786\ttotal: 794ms\tremaining: 6.83s\n",
      "125:\tlearn: 0.8557328\ttotal: 801ms\tremaining: 6.83s\n",
      "126:\tlearn: 0.8562950\ttotal: 809ms\tremaining: 6.83s\n",
      "127:\tlearn: 0.8571974\ttotal: 816ms\tremaining: 6.83s\n",
      "128:\tlearn: 0.8579195\ttotal: 823ms\tremaining: 6.83s\n",
      "129:\tlearn: 0.8579565\ttotal: 825ms\tremaining: 6.79s\n",
      "130:\tlearn: 0.8585191\ttotal: 832ms\tremaining: 6.79s\n",
      "131:\tlearn: 0.8591078\ttotal: 838ms\tremaining: 6.78s\n",
      "132:\tlearn: 0.8595014\ttotal: 845ms\tremaining: 6.78s\n",
      "133:\tlearn: 0.8600659\ttotal: 851ms\tremaining: 6.77s\n",
      "134:\tlearn: 0.8605876\ttotal: 857ms\tremaining: 6.76s\n",
      "135:\tlearn: 0.8613671\ttotal: 863ms\tremaining: 6.75s\n",
      "136:\tlearn: 0.8621292\ttotal: 871ms\tremaining: 6.76s\n",
      "137:\tlearn: 0.8624871\ttotal: 880ms\tremaining: 6.77s\n",
      "138:\tlearn: 0.8630899\ttotal: 888ms\tremaining: 6.78s\n",
      "139:\tlearn: 0.8635372\ttotal: 895ms\tremaining: 6.78s\n",
      "140:\tlearn: 0.8638569\ttotal: 901ms\tremaining: 6.77s\n",
      "141:\tlearn: 0.8644061\ttotal: 907ms\tremaining: 6.76s\n",
      "142:\tlearn: 0.8649277\ttotal: 913ms\tremaining: 6.75s\n",
      "143:\tlearn: 0.8652603\ttotal: 919ms\tremaining: 6.74s\n",
      "144:\tlearn: 0.8658934\ttotal: 925ms\tremaining: 6.73s\n",
      "145:\tlearn: 0.8662379\ttotal: 931ms\tremaining: 6.72s\n",
      "146:\tlearn: 0.8665713\ttotal: 938ms\tremaining: 6.72s\n",
      "147:\tlearn: 0.8672278\ttotal: 945ms\tremaining: 6.72s\n",
      "148:\tlearn: 0.8675095\ttotal: 953ms\tremaining: 6.72s\n",
      "149:\tlearn: 0.8679542\ttotal: 961ms\tremaining: 6.73s\n",
      "150:\tlearn: 0.8685934\ttotal: 976ms\tremaining: 6.78s\n",
      "151:\tlearn: 0.8689296\ttotal: 982ms\tremaining: 6.77s\n",
      "152:\tlearn: 0.8697254\ttotal: 988ms\tremaining: 6.76s\n",
      "153:\tlearn: 0.8701312\ttotal: 994ms\tremaining: 6.75s\n",
      "154:\tlearn: 0.8706219\ttotal: 1s\tremaining: 6.74s\n",
      "155:\tlearn: 0.8709776\ttotal: 1.01s\tremaining: 6.73s\n",
      "156:\tlearn: 0.8716263\ttotal: 1.01s\tremaining: 6.72s\n",
      "157:\tlearn: 0.8718980\ttotal: 1.02s\tremaining: 6.71s\n",
      "158:\tlearn: 0.8721258\ttotal: 1.02s\tremaining: 6.7s\n",
      "159:\tlearn: 0.8723783\ttotal: 1.03s\tremaining: 6.69s\n",
      "160:\tlearn: 0.8726342\ttotal: 1.04s\tremaining: 6.69s\n",
      "161:\tlearn: 0.8734088\ttotal: 1.04s\tremaining: 6.68s\n",
      "162:\tlearn: 0.8738350\ttotal: 1.05s\tremaining: 6.67s\n",
      "163:\tlearn: 0.8742407\ttotal: 1.05s\tremaining: 6.66s\n",
      "164:\tlearn: 0.8745651\ttotal: 1.06s\tremaining: 6.65s\n",
      "165:\tlearn: 0.8748859\ttotal: 1.07s\tremaining: 6.64s\n",
      "166:\tlearn: 0.8753807\ttotal: 1.07s\tremaining: 6.63s\n",
      "167:\tlearn: 0.8760073\ttotal: 1.08s\tremaining: 6.62s\n",
      "168:\tlearn: 0.8763722\ttotal: 1.08s\tremaining: 6.61s\n",
      "169:\tlearn: 0.8767236\ttotal: 1.09s\tremaining: 6.6s\n",
      "170:\tlearn: 0.8773184\ttotal: 1.09s\tremaining: 6.59s\n",
      "171:\tlearn: 0.8780490\ttotal: 1.1s\tremaining: 6.58s\n",
      "172:\tlearn: 0.8784583\ttotal: 1.11s\tremaining: 6.57s\n"
     ]
    },
    {
     "name": "stdout",
     "output_type": "stream",
     "text": [
      "173:\tlearn: 0.8788256\ttotal: 1.11s\tremaining: 6.58s\n",
      "174:\tlearn: 0.8790518\ttotal: 1.12s\tremaining: 6.57s\n",
      "175:\tlearn: 0.8795248\ttotal: 1.13s\tremaining: 6.57s\n",
      "176:\tlearn: 0.8798610\ttotal: 1.14s\tremaining: 6.58s\n",
      "177:\tlearn: 0.8803548\ttotal: 1.14s\tremaining: 6.57s\n",
      "178:\tlearn: 0.8805989\ttotal: 1.15s\tremaining: 6.56s\n",
      "179:\tlearn: 0.8811610\ttotal: 1.16s\tremaining: 6.55s\n",
      "180:\tlearn: 0.8815190\ttotal: 1.16s\tremaining: 6.54s\n",
      "181:\tlearn: 0.8817669\ttotal: 1.17s\tremaining: 6.54s\n",
      "182:\tlearn: 0.8823931\ttotal: 1.17s\tremaining: 6.53s\n",
      "183:\tlearn: 0.8826215\ttotal: 1.18s\tremaining: 6.52s\n",
      "184:\tlearn: 0.8832897\ttotal: 1.19s\tremaining: 6.51s\n",
      "185:\tlearn: 0.8835235\ttotal: 1.19s\tremaining: 6.5s\n",
      "186:\tlearn: 0.8837913\ttotal: 1.2s\tremaining: 6.49s\n",
      "187:\tlearn: 0.8840914\ttotal: 1.2s\tremaining: 6.48s\n",
      "188:\tlearn: 0.8847255\ttotal: 1.21s\tremaining: 6.47s\n",
      "189:\tlearn: 0.8850336\ttotal: 1.22s\tremaining: 6.46s\n",
      "190:\tlearn: 0.8854517\ttotal: 1.22s\tremaining: 6.45s\n",
      "191:\tlearn: 0.8859061\ttotal: 1.23s\tremaining: 6.44s\n",
      "192:\tlearn: 0.8863869\ttotal: 1.23s\tremaining: 6.43s\n",
      "193:\tlearn: 0.8866491\ttotal: 1.24s\tremaining: 6.42s\n",
      "194:\tlearn: 0.8869552\ttotal: 1.24s\tremaining: 6.42s\n",
      "195:\tlearn: 0.8872079\ttotal: 1.25s\tremaining: 6.41s\n",
      "196:\tlearn: 0.8875112\ttotal: 1.26s\tremaining: 6.4s\n",
      "197:\tlearn: 0.8877177\ttotal: 1.26s\tremaining: 6.39s\n",
      "198:\tlearn: 0.8881981\ttotal: 1.27s\tremaining: 6.38s\n",
      "199:\tlearn: 0.8884939\ttotal: 1.27s\tremaining: 6.37s\n",
      "200:\tlearn: 0.8888447\ttotal: 1.28s\tremaining: 6.36s\n",
      "201:\tlearn: 0.8890693\ttotal: 1.28s\tremaining: 6.35s\n",
      "202:\tlearn: 0.8893654\ttotal: 1.29s\tremaining: 6.34s\n",
      "203:\tlearn: 0.8898282\ttotal: 1.3s\tremaining: 6.33s\n",
      "204:\tlearn: 0.8902653\ttotal: 1.3s\tremaining: 6.33s\n",
      "205:\tlearn: 0.8905119\ttotal: 1.31s\tremaining: 6.33s\n",
      "206:\tlearn: 0.8909417\ttotal: 1.32s\tremaining: 6.33s\n",
      "207:\tlearn: 0.8911777\ttotal: 1.33s\tremaining: 6.33s\n",
      "208:\tlearn: 0.8915508\ttotal: 1.33s\tremaining: 6.32s\n",
      "209:\tlearn: 0.8917837\ttotal: 1.34s\tremaining: 6.31s\n",
      "210:\tlearn: 0.8921520\ttotal: 1.34s\tremaining: 6.3s\n",
      "211:\tlearn: 0.8924503\ttotal: 1.35s\tremaining: 6.3s\n",
      "212:\tlearn: 0.8925179\ttotal: 1.36s\tremaining: 6.29s\n",
      "213:\tlearn: 0.8927450\ttotal: 1.36s\tremaining: 6.28s\n",
      "214:\tlearn: 0.8929750\ttotal: 1.37s\tremaining: 6.27s\n",
      "215:\tlearn: 0.8933935\ttotal: 1.37s\tremaining: 6.26s\n",
      "216:\tlearn: 0.8935556\ttotal: 1.38s\tremaining: 6.25s\n",
      "217:\tlearn: 0.8937675\ttotal: 1.39s\tremaining: 6.24s\n",
      "218:\tlearn: 0.8940693\ttotal: 1.39s\tremaining: 6.23s\n",
      "219:\tlearn: 0.8941388\ttotal: 1.4s\tremaining: 6.22s\n",
      "220:\tlearn: 0.8942628\ttotal: 1.4s\tremaining: 6.21s\n",
      "221:\tlearn: 0.8945463\ttotal: 1.41s\tremaining: 6.2s\n",
      "222:\tlearn: 0.8947546\ttotal: 1.41s\tremaining: 6.19s\n",
      "223:\tlearn: 0.8950482\ttotal: 1.42s\tremaining: 6.18s\n",
      "224:\tlearn: 0.8953821\ttotal: 1.43s\tremaining: 6.18s\n",
      "225:\tlearn: 0.8958000\ttotal: 1.43s\tremaining: 6.17s\n",
      "226:\tlearn: 0.8959133\ttotal: 1.44s\tremaining: 6.16s\n",
      "227:\tlearn: 0.8960020\ttotal: 1.44s\tremaining: 6.15s\n",
      "228:\tlearn: 0.8962496\ttotal: 1.45s\tremaining: 6.14s\n",
      "229:\tlearn: 0.8964767\ttotal: 1.45s\tremaining: 6.13s\n",
      "230:\tlearn: 0.8967093\ttotal: 1.46s\tremaining: 6.12s\n",
      "231:\tlearn: 0.8969522\ttotal: 1.47s\tremaining: 6.12s\n",
      "232:\tlearn: 0.8971761\ttotal: 1.47s\tremaining: 6.11s\n",
      "233:\tlearn: 0.8974743\ttotal: 1.48s\tremaining: 6.1s\n",
      "234:\tlearn: 0.8976543\ttotal: 1.48s\tremaining: 6.09s\n",
      "235:\tlearn: 0.8978968\ttotal: 1.49s\tremaining: 6.09s\n",
      "236:\tlearn: 0.8979917\ttotal: 1.5s\tremaining: 6.08s\n",
      "237:\tlearn: 0.8981566\ttotal: 1.5s\tremaining: 6.08s\n",
      "238:\tlearn: 0.8985920\ttotal: 1.51s\tremaining: 6.08s\n",
      "239:\tlearn: 0.8989781\ttotal: 1.52s\tremaining: 6.08s\n",
      "240:\tlearn: 0.8990846\ttotal: 1.52s\tremaining: 6.07s\n",
      "241:\tlearn: 0.8995040\ttotal: 1.53s\tremaining: 6.06s\n",
      "242:\tlearn: 0.8996436\ttotal: 1.54s\tremaining: 6.05s\n",
      "243:\tlearn: 0.8998739\ttotal: 1.54s\tremaining: 6.05s\n",
      "244:\tlearn: 0.9001781\ttotal: 1.55s\tremaining: 6.04s\n",
      "245:\tlearn: 0.9004549\ttotal: 1.55s\tremaining: 6.03s\n",
      "246:\tlearn: 0.9006546\ttotal: 1.56s\tremaining: 6.02s\n",
      "247:\tlearn: 0.9009226\ttotal: 1.57s\tremaining: 6.01s\n",
      "248:\tlearn: 0.9014012\ttotal: 1.57s\tremaining: 6.01s\n",
      "249:\tlearn: 0.9015407\ttotal: 1.58s\tremaining: 6s\n",
      "250:\tlearn: 0.9019325\ttotal: 1.58s\tremaining: 5.99s\n",
      "251:\tlearn: 0.9019841\ttotal: 1.59s\tremaining: 5.98s\n",
      "252:\tlearn: 0.9021256\ttotal: 1.59s\tremaining: 5.97s\n",
      "253:\tlearn: 0.9023541\ttotal: 1.6s\tremaining: 5.97s\n",
      "254:\tlearn: 0.9024444\ttotal: 1.61s\tremaining: 5.97s\n",
      "255:\tlearn: 0.9026579\ttotal: 1.62s\tremaining: 5.96s\n",
      "256:\tlearn: 0.9028512\ttotal: 1.63s\tremaining: 5.96s\n",
      "257:\tlearn: 0.9030163\ttotal: 1.63s\tremaining: 5.96s\n",
      "258:\tlearn: 0.9031347\ttotal: 1.64s\tremaining: 5.95s\n",
      "259:\tlearn: 0.9033667\ttotal: 1.64s\tremaining: 5.94s\n",
      "260:\tlearn: 0.9036485\ttotal: 1.65s\tremaining: 5.93s\n",
      "261:\tlearn: 0.9038498\ttotal: 1.66s\tremaining: 5.93s\n",
      "262:\tlearn: 0.9040187\ttotal: 1.66s\tremaining: 5.92s\n",
      "263:\tlearn: 0.9043233\ttotal: 1.67s\tremaining: 5.91s\n",
      "264:\tlearn: 0.9047466\ttotal: 1.67s\tremaining: 5.91s\n",
      "265:\tlearn: 0.9049726\ttotal: 1.68s\tremaining: 5.9s\n",
      "266:\tlearn: 0.9051281\ttotal: 1.69s\tremaining: 5.89s\n",
      "267:\tlearn: 0.9052253\ttotal: 1.69s\tremaining: 5.89s\n",
      "268:\tlearn: 0.9053254\ttotal: 1.7s\tremaining: 5.89s\n",
      "269:\tlearn: 0.9054677\ttotal: 1.71s\tremaining: 5.88s\n",
      "270:\tlearn: 0.9057794\ttotal: 1.72s\tremaining: 5.88s\n",
      "271:\tlearn: 0.9060859\ttotal: 1.72s\tremaining: 5.88s\n",
      "272:\tlearn: 0.9063404\ttotal: 1.73s\tremaining: 5.87s\n",
      "273:\tlearn: 0.9064931\ttotal: 1.73s\tremaining: 5.86s\n",
      "274:\tlearn: 0.9069073\ttotal: 1.74s\tremaining: 5.85s\n",
      "275:\tlearn: 0.9071082\ttotal: 1.75s\tremaining: 5.84s\n",
      "276:\tlearn: 0.9072632\ttotal: 1.75s\tremaining: 5.84s\n",
      "277:\tlearn: 0.9075259\ttotal: 1.76s\tremaining: 5.83s\n",
      "278:\tlearn: 0.9077381\ttotal: 1.76s\tremaining: 5.82s\n",
      "279:\tlearn: 0.9080656\ttotal: 1.77s\tremaining: 5.81s\n",
      "280:\tlearn: 0.9081967\ttotal: 1.77s\tremaining: 5.8s\n",
      "281:\tlearn: 0.9084247\ttotal: 1.78s\tremaining: 5.8s\n",
      "282:\tlearn: 0.9088969\ttotal: 1.79s\tremaining: 5.79s\n",
      "283:\tlearn: 0.9090976\ttotal: 1.79s\tremaining: 5.78s\n",
      "284:\tlearn: 0.9091921\ttotal: 1.8s\tremaining: 5.77s\n",
      "285:\tlearn: 0.9095693\ttotal: 1.8s\tremaining: 5.76s\n",
      "286:\tlearn: 0.9096033\ttotal: 1.81s\tremaining: 5.75s\n",
      "287:\tlearn: 0.9097805\ttotal: 1.81s\tremaining: 5.75s\n",
      "288:\tlearn: 0.9097970\ttotal: 1.82s\tremaining: 5.74s\n",
      "289:\tlearn: 0.9100517\ttotal: 1.83s\tremaining: 5.73s\n",
      "290:\tlearn: 0.9102411\ttotal: 1.83s\tremaining: 5.73s\n",
      "291:\tlearn: 0.9103858\ttotal: 1.84s\tremaining: 5.72s\n",
      "292:\tlearn: 0.9106972\ttotal: 1.85s\tremaining: 5.72s\n",
      "293:\tlearn: 0.9109404\ttotal: 1.85s\tremaining: 5.71s\n",
      "294:\tlearn: 0.9112612\ttotal: 1.86s\tremaining: 5.7s\n",
      "295:\tlearn: 0.9114396\ttotal: 1.87s\tremaining: 5.7s\n",
      "296:\tlearn: 0.9115554\ttotal: 1.87s\tremaining: 5.69s\n",
      "297:\tlearn: 0.9115817\ttotal: 1.88s\tremaining: 5.69s\n",
      "298:\tlearn: 0.9117790\ttotal: 1.89s\tremaining: 5.69s\n",
      "299:\tlearn: 0.9119625\ttotal: 1.89s\tremaining: 5.68s\n",
      "300:\tlearn: 0.9121653\ttotal: 1.9s\tremaining: 5.68s\n",
      "301:\tlearn: 0.9121794\ttotal: 1.91s\tremaining: 5.69s\n",
      "302:\tlearn: 0.9123992\ttotal: 1.92s\tremaining: 5.69s\n",
      "303:\tlearn: 0.9126653\ttotal: 1.93s\tremaining: 5.69s\n",
      "304:\tlearn: 0.9130766\ttotal: 1.94s\tremaining: 5.69s\n",
      "305:\tlearn: 0.9134405\ttotal: 1.95s\tremaining: 5.68s\n",
      "306:\tlearn: 0.9137057\ttotal: 1.95s\tremaining: 5.68s\n",
      "307:\tlearn: 0.9138156\ttotal: 1.96s\tremaining: 5.68s\n",
      "308:\tlearn: 0.9141567\ttotal: 1.97s\tremaining: 5.68s\n",
      "309:\tlearn: 0.9142302\ttotal: 1.98s\tremaining: 5.67s\n",
      "310:\tlearn: 0.9145147\ttotal: 1.98s\tremaining: 5.67s\n",
      "311:\tlearn: 0.9145699\ttotal: 1.99s\tremaining: 5.67s\n",
      "312:\tlearn: 0.9148852\ttotal: 2s\tremaining: 5.67s\n",
      "313:\tlearn: 0.9150320\ttotal: 2.01s\tremaining: 5.66s\n",
      "314:\tlearn: 0.9153415\ttotal: 2.01s\tremaining: 5.66s\n",
      "315:\tlearn: 0.9154965\ttotal: 2.02s\tremaining: 5.65s\n",
      "316:\tlearn: 0.9158250\ttotal: 2.03s\tremaining: 5.65s\n",
      "317:\tlearn: 0.9160384\ttotal: 2.03s\tremaining: 5.64s\n",
      "318:\tlearn: 0.9163437\ttotal: 2.04s\tremaining: 5.64s\n",
      "319:\tlearn: 0.9165438\ttotal: 2.05s\tremaining: 5.64s\n",
      "320:\tlearn: 0.9166946\ttotal: 2.06s\tremaining: 5.63s\n",
      "321:\tlearn: 0.9170442\ttotal: 2.06s\tremaining: 5.63s\n",
      "322:\tlearn: 0.9171152\ttotal: 2.07s\tremaining: 5.63s\n",
      "323:\tlearn: 0.9174659\ttotal: 2.08s\tremaining: 5.63s\n",
      "324:\tlearn: 0.9175668\ttotal: 2.09s\tremaining: 5.63s\n",
      "325:\tlearn: 0.9177660\ttotal: 2.1s\tremaining: 5.63s\n",
      "326:\tlearn: 0.9180337\ttotal: 2.11s\tremaining: 5.63s\n",
      "327:\tlearn: 0.9182106\ttotal: 2.11s\tremaining: 5.62s\n",
      "328:\tlearn: 0.9183646\ttotal: 2.12s\tremaining: 5.62s\n",
      "329:\tlearn: 0.9184922\ttotal: 2.13s\tremaining: 5.62s\n",
      "330:\tlearn: 0.9187143\ttotal: 2.14s\tremaining: 5.62s\n",
      "331:\tlearn: 0.9187404\ttotal: 2.15s\tremaining: 5.61s\n",
      "332:\tlearn: 0.9189336\ttotal: 2.15s\tremaining: 5.61s\n",
      "333:\tlearn: 0.9190187\ttotal: 2.16s\tremaining: 5.6s\n",
      "334:\tlearn: 0.9190331\ttotal: 2.17s\tremaining: 5.59s\n",
      "335:\tlearn: 0.9191430\ttotal: 2.17s\tremaining: 5.59s\n",
      "336:\tlearn: 0.9193809\ttotal: 2.18s\tremaining: 5.59s\n",
      "337:\tlearn: 0.9194715\ttotal: 2.19s\tremaining: 5.58s\n",
      "338:\tlearn: 0.9196003\ttotal: 2.19s\tremaining: 5.58s\n",
      "339:\tlearn: 0.9198101\ttotal: 2.2s\tremaining: 5.57s\n",
      "340:\tlearn: 0.9199483\ttotal: 2.21s\tremaining: 5.57s\n",
      "341:\tlearn: 0.9201379\ttotal: 2.22s\tremaining: 5.56s\n",
      "342:\tlearn: 0.9204041\ttotal: 2.22s\tremaining: 5.55s\n",
      "343:\tlearn: 0.9205220\ttotal: 2.23s\tremaining: 5.55s\n",
      "344:\tlearn: 0.9207044\ttotal: 2.24s\tremaining: 5.54s\n",
      "345:\tlearn: 0.9207501\ttotal: 2.24s\tremaining: 5.54s\n",
      "346:\tlearn: 0.9210493\ttotal: 2.25s\tremaining: 5.53s\n"
     ]
    },
    {
     "name": "stdout",
     "output_type": "stream",
     "text": [
      "347:\tlearn: 0.9212116\ttotal: 2.26s\tremaining: 5.53s\n",
      "348:\tlearn: 0.9212530\ttotal: 2.26s\tremaining: 5.52s\n",
      "349:\tlearn: 0.9213938\ttotal: 2.27s\tremaining: 5.52s\n",
      "350:\tlearn: 0.9216656\ttotal: 2.28s\tremaining: 5.51s\n",
      "351:\tlearn: 0.9218208\ttotal: 2.28s\tremaining: 5.5s\n",
      "352:\tlearn: 0.9219606\ttotal: 2.29s\tremaining: 5.5s\n",
      "353:\tlearn: 0.9219669\ttotal: 2.3s\tremaining: 5.49s\n",
      "354:\tlearn: 0.9220753\ttotal: 2.3s\tremaining: 5.49s\n",
      "355:\tlearn: 0.9221128\ttotal: 2.31s\tremaining: 5.48s\n",
      "356:\tlearn: 0.9223382\ttotal: 2.32s\tremaining: 5.47s\n",
      "357:\tlearn: 0.9224119\ttotal: 2.32s\tremaining: 5.46s\n",
      "358:\tlearn: 0.9225889\ttotal: 2.33s\tremaining: 5.46s\n",
      "359:\tlearn: 0.9227852\ttotal: 2.33s\tremaining: 5.45s\n",
      "360:\tlearn: 0.9229931\ttotal: 2.34s\tremaining: 5.44s\n",
      "361:\tlearn: 0.9231159\ttotal: 2.35s\tremaining: 5.43s\n",
      "362:\tlearn: 0.9232525\ttotal: 2.35s\tremaining: 5.42s\n",
      "363:\tlearn: 0.9234439\ttotal: 2.36s\tremaining: 5.42s\n",
      "364:\tlearn: 0.9236684\ttotal: 2.36s\tremaining: 5.41s\n",
      "365:\tlearn: 0.9237914\ttotal: 2.37s\tremaining: 5.4s\n",
      "366:\tlearn: 0.9238620\ttotal: 2.38s\tremaining: 5.39s\n",
      "367:\tlearn: 0.9239392\ttotal: 2.38s\tremaining: 5.38s\n",
      "368:\tlearn: 0.9242144\ttotal: 2.39s\tremaining: 5.38s\n",
      "369:\tlearn: 0.9243810\ttotal: 2.39s\tremaining: 5.37s\n",
      "370:\tlearn: 0.9245499\ttotal: 2.4s\tremaining: 5.36s\n",
      "371:\tlearn: 0.9246520\ttotal: 2.41s\tremaining: 5.36s\n",
      "372:\tlearn: 0.9247587\ttotal: 2.41s\tremaining: 5.35s\n",
      "373:\tlearn: 0.9248528\ttotal: 2.42s\tremaining: 5.35s\n",
      "374:\tlearn: 0.9250178\ttotal: 2.43s\tremaining: 5.34s\n",
      "375:\tlearn: 0.9251771\ttotal: 2.44s\tremaining: 5.34s\n",
      "376:\tlearn: 0.9254107\ttotal: 2.44s\tremaining: 5.34s\n",
      "377:\tlearn: 0.9255329\ttotal: 2.45s\tremaining: 5.33s\n",
      "378:\tlearn: 0.9256122\ttotal: 2.46s\tremaining: 5.34s\n",
      "379:\tlearn: 0.9257938\ttotal: 2.47s\tremaining: 5.33s\n",
      "380:\tlearn: 0.9260402\ttotal: 2.48s\tremaining: 5.33s\n",
      "381:\tlearn: 0.9261462\ttotal: 2.48s\tremaining: 5.32s\n",
      "382:\tlearn: 0.9262957\ttotal: 2.49s\tremaining: 5.32s\n",
      "383:\tlearn: 0.9264731\ttotal: 2.5s\tremaining: 5.31s\n",
      "384:\tlearn: 0.9268085\ttotal: 2.5s\tremaining: 5.3s\n",
      "385:\tlearn: 0.9268898\ttotal: 2.51s\tremaining: 5.29s\n",
      "386:\tlearn: 0.9270589\ttotal: 2.52s\tremaining: 5.29s\n",
      "387:\tlearn: 0.9272127\ttotal: 2.52s\tremaining: 5.28s\n",
      "388:\tlearn: 0.9273155\ttotal: 2.53s\tremaining: 5.27s\n",
      "389:\tlearn: 0.9275580\ttotal: 2.53s\tremaining: 5.26s\n",
      "390:\tlearn: 0.9277931\ttotal: 2.54s\tremaining: 5.25s\n",
      "391:\tlearn: 0.9278991\ttotal: 2.54s\tremaining: 5.25s\n",
      "392:\tlearn: 0.9279993\ttotal: 2.55s\tremaining: 5.24s\n",
      "393:\tlearn: 0.9281546\ttotal: 2.56s\tremaining: 5.23s\n",
      "394:\tlearn: 0.9283256\ttotal: 2.56s\tremaining: 5.23s\n",
      "395:\tlearn: 0.9284902\ttotal: 2.57s\tremaining: 5.22s\n",
      "396:\tlearn: 0.9285594\ttotal: 2.58s\tremaining: 5.21s\n",
      "397:\tlearn: 0.9286449\ttotal: 2.58s\tremaining: 5.21s\n",
      "398:\tlearn: 0.9286719\ttotal: 2.59s\tremaining: 5.2s\n",
      "399:\tlearn: 0.9288742\ttotal: 2.6s\tremaining: 5.2s\n",
      "400:\tlearn: 0.9290756\ttotal: 2.61s\tremaining: 5.2s\n",
      "401:\tlearn: 0.9291024\ttotal: 2.62s\tremaining: 5.2s\n",
      "402:\tlearn: 0.9291562\ttotal: 2.62s\tremaining: 5.19s\n",
      "403:\tlearn: 0.9291579\ttotal: 2.63s\tremaining: 5.18s\n",
      "404:\tlearn: 0.9293002\ttotal: 2.64s\tremaining: 5.18s\n",
      "405:\tlearn: 0.9294102\ttotal: 2.65s\tremaining: 5.18s\n",
      "406:\tlearn: 0.9295144\ttotal: 2.65s\tremaining: 5.17s\n",
      "407:\tlearn: 0.9295830\ttotal: 2.66s\tremaining: 5.16s\n",
      "408:\tlearn: 0.9298227\ttotal: 2.67s\tremaining: 5.16s\n",
      "409:\tlearn: 0.9299510\ttotal: 2.68s\tremaining: 5.17s\n",
      "410:\tlearn: 0.9301873\ttotal: 2.69s\tremaining: 5.16s\n",
      "411:\tlearn: 0.9304584\ttotal: 2.7s\tremaining: 5.16s\n",
      "412:\tlearn: 0.9305816\ttotal: 2.7s\tremaining: 5.15s\n",
      "413:\tlearn: 0.9307247\ttotal: 2.71s\tremaining: 5.14s\n",
      "414:\tlearn: 0.9309129\ttotal: 2.72s\tremaining: 5.14s\n",
      "415:\tlearn: 0.9310187\ttotal: 2.73s\tremaining: 5.14s\n",
      "416:\tlearn: 0.9311366\ttotal: 2.73s\tremaining: 5.14s\n",
      "417:\tlearn: 0.9312773\ttotal: 2.74s\tremaining: 5.13s\n",
      "418:\tlearn: 0.9314680\ttotal: 2.75s\tremaining: 5.13s\n",
      "419:\tlearn: 0.9315850\ttotal: 2.76s\tremaining: 5.12s\n",
      "420:\tlearn: 0.9316652\ttotal: 2.76s\tremaining: 5.11s\n",
      "421:\tlearn: 0.9317681\ttotal: 2.77s\tremaining: 5.11s\n",
      "422:\tlearn: 0.9319274\ttotal: 2.78s\tremaining: 5.11s\n",
      "423:\tlearn: 0.9320773\ttotal: 2.79s\tremaining: 5.1s\n",
      "424:\tlearn: 0.9322393\ttotal: 2.8s\tremaining: 5.1s\n",
      "425:\tlearn: 0.9323809\ttotal: 2.8s\tremaining: 5.09s\n",
      "426:\tlearn: 0.9324617\ttotal: 2.81s\tremaining: 5.08s\n",
      "427:\tlearn: 0.9326501\ttotal: 2.81s\tremaining: 5.08s\n",
      "428:\tlearn: 0.9328120\ttotal: 2.83s\tremaining: 5.08s\n",
      "429:\tlearn: 0.9329126\ttotal: 2.83s\tremaining: 5.07s\n",
      "430:\tlearn: 0.9330445\ttotal: 2.84s\tremaining: 5.07s\n",
      "431:\tlearn: 0.9331509\ttotal: 2.85s\tremaining: 5.06s\n",
      "432:\tlearn: 0.9333080\ttotal: 2.85s\tremaining: 5.06s\n",
      "433:\tlearn: 0.9334698\ttotal: 2.88s\tremaining: 5.08s\n",
      "434:\tlearn: 0.9335546\ttotal: 2.88s\tremaining: 5.07s\n",
      "435:\tlearn: 0.9337358\ttotal: 2.89s\tremaining: 5.07s\n",
      "436:\tlearn: 0.9338675\ttotal: 2.9s\tremaining: 5.06s\n",
      "437:\tlearn: 0.9339874\ttotal: 2.91s\tremaining: 5.06s\n",
      "438:\tlearn: 0.9340583\ttotal: 2.91s\tremaining: 5.05s\n",
      "439:\tlearn: 0.9340794\ttotal: 2.92s\tremaining: 5.04s\n",
      "440:\tlearn: 0.9342213\ttotal: 2.92s\tremaining: 5.03s\n",
      "441:\tlearn: 0.9343544\ttotal: 2.93s\tremaining: 5.03s\n",
      "442:\tlearn: 0.9345561\ttotal: 2.94s\tremaining: 5.02s\n",
      "443:\tlearn: 0.9346930\ttotal: 2.94s\tremaining: 5.01s\n",
      "444:\tlearn: 0.9350375\ttotal: 2.95s\tremaining: 5s\n",
      "445:\tlearn: 0.9351459\ttotal: 2.95s\tremaining: 5s\n",
      "446:\tlearn: 0.9353060\ttotal: 2.96s\tremaining: 4.99s\n",
      "447:\tlearn: 0.9353720\ttotal: 2.97s\tremaining: 4.98s\n",
      "448:\tlearn: 0.9356106\ttotal: 2.98s\tremaining: 4.98s\n",
      "449:\tlearn: 0.9358401\ttotal: 2.98s\tremaining: 4.97s\n",
      "450:\tlearn: 0.9360683\ttotal: 2.99s\tremaining: 4.97s\n",
      "451:\tlearn: 0.9362208\ttotal: 3s\tremaining: 4.96s\n",
      "452:\tlearn: 0.9363491\ttotal: 3s\tremaining: 4.96s\n",
      "453:\tlearn: 0.9363947\ttotal: 3.01s\tremaining: 4.95s\n",
      "454:\tlearn: 0.9366287\ttotal: 3.02s\tremaining: 4.94s\n",
      "455:\tlearn: 0.9366765\ttotal: 3.02s\tremaining: 4.93s\n",
      "456:\tlearn: 0.9368520\ttotal: 3.03s\tremaining: 4.92s\n",
      "457:\tlearn: 0.9370020\ttotal: 3.03s\tremaining: 4.92s\n",
      "458:\tlearn: 0.9371250\ttotal: 3.04s\tremaining: 4.91s\n",
      "459:\tlearn: 0.9372721\ttotal: 3.05s\tremaining: 4.9s\n",
      "460:\tlearn: 0.9374125\ttotal: 3.05s\tremaining: 4.89s\n",
      "461:\tlearn: 0.9375013\ttotal: 3.06s\tremaining: 4.88s\n",
      "462:\tlearn: 0.9375887\ttotal: 3.06s\tremaining: 4.88s\n",
      "463:\tlearn: 0.9377501\ttotal: 3.07s\tremaining: 4.87s\n",
      "464:\tlearn: 0.9377977\ttotal: 3.08s\tremaining: 4.86s\n",
      "465:\tlearn: 0.9378871\ttotal: 3.08s\tremaining: 4.85s\n",
      "466:\tlearn: 0.9381381\ttotal: 3.09s\tremaining: 4.84s\n",
      "467:\tlearn: 0.9383776\ttotal: 3.09s\tremaining: 4.84s\n",
      "468:\tlearn: 0.9385640\ttotal: 3.1s\tremaining: 4.83s\n",
      "469:\tlearn: 0.9386175\ttotal: 3.1s\tremaining: 4.82s\n",
      "470:\tlearn: 0.9387797\ttotal: 3.11s\tremaining: 4.81s\n",
      "471:\tlearn: 0.9388873\ttotal: 3.12s\tremaining: 4.81s\n",
      "472:\tlearn: 0.9389680\ttotal: 3.12s\tremaining: 4.8s\n",
      "473:\tlearn: 0.9390653\ttotal: 3.13s\tremaining: 4.79s\n",
      "474:\tlearn: 0.9392200\ttotal: 3.13s\tremaining: 4.78s\n",
      "475:\tlearn: 0.9393262\ttotal: 3.14s\tremaining: 4.78s\n",
      "476:\tlearn: 0.9394580\ttotal: 3.15s\tremaining: 4.77s\n",
      "477:\tlearn: 0.9396055\ttotal: 3.15s\tremaining: 4.76s\n",
      "478:\tlearn: 0.9397860\ttotal: 3.16s\tremaining: 4.76s\n",
      "479:\tlearn: 0.9398920\ttotal: 3.17s\tremaining: 4.75s\n",
      "480:\tlearn: 0.9400895\ttotal: 3.18s\tremaining: 4.75s\n",
      "481:\tlearn: 0.9401763\ttotal: 3.18s\tremaining: 4.74s\n",
      "482:\tlearn: 0.9402909\ttotal: 3.19s\tremaining: 4.74s\n",
      "483:\tlearn: 0.9403865\ttotal: 3.2s\tremaining: 4.73s\n",
      "484:\tlearn: 0.9404835\ttotal: 3.2s\tremaining: 4.72s\n",
      "485:\tlearn: 0.9405886\ttotal: 3.21s\tremaining: 4.71s\n",
      "486:\tlearn: 0.9406811\ttotal: 3.21s\tremaining: 4.71s\n",
      "487:\tlearn: 0.9407238\ttotal: 3.22s\tremaining: 4.7s\n",
      "488:\tlearn: 0.9407943\ttotal: 3.23s\tremaining: 4.69s\n",
      "489:\tlearn: 0.9408281\ttotal: 3.23s\tremaining: 4.68s\n",
      "490:\tlearn: 0.9410120\ttotal: 3.24s\tremaining: 4.67s\n",
      "491:\tlearn: 0.9411186\ttotal: 3.24s\tremaining: 4.67s\n",
      "492:\tlearn: 0.9412235\ttotal: 3.25s\tremaining: 4.66s\n",
      "493:\tlearn: 0.9412959\ttotal: 3.25s\tremaining: 4.65s\n",
      "494:\tlearn: 0.9413673\ttotal: 3.27s\tremaining: 4.66s\n",
      "495:\tlearn: 0.9414982\ttotal: 3.29s\tremaining: 4.67s\n",
      "496:\tlearn: 0.9416885\ttotal: 3.29s\tremaining: 4.66s\n",
      "497:\tlearn: 0.9417355\ttotal: 3.3s\tremaining: 4.66s\n",
      "498:\tlearn: 0.9418280\ttotal: 3.31s\tremaining: 4.65s\n",
      "499:\tlearn: 0.9419592\ttotal: 3.31s\tremaining: 4.64s\n",
      "500:\tlearn: 0.9420222\ttotal: 3.32s\tremaining: 4.63s\n",
      "501:\tlearn: 0.9420380\ttotal: 3.33s\tremaining: 4.63s\n",
      "502:\tlearn: 0.9421657\ttotal: 3.34s\tremaining: 4.62s\n",
      "503:\tlearn: 0.9422418\ttotal: 3.35s\tremaining: 4.62s\n",
      "504:\tlearn: 0.9424667\ttotal: 3.35s\tremaining: 4.62s\n",
      "505:\tlearn: 0.9424756\ttotal: 3.36s\tremaining: 4.61s\n",
      "506:\tlearn: 0.9425542\ttotal: 3.37s\tremaining: 4.6s\n",
      "507:\tlearn: 0.9427121\ttotal: 3.37s\tremaining: 4.59s\n",
      "508:\tlearn: 0.9428034\ttotal: 3.38s\tremaining: 4.58s\n",
      "509:\tlearn: 0.9428914\ttotal: 3.38s\tremaining: 4.58s\n",
      "510:\tlearn: 0.9429522\ttotal: 3.39s\tremaining: 4.57s\n",
      "511:\tlearn: 0.9430903\ttotal: 3.39s\tremaining: 4.56s\n",
      "512:\tlearn: 0.9431438\ttotal: 3.4s\tremaining: 4.55s\n",
      "513:\tlearn: 0.9432977\ttotal: 3.41s\tremaining: 4.55s\n",
      "514:\tlearn: 0.9434110\ttotal: 3.41s\tremaining: 4.54s\n",
      "515:\tlearn: 0.9435515\ttotal: 3.42s\tremaining: 4.53s\n",
      "516:\tlearn: 0.9436825\ttotal: 3.42s\tremaining: 4.52s\n",
      "517:\tlearn: 0.9438016\ttotal: 3.43s\tremaining: 4.52s\n",
      "518:\tlearn: 0.9439612\ttotal: 3.44s\tremaining: 4.51s\n",
      "519:\tlearn: 0.9440098\ttotal: 3.44s\tremaining: 4.5s\n",
      "520:\tlearn: 0.9440734\ttotal: 3.45s\tremaining: 4.49s\n",
      "521:\tlearn: 0.9441029\ttotal: 3.45s\tremaining: 4.49s\n",
      "522:\tlearn: 0.9442537\ttotal: 3.46s\tremaining: 4.48s\n",
      "523:\tlearn: 0.9443418\ttotal: 3.46s\tremaining: 4.47s\n",
      "524:\tlearn: 0.9444146\ttotal: 3.47s\tremaining: 4.46s\n",
      "525:\tlearn: 0.9445434\ttotal: 3.48s\tremaining: 4.46s\n",
      "526:\tlearn: 0.9446768\ttotal: 3.48s\tremaining: 4.45s\n",
      "527:\tlearn: 0.9447314\ttotal: 3.49s\tremaining: 4.44s\n",
      "528:\tlearn: 0.9449272\ttotal: 3.5s\tremaining: 4.43s\n",
      "529:\tlearn: 0.9449860\ttotal: 3.5s\tremaining: 4.42s\n",
      "530:\tlearn: 0.9450250\ttotal: 3.51s\tremaining: 4.42s\n"
     ]
    },
    {
     "name": "stdout",
     "output_type": "stream",
     "text": [
      "531:\tlearn: 0.9451119\ttotal: 3.51s\tremaining: 4.41s\n",
      "532:\tlearn: 0.9451664\ttotal: 3.52s\tremaining: 4.41s\n",
      "533:\tlearn: 0.9452174\ttotal: 3.53s\tremaining: 4.4s\n",
      "534:\tlearn: 0.9452495\ttotal: 3.54s\tremaining: 4.4s\n",
      "535:\tlearn: 0.9453007\ttotal: 3.54s\tremaining: 4.39s\n",
      "536:\tlearn: 0.9453367\ttotal: 3.55s\tremaining: 4.38s\n",
      "537:\tlearn: 0.9453863\ttotal: 3.56s\tremaining: 4.38s\n",
      "538:\tlearn: 0.9454598\ttotal: 3.56s\tremaining: 4.37s\n",
      "539:\tlearn: 0.9454710\ttotal: 3.57s\tremaining: 4.36s\n",
      "540:\tlearn: 0.9455850\ttotal: 3.57s\tremaining: 4.35s\n",
      "541:\tlearn: 0.9457584\ttotal: 3.58s\tremaining: 4.35s\n",
      "542:\tlearn: 0.9458011\ttotal: 3.58s\tremaining: 4.34s\n",
      "543:\tlearn: 0.9459741\ttotal: 3.59s\tremaining: 4.33s\n",
      "544:\tlearn: 0.9460812\ttotal: 3.6s\tremaining: 4.33s\n",
      "545:\tlearn: 0.9461440\ttotal: 3.6s\tremaining: 4.32s\n",
      "546:\tlearn: 0.9462808\ttotal: 3.61s\tremaining: 4.31s\n",
      "547:\tlearn: 0.9464240\ttotal: 3.62s\tremaining: 4.3s\n",
      "548:\tlearn: 0.9465045\ttotal: 3.62s\tremaining: 4.29s\n",
      "549:\tlearn: 0.9466666\ttotal: 3.63s\tremaining: 4.29s\n",
      "550:\tlearn: 0.9467700\ttotal: 3.63s\tremaining: 4.28s\n",
      "551:\tlearn: 0.9468076\ttotal: 3.64s\tremaining: 4.27s\n",
      "552:\tlearn: 0.9468750\ttotal: 3.65s\tremaining: 4.26s\n",
      "553:\tlearn: 0.9469791\ttotal: 3.65s\tremaining: 4.26s\n",
      "554:\tlearn: 0.9470488\ttotal: 3.66s\tremaining: 4.25s\n",
      "555:\tlearn: 0.9472408\ttotal: 3.66s\tremaining: 4.24s\n",
      "556:\tlearn: 0.9475570\ttotal: 3.67s\tremaining: 4.24s\n",
      "557:\tlearn: 0.9476824\ttotal: 3.67s\tremaining: 4.23s\n",
      "558:\tlearn: 0.9477908\ttotal: 3.68s\tremaining: 4.22s\n",
      "559:\tlearn: 0.9478843\ttotal: 3.69s\tremaining: 4.21s\n",
      "560:\tlearn: 0.9479845\ttotal: 3.7s\tremaining: 4.21s\n",
      "561:\tlearn: 0.9480484\ttotal: 3.7s\tremaining: 4.2s\n",
      "562:\tlearn: 0.9480922\ttotal: 3.71s\tremaining: 4.2s\n",
      "563:\tlearn: 0.9482032\ttotal: 3.72s\tremaining: 4.19s\n",
      "564:\tlearn: 0.9482806\ttotal: 3.72s\tremaining: 4.18s\n",
      "565:\tlearn: 0.9484024\ttotal: 3.73s\tremaining: 4.18s\n",
      "566:\tlearn: 0.9485035\ttotal: 3.73s\tremaining: 4.17s\n",
      "567:\tlearn: 0.9485721\ttotal: 3.74s\tremaining: 4.16s\n",
      "568:\tlearn: 0.9486441\ttotal: 3.75s\tremaining: 4.16s\n",
      "569:\tlearn: 0.9486464\ttotal: 3.75s\tremaining: 4.15s\n",
      "570:\tlearn: 0.9487050\ttotal: 3.76s\tremaining: 4.14s\n",
      "571:\tlearn: 0.9488547\ttotal: 3.77s\tremaining: 4.13s\n",
      "572:\tlearn: 0.9489434\ttotal: 3.77s\tremaining: 4.13s\n",
      "573:\tlearn: 0.9491175\ttotal: 3.78s\tremaining: 4.12s\n",
      "574:\tlearn: 0.9492019\ttotal: 3.78s\tremaining: 4.11s\n",
      "575:\tlearn: 0.9492866\ttotal: 3.79s\tremaining: 4.1s\n",
      "576:\tlearn: 0.9493567\ttotal: 3.79s\tremaining: 4.1s\n",
      "577:\tlearn: 0.9494971\ttotal: 3.8s\tremaining: 4.09s\n",
      "578:\tlearn: 0.9495882\ttotal: 3.81s\tremaining: 4.08s\n",
      "579:\tlearn: 0.9496678\ttotal: 3.81s\tremaining: 4.08s\n",
      "580:\tlearn: 0.9498225\ttotal: 3.82s\tremaining: 4.07s\n",
      "581:\tlearn: 0.9499068\ttotal: 3.82s\tremaining: 4.06s\n",
      "582:\tlearn: 0.9499849\ttotal: 3.83s\tremaining: 4.05s\n",
      "583:\tlearn: 0.9500107\ttotal: 3.84s\tremaining: 4.05s\n",
      "584:\tlearn: 0.9500704\ttotal: 3.84s\tremaining: 4.04s\n",
      "585:\tlearn: 0.9500897\ttotal: 3.85s\tremaining: 4.03s\n",
      "586:\tlearn: 0.9502807\ttotal: 3.85s\tremaining: 4.02s\n",
      "587:\tlearn: 0.9503416\ttotal: 3.86s\tremaining: 4.02s\n",
      "588:\tlearn: 0.9503670\ttotal: 3.87s\tremaining: 4.01s\n",
      "589:\tlearn: 0.9504298\ttotal: 3.87s\tremaining: 4s\n",
      "590:\tlearn: 0.9505505\ttotal: 3.88s\tremaining: 4s\n",
      "591:\tlearn: 0.9506302\ttotal: 3.89s\tremaining: 3.99s\n",
      "592:\tlearn: 0.9507126\ttotal: 3.9s\tremaining: 3.99s\n",
      "593:\tlearn: 0.9507638\ttotal: 3.9s\tremaining: 3.98s\n",
      "594:\tlearn: 0.9508179\ttotal: 3.91s\tremaining: 3.97s\n",
      "595:\tlearn: 0.9508821\ttotal: 3.91s\tremaining: 3.96s\n",
      "596:\tlearn: 0.9509415\ttotal: 3.92s\tremaining: 3.96s\n",
      "597:\tlearn: 0.9510836\ttotal: 3.92s\tremaining: 3.95s\n",
      "598:\tlearn: 0.9511097\ttotal: 3.93s\tremaining: 3.94s\n",
      "599:\tlearn: 0.9512020\ttotal: 3.93s\tremaining: 3.93s\n",
      "600:\tlearn: 0.9512341\ttotal: 3.94s\tremaining: 3.93s\n",
      "601:\tlearn: 0.9513241\ttotal: 3.95s\tremaining: 3.92s\n",
      "602:\tlearn: 0.9514584\ttotal: 3.95s\tremaining: 3.91s\n",
      "603:\tlearn: 0.9514870\ttotal: 3.96s\tremaining: 3.9s\n",
      "604:\tlearn: 0.9515173\ttotal: 3.96s\tremaining: 3.9s\n",
      "605:\tlearn: 0.9515435\ttotal: 3.97s\tremaining: 3.89s\n",
      "606:\tlearn: 0.9515895\ttotal: 3.98s\tremaining: 3.88s\n",
      "607:\tlearn: 0.9517023\ttotal: 3.98s\tremaining: 3.88s\n",
      "608:\tlearn: 0.9517996\ttotal: 3.99s\tremaining: 3.87s\n",
      "609:\tlearn: 0.9519314\ttotal: 4s\tremaining: 3.86s\n",
      "610:\tlearn: 0.9520454\ttotal: 4s\tremaining: 3.86s\n",
      "611:\tlearn: 0.9521005\ttotal: 4.01s\tremaining: 3.85s\n",
      "612:\tlearn: 0.9521674\ttotal: 4.01s\tremaining: 3.84s\n",
      "613:\tlearn: 0.9522070\ttotal: 4.02s\tremaining: 3.83s\n",
      "614:\tlearn: 0.9522830\ttotal: 4.02s\tremaining: 3.83s\n",
      "615:\tlearn: 0.9523788\ttotal: 4.03s\tremaining: 3.82s\n",
      "616:\tlearn: 0.9524724\ttotal: 4.04s\tremaining: 3.81s\n",
      "617:\tlearn: 0.9524742\ttotal: 4.04s\tremaining: 3.81s\n",
      "618:\tlearn: 0.9525695\ttotal: 4.05s\tremaining: 3.8s\n",
      "619:\tlearn: 0.9526418\ttotal: 4.06s\tremaining: 3.79s\n",
      "620:\tlearn: 0.9526856\ttotal: 4.06s\tremaining: 3.79s\n",
      "621:\tlearn: 0.9528076\ttotal: 4.07s\tremaining: 3.78s\n",
      "622:\tlearn: 0.9528720\ttotal: 4.08s\tremaining: 3.78s\n",
      "623:\tlearn: 0.9530126\ttotal: 4.08s\tremaining: 3.77s\n",
      "624:\tlearn: 0.9530937\ttotal: 4.09s\tremaining: 3.76s\n",
      "625:\tlearn: 0.9531210\ttotal: 4.1s\tremaining: 3.75s\n",
      "626:\tlearn: 0.9532184\ttotal: 4.1s\tremaining: 3.75s\n",
      "627:\tlearn: 0.9533440\ttotal: 4.11s\tremaining: 3.74s\n",
      "628:\tlearn: 0.9533915\ttotal: 4.11s\tremaining: 3.73s\n",
      "629:\tlearn: 0.9535049\ttotal: 4.12s\tremaining: 3.73s\n",
      "630:\tlearn: 0.9535856\ttotal: 4.13s\tremaining: 3.72s\n",
      "631:\tlearn: 0.9537041\ttotal: 4.13s\tremaining: 3.71s\n",
      "632:\tlearn: 0.9537867\ttotal: 4.14s\tremaining: 3.71s\n",
      "633:\tlearn: 0.9538325\ttotal: 4.14s\tremaining: 3.7s\n",
      "634:\tlearn: 0.9538570\ttotal: 4.15s\tremaining: 3.69s\n",
      "635:\tlearn: 0.9538660\ttotal: 4.16s\tremaining: 3.68s\n",
      "636:\tlearn: 0.9539982\ttotal: 4.16s\tremaining: 3.68s\n",
      "637:\tlearn: 0.9541156\ttotal: 4.17s\tremaining: 3.67s\n",
      "638:\tlearn: 0.9541277\ttotal: 4.17s\tremaining: 3.66s\n",
      "639:\tlearn: 0.9541391\ttotal: 4.18s\tremaining: 3.66s\n",
      "640:\tlearn: 0.9541913\ttotal: 4.18s\tremaining: 3.65s\n",
      "641:\tlearn: 0.9542483\ttotal: 4.19s\tremaining: 3.64s\n",
      "642:\tlearn: 0.9542722\ttotal: 4.2s\tremaining: 3.63s\n",
      "643:\tlearn: 0.9543529\ttotal: 4.2s\tremaining: 3.63s\n",
      "644:\tlearn: 0.9544209\ttotal: 4.21s\tremaining: 3.62s\n",
      "645:\tlearn: 0.9544823\ttotal: 4.21s\tremaining: 3.61s\n",
      "646:\tlearn: 0.9545187\ttotal: 4.22s\tremaining: 3.61s\n",
      "647:\tlearn: 0.9546035\ttotal: 4.23s\tremaining: 3.6s\n",
      "648:\tlearn: 0.9546429\ttotal: 4.23s\tremaining: 3.59s\n",
      "649:\tlearn: 0.9546846\ttotal: 4.24s\tremaining: 3.59s\n",
      "650:\tlearn: 0.9547472\ttotal: 4.25s\tremaining: 3.58s\n",
      "651:\tlearn: 0.9548052\ttotal: 4.26s\tremaining: 3.58s\n",
      "652:\tlearn: 0.9548823\ttotal: 4.26s\tremaining: 3.57s\n",
      "653:\tlearn: 0.9549870\ttotal: 4.27s\tremaining: 3.56s\n",
      "654:\tlearn: 0.9550347\ttotal: 4.28s\tremaining: 3.56s\n",
      "655:\tlearn: 0.9551175\ttotal: 4.28s\tremaining: 3.55s\n",
      "656:\tlearn: 0.9552110\ttotal: 4.29s\tremaining: 3.54s\n",
      "657:\tlearn: 0.9552582\ttotal: 4.29s\tremaining: 3.54s\n",
      "658:\tlearn: 0.9553963\ttotal: 4.3s\tremaining: 3.53s\n",
      "659:\tlearn: 0.9554331\ttotal: 4.3s\tremaining: 3.52s\n",
      "660:\tlearn: 0.9555315\ttotal: 4.31s\tremaining: 3.52s\n",
      "661:\tlearn: 0.9555753\ttotal: 4.32s\tremaining: 3.51s\n",
      "662:\tlearn: 0.9556589\ttotal: 4.32s\tremaining: 3.5s\n",
      "663:\tlearn: 0.9556995\ttotal: 4.33s\tremaining: 3.5s\n",
      "664:\tlearn: 0.9557964\ttotal: 4.33s\tremaining: 3.49s\n",
      "665:\tlearn: 0.9558964\ttotal: 4.34s\tremaining: 3.48s\n",
      "666:\tlearn: 0.9559386\ttotal: 4.35s\tremaining: 3.47s\n",
      "667:\tlearn: 0.9560333\ttotal: 4.35s\tremaining: 3.47s\n",
      "668:\tlearn: 0.9560916\ttotal: 4.36s\tremaining: 3.46s\n",
      "669:\tlearn: 0.9562286\ttotal: 4.37s\tremaining: 3.45s\n",
      "670:\tlearn: 0.9563202\ttotal: 4.37s\tremaining: 3.45s\n",
      "671:\tlearn: 0.9563926\ttotal: 4.38s\tremaining: 3.44s\n",
      "672:\tlearn: 0.9564163\ttotal: 4.38s\tremaining: 3.43s\n",
      "673:\tlearn: 0.9565150\ttotal: 4.39s\tremaining: 3.43s\n",
      "674:\tlearn: 0.9565930\ttotal: 4.4s\tremaining: 3.42s\n",
      "675:\tlearn: 0.9566376\ttotal: 4.4s\tremaining: 3.41s\n",
      "676:\tlearn: 0.9567143\ttotal: 4.41s\tremaining: 3.4s\n",
      "677:\tlearn: 0.9567647\ttotal: 4.42s\tremaining: 3.4s\n",
      "678:\tlearn: 0.9568239\ttotal: 4.42s\tremaining: 3.39s\n",
      "679:\tlearn: 0.9568871\ttotal: 4.43s\tremaining: 3.39s\n",
      "680:\tlearn: 0.9569279\ttotal: 4.44s\tremaining: 3.38s\n",
      "681:\tlearn: 0.9570405\ttotal: 4.44s\tremaining: 3.38s\n",
      "682:\tlearn: 0.9570985\ttotal: 4.45s\tremaining: 3.37s\n",
      "683:\tlearn: 0.9571459\ttotal: 4.46s\tremaining: 3.36s\n",
      "684:\tlearn: 0.9572192\ttotal: 4.46s\tremaining: 3.35s\n",
      "685:\tlearn: 0.9572659\ttotal: 4.47s\tremaining: 3.35s\n",
      "686:\tlearn: 0.9572665\ttotal: 4.47s\tremaining: 3.34s\n",
      "687:\tlearn: 0.9573029\ttotal: 4.48s\tremaining: 3.33s\n",
      "688:\tlearn: 0.9574161\ttotal: 4.49s\tremaining: 3.33s\n",
      "689:\tlearn: 0.9574799\ttotal: 4.49s\tremaining: 3.32s\n",
      "690:\tlearn: 0.9575023\ttotal: 4.5s\tremaining: 3.31s\n",
      "691:\tlearn: 0.9575716\ttotal: 4.5s\tremaining: 3.31s\n",
      "692:\tlearn: 0.9576537\ttotal: 4.51s\tremaining: 3.3s\n",
      "693:\tlearn: 0.9577116\ttotal: 4.51s\tremaining: 3.29s\n",
      "694:\tlearn: 0.9577892\ttotal: 4.52s\tremaining: 3.29s\n",
      "695:\tlearn: 0.9578400\ttotal: 4.53s\tremaining: 3.28s\n",
      "696:\tlearn: 0.9579177\ttotal: 4.53s\tremaining: 3.27s\n",
      "697:\tlearn: 0.9580274\ttotal: 4.54s\tremaining: 3.26s\n",
      "698:\tlearn: 0.9580658\ttotal: 4.54s\tremaining: 3.26s\n",
      "699:\tlearn: 0.9581379\ttotal: 4.55s\tremaining: 3.25s\n",
      "700:\tlearn: 0.9582234\ttotal: 4.56s\tremaining: 3.24s\n",
      "701:\tlearn: 0.9582696\ttotal: 4.56s\tremaining: 3.24s\n",
      "702:\tlearn: 0.9583333\ttotal: 4.57s\tremaining: 3.23s\n",
      "703:\tlearn: 0.9584240\ttotal: 4.58s\tremaining: 3.22s\n",
      "704:\tlearn: 0.9584617\ttotal: 4.58s\tremaining: 3.22s\n",
      "705:\tlearn: 0.9585049\ttotal: 4.59s\tremaining: 3.21s\n"
     ]
    },
    {
     "name": "stdout",
     "output_type": "stream",
     "text": [
      "706:\tlearn: 0.9585764\ttotal: 4.6s\tremaining: 3.21s\n",
      "707:\tlearn: 0.9586272\ttotal: 4.6s\tremaining: 3.2s\n",
      "708:\tlearn: 0.9586517\ttotal: 4.61s\tremaining: 3.19s\n",
      "709:\tlearn: 0.9587343\ttotal: 4.62s\tremaining: 3.19s\n",
      "710:\tlearn: 0.9588142\ttotal: 4.63s\tremaining: 3.18s\n",
      "711:\tlearn: 0.9589061\ttotal: 4.63s\tremaining: 3.17s\n",
      "712:\tlearn: 0.9589992\ttotal: 4.64s\tremaining: 3.17s\n",
      "713:\tlearn: 0.9590901\ttotal: 4.64s\tremaining: 3.16s\n",
      "714:\tlearn: 0.9591251\ttotal: 4.65s\tremaining: 3.15s\n",
      "715:\tlearn: 0.9592147\ttotal: 4.66s\tremaining: 3.15s\n",
      "716:\tlearn: 0.9592582\ttotal: 4.66s\tremaining: 3.14s\n",
      "717:\tlearn: 0.9593013\ttotal: 4.67s\tremaining: 3.13s\n",
      "718:\tlearn: 0.9593382\ttotal: 4.67s\tremaining: 3.13s\n",
      "719:\tlearn: 0.9594102\ttotal: 4.68s\tremaining: 3.12s\n",
      "720:\tlearn: 0.9594634\ttotal: 4.68s\tremaining: 3.11s\n",
      "721:\tlearn: 0.9595398\ttotal: 4.69s\tremaining: 3.1s\n",
      "722:\tlearn: 0.9596089\ttotal: 4.7s\tremaining: 3.1s\n",
      "723:\tlearn: 0.9596437\ttotal: 4.7s\tremaining: 3.09s\n",
      "724:\tlearn: 0.9597061\ttotal: 4.71s\tremaining: 3.08s\n",
      "725:\tlearn: 0.9597392\ttotal: 4.71s\tremaining: 3.08s\n",
      "726:\tlearn: 0.9598405\ttotal: 4.72s\tremaining: 3.07s\n",
      "727:\tlearn: 0.9599181\ttotal: 4.73s\tremaining: 3.06s\n",
      "728:\tlearn: 0.9599427\ttotal: 4.73s\tremaining: 3.06s\n",
      "729:\tlearn: 0.9599902\ttotal: 4.74s\tremaining: 3.05s\n",
      "730:\tlearn: 0.9600271\ttotal: 4.74s\tremaining: 3.04s\n",
      "731:\tlearn: 0.9600727\ttotal: 4.75s\tremaining: 3.04s\n",
      "732:\tlearn: 0.9601681\ttotal: 4.75s\tremaining: 3.03s\n",
      "733:\tlearn: 0.9602271\ttotal: 4.76s\tremaining: 3.02s\n",
      "734:\tlearn: 0.9602890\ttotal: 4.77s\tremaining: 3.02s\n",
      "735:\tlearn: 0.9603882\ttotal: 4.78s\tremaining: 3.01s\n",
      "736:\tlearn: 0.9604263\ttotal: 4.78s\tremaining: 3s\n",
      "737:\tlearn: 0.9604906\ttotal: 4.79s\tremaining: 3s\n",
      "738:\tlearn: 0.9605990\ttotal: 4.8s\tremaining: 2.99s\n",
      "739:\tlearn: 0.9607014\ttotal: 4.81s\tremaining: 2.99s\n",
      "740:\tlearn: 0.9607771\ttotal: 4.81s\tremaining: 2.98s\n",
      "741:\tlearn: 0.9608170\ttotal: 4.82s\tremaining: 2.97s\n",
      "742:\tlearn: 0.9608367\ttotal: 4.82s\tremaining: 2.97s\n",
      "743:\tlearn: 0.9608863\ttotal: 4.83s\tremaining: 2.96s\n",
      "744:\tlearn: 0.9609494\ttotal: 4.83s\tremaining: 2.95s\n",
      "745:\tlearn: 0.9610116\ttotal: 4.84s\tremaining: 2.95s\n",
      "746:\tlearn: 0.9610788\ttotal: 4.85s\tremaining: 2.94s\n",
      "747:\tlearn: 0.9611022\ttotal: 4.85s\tremaining: 2.93s\n",
      "748:\tlearn: 0.9611857\ttotal: 4.86s\tremaining: 2.92s\n",
      "749:\tlearn: 0.9612604\ttotal: 4.86s\tremaining: 2.92s\n",
      "750:\tlearn: 0.9612916\ttotal: 4.87s\tremaining: 2.91s\n",
      "751:\tlearn: 0.9613961\ttotal: 4.87s\tremaining: 2.9s\n",
      "752:\tlearn: 0.9614786\ttotal: 4.88s\tremaining: 2.9s\n",
      "753:\tlearn: 0.9615456\ttotal: 4.89s\tremaining: 2.89s\n",
      "754:\tlearn: 0.9616474\ttotal: 4.89s\tremaining: 2.88s\n",
      "755:\tlearn: 0.9617151\ttotal: 4.9s\tremaining: 2.88s\n",
      "756:\tlearn: 0.9617612\ttotal: 4.9s\tremaining: 2.87s\n",
      "757:\tlearn: 0.9617978\ttotal: 4.91s\tremaining: 2.86s\n",
      "758:\tlearn: 0.9618681\ttotal: 4.92s\tremaining: 2.86s\n",
      "759:\tlearn: 0.9619385\ttotal: 4.92s\tremaining: 2.85s\n",
      "760:\tlearn: 0.9620399\ttotal: 4.93s\tremaining: 2.84s\n",
      "761:\tlearn: 0.9620682\ttotal: 4.93s\tremaining: 2.84s\n",
      "762:\tlearn: 0.9620749\ttotal: 4.94s\tremaining: 2.83s\n",
      "763:\tlearn: 0.9621012\ttotal: 4.95s\tremaining: 2.82s\n",
      "764:\tlearn: 0.9621237\ttotal: 4.96s\tremaining: 2.82s\n",
      "765:\tlearn: 0.9621508\ttotal: 4.96s\tremaining: 2.81s\n",
      "766:\tlearn: 0.9621712\ttotal: 4.97s\tremaining: 2.81s\n",
      "767:\tlearn: 0.9621961\ttotal: 4.98s\tremaining: 2.8s\n",
      "768:\tlearn: 0.9622492\ttotal: 4.98s\tremaining: 2.79s\n",
      "769:\tlearn: 0.9622955\ttotal: 4.99s\tremaining: 2.79s\n",
      "770:\tlearn: 0.9623648\ttotal: 5s\tremaining: 2.78s\n",
      "771:\tlearn: 0.9624309\ttotal: 5s\tremaining: 2.77s\n",
      "772:\tlearn: 0.9625150\ttotal: 5.01s\tremaining: 2.77s\n",
      "773:\tlearn: 0.9625639\ttotal: 5.01s\tremaining: 2.76s\n",
      "774:\tlearn: 0.9626402\ttotal: 5.02s\tremaining: 2.75s\n",
      "775:\tlearn: 0.9627089\ttotal: 5.03s\tremaining: 2.75s\n",
      "776:\tlearn: 0.9627795\ttotal: 5.03s\tremaining: 2.74s\n",
      "777:\tlearn: 0.9628527\ttotal: 5.04s\tremaining: 2.73s\n",
      "778:\tlearn: 0.9629161\ttotal: 5.04s\tremaining: 2.73s\n",
      "779:\tlearn: 0.9629325\ttotal: 5.05s\tremaining: 2.72s\n",
      "780:\tlearn: 0.9630265\ttotal: 5.05s\tremaining: 2.71s\n",
      "781:\tlearn: 0.9630490\ttotal: 5.06s\tremaining: 2.71s\n",
      "782:\tlearn: 0.9631057\ttotal: 5.07s\tremaining: 2.7s\n",
      "783:\tlearn: 0.9631620\ttotal: 5.07s\tremaining: 2.69s\n",
      "784:\tlearn: 0.9632269\ttotal: 5.08s\tremaining: 2.69s\n",
      "785:\tlearn: 0.9632889\ttotal: 5.08s\tremaining: 2.68s\n",
      "786:\tlearn: 0.9633510\ttotal: 5.09s\tremaining: 2.67s\n",
      "787:\tlearn: 0.9633883\ttotal: 5.1s\tremaining: 2.66s\n",
      "788:\tlearn: 0.9634336\ttotal: 5.1s\tremaining: 2.66s\n",
      "789:\tlearn: 0.9634551\ttotal: 5.11s\tremaining: 2.65s\n",
      "790:\tlearn: 0.9635093\ttotal: 5.11s\tremaining: 2.64s\n",
      "791:\tlearn: 0.9635108\ttotal: 5.12s\tremaining: 2.64s\n",
      "792:\tlearn: 0.9635478\ttotal: 5.13s\tremaining: 2.63s\n",
      "793:\tlearn: 0.9635900\ttotal: 5.13s\tremaining: 2.63s\n",
      "794:\tlearn: 0.9636312\ttotal: 5.14s\tremaining: 2.62s\n",
      "795:\tlearn: 0.9636719\ttotal: 5.15s\tremaining: 2.61s\n",
      "796:\tlearn: 0.9637525\ttotal: 5.16s\tremaining: 2.61s\n",
      "797:\tlearn: 0.9638518\ttotal: 5.16s\tremaining: 2.6s\n",
      "798:\tlearn: 0.9639168\ttotal: 5.17s\tremaining: 2.59s\n",
      "799:\tlearn: 0.9639829\ttotal: 5.17s\tremaining: 2.59s\n",
      "800:\tlearn: 0.9640731\ttotal: 5.18s\tremaining: 2.58s\n",
      "801:\tlearn: 0.9641157\ttotal: 5.19s\tremaining: 2.57s\n",
      "802:\tlearn: 0.9641555\ttotal: 5.19s\tremaining: 2.57s\n",
      "803:\tlearn: 0.9642159\ttotal: 5.2s\tremaining: 2.56s\n",
      "804:\tlearn: 0.9642919\ttotal: 5.2s\tremaining: 2.55s\n",
      "805:\tlearn: 0.9643602\ttotal: 5.21s\tremaining: 2.55s\n",
      "806:\tlearn: 0.9643766\ttotal: 5.21s\tremaining: 2.54s\n",
      "807:\tlearn: 0.9644210\ttotal: 5.22s\tremaining: 2.53s\n",
      "808:\tlearn: 0.9644522\ttotal: 5.23s\tremaining: 2.53s\n",
      "809:\tlearn: 0.9645101\ttotal: 5.23s\tremaining: 2.52s\n",
      "810:\tlearn: 0.9645823\ttotal: 5.24s\tremaining: 2.51s\n",
      "811:\tlearn: 0.9646536\ttotal: 5.25s\tremaining: 2.51s\n",
      "812:\tlearn: 0.9646921\ttotal: 5.25s\tremaining: 2.5s\n",
      "813:\tlearn: 0.9647337\ttotal: 5.26s\tremaining: 2.49s\n",
      "814:\tlearn: 0.9648028\ttotal: 5.26s\tremaining: 2.49s\n",
      "815:\tlearn: 0.9648176\ttotal: 5.27s\tremaining: 2.48s\n",
      "816:\tlearn: 0.9648444\ttotal: 5.27s\tremaining: 2.47s\n",
      "817:\tlearn: 0.9649046\ttotal: 5.28s\tremaining: 2.47s\n",
      "818:\tlearn: 0.9649419\ttotal: 5.29s\tremaining: 2.46s\n",
      "819:\tlearn: 0.9649630\ttotal: 5.29s\tremaining: 2.45s\n",
      "820:\tlearn: 0.9650022\ttotal: 5.3s\tremaining: 2.44s\n",
      "821:\tlearn: 0.9650599\ttotal: 5.3s\tremaining: 2.44s\n",
      "822:\tlearn: 0.9651143\ttotal: 5.31s\tremaining: 2.43s\n",
      "823:\tlearn: 0.9651753\ttotal: 5.32s\tremaining: 2.43s\n",
      "824:\tlearn: 0.9652098\ttotal: 5.33s\tremaining: 2.42s\n",
      "825:\tlearn: 0.9652297\ttotal: 5.33s\tremaining: 2.42s\n",
      "826:\tlearn: 0.9653017\ttotal: 5.34s\tremaining: 2.41s\n",
      "827:\tlearn: 0.9653474\ttotal: 5.35s\tremaining: 2.4s\n",
      "828:\tlearn: 0.9653849\ttotal: 5.36s\tremaining: 2.4s\n",
      "829:\tlearn: 0.9654370\ttotal: 5.37s\tremaining: 2.39s\n",
      "830:\tlearn: 0.9655088\ttotal: 5.37s\tremaining: 2.39s\n",
      "831:\tlearn: 0.9655500\ttotal: 5.38s\tremaining: 2.38s\n",
      "832:\tlearn: 0.9655733\ttotal: 5.39s\tremaining: 2.37s\n",
      "833:\tlearn: 0.9656236\ttotal: 5.4s\tremaining: 2.37s\n",
      "834:\tlearn: 0.9656816\ttotal: 5.41s\tremaining: 2.36s\n",
      "835:\tlearn: 0.9657306\ttotal: 5.42s\tremaining: 2.36s\n",
      "836:\tlearn: 0.9657890\ttotal: 5.42s\tremaining: 2.35s\n",
      "837:\tlearn: 0.9658225\ttotal: 5.43s\tremaining: 2.35s\n",
      "838:\tlearn: 0.9658709\ttotal: 5.44s\tremaining: 2.34s\n",
      "839:\tlearn: 0.9659154\ttotal: 5.45s\tremaining: 2.33s\n",
      "840:\tlearn: 0.9659331\ttotal: 5.45s\tremaining: 2.33s\n",
      "841:\tlearn: 0.9659657\ttotal: 5.46s\tremaining: 2.32s\n",
      "842:\tlearn: 0.9660208\ttotal: 5.47s\tremaining: 2.32s\n",
      "843:\tlearn: 0.9660345\ttotal: 5.48s\tremaining: 2.31s\n",
      "844:\tlearn: 0.9660894\ttotal: 5.49s\tremaining: 2.31s\n",
      "845:\tlearn: 0.9661500\ttotal: 5.5s\tremaining: 2.3s\n",
      "846:\tlearn: 0.9661776\ttotal: 5.5s\tremaining: 2.29s\n",
      "847:\tlearn: 0.9662294\ttotal: 5.51s\tremaining: 2.29s\n",
      "848:\tlearn: 0.9662453\ttotal: 5.52s\tremaining: 2.28s\n",
      "849:\tlearn: 0.9662624\ttotal: 5.52s\tremaining: 2.27s\n",
      "850:\tlearn: 0.9663080\ttotal: 5.53s\tremaining: 2.27s\n",
      "851:\tlearn: 0.9663507\ttotal: 5.54s\tremaining: 2.26s\n",
      "852:\tlearn: 0.9663801\ttotal: 5.55s\tremaining: 2.26s\n",
      "853:\tlearn: 0.9664360\ttotal: 5.55s\tremaining: 2.25s\n",
      "854:\tlearn: 0.9664691\ttotal: 5.56s\tremaining: 2.24s\n",
      "855:\tlearn: 0.9665075\ttotal: 5.57s\tremaining: 2.24s\n",
      "856:\tlearn: 0.9665344\ttotal: 5.58s\tremaining: 2.23s\n",
      "857:\tlearn: 0.9665647\ttotal: 5.58s\tremaining: 2.23s\n",
      "858:\tlearn: 0.9665948\ttotal: 5.59s\tremaining: 2.22s\n",
      "859:\tlearn: 0.9666231\ttotal: 5.59s\tremaining: 2.21s\n",
      "860:\tlearn: 0.9666703\ttotal: 5.6s\tremaining: 2.21s\n",
      "861:\tlearn: 0.9667273\ttotal: 5.61s\tremaining: 2.2s\n",
      "862:\tlearn: 0.9667524\ttotal: 5.61s\tremaining: 2.19s\n",
      "863:\tlearn: 0.9667945\ttotal: 5.62s\tremaining: 2.19s\n",
      "864:\tlearn: 0.9668160\ttotal: 5.63s\tremaining: 2.18s\n",
      "865:\tlearn: 0.9668563\ttotal: 5.63s\tremaining: 2.17s\n",
      "866:\tlearn: 0.9669295\ttotal: 5.64s\tremaining: 2.17s\n",
      "867:\tlearn: 0.9669473\ttotal: 5.64s\tremaining: 2.16s\n",
      "868:\tlearn: 0.9669873\ttotal: 5.65s\tremaining: 2.15s\n",
      "869:\tlearn: 0.9670279\ttotal: 5.66s\tremaining: 2.15s\n",
      "870:\tlearn: 0.9670924\ttotal: 5.66s\tremaining: 2.14s\n"
     ]
    },
    {
     "name": "stdout",
     "output_type": "stream",
     "text": [
      "871:\tlearn: 0.9671108\ttotal: 5.67s\tremaining: 2.13s\n",
      "872:\tlearn: 0.9671756\ttotal: 5.68s\tremaining: 2.13s\n",
      "873:\tlearn: 0.9672206\ttotal: 5.68s\tremaining: 2.12s\n",
      "874:\tlearn: 0.9672842\ttotal: 5.69s\tremaining: 2.11s\n",
      "875:\tlearn: 0.9673019\ttotal: 5.7s\tremaining: 2.11s\n",
      "876:\tlearn: 0.9674009\ttotal: 5.71s\tremaining: 2.1s\n",
      "877:\tlearn: 0.9674307\ttotal: 5.71s\tremaining: 2.09s\n",
      "878:\tlearn: 0.9674782\ttotal: 5.72s\tremaining: 2.09s\n",
      "879:\tlearn: 0.9675271\ttotal: 5.72s\tremaining: 2.08s\n",
      "880:\tlearn: 0.9675876\ttotal: 5.73s\tremaining: 2.08s\n",
      "881:\tlearn: 0.9676220\ttotal: 5.74s\tremaining: 2.07s\n",
      "882:\tlearn: 0.9676579\ttotal: 5.74s\tremaining: 2.06s\n",
      "883:\tlearn: 0.9677114\ttotal: 5.75s\tremaining: 2.06s\n",
      "884:\tlearn: 0.9677603\ttotal: 5.76s\tremaining: 2.05s\n",
      "885:\tlearn: 0.9678092\ttotal: 5.76s\tremaining: 2.04s\n",
      "886:\tlearn: 0.9678905\ttotal: 5.77s\tremaining: 2.04s\n",
      "887:\tlearn: 0.9679490\ttotal: 5.78s\tremaining: 2.03s\n",
      "888:\tlearn: 0.9679834\ttotal: 5.78s\tremaining: 2.02s\n",
      "889:\tlearn: 0.9680074\ttotal: 5.79s\tremaining: 2.02s\n",
      "890:\tlearn: 0.9680368\ttotal: 5.79s\tremaining: 2.01s\n",
      "891:\tlearn: 0.9680687\ttotal: 5.8s\tremaining: 2s\n",
      "892:\tlearn: 0.9681217\ttotal: 5.81s\tremaining: 2s\n",
      "893:\tlearn: 0.9681472\ttotal: 5.81s\tremaining: 1.99s\n",
      "894:\tlearn: 0.9681878\ttotal: 5.82s\tremaining: 1.98s\n",
      "895:\tlearn: 0.9682506\ttotal: 5.82s\tremaining: 1.98s\n",
      "896:\tlearn: 0.9682886\ttotal: 5.83s\tremaining: 1.97s\n",
      "897:\tlearn: 0.9683219\ttotal: 5.84s\tremaining: 1.96s\n",
      "898:\tlearn: 0.9683829\ttotal: 5.85s\tremaining: 1.96s\n",
      "899:\tlearn: 0.9684373\ttotal: 5.86s\tremaining: 1.95s\n",
      "900:\tlearn: 0.9684745\ttotal: 5.87s\tremaining: 1.95s\n",
      "901:\tlearn: 0.9685096\ttotal: 5.88s\tremaining: 1.94s\n",
      "902:\tlearn: 0.9685459\ttotal: 5.88s\tremaining: 1.94s\n",
      "903:\tlearn: 0.9685917\ttotal: 5.89s\tremaining: 1.93s\n",
      "904:\tlearn: 0.9686202\ttotal: 5.9s\tremaining: 1.92s\n",
      "905:\tlearn: 0.9686561\ttotal: 5.91s\tremaining: 1.92s\n",
      "906:\tlearn: 0.9686990\ttotal: 5.92s\tremaining: 1.91s\n",
      "907:\tlearn: 0.9687430\ttotal: 5.92s\tremaining: 1.91s\n",
      "908:\tlearn: 0.9687664\ttotal: 5.93s\tremaining: 1.9s\n",
      "909:\tlearn: 0.9688010\ttotal: 5.94s\tremaining: 1.89s\n",
      "910:\tlearn: 0.9688511\ttotal: 5.95s\tremaining: 1.89s\n",
      "911:\tlearn: 0.9688787\ttotal: 5.95s\tremaining: 1.88s\n",
      "912:\tlearn: 0.9689362\ttotal: 5.96s\tremaining: 1.87s\n",
      "913:\tlearn: 0.9689760\ttotal: 5.97s\tremaining: 1.87s\n",
      "914:\tlearn: 0.9690084\ttotal: 5.98s\tremaining: 1.86s\n",
      "915:\tlearn: 0.9690684\ttotal: 5.98s\tremaining: 1.85s\n",
      "916:\tlearn: 0.9691291\ttotal: 5.99s\tremaining: 1.85s\n",
      "917:\tlearn: 0.9691778\ttotal: 6s\tremaining: 1.84s\n",
      "918:\tlearn: 0.9692325\ttotal: 6.01s\tremaining: 1.84s\n",
      "919:\tlearn: 0.9692972\ttotal: 6.01s\tremaining: 1.83s\n",
      "920:\tlearn: 0.9693394\ttotal: 6.02s\tremaining: 1.82s\n",
      "921:\tlearn: 0.9693917\ttotal: 6.03s\tremaining: 1.82s\n",
      "922:\tlearn: 0.9694323\ttotal: 6.04s\tremaining: 1.81s\n",
      "923:\tlearn: 0.9694824\ttotal: 6.04s\tremaining: 1.8s\n",
      "924:\tlearn: 0.9695295\ttotal: 6.05s\tremaining: 1.8s\n",
      "925:\tlearn: 0.9695832\ttotal: 6.06s\tremaining: 1.79s\n",
      "926:\tlearn: 0.9696322\ttotal: 6.07s\tremaining: 1.79s\n",
      "927:\tlearn: 0.9696987\ttotal: 6.07s\tremaining: 1.78s\n",
      "928:\tlearn: 0.9697391\ttotal: 6.08s\tremaining: 1.77s\n",
      "929:\tlearn: 0.9697667\ttotal: 6.09s\tremaining: 1.77s\n",
      "930:\tlearn: 0.9697955\ttotal: 6.1s\tremaining: 1.76s\n",
      "931:\tlearn: 0.9698148\ttotal: 6.11s\tremaining: 1.76s\n",
      "932:\tlearn: 0.9698323\ttotal: 6.12s\tremaining: 1.75s\n",
      "933:\tlearn: 0.9698559\ttotal: 6.12s\tremaining: 1.74s\n",
      "934:\tlearn: 0.9698904\ttotal: 6.13s\tremaining: 1.74s\n",
      "935:\tlearn: 0.9699208\ttotal: 6.14s\tremaining: 1.73s\n",
      "936:\tlearn: 0.9699406\ttotal: 6.14s\tremaining: 1.72s\n",
      "937:\tlearn: 0.9699728\ttotal: 6.15s\tremaining: 1.72s\n",
      "938:\tlearn: 0.9700059\ttotal: 6.16s\tremaining: 1.71s\n",
      "939:\tlearn: 0.9700061\ttotal: 6.17s\tremaining: 1.71s\n",
      "940:\tlearn: 0.9700690\ttotal: 6.17s\tremaining: 1.7s\n",
      "941:\tlearn: 0.9701004\ttotal: 6.18s\tremaining: 1.69s\n",
      "942:\tlearn: 0.9701601\ttotal: 6.19s\tremaining: 1.69s\n",
      "943:\tlearn: 0.9701979\ttotal: 6.2s\tremaining: 1.68s\n",
      "944:\tlearn: 0.9702545\ttotal: 6.21s\tremaining: 1.67s\n",
      "945:\tlearn: 0.9703448\ttotal: 6.21s\tremaining: 1.67s\n",
      "946:\tlearn: 0.9703628\ttotal: 6.22s\tremaining: 1.66s\n",
      "947:\tlearn: 0.9703630\ttotal: 6.23s\tremaining: 1.66s\n",
      "948:\tlearn: 0.9704193\ttotal: 6.23s\tremaining: 1.65s\n",
      "949:\tlearn: 0.9704746\ttotal: 6.24s\tremaining: 1.64s\n",
      "950:\tlearn: 0.9705412\ttotal: 6.25s\tremaining: 1.64s\n",
      "951:\tlearn: 0.9705447\ttotal: 6.25s\tremaining: 1.63s\n",
      "952:\tlearn: 0.9705450\ttotal: 6.26s\tremaining: 1.62s\n",
      "953:\tlearn: 0.9705694\ttotal: 6.26s\tremaining: 1.61s\n",
      "954:\tlearn: 0.9706018\ttotal: 6.27s\tremaining: 1.61s\n",
      "955:\tlearn: 0.9706458\ttotal: 6.28s\tremaining: 1.6s\n",
      "956:\tlearn: 0.9707001\ttotal: 6.29s\tremaining: 1.59s\n",
      "957:\tlearn: 0.9707574\ttotal: 6.29s\tremaining: 1.59s\n",
      "958:\tlearn: 0.9708098\ttotal: 6.3s\tremaining: 1.58s\n",
      "959:\tlearn: 0.9708498\ttotal: 6.3s\tremaining: 1.58s\n",
      "960:\tlearn: 0.9709235\ttotal: 6.31s\tremaining: 1.57s\n",
      "961:\tlearn: 0.9709626\ttotal: 6.32s\tremaining: 1.56s\n",
      "962:\tlearn: 0.9710108\ttotal: 6.32s\tremaining: 1.56s\n",
      "963:\tlearn: 0.9710460\ttotal: 6.33s\tremaining: 1.55s\n",
      "964:\tlearn: 0.9711394\ttotal: 6.34s\tremaining: 1.54s\n",
      "965:\tlearn: 0.9711653\ttotal: 6.34s\tremaining: 1.54s\n",
      "966:\tlearn: 0.9711833\ttotal: 6.35s\tremaining: 1.53s\n",
      "967:\tlearn: 0.9712149\ttotal: 6.36s\tremaining: 1.52s\n",
      "968:\tlearn: 0.9712440\ttotal: 6.36s\tremaining: 1.52s\n",
      "969:\tlearn: 0.9712672\ttotal: 6.37s\tremaining: 1.51s\n",
      "970:\tlearn: 0.9713075\ttotal: 6.38s\tremaining: 1.5s\n",
      "971:\tlearn: 0.9713219\ttotal: 6.39s\tremaining: 1.5s\n",
      "972:\tlearn: 0.9713311\ttotal: 6.4s\tremaining: 1.49s\n",
      "973:\tlearn: 0.9713745\ttotal: 6.41s\tremaining: 1.49s\n",
      "974:\tlearn: 0.9714295\ttotal: 6.42s\tremaining: 1.48s\n",
      "975:\tlearn: 0.9714579\ttotal: 6.42s\tremaining: 1.47s\n",
      "976:\tlearn: 0.9714810\ttotal: 6.43s\tremaining: 1.47s\n",
      "977:\tlearn: 0.9715589\ttotal: 6.44s\tremaining: 1.46s\n",
      "978:\tlearn: 0.9715911\ttotal: 6.45s\tremaining: 1.46s\n",
      "979:\tlearn: 0.9716270\ttotal: 6.45s\tremaining: 1.45s\n",
      "980:\tlearn: 0.9716353\ttotal: 6.47s\tremaining: 1.44s\n",
      "981:\tlearn: 0.9716767\ttotal: 6.48s\tremaining: 1.44s\n",
      "982:\tlearn: 0.9717110\ttotal: 6.48s\tremaining: 1.43s\n",
      "983:\tlearn: 0.9717562\ttotal: 6.49s\tremaining: 1.42s\n",
      "984:\tlearn: 0.9718015\ttotal: 6.5s\tremaining: 1.42s\n",
      "985:\tlearn: 0.9718422\ttotal: 6.51s\tremaining: 1.41s\n",
      "986:\tlearn: 0.9718628\ttotal: 6.51s\tremaining: 1.41s\n",
      "987:\tlearn: 0.9719169\ttotal: 6.52s\tremaining: 1.4s\n",
      "988:\tlearn: 0.9719345\ttotal: 6.54s\tremaining: 1.39s\n",
      "989:\tlearn: 0.9719755\ttotal: 6.54s\tremaining: 1.39s\n",
      "990:\tlearn: 0.9720059\ttotal: 6.55s\tremaining: 1.38s\n",
      "991:\tlearn: 0.9720501\ttotal: 6.56s\tremaining: 1.38s\n",
      "992:\tlearn: 0.9721093\ttotal: 6.57s\tremaining: 1.37s\n",
      "993:\tlearn: 0.9721289\ttotal: 6.58s\tremaining: 1.36s\n",
      "994:\tlearn: 0.9721748\ttotal: 6.58s\tremaining: 1.36s\n",
      "995:\tlearn: 0.9721980\ttotal: 6.59s\tremaining: 1.35s\n",
      "996:\tlearn: 0.9722341\ttotal: 6.6s\tremaining: 1.34s\n",
      "997:\tlearn: 0.9722703\ttotal: 6.61s\tremaining: 1.34s\n",
      "998:\tlearn: 0.9723236\ttotal: 6.61s\tremaining: 1.33s\n",
      "999:\tlearn: 0.9723499\ttotal: 6.62s\tremaining: 1.32s\n",
      "1000:\tlearn: 0.9723782\ttotal: 6.63s\tremaining: 1.32s\n",
      "1001:\tlearn: 0.9724489\ttotal: 6.63s\tremaining: 1.31s\n",
      "1002:\tlearn: 0.9724871\ttotal: 6.64s\tremaining: 1.3s\n",
      "1003:\tlearn: 0.9725167\ttotal: 6.65s\tremaining: 1.3s\n",
      "1004:\tlearn: 0.9725584\ttotal: 6.66s\tremaining: 1.29s\n",
      "1005:\tlearn: 0.9725952\ttotal: 6.66s\tremaining: 1.28s\n",
      "1006:\tlearn: 0.9726155\ttotal: 6.67s\tremaining: 1.28s\n",
      "1007:\tlearn: 0.9726364\ttotal: 6.68s\tremaining: 1.27s\n",
      "1008:\tlearn: 0.9726884\ttotal: 6.68s\tremaining: 1.26s\n",
      "1009:\tlearn: 0.9727105\ttotal: 6.69s\tremaining: 1.26s\n",
      "1010:\tlearn: 0.9727347\ttotal: 6.7s\tremaining: 1.25s\n",
      "1011:\tlearn: 0.9727982\ttotal: 6.7s\tremaining: 1.25s\n",
      "1012:\tlearn: 0.9728433\ttotal: 6.71s\tremaining: 1.24s\n",
      "1013:\tlearn: 0.9728738\ttotal: 6.72s\tremaining: 1.23s\n",
      "1014:\tlearn: 0.9728948\ttotal: 6.72s\tremaining: 1.23s\n",
      "1015:\tlearn: 0.9729195\ttotal: 6.73s\tremaining: 1.22s\n",
      "1016:\tlearn: 0.9729417\ttotal: 6.74s\tremaining: 1.21s\n",
      "1017:\tlearn: 0.9730007\ttotal: 6.74s\tremaining: 1.21s\n",
      "1018:\tlearn: 0.9730356\ttotal: 6.75s\tremaining: 1.2s\n",
      "1019:\tlearn: 0.9730828\ttotal: 6.75s\tremaining: 1.19s\n",
      "1020:\tlearn: 0.9730999\ttotal: 6.76s\tremaining: 1.19s\n",
      "1021:\tlearn: 0.9731585\ttotal: 6.77s\tremaining: 1.18s\n",
      "1022:\tlearn: 0.9731837\ttotal: 6.78s\tremaining: 1.17s\n",
      "1023:\tlearn: 0.9732223\ttotal: 6.79s\tremaining: 1.17s\n",
      "1024:\tlearn: 0.9732770\ttotal: 6.79s\tremaining: 1.16s\n",
      "1025:\tlearn: 0.9733087\ttotal: 6.8s\tremaining: 1.15s\n",
      "1026:\tlearn: 0.9733501\ttotal: 6.81s\tremaining: 1.15s\n",
      "1027:\tlearn: 0.9734074\ttotal: 6.81s\tremaining: 1.14s\n",
      "1028:\tlearn: 0.9734432\ttotal: 6.82s\tremaining: 1.13s\n",
      "1029:\tlearn: 0.9734768\ttotal: 6.83s\tremaining: 1.13s\n",
      "1030:\tlearn: 0.9734926\ttotal: 6.83s\tremaining: 1.12s\n",
      "1031:\tlearn: 0.9735431\ttotal: 6.84s\tremaining: 1.11s\n",
      "1032:\tlearn: 0.9735693\ttotal: 6.85s\tremaining: 1.11s\n",
      "1033:\tlearn: 0.9736219\ttotal: 6.85s\tremaining: 1.1s\n",
      "1034:\tlearn: 0.9736413\ttotal: 6.86s\tremaining: 1.09s\n",
      "1035:\tlearn: 0.9736578\ttotal: 6.87s\tremaining: 1.09s\n",
      "1036:\tlearn: 0.9736793\ttotal: 6.87s\tremaining: 1.08s\n",
      "1037:\tlearn: 0.9737215\ttotal: 6.88s\tremaining: 1.07s\n",
      "1038:\tlearn: 0.9737654\ttotal: 6.88s\tremaining: 1.07s\n",
      "1039:\tlearn: 0.9737979\ttotal: 6.89s\tremaining: 1.06s\n",
      "1040:\tlearn: 0.9738225\ttotal: 6.9s\tremaining: 1.05s\n",
      "1041:\tlearn: 0.9738447\ttotal: 6.9s\tremaining: 1.05s\n",
      "1042:\tlearn: 0.9738975\ttotal: 6.91s\tremaining: 1.04s\n",
      "1043:\tlearn: 0.9739226\ttotal: 6.92s\tremaining: 1.03s\n",
      "1044:\tlearn: 0.9739494\ttotal: 6.93s\tremaining: 1.03s\n",
      "1045:\tlearn: 0.9739529\ttotal: 6.93s\tremaining: 1.02s\n",
      "1046:\tlearn: 0.9739789\ttotal: 6.94s\tremaining: 1.01s\n",
      "1047:\tlearn: 0.9740068\ttotal: 6.95s\tremaining: 1.01s\n",
      "1048:\tlearn: 0.9740508\ttotal: 6.95s\tremaining: 1s\n"
     ]
    },
    {
     "name": "stdout",
     "output_type": "stream",
     "text": [
      "1049:\tlearn: 0.9740830\ttotal: 6.96s\tremaining: 995ms\n",
      "1050:\tlearn: 0.9741076\ttotal: 6.97s\tremaining: 988ms\n",
      "1051:\tlearn: 0.9741353\ttotal: 6.98s\tremaining: 982ms\n",
      "1052:\tlearn: 0.9741452\ttotal: 6.98s\tremaining: 975ms\n",
      "1053:\tlearn: 0.9741866\ttotal: 6.99s\tremaining: 968ms\n",
      "1054:\tlearn: 0.9742224\ttotal: 7s\tremaining: 962ms\n",
      "1055:\tlearn: 0.9742459\ttotal: 7.01s\tremaining: 955ms\n",
      "1056:\tlearn: 0.9742619\ttotal: 7.01s\tremaining: 949ms\n",
      "1057:\tlearn: 0.9742900\ttotal: 7.02s\tremaining: 942ms\n",
      "1058:\tlearn: 0.9743306\ttotal: 7.02s\tremaining: 935ms\n",
      "1059:\tlearn: 0.9743680\ttotal: 7.03s\tremaining: 929ms\n",
      "1060:\tlearn: 0.9744079\ttotal: 7.04s\tremaining: 922ms\n",
      "1061:\tlearn: 0.9744426\ttotal: 7.04s\tremaining: 915ms\n",
      "1062:\tlearn: 0.9744872\ttotal: 7.05s\tremaining: 908ms\n",
      "1063:\tlearn: 0.9745097\ttotal: 7.05s\tremaining: 902ms\n",
      "1064:\tlearn: 0.9745319\ttotal: 7.06s\tremaining: 895ms\n",
      "1065:\tlearn: 0.9745593\ttotal: 7.07s\tremaining: 888ms\n",
      "1066:\tlearn: 0.9746008\ttotal: 7.07s\tremaining: 882ms\n",
      "1067:\tlearn: 0.9746330\ttotal: 7.08s\tremaining: 875ms\n",
      "1068:\tlearn: 0.9746747\ttotal: 7.08s\tremaining: 868ms\n",
      "1069:\tlearn: 0.9746924\ttotal: 7.09s\tremaining: 861ms\n",
      "1070:\tlearn: 0.9747244\ttotal: 7.1s\tremaining: 855ms\n",
      "1071:\tlearn: 0.9747710\ttotal: 7.1s\tremaining: 848ms\n",
      "1072:\tlearn: 0.9748340\ttotal: 7.11s\tremaining: 841ms\n",
      "1073:\tlearn: 0.9748644\ttotal: 7.11s\tremaining: 835ms\n",
      "1074:\tlearn: 0.9749066\ttotal: 7.12s\tremaining: 828ms\n",
      "1075:\tlearn: 0.9749641\ttotal: 7.13s\tremaining: 821ms\n",
      "1076:\tlearn: 0.9750004\ttotal: 7.13s\tremaining: 815ms\n",
      "1077:\tlearn: 0.9750241\ttotal: 7.14s\tremaining: 808ms\n",
      "1078:\tlearn: 0.9750565\ttotal: 7.15s\tremaining: 801ms\n",
      "1079:\tlearn: 0.9750654\ttotal: 7.15s\tremaining: 795ms\n",
      "1080:\tlearn: 0.9750986\ttotal: 7.16s\tremaining: 788ms\n",
      "1081:\tlearn: 0.9751354\ttotal: 7.17s\tremaining: 782ms\n",
      "1082:\tlearn: 0.9751918\ttotal: 7.17s\tremaining: 775ms\n",
      "1083:\tlearn: 0.9752474\ttotal: 7.18s\tremaining: 768ms\n",
      "1084:\tlearn: 0.9752814\ttotal: 7.19s\tremaining: 762ms\n",
      "1085:\tlearn: 0.9753261\ttotal: 7.19s\tremaining: 755ms\n",
      "1086:\tlearn: 0.9753583\ttotal: 7.2s\tremaining: 748ms\n",
      "1087:\tlearn: 0.9753970\ttotal: 7.2s\tremaining: 742ms\n",
      "1088:\tlearn: 0.9754335\ttotal: 7.21s\tremaining: 735ms\n",
      "1089:\tlearn: 0.9754628\ttotal: 7.21s\tremaining: 728ms\n",
      "1090:\tlearn: 0.9754694\ttotal: 7.22s\tremaining: 722ms\n",
      "1091:\tlearn: 0.9754845\ttotal: 7.23s\tremaining: 715ms\n",
      "1092:\tlearn: 0.9754982\ttotal: 7.23s\tremaining: 708ms\n",
      "1093:\tlearn: 0.9755185\ttotal: 7.24s\tremaining: 701ms\n",
      "1094:\tlearn: 0.9755610\ttotal: 7.25s\tremaining: 695ms\n",
      "1095:\tlearn: 0.9755864\ttotal: 7.25s\tremaining: 688ms\n",
      "1096:\tlearn: 0.9756197\ttotal: 7.26s\tremaining: 681ms\n",
      "1097:\tlearn: 0.9756554\ttotal: 7.26s\tremaining: 675ms\n",
      "1098:\tlearn: 0.9756882\ttotal: 7.27s\tremaining: 668ms\n",
      "1099:\tlearn: 0.9757298\ttotal: 7.28s\tremaining: 661ms\n",
      "1100:\tlearn: 0.9757519\ttotal: 7.28s\tremaining: 655ms\n",
      "1101:\tlearn: 0.9757784\ttotal: 7.29s\tremaining: 648ms\n",
      "1102:\tlearn: 0.9757883\ttotal: 7.29s\tremaining: 641ms\n",
      "1103:\tlearn: 0.9758261\ttotal: 7.3s\tremaining: 635ms\n",
      "1104:\tlearn: 0.9758329\ttotal: 7.3s\tremaining: 628ms\n",
      "1105:\tlearn: 0.9758493\ttotal: 7.31s\tremaining: 621ms\n",
      "1106:\tlearn: 0.9758656\ttotal: 7.32s\tremaining: 615ms\n",
      "1107:\tlearn: 0.9758875\ttotal: 7.32s\tremaining: 608ms\n",
      "1108:\tlearn: 0.9759200\ttotal: 7.33s\tremaining: 602ms\n",
      "1109:\tlearn: 0.9759518\ttotal: 7.34s\tremaining: 595ms\n",
      "1110:\tlearn: 0.9759877\ttotal: 7.35s\tremaining: 589ms\n",
      "1111:\tlearn: 0.9760098\ttotal: 7.35s\tremaining: 582ms\n",
      "1112:\tlearn: 0.9760341\ttotal: 7.36s\tremaining: 575ms\n",
      "1113:\tlearn: 0.9760804\ttotal: 7.37s\tremaining: 569ms\n",
      "1114:\tlearn: 0.9761143\ttotal: 7.37s\tremaining: 562ms\n",
      "1115:\tlearn: 0.9761413\ttotal: 7.38s\tremaining: 555ms\n",
      "1116:\tlearn: 0.9761723\ttotal: 7.38s\tremaining: 549ms\n",
      "1117:\tlearn: 0.9762095\ttotal: 7.39s\tremaining: 542ms\n",
      "1118:\tlearn: 0.9762401\ttotal: 7.39s\tremaining: 535ms\n",
      "1119:\tlearn: 0.9762648\ttotal: 7.4s\tremaining: 529ms\n",
      "1120:\tlearn: 0.9762731\ttotal: 7.41s\tremaining: 522ms\n",
      "1121:\tlearn: 0.9763246\ttotal: 7.41s\tremaining: 515ms\n",
      "1122:\tlearn: 0.9763520\ttotal: 7.42s\tremaining: 509ms\n",
      "1123:\tlearn: 0.9763860\ttotal: 7.42s\tremaining: 502ms\n",
      "1124:\tlearn: 0.9763958\ttotal: 7.43s\tremaining: 495ms\n",
      "1125:\tlearn: 0.9764525\ttotal: 7.43s\tremaining: 489ms\n",
      "1126:\tlearn: 0.9764736\ttotal: 7.44s\tremaining: 482ms\n",
      "1127:\tlearn: 0.9765047\ttotal: 7.45s\tremaining: 475ms\n",
      "1128:\tlearn: 0.9765179\ttotal: 7.45s\tremaining: 469ms\n",
      "1129:\tlearn: 0.9765444\ttotal: 7.46s\tremaining: 462ms\n",
      "1130:\tlearn: 0.9765735\ttotal: 7.47s\tremaining: 456ms\n",
      "1131:\tlearn: 0.9766057\ttotal: 7.47s\tremaining: 449ms\n",
      "1132:\tlearn: 0.9766360\ttotal: 7.48s\tremaining: 442ms\n",
      "1133:\tlearn: 0.9766658\ttotal: 7.49s\tremaining: 436ms\n",
      "1134:\tlearn: 0.9767010\ttotal: 7.49s\tremaining: 429ms\n",
      "1135:\tlearn: 0.9767218\ttotal: 7.5s\tremaining: 423ms\n",
      "1136:\tlearn: 0.9767547\ttotal: 7.51s\tremaining: 416ms\n",
      "1137:\tlearn: 0.9767981\ttotal: 7.51s\tremaining: 409ms\n",
      "1138:\tlearn: 0.9768276\ttotal: 7.52s\tremaining: 403ms\n",
      "1139:\tlearn: 0.9768548\ttotal: 7.53s\tremaining: 396ms\n",
      "1140:\tlearn: 0.9768802\ttotal: 7.53s\tremaining: 390ms\n",
      "1141:\tlearn: 0.9769144\ttotal: 7.54s\tremaining: 383ms\n",
      "1142:\tlearn: 0.9769381\ttotal: 7.55s\tremaining: 376ms\n",
      "1143:\tlearn: 0.9770091\ttotal: 7.55s\tremaining: 370ms\n",
      "1144:\tlearn: 0.9770450\ttotal: 7.57s\tremaining: 364ms\n",
      "1145:\tlearn: 0.9770813\ttotal: 7.58s\tremaining: 357ms\n",
      "1146:\tlearn: 0.9771142\ttotal: 7.58s\tremaining: 350ms\n",
      "1147:\tlearn: 0.9771654\ttotal: 7.59s\tremaining: 344ms\n",
      "1148:\tlearn: 0.9771763\ttotal: 7.59s\tremaining: 337ms\n",
      "1149:\tlearn: 0.9771811\ttotal: 7.6s\tremaining: 330ms\n",
      "1150:\tlearn: 0.9772036\ttotal: 7.61s\tremaining: 324ms\n",
      "1151:\tlearn: 0.9772270\ttotal: 7.61s\tremaining: 317ms\n",
      "1152:\tlearn: 0.9772402\ttotal: 7.62s\tremaining: 311ms\n",
      "1153:\tlearn: 0.9772780\ttotal: 7.62s\tremaining: 304ms\n",
      "1154:\tlearn: 0.9772913\ttotal: 7.63s\tremaining: 297ms\n",
      "1155:\tlearn: 0.9773275\ttotal: 7.63s\tremaining: 291ms\n",
      "1156:\tlearn: 0.9773410\ttotal: 7.64s\tremaining: 284ms\n",
      "1157:\tlearn: 0.9773626\ttotal: 7.65s\tremaining: 277ms\n",
      "1158:\tlearn: 0.9773707\ttotal: 7.65s\tremaining: 271ms\n",
      "1159:\tlearn: 0.9774001\ttotal: 7.66s\tremaining: 264ms\n",
      "1160:\tlearn: 0.9774515\ttotal: 7.67s\tremaining: 257ms\n",
      "1161:\tlearn: 0.9774773\ttotal: 7.67s\tremaining: 251ms\n",
      "1162:\tlearn: 0.9775320\ttotal: 7.68s\tremaining: 244ms\n",
      "1163:\tlearn: 0.9775814\ttotal: 7.68s\tremaining: 238ms\n",
      "1164:\tlearn: 0.9776105\ttotal: 7.69s\tremaining: 231ms\n",
      "1165:\tlearn: 0.9776479\ttotal: 7.7s\tremaining: 225ms\n",
      "1166:\tlearn: 0.9776848\ttotal: 7.71s\tremaining: 218ms\n",
      "1167:\tlearn: 0.9777162\ttotal: 7.71s\tremaining: 211ms\n",
      "1168:\tlearn: 0.9777440\ttotal: 7.72s\tremaining: 205ms\n",
      "1169:\tlearn: 0.9777445\ttotal: 7.73s\tremaining: 198ms\n",
      "1170:\tlearn: 0.9777458\ttotal: 7.73s\tremaining: 191ms\n",
      "1171:\tlearn: 0.9777619\ttotal: 7.74s\tremaining: 185ms\n",
      "1172:\tlearn: 0.9777620\ttotal: 7.74s\tremaining: 178ms\n",
      "1173:\tlearn: 0.9777787\ttotal: 7.75s\tremaining: 172ms\n",
      "1174:\tlearn: 0.9778095\ttotal: 7.75s\tremaining: 165ms\n",
      "1175:\tlearn: 0.9778294\ttotal: 7.76s\tremaining: 158ms\n",
      "1176:\tlearn: 0.9778461\ttotal: 7.77s\tremaining: 152ms\n",
      "1177:\tlearn: 0.9778660\ttotal: 7.77s\tremaining: 145ms\n",
      "1178:\tlearn: 0.9778663\ttotal: 7.78s\tremaining: 139ms\n",
      "1179:\tlearn: 0.9778718\ttotal: 7.78s\tremaining: 132ms\n",
      "1180:\tlearn: 0.9778937\ttotal: 7.79s\tremaining: 125ms\n",
      "1181:\tlearn: 0.9779115\ttotal: 7.8s\tremaining: 119ms\n",
      "1182:\tlearn: 0.9779215\ttotal: 7.81s\tremaining: 112ms\n",
      "1183:\tlearn: 0.9779514\ttotal: 7.81s\tremaining: 106ms\n",
      "1184:\tlearn: 0.9779871\ttotal: 7.82s\tremaining: 99ms\n",
      "1185:\tlearn: 0.9780223\ttotal: 7.83s\tremaining: 92.4ms\n",
      "1186:\tlearn: 0.9780707\ttotal: 7.84s\tremaining: 85.8ms\n",
      "1187:\tlearn: 0.9780840\ttotal: 7.84s\tremaining: 79.2ms\n",
      "1188:\tlearn: 0.9781033\ttotal: 7.85s\tremaining: 72.6ms\n",
      "1189:\tlearn: 0.9781167\ttotal: 7.86s\tremaining: 66ms\n",
      "1190:\tlearn: 0.9781349\ttotal: 7.87s\tremaining: 59.5ms\n",
      "1191:\tlearn: 0.9781591\ttotal: 7.88s\tremaining: 52.9ms\n",
      "1192:\tlearn: 0.9781903\ttotal: 7.88s\tremaining: 46.3ms\n",
      "1193:\tlearn: 0.9782279\ttotal: 7.89s\tremaining: 39.7ms\n",
      "1194:\tlearn: 0.9782534\ttotal: 7.9s\tremaining: 33ms\n",
      "1195:\tlearn: 0.9782694\ttotal: 7.91s\tremaining: 26.4ms\n",
      "1196:\tlearn: 0.9783278\ttotal: 7.91s\tremaining: 19.8ms\n",
      "1197:\tlearn: 0.9783502\ttotal: 7.92s\tremaining: 13.2ms\n",
      "1198:\tlearn: 0.9783733\ttotal: 7.93s\tremaining: 6.61ms\n",
      "1199:\tlearn: 0.9784164\ttotal: 7.93s\tremaining: 0us\n"
     ]
    },
    {
     "data": {
      "text/plain": [
       "<catboost.core.CatBoostRegressor at 0x280ae83d550>"
      ]
     },
     "execution_count": 273,
     "metadata": {},
     "output_type": "execute_result"
    }
   ],
   "source": [
    "temp_cb_model.fit(X_train_cb, y_train_cb, cat_features = index_no)"
   ]
  },
  {
   "cell_type": "code",
   "execution_count": 272,
   "id": "canadian-creek",
   "metadata": {},
   "outputs": [
    {
     "ename": "KeyboardInterrupt",
     "evalue": "",
     "output_type": "error",
     "traceback": [
      "\u001b[1;31m---------------------------------------------------------------------------\u001b[0m",
      "\u001b[1;31mKeyboardInterrupt\u001b[0m                         Traceback (most recent call last)",
      "\u001b[1;32m<timed eval>\u001b[0m in \u001b[0;36m<module>\u001b[1;34m\u001b[0m\n",
      "\u001b[1;32mc:\\users\\пк\\appdata\\local\\programs\\python\\python39\\lib\\site-packages\\sklearn\\utils\\validation.py\u001b[0m in \u001b[0;36minner_f\u001b[1;34m(*args, **kwargs)\u001b[0m\n\u001b[0;32m     61\u001b[0m             \u001b[0mextra_args\u001b[0m \u001b[1;33m=\u001b[0m \u001b[0mlen\u001b[0m\u001b[1;33m(\u001b[0m\u001b[0margs\u001b[0m\u001b[1;33m)\u001b[0m \u001b[1;33m-\u001b[0m \u001b[0mlen\u001b[0m\u001b[1;33m(\u001b[0m\u001b[0mall_args\u001b[0m\u001b[1;33m)\u001b[0m\u001b[1;33m\u001b[0m\u001b[1;33m\u001b[0m\u001b[0m\n\u001b[0;32m     62\u001b[0m             \u001b[1;32mif\u001b[0m \u001b[0mextra_args\u001b[0m \u001b[1;33m<=\u001b[0m \u001b[1;36m0\u001b[0m\u001b[1;33m:\u001b[0m\u001b[1;33m\u001b[0m\u001b[1;33m\u001b[0m\u001b[0m\n\u001b[1;32m---> 63\u001b[1;33m                 \u001b[1;32mreturn\u001b[0m \u001b[0mf\u001b[0m\u001b[1;33m(\u001b[0m\u001b[1;33m*\u001b[0m\u001b[0margs\u001b[0m\u001b[1;33m,\u001b[0m \u001b[1;33m**\u001b[0m\u001b[0mkwargs\u001b[0m\u001b[1;33m)\u001b[0m\u001b[1;33m\u001b[0m\u001b[1;33m\u001b[0m\u001b[0m\n\u001b[0m\u001b[0;32m     64\u001b[0m \u001b[1;33m\u001b[0m\u001b[0m\n\u001b[0;32m     65\u001b[0m             \u001b[1;31m# extra_args > 0\u001b[0m\u001b[1;33m\u001b[0m\u001b[1;33m\u001b[0m\u001b[1;33m\u001b[0m\u001b[0m\n",
      "\u001b[1;32mc:\\users\\пк\\appdata\\local\\programs\\python\\python39\\lib\\site-packages\\sklearn\\model_selection\\_search.py\u001b[0m in \u001b[0;36mfit\u001b[1;34m(self, X, y, groups, **fit_params)\u001b[0m\n\u001b[0;32m    839\u001b[0m                 \u001b[1;32mreturn\u001b[0m \u001b[0mresults\u001b[0m\u001b[1;33m\u001b[0m\u001b[1;33m\u001b[0m\u001b[0m\n\u001b[0;32m    840\u001b[0m \u001b[1;33m\u001b[0m\u001b[0m\n\u001b[1;32m--> 841\u001b[1;33m             \u001b[0mself\u001b[0m\u001b[1;33m.\u001b[0m\u001b[0m_run_search\u001b[0m\u001b[1;33m(\u001b[0m\u001b[0mevaluate_candidates\u001b[0m\u001b[1;33m)\u001b[0m\u001b[1;33m\u001b[0m\u001b[1;33m\u001b[0m\u001b[0m\n\u001b[0m\u001b[0;32m    842\u001b[0m \u001b[1;33m\u001b[0m\u001b[0m\n\u001b[0;32m    843\u001b[0m             \u001b[1;31m# multimetric is determined here because in the case of a callable\u001b[0m\u001b[1;33m\u001b[0m\u001b[1;33m\u001b[0m\u001b[1;33m\u001b[0m\u001b[0m\n",
      "\u001b[1;32mc:\\users\\пк\\appdata\\local\\programs\\python\\python39\\lib\\site-packages\\sklearn\\model_selection\\_search.py\u001b[0m in \u001b[0;36m_run_search\u001b[1;34m(self, evaluate_candidates)\u001b[0m\n\u001b[0;32m   1286\u001b[0m     \u001b[1;32mdef\u001b[0m \u001b[0m_run_search\u001b[0m\u001b[1;33m(\u001b[0m\u001b[0mself\u001b[0m\u001b[1;33m,\u001b[0m \u001b[0mevaluate_candidates\u001b[0m\u001b[1;33m)\u001b[0m\u001b[1;33m:\u001b[0m\u001b[1;33m\u001b[0m\u001b[1;33m\u001b[0m\u001b[0m\n\u001b[0;32m   1287\u001b[0m         \u001b[1;34m\"\"\"Search all candidates in param_grid\"\"\"\u001b[0m\u001b[1;33m\u001b[0m\u001b[1;33m\u001b[0m\u001b[0m\n\u001b[1;32m-> 1288\u001b[1;33m         \u001b[0mevaluate_candidates\u001b[0m\u001b[1;33m(\u001b[0m\u001b[0mParameterGrid\u001b[0m\u001b[1;33m(\u001b[0m\u001b[0mself\u001b[0m\u001b[1;33m.\u001b[0m\u001b[0mparam_grid\u001b[0m\u001b[1;33m)\u001b[0m\u001b[1;33m)\u001b[0m\u001b[1;33m\u001b[0m\u001b[1;33m\u001b[0m\u001b[0m\n\u001b[0m\u001b[0;32m   1289\u001b[0m \u001b[1;33m\u001b[0m\u001b[0m\n\u001b[0;32m   1290\u001b[0m \u001b[1;33m\u001b[0m\u001b[0m\n",
      "\u001b[1;32mc:\\users\\пк\\appdata\\local\\programs\\python\\python39\\lib\\site-packages\\sklearn\\model_selection\\_search.py\u001b[0m in \u001b[0;36mevaluate_candidates\u001b[1;34m(candidate_params, cv, more_results)\u001b[0m\n\u001b[0;32m    793\u001b[0m                               n_splits, n_candidates, n_candidates * n_splits))\n\u001b[0;32m    794\u001b[0m \u001b[1;33m\u001b[0m\u001b[0m\n\u001b[1;32m--> 795\u001b[1;33m                 out = parallel(delayed(_fit_and_score)(clone(base_estimator),\n\u001b[0m\u001b[0;32m    796\u001b[0m                                                        \u001b[0mX\u001b[0m\u001b[1;33m,\u001b[0m \u001b[0my\u001b[0m\u001b[1;33m,\u001b[0m\u001b[1;33m\u001b[0m\u001b[1;33m\u001b[0m\u001b[0m\n\u001b[0;32m    797\u001b[0m                                                        \u001b[0mtrain\u001b[0m\u001b[1;33m=\u001b[0m\u001b[0mtrain\u001b[0m\u001b[1;33m,\u001b[0m \u001b[0mtest\u001b[0m\u001b[1;33m=\u001b[0m\u001b[0mtest\u001b[0m\u001b[1;33m,\u001b[0m\u001b[1;33m\u001b[0m\u001b[1;33m\u001b[0m\u001b[0m\n",
      "\u001b[1;32mc:\\users\\пк\\appdata\\local\\programs\\python\\python39\\lib\\site-packages\\joblib\\parallel.py\u001b[0m in \u001b[0;36m__call__\u001b[1;34m(self, iterable)\u001b[0m\n\u001b[0;32m   1052\u001b[0m \u001b[1;33m\u001b[0m\u001b[0m\n\u001b[0;32m   1053\u001b[0m             \u001b[1;32mwith\u001b[0m \u001b[0mself\u001b[0m\u001b[1;33m.\u001b[0m\u001b[0m_backend\u001b[0m\u001b[1;33m.\u001b[0m\u001b[0mretrieval_context\u001b[0m\u001b[1;33m(\u001b[0m\u001b[1;33m)\u001b[0m\u001b[1;33m:\u001b[0m\u001b[1;33m\u001b[0m\u001b[1;33m\u001b[0m\u001b[0m\n\u001b[1;32m-> 1054\u001b[1;33m                 \u001b[0mself\u001b[0m\u001b[1;33m.\u001b[0m\u001b[0mretrieve\u001b[0m\u001b[1;33m(\u001b[0m\u001b[1;33m)\u001b[0m\u001b[1;33m\u001b[0m\u001b[1;33m\u001b[0m\u001b[0m\n\u001b[0m\u001b[0;32m   1055\u001b[0m             \u001b[1;31m# Make sure that we get a last message telling us we are done\u001b[0m\u001b[1;33m\u001b[0m\u001b[1;33m\u001b[0m\u001b[1;33m\u001b[0m\u001b[0m\n\u001b[0;32m   1056\u001b[0m             \u001b[0melapsed_time\u001b[0m \u001b[1;33m=\u001b[0m \u001b[0mtime\u001b[0m\u001b[1;33m.\u001b[0m\u001b[0mtime\u001b[0m\u001b[1;33m(\u001b[0m\u001b[1;33m)\u001b[0m \u001b[1;33m-\u001b[0m \u001b[0mself\u001b[0m\u001b[1;33m.\u001b[0m\u001b[0m_start_time\u001b[0m\u001b[1;33m\u001b[0m\u001b[1;33m\u001b[0m\u001b[0m\n",
      "\u001b[1;32mc:\\users\\пк\\appdata\\local\\programs\\python\\python39\\lib\\site-packages\\joblib\\parallel.py\u001b[0m in \u001b[0;36mretrieve\u001b[1;34m(self)\u001b[0m\n\u001b[0;32m    931\u001b[0m             \u001b[1;32mtry\u001b[0m\u001b[1;33m:\u001b[0m\u001b[1;33m\u001b[0m\u001b[1;33m\u001b[0m\u001b[0m\n\u001b[0;32m    932\u001b[0m                 \u001b[1;32mif\u001b[0m \u001b[0mgetattr\u001b[0m\u001b[1;33m(\u001b[0m\u001b[0mself\u001b[0m\u001b[1;33m.\u001b[0m\u001b[0m_backend\u001b[0m\u001b[1;33m,\u001b[0m \u001b[1;34m'supports_timeout'\u001b[0m\u001b[1;33m,\u001b[0m \u001b[1;32mFalse\u001b[0m\u001b[1;33m)\u001b[0m\u001b[1;33m:\u001b[0m\u001b[1;33m\u001b[0m\u001b[1;33m\u001b[0m\u001b[0m\n\u001b[1;32m--> 933\u001b[1;33m                     \u001b[0mself\u001b[0m\u001b[1;33m.\u001b[0m\u001b[0m_output\u001b[0m\u001b[1;33m.\u001b[0m\u001b[0mextend\u001b[0m\u001b[1;33m(\u001b[0m\u001b[0mjob\u001b[0m\u001b[1;33m.\u001b[0m\u001b[0mget\u001b[0m\u001b[1;33m(\u001b[0m\u001b[0mtimeout\u001b[0m\u001b[1;33m=\u001b[0m\u001b[0mself\u001b[0m\u001b[1;33m.\u001b[0m\u001b[0mtimeout\u001b[0m\u001b[1;33m)\u001b[0m\u001b[1;33m)\u001b[0m\u001b[1;33m\u001b[0m\u001b[1;33m\u001b[0m\u001b[0m\n\u001b[0m\u001b[0;32m    934\u001b[0m                 \u001b[1;32melse\u001b[0m\u001b[1;33m:\u001b[0m\u001b[1;33m\u001b[0m\u001b[1;33m\u001b[0m\u001b[0m\n\u001b[0;32m    935\u001b[0m                     \u001b[0mself\u001b[0m\u001b[1;33m.\u001b[0m\u001b[0m_output\u001b[0m\u001b[1;33m.\u001b[0m\u001b[0mextend\u001b[0m\u001b[1;33m(\u001b[0m\u001b[0mjob\u001b[0m\u001b[1;33m.\u001b[0m\u001b[0mget\u001b[0m\u001b[1;33m(\u001b[0m\u001b[1;33m)\u001b[0m\u001b[1;33m)\u001b[0m\u001b[1;33m\u001b[0m\u001b[1;33m\u001b[0m\u001b[0m\n",
      "\u001b[1;32mc:\\users\\пк\\appdata\\local\\programs\\python\\python39\\lib\\site-packages\\joblib\\_parallel_backends.py\u001b[0m in \u001b[0;36mwrap_future_result\u001b[1;34m(future, timeout)\u001b[0m\n\u001b[0;32m    540\u001b[0m         AsyncResults.get from multiprocessing.\"\"\"\n\u001b[0;32m    541\u001b[0m         \u001b[1;32mtry\u001b[0m\u001b[1;33m:\u001b[0m\u001b[1;33m\u001b[0m\u001b[1;33m\u001b[0m\u001b[0m\n\u001b[1;32m--> 542\u001b[1;33m             \u001b[1;32mreturn\u001b[0m \u001b[0mfuture\u001b[0m\u001b[1;33m.\u001b[0m\u001b[0mresult\u001b[0m\u001b[1;33m(\u001b[0m\u001b[0mtimeout\u001b[0m\u001b[1;33m=\u001b[0m\u001b[0mtimeout\u001b[0m\u001b[1;33m)\u001b[0m\u001b[1;33m\u001b[0m\u001b[1;33m\u001b[0m\u001b[0m\n\u001b[0m\u001b[0;32m    543\u001b[0m         \u001b[1;32mexcept\u001b[0m \u001b[0mCfTimeoutError\u001b[0m \u001b[1;32mas\u001b[0m \u001b[0me\u001b[0m\u001b[1;33m:\u001b[0m\u001b[1;33m\u001b[0m\u001b[1;33m\u001b[0m\u001b[0m\n\u001b[0;32m    544\u001b[0m             \u001b[1;32mraise\u001b[0m \u001b[0mTimeoutError\u001b[0m \u001b[1;32mfrom\u001b[0m \u001b[0me\u001b[0m\u001b[1;33m\u001b[0m\u001b[1;33m\u001b[0m\u001b[0m\n",
      "\u001b[1;32mc:\\users\\пк\\appdata\\local\\programs\\python\\python39\\lib\\concurrent\\futures\\_base.py\u001b[0m in \u001b[0;36mresult\u001b[1;34m(self, timeout)\u001b[0m\n\u001b[0;32m    433\u001b[0m                 \u001b[1;32mreturn\u001b[0m \u001b[0mself\u001b[0m\u001b[1;33m.\u001b[0m\u001b[0m__get_result\u001b[0m\u001b[1;33m(\u001b[0m\u001b[1;33m)\u001b[0m\u001b[1;33m\u001b[0m\u001b[1;33m\u001b[0m\u001b[0m\n\u001b[0;32m    434\u001b[0m \u001b[1;33m\u001b[0m\u001b[0m\n\u001b[1;32m--> 435\u001b[1;33m             \u001b[0mself\u001b[0m\u001b[1;33m.\u001b[0m\u001b[0m_condition\u001b[0m\u001b[1;33m.\u001b[0m\u001b[0mwait\u001b[0m\u001b[1;33m(\u001b[0m\u001b[0mtimeout\u001b[0m\u001b[1;33m)\u001b[0m\u001b[1;33m\u001b[0m\u001b[1;33m\u001b[0m\u001b[0m\n\u001b[0m\u001b[0;32m    436\u001b[0m \u001b[1;33m\u001b[0m\u001b[0m\n\u001b[0;32m    437\u001b[0m             \u001b[1;32mif\u001b[0m \u001b[0mself\u001b[0m\u001b[1;33m.\u001b[0m\u001b[0m_state\u001b[0m \u001b[1;32min\u001b[0m \u001b[1;33m[\u001b[0m\u001b[0mCANCELLED\u001b[0m\u001b[1;33m,\u001b[0m \u001b[0mCANCELLED_AND_NOTIFIED\u001b[0m\u001b[1;33m]\u001b[0m\u001b[1;33m:\u001b[0m\u001b[1;33m\u001b[0m\u001b[1;33m\u001b[0m\u001b[0m\n",
      "\u001b[1;32mc:\\users\\пк\\appdata\\local\\programs\\python\\python39\\lib\\threading.py\u001b[0m in \u001b[0;36mwait\u001b[1;34m(self, timeout)\u001b[0m\n\u001b[0;32m    310\u001b[0m         \u001b[1;32mtry\u001b[0m\u001b[1;33m:\u001b[0m    \u001b[1;31m# restore state no matter what (e.g., KeyboardInterrupt)\u001b[0m\u001b[1;33m\u001b[0m\u001b[1;33m\u001b[0m\u001b[0m\n\u001b[0;32m    311\u001b[0m             \u001b[1;32mif\u001b[0m \u001b[0mtimeout\u001b[0m \u001b[1;32mis\u001b[0m \u001b[1;32mNone\u001b[0m\u001b[1;33m:\u001b[0m\u001b[1;33m\u001b[0m\u001b[1;33m\u001b[0m\u001b[0m\n\u001b[1;32m--> 312\u001b[1;33m                 \u001b[0mwaiter\u001b[0m\u001b[1;33m.\u001b[0m\u001b[0macquire\u001b[0m\u001b[1;33m(\u001b[0m\u001b[1;33m)\u001b[0m\u001b[1;33m\u001b[0m\u001b[1;33m\u001b[0m\u001b[0m\n\u001b[0m\u001b[0;32m    313\u001b[0m                 \u001b[0mgotit\u001b[0m \u001b[1;33m=\u001b[0m \u001b[1;32mTrue\u001b[0m\u001b[1;33m\u001b[0m\u001b[1;33m\u001b[0m\u001b[0m\n\u001b[0;32m    314\u001b[0m             \u001b[1;32melse\u001b[0m\u001b[1;33m:\u001b[0m\u001b[1;33m\u001b[0m\u001b[1;33m\u001b[0m\u001b[0m\n",
      "\u001b[1;31mKeyboardInterrupt\u001b[0m: "
     ]
    }
   ],
   "source": [
    "%%time\n",
    "gcb.fit(X_train_cb, y_train_cb, cat_features = index_no)"
   ]
  },
  {
   "cell_type": "code",
   "execution_count": null,
   "id": "neural-mountain",
   "metadata": {},
   "outputs": [],
   "source": [
    "#train_pool = Pool(X_cb, y_cb, cat_features = [0, 2, 5])"
   ]
  },
  {
   "cell_type": "code",
   "execution_count": null,
   "id": "reliable-accountability",
   "metadata": {},
   "outputs": [],
   "source": [
    "#test_pool = Pool(test_data, cat_features = [0, 2, 5])"
   ]
  },
  {
   "cell_type": "code",
   "execution_count": null,
   "id": "brazilian-gateway",
   "metadata": {},
   "outputs": [],
   "source": [
    "#model_cb.fit(X_train_cb, y_train_cb, [13, 14, 15, 16, 17, 18])"
   ]
  },
  {
   "cell_type": "code",
   "execution_count": 71,
   "id": "configured-prospect",
   "metadata": {},
   "outputs": [
    {
     "data": {
      "text/plain": [
       "{'depth': 7, 'iterations': 180}"
      ]
     },
     "execution_count": 71,
     "metadata": {},
     "output_type": "execute_result"
    }
   ],
   "source": [
    "gcb.best_params_"
   ]
  },
  {
   "cell_type": "code",
   "execution_count": 72,
   "id": "complex-mirror",
   "metadata": {},
   "outputs": [
    {
     "data": {
      "text/plain": [
       "0.7637109016190744"
      ]
     },
     "execution_count": 72,
     "metadata": {},
     "output_type": "execute_result"
    }
   ],
   "source": [
    "gcb.best_score_"
   ]
  },
  {
   "cell_type": "code",
   "execution_count": 73,
   "id": "happy-raising",
   "metadata": {},
   "outputs": [],
   "source": [
    "best_cb_model = gcb.best_estimator_"
   ]
  },
  {
   "cell_type": "code",
   "execution_count": null,
   "id": "pressed-square",
   "metadata": {},
   "outputs": [],
   "source": []
  },
  {
   "cell_type": "markdown",
   "id": "comparable-configuration",
   "metadata": {},
   "source": [
    "**validation of train model**"
   ]
  },
  {
   "cell_type": "code",
   "execution_count": 74,
   "id": "prescription-letters",
   "metadata": {},
   "outputs": [],
   "source": [
    "y_pred_train_cb = best_cb_model.predict(X_train_cb)"
   ]
  },
  {
   "cell_type": "code",
   "execution_count": 274,
   "id": "fuzzy-tours",
   "metadata": {},
   "outputs": [],
   "source": [
    "y_pred_train_cb = temp_cb_model.predict(X_train_cb)"
   ]
  },
  {
   "cell_type": "code",
   "execution_count": 275,
   "id": "present-termination",
   "metadata": {},
   "outputs": [
    {
     "data": {
      "text/plain": [
       "0.9768154227054308"
      ]
     },
     "execution_count": 275,
     "metadata": {},
     "output_type": "execute_result"
    }
   ],
   "source": [
    "cb_r2_train_score = r2_score(y_pred_train_cb, y_train_cb)\n",
    "cb_r2_train_score"
   ]
  },
  {
   "cell_type": "markdown",
   "id": "coral-peter",
   "metadata": {},
   "source": [
    "**validation of test model**"
   ]
  },
  {
   "cell_type": "code",
   "execution_count": 76,
   "id": "improving-banana",
   "metadata": {},
   "outputs": [],
   "source": [
    "y_pred_test_cb = best_cb_model.predict(X_test_cb)"
   ]
  },
  {
   "cell_type": "code",
   "execution_count": 276,
   "id": "republican-player",
   "metadata": {},
   "outputs": [],
   "source": [
    "y_pred_test_cb = temp_cb_model.predict(X_test_cb)"
   ]
  },
  {
   "cell_type": "code",
   "execution_count": 277,
   "id": "agreed-sheffield",
   "metadata": {},
   "outputs": [
    {
     "data": {
      "text/plain": [
       "0.6756764413960413"
      ]
     },
     "execution_count": 277,
     "metadata": {},
     "output_type": "execute_result"
    }
   ],
   "source": [
    "cb_r2_test_score = r2_score(y_pred_test_cb, y_test_cb)\n",
    "cb_r2_test_score"
   ]
  },
  {
   "cell_type": "markdown",
   "id": "monetary-donor",
   "metadata": {},
   "source": [
    "**Predictions for validation dataset**"
   ]
  },
  {
   "cell_type": "code",
   "execution_count": 278,
   "id": "listed-stevens",
   "metadata": {},
   "outputs": [],
   "source": [
    "X_rl_cb = df_real_cb.copy()"
   ]
  },
  {
   "cell_type": "code",
   "execution_count": 279,
   "id": "experimental-arabic",
   "metadata": {},
   "outputs": [],
   "source": [
    "y_pred_rl_cb = temp_cb_model.predict(X_rl_cb)"
   ]
  },
  {
   "cell_type": "code",
   "execution_count": null,
   "id": "exterior-words",
   "metadata": {},
   "outputs": [],
   "source": []
  },
  {
   "cell_type": "code",
   "execution_count": 280,
   "id": "alien-jumping",
   "metadata": {},
   "outputs": [],
   "source": [
    "res_rl_cb = pd.Series(y_pred_rl_cb)"
   ]
  },
  {
   "cell_type": "code",
   "execution_count": 281,
   "id": "coordinate-investing",
   "metadata": {},
   "outputs": [],
   "source": [
    "submission_rl_cb = X_rl_cb.index"
   ]
  },
  {
   "cell_type": "code",
   "execution_count": 282,
   "id": "following-violation",
   "metadata": {},
   "outputs": [],
   "source": [
    "frame_rl_cb = {'Id':submission_rl_cb, 'Price': res_rl_cb}"
   ]
  },
  {
   "cell_type": "code",
   "execution_count": 283,
   "id": "adolescent-dubai",
   "metadata": {},
   "outputs": [],
   "source": [
    "submission_result_rl_cb = pd.DataFrame(frame_rl_cb)"
   ]
  },
  {
   "cell_type": "code",
   "execution_count": 284,
   "id": "weird-conservation",
   "metadata": {},
   "outputs": [
    {
     "data": {
      "text/plain": [
       "(5000, 2)"
      ]
     },
     "execution_count": 284,
     "metadata": {},
     "output_type": "execute_result"
    }
   ],
   "source": [
    "submission_result_rl_cb.shape"
   ]
  },
  {
   "cell_type": "code",
   "execution_count": 285,
   "id": "southern-double",
   "metadata": {},
   "outputs": [],
   "source": [
    "submission_result_rl_cb.to_csv('D:/Learning/GeekBrains/numpy and pandas/result.csv', index = False)"
   ]
  },
  {
   "cell_type": "code",
   "execution_count": null,
   "id": "large-replica",
   "metadata": {},
   "outputs": [],
   "source": []
  },
  {
   "cell_type": "code",
   "execution_count": null,
   "id": "dramatic-picture",
   "metadata": {},
   "outputs": [],
   "source": []
  },
  {
   "cell_type": "markdown",
   "id": "obvious-future",
   "metadata": {},
   "source": [
    "# 6. Conclusions <a class='anchor' id='conclusions'>"
   ]
  },
  {
   "cell_type": "markdown",
   "id": "secret-jacket",
   "metadata": {},
   "source": [
    "**Dataset**\n",
    "\n",
    "Initial and training datasets have big amount of features which do no have influence on prediction accuracy.\n",
    "Also changing categorial variables using get_dummies function almost does not have influence on funal accuracy of predictions for this current dataset.\n",
    "Big mount of NaN in some columns requires their population or complete removing of features with big amount of gaps in data."
   ]
  },
  {
   "cell_type": "markdown",
   "id": "indie-friendship",
   "metadata": {},
   "source": [
    "**Model Selection**\n",
    "\n",
    "Random Forest model has the best accuracy comparable accuracy　from all models applied.\n",
    "Gradient boosting have slightly higher R2 score but for current dataset in can be relative to more sucessful set of metha parameters.\n",
    "\n"
   ]
  },
  {
   "cell_type": "markdown",
   "id": "isolated-bridge",
   "metadata": {},
   "source": [
    "**Potential ways for result improvement**\n",
    "\n",
    "Available ways for r2 scorw increasing:\n",
    "- improve process of feature preprocessing\n",
    "- use regularisation of features insted of normalisation\n",
    "- try to use PCA dimensional reducing\n",
    "- use more efficeiant models like xgboosting"
   ]
  },
  {
   "cell_type": "code",
   "execution_count": null,
   "id": "wrong-search",
   "metadata": {
    "scrolled": true
   },
   "outputs": [],
   "source": [
    "# s = pd.Series([_ for _ in range(1, result.shape[0] + 1)])\n",
    "# result.set_index(s)"
   ]
  },
  {
   "cell_type": "code",
   "execution_count": null,
   "id": "ceramic-vanilla",
   "metadata": {},
   "outputs": [],
   "source": [
    "gc.collect"
   ]
  }
 ],
 "metadata": {
  "kernelspec": {
   "display_name": "Python 3",
   "language": "python",
   "name": "python3"
  },
  "language_info": {
   "codemirror_mode": {
    "name": "ipython",
    "version": 3
   },
   "file_extension": ".py",
   "mimetype": "text/x-python",
   "name": "python",
   "nbconvert_exporter": "python",
   "pygments_lexer": "ipython3",
   "version": "3.9.1"
  }
 },
 "nbformat": 4,
 "nbformat_minor": 5
}
