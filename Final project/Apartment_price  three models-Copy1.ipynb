{
 "cells": [
  {
   "cell_type": "markdown",
   "id": "proof-liberty",
   "metadata": {},
   "source": [
    "# Machine learning project"
   ]
  },
  {
   "cell_type": "markdown",
   "id": "empirical-basis",
   "metadata": {},
   "source": [
    "**Content**\n",
    "\n",
    "1. [Definition](#definition)\n",
    "2. [Data Analysis](#data_analysis)\n",
    "3. [Functions for data processing](#functions)\n",
    "4. [Data visualisation and pre-processing](#visualization)\n",
    "5. [Model creation and applying](#models)\n",
    "6. [Conclusions](#conclusions)"
   ]
  },
  {
   "cell_type": "markdown",
   "id": "signal-kennedy",
   "metadata": {},
   "source": [
    "## 1. Definition <a class='anchor' id='definition'>"
   ]
  },
  {
   "cell_type": "markdown",
   "id": "affiliated-flexibility",
   "metadata": {},
   "source": [
    "### Overview"
   ]
  },
  {
   "cell_type": "markdown",
   "id": "european-suicide",
   "metadata": {},
   "source": [
    "Dataset which is used in the current task was taken from kaggle contest.\n",
    "https://www.kaggle.com/c/realestatepriceprediction/data\n",
    "\n",
    "\n",
    "Main goal of this contest was predict price of appartment based, on set of features which characterizes these appartments."
   ]
  },
  {
   "cell_type": "markdown",
   "id": "forbidden-depression",
   "metadata": {},
   "source": [
    "### Problem statement"
   ]
  },
  {
   "cell_type": "markdown",
   "id": "applicable-harassment",
   "metadata": {},
   "source": [
    "In the current project price of appartment from test dataset is going to be predicted.\n",
    "There are several models of different types will be created and then their results will be compared to found the most optimal model which fit best for Price prediction.\n",
    "\n",
    "Price prognosos is the regression question and target variable has continiuous range of values. \n",
    "When counting parameters of existing appartments we are going to predict price for other appartments described by the same set of features.\n",
    "\n",
    "Main goal: Find the model which will be able predict value of target variable for each new object.\n",
    "Quality of prediction will be R2 score."
   ]
  },
  {
   "cell_type": "markdown",
   "id": "thorough-perfume",
   "metadata": {},
   "source": [
    "### Metrics"
   ]
  },
  {
   "cell_type": "markdown",
   "id": "important-article",
   "metadata": {},
   "source": [
    "There are three metrics which can be used for regression tasks.\n",
    "\n",
    "- Mean_absolute_error\n",
    "- Mean Square Error\n",
    "- R2_score\n",
    "\n",
    "Quality of model will be verified based on R2 score which should be close to 1.0 as close as it is possible."
   ]
  },
  {
   "cell_type": "markdown",
   "id": "early-distributor",
   "metadata": {},
   "source": [
    "### Model selection"
   ]
  },
  {
   "cell_type": "markdown",
   "id": "assigned-concentrate",
   "metadata": {},
   "source": [
    "For the current tasks followinf models will be applied for comparing of results:\n",
    "- Lienar Regression\n",
    "- Random Forrest Regressor\n",
    "- Gradient Boosting"
   ]
  },
  {
   "cell_type": "markdown",
   "id": "obvious-edinburgh",
   "metadata": {},
   "source": [
    "### Modules import"
   ]
  },
  {
   "cell_type": "code",
   "execution_count": 1,
   "id": "killing-candle",
   "metadata": {},
   "outputs": [],
   "source": [
    "import pandas as pd\n",
    "import numpy as np"
   ]
  },
  {
   "cell_type": "code",
   "execution_count": 2,
   "id": "resistant-questionnaire",
   "metadata": {},
   "outputs": [],
   "source": [
    "from sklearn import tree\n",
    "import matplotlib.pyplot as plt"
   ]
  },
  {
   "cell_type": "code",
   "execution_count": 3,
   "id": "approved-classroom",
   "metadata": {},
   "outputs": [],
   "source": [
    "import seaborn as sns"
   ]
  },
  {
   "cell_type": "code",
   "execution_count": 4,
   "id": "current-practitioner",
   "metadata": {},
   "outputs": [],
   "source": [
    "from sklearn.linear_model import LinearRegression"
   ]
  },
  {
   "cell_type": "code",
   "execution_count": 5,
   "id": "surprising-denial",
   "metadata": {},
   "outputs": [],
   "source": [
    "%matplotlib inline"
   ]
  },
  {
   "cell_type": "code",
   "execution_count": 6,
   "id": "previous-emphasis",
   "metadata": {},
   "outputs": [],
   "source": [
    "from sklearn.model_selection import GridSearchCV"
   ]
  },
  {
   "cell_type": "code",
   "execution_count": 7,
   "id": "collective-optimum",
   "metadata": {},
   "outputs": [],
   "source": [
    "from sklearn.metrics import accuracy_score"
   ]
  },
  {
   "cell_type": "code",
   "execution_count": 8,
   "id": "governmental-increase",
   "metadata": {},
   "outputs": [],
   "source": [
    "from sklearn.ensemble import RandomForestRegressor, GradientBoostingRegressor"
   ]
  },
  {
   "cell_type": "code",
   "execution_count": 346,
   "id": "contrary-fight",
   "metadata": {},
   "outputs": [],
   "source": [
    "from sklearn.model_selection import train_test_split\n",
    "from sklearn.model_selection import GridSearchCV, RandomizedSearchCV\n",
    "from sklearn.model_selection import KFold, RepeatedStratifiedKFold, RepeatedKFold"
   ]
  },
  {
   "cell_type": "code",
   "execution_count": 10,
   "id": "composite-external",
   "metadata": {},
   "outputs": [],
   "source": [
    "from sklearn.metrics import r2_score\n",
    "from sklearn.metrics import mean_absolute_error\n",
    "from sklearn.metrics import mean_squared_error"
   ]
  },
  {
   "cell_type": "code",
   "execution_count": 11,
   "id": "numerical-truth",
   "metadata": {},
   "outputs": [],
   "source": [
    "from sklearn.linear_model import Lasso, Ridge"
   ]
  },
  {
   "cell_type": "code",
   "execution_count": 12,
   "id": "rapid-netscape",
   "metadata": {},
   "outputs": [],
   "source": [
    "from sklearn.preprocessing import StandardScaler, MinMaxScaler"
   ]
  },
  {
   "cell_type": "code",
   "execution_count": 13,
   "id": "electric-veteran",
   "metadata": {},
   "outputs": [],
   "source": [
    "from random import randint, random"
   ]
  },
  {
   "cell_type": "code",
   "execution_count": 14,
   "id": "optical-matter",
   "metadata": {},
   "outputs": [],
   "source": [
    "# garbage collector\n",
    "import gc "
   ]
  },
  {
   "cell_type": "code",
   "execution_count": 15,
   "id": "allied-generator",
   "metadata": {},
   "outputs": [],
   "source": [
    "from catboost import CatBoostRegressor"
   ]
  },
  {
   "cell_type": "markdown",
   "id": "underlying-familiar",
   "metadata": {},
   "source": [
    "Creation of empty dataframe for result storing"
   ]
  },
  {
   "cell_type": "code",
   "execution_count": 16,
   "id": "widespread-ferry",
   "metadata": {},
   "outputs": [],
   "source": [
    "result = pd.DataFrame(columns=['Model_type','data_proprocessing','R2_score', 'MAE', 'MSE'], dtype = object)"
   ]
  },
  {
   "cell_type": "markdown",
   "id": "ongoing-mumbai",
   "metadata": {},
   "source": [
    "## 2. Data analysis <a class='anchor' id='data_analysis'>"
   ]
  },
  {
   "cell_type": "markdown",
   "id": "colonial-habitat",
   "metadata": {},
   "source": [
    "### Data Preparation"
   ]
  },
  {
   "cell_type": "markdown",
   "id": "swiss-government",
   "metadata": {},
   "source": [
    "Dataset which is used in the current task was taken from kaggle contest.\n",
    "https://www.kaggle.com/c/realestatepriceprediction/data\n",
    "\n",
    "Id columns will be used as index because this field should be unique and does not any valueable information for prediction process."
   ]
  },
  {
   "cell_type": "code",
   "execution_count": 17,
   "id": "failing-receptor",
   "metadata": {},
   "outputs": [],
   "source": [
    "df = pd.read_csv(\"D:\\\\Learning\\\\GeekBrains\\\\numpy and pandas\\\\Final project\\\\train.csv\", index_col='Id' )"
   ]
  },
  {
   "cell_type": "code",
   "execution_count": 18,
   "id": "beginning-fiction",
   "metadata": {},
   "outputs": [
    {
     "data": {
      "text/plain": [
       "DistrictId         int64\n",
       "Rooms            float64\n",
       "Square           float64\n",
       "LifeSquare       float64\n",
       "KitchenSquare    float64\n",
       "Floor              int64\n",
       "HouseFloor       float64\n",
       "HouseYear          int64\n",
       "Ecology_1        float64\n",
       "Ecology_2         object\n",
       "Ecology_3         object\n",
       "Social_1           int64\n",
       "Social_2           int64\n",
       "Social_3           int64\n",
       "Healthcare_1     float64\n",
       "Helthcare_2        int64\n",
       "Shops_1            int64\n",
       "Shops_2           object\n",
       "Price            float64\n",
       "dtype: object"
      ]
     },
     "execution_count": 18,
     "metadata": {},
     "output_type": "execute_result"
    }
   ],
   "source": [
    "df.dtypes"
   ]
  },
  {
   "cell_type": "markdown",
   "id": "creative-technique",
   "metadata": {},
   "source": [
    "#### Data fields/Features\n",
    "- Id - id of appartment\n",
    "- DistrictId - id of district where appartment is\n",
    "- Rooms - number of rooms in apartment\n",
    "- Square - area of appartment\n",
    "- LifeSquare - value of life square of appartment\n",
    "- KitchenSquare - value of kitchen square of appartment\n",
    "- Floor - floor where appartment is.\n",
    "- HouseFloor - number of floors of the house.\n",
    "- HouseYear - year where house was built.\n",
    "- Ecology_1, Ecology_2, Ecology_3 - ecological features of region\n",
    "- Social_1, Social_2, Social_3 - social features of region\n",
    "- Healthcare_1, Helthcare_2 - features of reagion related to healthcare\n",
    "- Shops_1, Shops_2 - features which describe existiong of shops, trade centers etc nearby\n",
    "- Price - target value. Price of appartment"
   ]
  },
  {
   "cell_type": "code",
   "execution_count": 19,
   "id": "lovely-longer",
   "metadata": {
    "scrolled": false
   },
   "outputs": [
    {
     "data": {
      "text/html": [
       "<div>\n",
       "<style scoped>\n",
       "    .dataframe tbody tr th:only-of-type {\n",
       "        vertical-align: middle;\n",
       "    }\n",
       "\n",
       "    .dataframe tbody tr th {\n",
       "        vertical-align: top;\n",
       "    }\n",
       "\n",
       "    .dataframe thead th {\n",
       "        text-align: right;\n",
       "    }\n",
       "</style>\n",
       "<table border=\"1\" class=\"dataframe\">\n",
       "  <thead>\n",
       "    <tr style=\"text-align: right;\">\n",
       "      <th></th>\n",
       "      <th>DistrictId</th>\n",
       "      <th>Rooms</th>\n",
       "      <th>Square</th>\n",
       "      <th>LifeSquare</th>\n",
       "      <th>KitchenSquare</th>\n",
       "      <th>Floor</th>\n",
       "      <th>HouseFloor</th>\n",
       "      <th>HouseYear</th>\n",
       "      <th>Ecology_1</th>\n",
       "      <th>Ecology_2</th>\n",
       "      <th>Ecology_3</th>\n",
       "      <th>Social_1</th>\n",
       "      <th>Social_2</th>\n",
       "      <th>Social_3</th>\n",
       "      <th>Healthcare_1</th>\n",
       "      <th>Helthcare_2</th>\n",
       "      <th>Shops_1</th>\n",
       "      <th>Shops_2</th>\n",
       "      <th>Price</th>\n",
       "    </tr>\n",
       "    <tr>\n",
       "      <th>Id</th>\n",
       "      <th></th>\n",
       "      <th></th>\n",
       "      <th></th>\n",
       "      <th></th>\n",
       "      <th></th>\n",
       "      <th></th>\n",
       "      <th></th>\n",
       "      <th></th>\n",
       "      <th></th>\n",
       "      <th></th>\n",
       "      <th></th>\n",
       "      <th></th>\n",
       "      <th></th>\n",
       "      <th></th>\n",
       "      <th></th>\n",
       "      <th></th>\n",
       "      <th></th>\n",
       "      <th></th>\n",
       "      <th></th>\n",
       "    </tr>\n",
       "  </thead>\n",
       "  <tbody>\n",
       "    <tr>\n",
       "      <th>14038</th>\n",
       "      <td>35</td>\n",
       "      <td>2.0</td>\n",
       "      <td>47.981561</td>\n",
       "      <td>29.442751</td>\n",
       "      <td>6.0</td>\n",
       "      <td>7</td>\n",
       "      <td>9.0</td>\n",
       "      <td>1969</td>\n",
       "      <td>0.089040</td>\n",
       "      <td>B</td>\n",
       "      <td>B</td>\n",
       "      <td>33</td>\n",
       "      <td>7976</td>\n",
       "      <td>5</td>\n",
       "      <td>NaN</td>\n",
       "      <td>0</td>\n",
       "      <td>11</td>\n",
       "      <td>B</td>\n",
       "      <td>184966.930730</td>\n",
       "    </tr>\n",
       "    <tr>\n",
       "      <th>15053</th>\n",
       "      <td>41</td>\n",
       "      <td>3.0</td>\n",
       "      <td>65.683640</td>\n",
       "      <td>40.049543</td>\n",
       "      <td>8.0</td>\n",
       "      <td>7</td>\n",
       "      <td>9.0</td>\n",
       "      <td>1978</td>\n",
       "      <td>0.000070</td>\n",
       "      <td>B</td>\n",
       "      <td>B</td>\n",
       "      <td>46</td>\n",
       "      <td>10309</td>\n",
       "      <td>1</td>\n",
       "      <td>240.0</td>\n",
       "      <td>1</td>\n",
       "      <td>16</td>\n",
       "      <td>B</td>\n",
       "      <td>300009.450063</td>\n",
       "    </tr>\n",
       "    <tr>\n",
       "      <th>4765</th>\n",
       "      <td>53</td>\n",
       "      <td>2.0</td>\n",
       "      <td>44.947953</td>\n",
       "      <td>29.197612</td>\n",
       "      <td>0.0</td>\n",
       "      <td>8</td>\n",
       "      <td>12.0</td>\n",
       "      <td>1968</td>\n",
       "      <td>0.049637</td>\n",
       "      <td>B</td>\n",
       "      <td>B</td>\n",
       "      <td>34</td>\n",
       "      <td>7759</td>\n",
       "      <td>0</td>\n",
       "      <td>229.0</td>\n",
       "      <td>1</td>\n",
       "      <td>3</td>\n",
       "      <td>B</td>\n",
       "      <td>220925.908524</td>\n",
       "    </tr>\n",
       "    <tr>\n",
       "      <th>5809</th>\n",
       "      <td>58</td>\n",
       "      <td>2.0</td>\n",
       "      <td>53.352981</td>\n",
       "      <td>52.731512</td>\n",
       "      <td>9.0</td>\n",
       "      <td>8</td>\n",
       "      <td>17.0</td>\n",
       "      <td>1977</td>\n",
       "      <td>0.437885</td>\n",
       "      <td>B</td>\n",
       "      <td>B</td>\n",
       "      <td>23</td>\n",
       "      <td>5735</td>\n",
       "      <td>3</td>\n",
       "      <td>1084.0</td>\n",
       "      <td>0</td>\n",
       "      <td>5</td>\n",
       "      <td>B</td>\n",
       "      <td>175616.227217</td>\n",
       "    </tr>\n",
       "    <tr>\n",
       "      <th>10783</th>\n",
       "      <td>99</td>\n",
       "      <td>1.0</td>\n",
       "      <td>39.649192</td>\n",
       "      <td>23.776169</td>\n",
       "      <td>7.0</td>\n",
       "      <td>11</td>\n",
       "      <td>12.0</td>\n",
       "      <td>1976</td>\n",
       "      <td>0.012339</td>\n",
       "      <td>B</td>\n",
       "      <td>B</td>\n",
       "      <td>35</td>\n",
       "      <td>5776</td>\n",
       "      <td>1</td>\n",
       "      <td>2078.0</td>\n",
       "      <td>2</td>\n",
       "      <td>4</td>\n",
       "      <td>B</td>\n",
       "      <td>150226.531644</td>\n",
       "    </tr>\n",
       "  </tbody>\n",
       "</table>\n",
       "</div>"
      ],
      "text/plain": [
       "       DistrictId  Rooms     Square  LifeSquare  KitchenSquare  Floor  \\\n",
       "Id                                                                      \n",
       "14038          35    2.0  47.981561   29.442751            6.0      7   \n",
       "15053          41    3.0  65.683640   40.049543            8.0      7   \n",
       "4765           53    2.0  44.947953   29.197612            0.0      8   \n",
       "5809           58    2.0  53.352981   52.731512            9.0      8   \n",
       "10783          99    1.0  39.649192   23.776169            7.0     11   \n",
       "\n",
       "       HouseFloor  HouseYear  Ecology_1 Ecology_2 Ecology_3  Social_1  \\\n",
       "Id                                                                      \n",
       "14038         9.0       1969   0.089040         B         B        33   \n",
       "15053         9.0       1978   0.000070         B         B        46   \n",
       "4765         12.0       1968   0.049637         B         B        34   \n",
       "5809         17.0       1977   0.437885         B         B        23   \n",
       "10783        12.0       1976   0.012339         B         B        35   \n",
       "\n",
       "       Social_2  Social_3  Healthcare_1  Helthcare_2  Shops_1 Shops_2  \\\n",
       "Id                                                                      \n",
       "14038      7976         5           NaN            0       11       B   \n",
       "15053     10309         1         240.0            1       16       B   \n",
       "4765       7759         0         229.0            1        3       B   \n",
       "5809       5735         3        1084.0            0        5       B   \n",
       "10783      5776         1        2078.0            2        4       B   \n",
       "\n",
       "               Price  \n",
       "Id                    \n",
       "14038  184966.930730  \n",
       "15053  300009.450063  \n",
       "4765   220925.908524  \n",
       "5809   175616.227217  \n",
       "10783  150226.531644  "
      ]
     },
     "execution_count": 19,
     "metadata": {},
     "output_type": "execute_result"
    }
   ],
   "source": [
    "df.head()"
   ]
  },
  {
   "cell_type": "code",
   "execution_count": 20,
   "id": "orange-explorer",
   "metadata": {
    "scrolled": true
   },
   "outputs": [
    {
     "data": {
      "text/plain": [
       "(10000, 19)"
      ]
     },
     "execution_count": 20,
     "metadata": {},
     "output_type": "execute_result"
    }
   ],
   "source": [
    "df.shape"
   ]
  },
  {
   "cell_type": "code",
   "execution_count": 21,
   "id": "prescription-transcript",
   "metadata": {
    "scrolled": false
   },
   "outputs": [
    {
     "data": {
      "text/html": [
       "<div>\n",
       "<style scoped>\n",
       "    .dataframe tbody tr th:only-of-type {\n",
       "        vertical-align: middle;\n",
       "    }\n",
       "\n",
       "    .dataframe tbody tr th {\n",
       "        vertical-align: top;\n",
       "    }\n",
       "\n",
       "    .dataframe thead th {\n",
       "        text-align: right;\n",
       "    }\n",
       "</style>\n",
       "<table border=\"1\" class=\"dataframe\">\n",
       "  <thead>\n",
       "    <tr style=\"text-align: right;\">\n",
       "      <th></th>\n",
       "      <th>DistrictId</th>\n",
       "      <th>Rooms</th>\n",
       "      <th>Square</th>\n",
       "      <th>LifeSquare</th>\n",
       "      <th>KitchenSquare</th>\n",
       "      <th>Floor</th>\n",
       "      <th>HouseFloor</th>\n",
       "      <th>HouseYear</th>\n",
       "      <th>Ecology_1</th>\n",
       "      <th>Social_1</th>\n",
       "      <th>Social_2</th>\n",
       "      <th>Social_3</th>\n",
       "      <th>Healthcare_1</th>\n",
       "      <th>Helthcare_2</th>\n",
       "      <th>Shops_1</th>\n",
       "      <th>Price</th>\n",
       "    </tr>\n",
       "  </thead>\n",
       "  <tbody>\n",
       "    <tr>\n",
       "      <th>count</th>\n",
       "      <td>10000.000000</td>\n",
       "      <td>10000.000000</td>\n",
       "      <td>10000.000000</td>\n",
       "      <td>7887.000000</td>\n",
       "      <td>10000.000000</td>\n",
       "      <td>10000.000000</td>\n",
       "      <td>10000.000000</td>\n",
       "      <td>1.000000e+04</td>\n",
       "      <td>10000.000000</td>\n",
       "      <td>10000.000000</td>\n",
       "      <td>10000.000000</td>\n",
       "      <td>10000.000000</td>\n",
       "      <td>5202.000000</td>\n",
       "      <td>10000.000000</td>\n",
       "      <td>10000.000000</td>\n",
       "      <td>10000.000000</td>\n",
       "    </tr>\n",
       "    <tr>\n",
       "      <th>mean</th>\n",
       "      <td>50.400800</td>\n",
       "      <td>1.890500</td>\n",
       "      <td>56.315775</td>\n",
       "      <td>37.199645</td>\n",
       "      <td>6.273300</td>\n",
       "      <td>8.526700</td>\n",
       "      <td>12.609400</td>\n",
       "      <td>3.990166e+03</td>\n",
       "      <td>0.118858</td>\n",
       "      <td>24.687000</td>\n",
       "      <td>5352.157400</td>\n",
       "      <td>8.039200</td>\n",
       "      <td>1142.904460</td>\n",
       "      <td>1.319500</td>\n",
       "      <td>4.231300</td>\n",
       "      <td>214138.857399</td>\n",
       "    </tr>\n",
       "    <tr>\n",
       "      <th>std</th>\n",
       "      <td>43.587592</td>\n",
       "      <td>0.839512</td>\n",
       "      <td>21.058732</td>\n",
       "      <td>86.241209</td>\n",
       "      <td>28.560917</td>\n",
       "      <td>5.241148</td>\n",
       "      <td>6.775974</td>\n",
       "      <td>2.005003e+05</td>\n",
       "      <td>0.119025</td>\n",
       "      <td>17.532614</td>\n",
       "      <td>4006.799803</td>\n",
       "      <td>23.831875</td>\n",
       "      <td>1021.517264</td>\n",
       "      <td>1.493601</td>\n",
       "      <td>4.806341</td>\n",
       "      <td>92872.293865</td>\n",
       "    </tr>\n",
       "    <tr>\n",
       "      <th>min</th>\n",
       "      <td>0.000000</td>\n",
       "      <td>0.000000</td>\n",
       "      <td>1.136859</td>\n",
       "      <td>0.370619</td>\n",
       "      <td>0.000000</td>\n",
       "      <td>1.000000</td>\n",
       "      <td>0.000000</td>\n",
       "      <td>1.910000e+03</td>\n",
       "      <td>0.000000</td>\n",
       "      <td>0.000000</td>\n",
       "      <td>168.000000</td>\n",
       "      <td>0.000000</td>\n",
       "      <td>0.000000</td>\n",
       "      <td>0.000000</td>\n",
       "      <td>0.000000</td>\n",
       "      <td>59174.778028</td>\n",
       "    </tr>\n",
       "    <tr>\n",
       "      <th>25%</th>\n",
       "      <td>20.000000</td>\n",
       "      <td>1.000000</td>\n",
       "      <td>41.774881</td>\n",
       "      <td>22.769832</td>\n",
       "      <td>1.000000</td>\n",
       "      <td>4.000000</td>\n",
       "      <td>9.000000</td>\n",
       "      <td>1.974000e+03</td>\n",
       "      <td>0.017647</td>\n",
       "      <td>6.000000</td>\n",
       "      <td>1564.000000</td>\n",
       "      <td>0.000000</td>\n",
       "      <td>350.000000</td>\n",
       "      <td>0.000000</td>\n",
       "      <td>1.000000</td>\n",
       "      <td>153872.633942</td>\n",
       "    </tr>\n",
       "    <tr>\n",
       "      <th>50%</th>\n",
       "      <td>36.000000</td>\n",
       "      <td>2.000000</td>\n",
       "      <td>52.513310</td>\n",
       "      <td>32.781260</td>\n",
       "      <td>6.000000</td>\n",
       "      <td>7.000000</td>\n",
       "      <td>13.000000</td>\n",
       "      <td>1.977000e+03</td>\n",
       "      <td>0.075424</td>\n",
       "      <td>25.000000</td>\n",
       "      <td>5285.000000</td>\n",
       "      <td>2.000000</td>\n",
       "      <td>900.000000</td>\n",
       "      <td>1.000000</td>\n",
       "      <td>3.000000</td>\n",
       "      <td>192269.644879</td>\n",
       "    </tr>\n",
       "    <tr>\n",
       "      <th>75%</th>\n",
       "      <td>75.000000</td>\n",
       "      <td>2.000000</td>\n",
       "      <td>65.900625</td>\n",
       "      <td>45.128803</td>\n",
       "      <td>9.000000</td>\n",
       "      <td>12.000000</td>\n",
       "      <td>17.000000</td>\n",
       "      <td>2.001000e+03</td>\n",
       "      <td>0.195781</td>\n",
       "      <td>36.000000</td>\n",
       "      <td>7227.000000</td>\n",
       "      <td>5.000000</td>\n",
       "      <td>1548.000000</td>\n",
       "      <td>2.000000</td>\n",
       "      <td>6.000000</td>\n",
       "      <td>249135.462171</td>\n",
       "    </tr>\n",
       "    <tr>\n",
       "      <th>max</th>\n",
       "      <td>209.000000</td>\n",
       "      <td>19.000000</td>\n",
       "      <td>641.065193</td>\n",
       "      <td>7480.592129</td>\n",
       "      <td>2014.000000</td>\n",
       "      <td>42.000000</td>\n",
       "      <td>117.000000</td>\n",
       "      <td>2.005201e+07</td>\n",
       "      <td>0.521867</td>\n",
       "      <td>74.000000</td>\n",
       "      <td>19083.000000</td>\n",
       "      <td>141.000000</td>\n",
       "      <td>4849.000000</td>\n",
       "      <td>6.000000</td>\n",
       "      <td>23.000000</td>\n",
       "      <td>633233.466570</td>\n",
       "    </tr>\n",
       "  </tbody>\n",
       "</table>\n",
       "</div>"
      ],
      "text/plain": [
       "         DistrictId         Rooms        Square   LifeSquare  KitchenSquare  \\\n",
       "count  10000.000000  10000.000000  10000.000000  7887.000000   10000.000000   \n",
       "mean      50.400800      1.890500     56.315775    37.199645       6.273300   \n",
       "std       43.587592      0.839512     21.058732    86.241209      28.560917   \n",
       "min        0.000000      0.000000      1.136859     0.370619       0.000000   \n",
       "25%       20.000000      1.000000     41.774881    22.769832       1.000000   \n",
       "50%       36.000000      2.000000     52.513310    32.781260       6.000000   \n",
       "75%       75.000000      2.000000     65.900625    45.128803       9.000000   \n",
       "max      209.000000     19.000000    641.065193  7480.592129    2014.000000   \n",
       "\n",
       "              Floor    HouseFloor     HouseYear     Ecology_1      Social_1  \\\n",
       "count  10000.000000  10000.000000  1.000000e+04  10000.000000  10000.000000   \n",
       "mean       8.526700     12.609400  3.990166e+03      0.118858     24.687000   \n",
       "std        5.241148      6.775974  2.005003e+05      0.119025     17.532614   \n",
       "min        1.000000      0.000000  1.910000e+03      0.000000      0.000000   \n",
       "25%        4.000000      9.000000  1.974000e+03      0.017647      6.000000   \n",
       "50%        7.000000     13.000000  1.977000e+03      0.075424     25.000000   \n",
       "75%       12.000000     17.000000  2.001000e+03      0.195781     36.000000   \n",
       "max       42.000000    117.000000  2.005201e+07      0.521867     74.000000   \n",
       "\n",
       "           Social_2      Social_3  Healthcare_1   Helthcare_2       Shops_1  \\\n",
       "count  10000.000000  10000.000000   5202.000000  10000.000000  10000.000000   \n",
       "mean    5352.157400      8.039200   1142.904460      1.319500      4.231300   \n",
       "std     4006.799803     23.831875   1021.517264      1.493601      4.806341   \n",
       "min      168.000000      0.000000      0.000000      0.000000      0.000000   \n",
       "25%     1564.000000      0.000000    350.000000      0.000000      1.000000   \n",
       "50%     5285.000000      2.000000    900.000000      1.000000      3.000000   \n",
       "75%     7227.000000      5.000000   1548.000000      2.000000      6.000000   \n",
       "max    19083.000000    141.000000   4849.000000      6.000000     23.000000   \n",
       "\n",
       "               Price  \n",
       "count   10000.000000  \n",
       "mean   214138.857399  \n",
       "std     92872.293865  \n",
       "min     59174.778028  \n",
       "25%    153872.633942  \n",
       "50%    192269.644879  \n",
       "75%    249135.462171  \n",
       "max    633233.466570  "
      ]
     },
     "execution_count": 21,
     "metadata": {},
     "output_type": "execute_result"
    }
   ],
   "source": [
    "df.describe()"
   ]
  },
  {
   "cell_type": "markdown",
   "id": "tight-monthly",
   "metadata": {},
   "source": [
    "The most of fields have anomalies and outliers."
   ]
  },
  {
   "cell_type": "markdown",
   "id": "urban-evolution",
   "metadata": {},
   "source": [
    "Distribution of target variable:"
   ]
  },
  {
   "cell_type": "code",
   "execution_count": 22,
   "id": "adequate-monte",
   "metadata": {
    "scrolled": false
   },
   "outputs": [
    {
     "data": {
      "image/png": "[encoded data removed]",
      "text/plain": [
       "<Figure size 576x288 with 2 Axes>"
      ]
     },
     "metadata": {
      "needs_background": "light"
     },
     "output_type": "display_data"
    }
   ],
   "source": [
    "plt.figure(figsize = (8, 4))\n",
    "\n",
    "plt.subplot(121)\n",
    "df['Price'].hist(density=False, bins=20)\n",
    "plt.ylabel('count')\n",
    "plt.xlabel('price_value')\n",
    "\n",
    "plt.subplot(122)\n",
    "sns.kdeplot(df['Price'], shade=True, legend=False)\n",
    "plt.xlabel('price_value')\n",
    "\n",
    "plt.suptitle('Distribution of price_value')\n",
    "plt.show()"
   ]
  },
  {
   "cell_type": "code",
   "execution_count": 23,
   "id": "typical-excerpt",
   "metadata": {},
   "outputs": [
    {
     "data": {
      "text/plain": [
       "count     10000.000000\n",
       "mean     214138.857399\n",
       "std       92872.293865\n",
       "min       59174.778028\n",
       "25%      153872.633942\n",
       "50%      192269.644879\n",
       "75%      249135.462171\n",
       "max      633233.466570\n",
       "Name: Price, dtype: float64"
      ]
     },
     "execution_count": 23,
     "metadata": {},
     "output_type": "execute_result"
    }
   ],
   "source": [
    "df['Price'].describe()"
   ]
  },
  {
   "cell_type": "markdown",
   "id": "careful-deposit",
   "metadata": {},
   "source": [
    "Dispersion of target variable is closed to normal, non-symmetrical. \n",
    "\n",
    "It looks like that changes or processing of target variable Price is not required."
   ]
  },
  {
   "cell_type": "markdown",
   "id": "seven-electron",
   "metadata": {},
   "source": [
    "### Columns with null data"
   ]
  },
  {
   "cell_type": "code",
   "execution_count": 24,
   "id": "touched-quick",
   "metadata": {},
   "outputs": [
    {
     "data": {
      "text/plain": [
       "DistrictId          0\n",
       "Rooms               0\n",
       "Square              0\n",
       "LifeSquare       2113\n",
       "KitchenSquare       0\n",
       "Floor               0\n",
       "HouseFloor          0\n",
       "HouseYear           0\n",
       "Ecology_1           0\n",
       "Ecology_2           0\n",
       "Ecology_3           0\n",
       "Social_1            0\n",
       "Social_2            0\n",
       "Social_3            0\n",
       "Healthcare_1     4798\n",
       "Helthcare_2         0\n",
       "Shops_1             0\n",
       "Shops_2             0\n",
       "Price               0\n",
       "dtype: int64"
      ]
     },
     "execution_count": 24,
     "metadata": {},
     "output_type": "execute_result"
    }
   ],
   "source": [
    "df.isnull().sum()"
   ]
  },
  {
   "cell_type": "markdown",
   "id": "guided-mandate",
   "metadata": {},
   "source": [
    "'LifeSquare' and 'Healthcare_1' columns contains a lot of null data.\n",
    "\n",
    "Training dataset contains 10000 entries.\n",
    "\n",
    "So persent of missing data for 'LifeSquare' is 21.13 ad for Healthcare_1 is 47.98."
   ]
  },
  {
   "cell_type": "markdown",
   "id": "complimentary-fisher",
   "metadata": {},
   "source": [
    "#### Columns with anomalies/outliers"
   ]
  },
  {
   "cell_type": "code",
   "execution_count": 25,
   "id": "different-typing",
   "metadata": {
    "scrolled": true
   },
   "outputs": [
    {
     "data": {
      "text/html": [
       "<div>\n",
       "<style scoped>\n",
       "    .dataframe tbody tr th:only-of-type {\n",
       "        vertical-align: middle;\n",
       "    }\n",
       "\n",
       "    .dataframe tbody tr th {\n",
       "        vertical-align: top;\n",
       "    }\n",
       "\n",
       "    .dataframe thead th {\n",
       "        text-align: right;\n",
       "    }\n",
       "</style>\n",
       "<table border=\"1\" class=\"dataframe\">\n",
       "  <thead>\n",
       "    <tr style=\"text-align: right;\">\n",
       "      <th></th>\n",
       "      <th>DistrictId</th>\n",
       "      <th>Rooms</th>\n",
       "      <th>Square</th>\n",
       "      <th>LifeSquare</th>\n",
       "      <th>KitchenSquare</th>\n",
       "      <th>Floor</th>\n",
       "      <th>HouseFloor</th>\n",
       "      <th>HouseYear</th>\n",
       "      <th>Ecology_1</th>\n",
       "      <th>Social_1</th>\n",
       "      <th>Social_2</th>\n",
       "      <th>Social_3</th>\n",
       "      <th>Healthcare_1</th>\n",
       "      <th>Helthcare_2</th>\n",
       "      <th>Shops_1</th>\n",
       "      <th>Price</th>\n",
       "    </tr>\n",
       "  </thead>\n",
       "  <tbody>\n",
       "    <tr>\n",
       "      <th>count</th>\n",
       "      <td>10000.000000</td>\n",
       "      <td>10000.000000</td>\n",
       "      <td>10000.000000</td>\n",
       "      <td>7887.000000</td>\n",
       "      <td>10000.000000</td>\n",
       "      <td>10000.000000</td>\n",
       "      <td>10000.000000</td>\n",
       "      <td>1.000000e+04</td>\n",
       "      <td>10000.000000</td>\n",
       "      <td>10000.000000</td>\n",
       "      <td>10000.000000</td>\n",
       "      <td>10000.000000</td>\n",
       "      <td>5202.000000</td>\n",
       "      <td>10000.000000</td>\n",
       "      <td>10000.000000</td>\n",
       "      <td>10000.000000</td>\n",
       "    </tr>\n",
       "    <tr>\n",
       "      <th>mean</th>\n",
       "      <td>50.400800</td>\n",
       "      <td>1.890500</td>\n",
       "      <td>56.315775</td>\n",
       "      <td>37.199645</td>\n",
       "      <td>6.273300</td>\n",
       "      <td>8.526700</td>\n",
       "      <td>12.609400</td>\n",
       "      <td>3.990166e+03</td>\n",
       "      <td>0.118858</td>\n",
       "      <td>24.687000</td>\n",
       "      <td>5352.157400</td>\n",
       "      <td>8.039200</td>\n",
       "      <td>1142.904460</td>\n",
       "      <td>1.319500</td>\n",
       "      <td>4.231300</td>\n",
       "      <td>214138.857399</td>\n",
       "    </tr>\n",
       "    <tr>\n",
       "      <th>std</th>\n",
       "      <td>43.587592</td>\n",
       "      <td>0.839512</td>\n",
       "      <td>21.058732</td>\n",
       "      <td>86.241209</td>\n",
       "      <td>28.560917</td>\n",
       "      <td>5.241148</td>\n",
       "      <td>6.775974</td>\n",
       "      <td>2.005003e+05</td>\n",
       "      <td>0.119025</td>\n",
       "      <td>17.532614</td>\n",
       "      <td>4006.799803</td>\n",
       "      <td>23.831875</td>\n",
       "      <td>1021.517264</td>\n",
       "      <td>1.493601</td>\n",
       "      <td>4.806341</td>\n",
       "      <td>92872.293865</td>\n",
       "    </tr>\n",
       "    <tr>\n",
       "      <th>min</th>\n",
       "      <td>0.000000</td>\n",
       "      <td>0.000000</td>\n",
       "      <td>1.136859</td>\n",
       "      <td>0.370619</td>\n",
       "      <td>0.000000</td>\n",
       "      <td>1.000000</td>\n",
       "      <td>0.000000</td>\n",
       "      <td>1.910000e+03</td>\n",
       "      <td>0.000000</td>\n",
       "      <td>0.000000</td>\n",
       "      <td>168.000000</td>\n",
       "      <td>0.000000</td>\n",
       "      <td>0.000000</td>\n",
       "      <td>0.000000</td>\n",
       "      <td>0.000000</td>\n",
       "      <td>59174.778028</td>\n",
       "    </tr>\n",
       "    <tr>\n",
       "      <th>25%</th>\n",
       "      <td>20.000000</td>\n",
       "      <td>1.000000</td>\n",
       "      <td>41.774881</td>\n",
       "      <td>22.769832</td>\n",
       "      <td>1.000000</td>\n",
       "      <td>4.000000</td>\n",
       "      <td>9.000000</td>\n",
       "      <td>1.974000e+03</td>\n",
       "      <td>0.017647</td>\n",
       "      <td>6.000000</td>\n",
       "      <td>1564.000000</td>\n",
       "      <td>0.000000</td>\n",
       "      <td>350.000000</td>\n",
       "      <td>0.000000</td>\n",
       "      <td>1.000000</td>\n",
       "      <td>153872.633942</td>\n",
       "    </tr>\n",
       "    <tr>\n",
       "      <th>50%</th>\n",
       "      <td>36.000000</td>\n",
       "      <td>2.000000</td>\n",
       "      <td>52.513310</td>\n",
       "      <td>32.781260</td>\n",
       "      <td>6.000000</td>\n",
       "      <td>7.000000</td>\n",
       "      <td>13.000000</td>\n",
       "      <td>1.977000e+03</td>\n",
       "      <td>0.075424</td>\n",
       "      <td>25.000000</td>\n",
       "      <td>5285.000000</td>\n",
       "      <td>2.000000</td>\n",
       "      <td>900.000000</td>\n",
       "      <td>1.000000</td>\n",
       "      <td>3.000000</td>\n",
       "      <td>192269.644879</td>\n",
       "    </tr>\n",
       "    <tr>\n",
       "      <th>75%</th>\n",
       "      <td>75.000000</td>\n",
       "      <td>2.000000</td>\n",
       "      <td>65.900625</td>\n",
       "      <td>45.128803</td>\n",
       "      <td>9.000000</td>\n",
       "      <td>12.000000</td>\n",
       "      <td>17.000000</td>\n",
       "      <td>2.001000e+03</td>\n",
       "      <td>0.195781</td>\n",
       "      <td>36.000000</td>\n",
       "      <td>7227.000000</td>\n",
       "      <td>5.000000</td>\n",
       "      <td>1548.000000</td>\n",
       "      <td>2.000000</td>\n",
       "      <td>6.000000</td>\n",
       "      <td>249135.462171</td>\n",
       "    </tr>\n",
       "    <tr>\n",
       "      <th>max</th>\n",
       "      <td>209.000000</td>\n",
       "      <td>19.000000</td>\n",
       "      <td>641.065193</td>\n",
       "      <td>7480.592129</td>\n",
       "      <td>2014.000000</td>\n",
       "      <td>42.000000</td>\n",
       "      <td>117.000000</td>\n",
       "      <td>2.005201e+07</td>\n",
       "      <td>0.521867</td>\n",
       "      <td>74.000000</td>\n",
       "      <td>19083.000000</td>\n",
       "      <td>141.000000</td>\n",
       "      <td>4849.000000</td>\n",
       "      <td>6.000000</td>\n",
       "      <td>23.000000</td>\n",
       "      <td>633233.466570</td>\n",
       "    </tr>\n",
       "  </tbody>\n",
       "</table>\n",
       "</div>"
      ],
      "text/plain": [
       "         DistrictId         Rooms        Square   LifeSquare  KitchenSquare  \\\n",
       "count  10000.000000  10000.000000  10000.000000  7887.000000   10000.000000   \n",
       "mean      50.400800      1.890500     56.315775    37.199645       6.273300   \n",
       "std       43.587592      0.839512     21.058732    86.241209      28.560917   \n",
       "min        0.000000      0.000000      1.136859     0.370619       0.000000   \n",
       "25%       20.000000      1.000000     41.774881    22.769832       1.000000   \n",
       "50%       36.000000      2.000000     52.513310    32.781260       6.000000   \n",
       "75%       75.000000      2.000000     65.900625    45.128803       9.000000   \n",
       "max      209.000000     19.000000    641.065193  7480.592129    2014.000000   \n",
       "\n",
       "              Floor    HouseFloor     HouseYear     Ecology_1      Social_1  \\\n",
       "count  10000.000000  10000.000000  1.000000e+04  10000.000000  10000.000000   \n",
       "mean       8.526700     12.609400  3.990166e+03      0.118858     24.687000   \n",
       "std        5.241148      6.775974  2.005003e+05      0.119025     17.532614   \n",
       "min        1.000000      0.000000  1.910000e+03      0.000000      0.000000   \n",
       "25%        4.000000      9.000000  1.974000e+03      0.017647      6.000000   \n",
       "50%        7.000000     13.000000  1.977000e+03      0.075424     25.000000   \n",
       "75%       12.000000     17.000000  2.001000e+03      0.195781     36.000000   \n",
       "max       42.000000    117.000000  2.005201e+07      0.521867     74.000000   \n",
       "\n",
       "           Social_2      Social_3  Healthcare_1   Helthcare_2       Shops_1  \\\n",
       "count  10000.000000  10000.000000   5202.000000  10000.000000  10000.000000   \n",
       "mean    5352.157400      8.039200   1142.904460      1.319500      4.231300   \n",
       "std     4006.799803     23.831875   1021.517264      1.493601      4.806341   \n",
       "min      168.000000      0.000000      0.000000      0.000000      0.000000   \n",
       "25%     1564.000000      0.000000    350.000000      0.000000      1.000000   \n",
       "50%     5285.000000      2.000000    900.000000      1.000000      3.000000   \n",
       "75%     7227.000000      5.000000   1548.000000      2.000000      6.000000   \n",
       "max    19083.000000    141.000000   4849.000000      6.000000     23.000000   \n",
       "\n",
       "               Price  \n",
       "count   10000.000000  \n",
       "mean   214138.857399  \n",
       "std     92872.293865  \n",
       "min     59174.778028  \n",
       "25%    153872.633942  \n",
       "50%    192269.644879  \n",
       "75%    249135.462171  \n",
       "max    633233.466570  "
      ]
     },
     "execution_count": 25,
     "metadata": {},
     "output_type": "execute_result"
    }
   ],
   "source": [
    "df.describe()"
   ]
  },
  {
   "cell_type": "code",
   "execution_count": 26,
   "id": "popular-external",
   "metadata": {},
   "outputs": [
    {
     "data": {
      "text/plain": [
       "DistrictId       486\n",
       "Rooms            486\n",
       "Square           486\n",
       "LifeSquare       486\n",
       "KitchenSquare    486\n",
       "Floor            486\n",
       "HouseFloor       486\n",
       "HouseYear        486\n",
       "Ecology_1        486\n",
       "Ecology_2        486\n",
       "Ecology_3        486\n",
       "Social_1         486\n",
       "Social_2         486\n",
       "Social_3         486\n",
       "Healthcare_1     170\n",
       "Helthcare_2      486\n",
       "Shops_1          486\n",
       "Shops_2          486\n",
       "Price            486\n",
       "dtype: int64"
      ]
     },
     "execution_count": 26,
     "metadata": {},
     "output_type": "execute_result"
    }
   ],
   "source": [
    "df[(df['KitchenSquare'] > df['Square']) | (df['LifeSquare'] > df['Square'])].count()"
   ]
  },
  {
   "cell_type": "markdown",
   "id": "accurate-interaction",
   "metadata": {},
   "source": [
    "Amount of columns where floor value exceeds general amount of floor."
   ]
  },
  {
   "cell_type": "code",
   "execution_count": 27,
   "id": "gross-designation",
   "metadata": {},
   "outputs": [
    {
     "data": {
      "text/plain": [
       "DistrictId       1825\n",
       "Rooms            1825\n",
       "Square           1825\n",
       "LifeSquare       1210\n",
       "KitchenSquare    1825\n",
       "Floor            1825\n",
       "HouseFloor       1825\n",
       "HouseYear        1825\n",
       "Ecology_1        1825\n",
       "Ecology_2        1825\n",
       "Ecology_3        1825\n",
       "Social_1         1825\n",
       "Social_2         1825\n",
       "Social_3         1825\n",
       "Healthcare_1      861\n",
       "Helthcare_2      1825\n",
       "Shops_1          1825\n",
       "Shops_2          1825\n",
       "Price            1825\n",
       "dtype: int64"
      ]
     },
     "execution_count": 27,
     "metadata": {},
     "output_type": "execute_result"
    }
   ],
   "source": [
    "df[df['Floor'] > df['HouseFloor']].count()"
   ]
  },
  {
   "cell_type": "markdown",
   "id": "incredible-wales",
   "metadata": {},
   "source": [
    "Data for cases above will be transformed in the next sections."
   ]
  },
  {
   "cell_type": "markdown",
   "id": "laden-castle",
   "metadata": {},
   "source": [
    "#### Categorial variables"
   ]
  },
  {
   "cell_type": "markdown",
   "id": "quarterly-shuttle",
   "metadata": {},
   "source": [
    "The most part of columns contains numerical data, but three of them have object/category data type:\n",
    "- Ecology_2 \n",
    "- Ecology_3\n",
    "- Shops_2 \n",
    "\n",
    "During further processing object datatypes will be changed to their numerical equivalents."
   ]
  },
  {
   "cell_type": "code",
   "execution_count": 28,
   "id": "greek-sentence",
   "metadata": {},
   "outputs": [
    {
     "data": {
      "text/html": [
       "<div>\n",
       "<style scoped>\n",
       "    .dataframe tbody tr th:only-of-type {\n",
       "        vertical-align: middle;\n",
       "    }\n",
       "\n",
       "    .dataframe tbody tr th {\n",
       "        vertical-align: top;\n",
       "    }\n",
       "\n",
       "    .dataframe thead th {\n",
       "        text-align: right;\n",
       "    }\n",
       "</style>\n",
       "<table border=\"1\" class=\"dataframe\">\n",
       "  <thead>\n",
       "    <tr style=\"text-align: right;\">\n",
       "      <th></th>\n",
       "      <th>Ecology_2</th>\n",
       "      <th>Ecology_3</th>\n",
       "      <th>Shops_2</th>\n",
       "    </tr>\n",
       "    <tr>\n",
       "      <th>Id</th>\n",
       "      <th></th>\n",
       "      <th></th>\n",
       "      <th></th>\n",
       "    </tr>\n",
       "  </thead>\n",
       "  <tbody>\n",
       "    <tr>\n",
       "      <th>14038</th>\n",
       "      <td>B</td>\n",
       "      <td>B</td>\n",
       "      <td>B</td>\n",
       "    </tr>\n",
       "    <tr>\n",
       "      <th>15053</th>\n",
       "      <td>B</td>\n",
       "      <td>B</td>\n",
       "      <td>B</td>\n",
       "    </tr>\n",
       "    <tr>\n",
       "      <th>4765</th>\n",
       "      <td>B</td>\n",
       "      <td>B</td>\n",
       "      <td>B</td>\n",
       "    </tr>\n",
       "    <tr>\n",
       "      <th>5809</th>\n",
       "      <td>B</td>\n",
       "      <td>B</td>\n",
       "      <td>B</td>\n",
       "    </tr>\n",
       "    <tr>\n",
       "      <th>10783</th>\n",
       "      <td>B</td>\n",
       "      <td>B</td>\n",
       "      <td>B</td>\n",
       "    </tr>\n",
       "    <tr>\n",
       "      <th>...</th>\n",
       "      <td>...</td>\n",
       "      <td>...</td>\n",
       "      <td>...</td>\n",
       "    </tr>\n",
       "    <tr>\n",
       "      <th>77</th>\n",
       "      <td>B</td>\n",
       "      <td>B</td>\n",
       "      <td>B</td>\n",
       "    </tr>\n",
       "    <tr>\n",
       "      <th>6159</th>\n",
       "      <td>B</td>\n",
       "      <td>B</td>\n",
       "      <td>A</td>\n",
       "    </tr>\n",
       "    <tr>\n",
       "      <th>5123</th>\n",
       "      <td>B</td>\n",
       "      <td>B</td>\n",
       "      <td>A</td>\n",
       "    </tr>\n",
       "    <tr>\n",
       "      <th>5400</th>\n",
       "      <td>B</td>\n",
       "      <td>A</td>\n",
       "      <td>B</td>\n",
       "    </tr>\n",
       "    <tr>\n",
       "      <th>6306</th>\n",
       "      <td>B</td>\n",
       "      <td>B</td>\n",
       "      <td>B</td>\n",
       "    </tr>\n",
       "  </tbody>\n",
       "</table>\n",
       "<p>10000 rows × 3 columns</p>\n",
       "</div>"
      ],
      "text/plain": [
       "      Ecology_2 Ecology_3 Shops_2\n",
       "Id                               \n",
       "14038         B         B       B\n",
       "15053         B         B       B\n",
       "4765          B         B       B\n",
       "5809          B         B       B\n",
       "10783         B         B       B\n",
       "...         ...       ...     ...\n",
       "77            B         B       B\n",
       "6159          B         B       A\n",
       "5123          B         B       A\n",
       "5400          B         A       B\n",
       "6306          B         B       B\n",
       "\n",
       "[10000 rows x 3 columns]"
      ]
     },
     "execution_count": 28,
     "metadata": {},
     "output_type": "execute_result"
    }
   ],
   "source": [
    "df.select_dtypes(include=['object', 'category'])"
   ]
  },
  {
   "cell_type": "markdown",
   "id": "affected-lemon",
   "metadata": {},
   "source": [
    "Changing of datatypes and converting of columns is not required."
   ]
  },
  {
   "cell_type": "markdown",
   "id": "drawn-elizabeth",
   "metadata": {},
   "source": [
    "## 3. Functions for data processing <a class='anchor' id='functions'>"
   ]
  },
  {
   "cell_type": "markdown",
   "id": "sensitive-cassette",
   "metadata": {},
   "source": [
    "This section contains functions which can be used in next sections to simplify performing of some operations."
   ]
  },
  {
   "cell_type": "code",
   "execution_count": 29,
   "id": "streaming-helicopter",
   "metadata": {},
   "outputs": [],
   "source": [
    "def evaluate_preds(true_values, pred_values, save=False):\n",
    "    \"\"\"Evaluation of model quality preds vs true\"\"\"\n",
    "    \n",
    "    print(\"R2:\\t\" + str(round(r2_score(true_values, pred_values), 3)) + \"\\n\" +\n",
    "          \"RMSE:\\t\" + str(round(np.sqrt(mean_squared_error(true_values, pred_values)), 3)) + \"\\n\" +\n",
    "          \"MSE:\\t\" + str(round(mean_squared_error(true_values, pred_values), 3))\n",
    "         )\n",
    "    \n",
    "    plt.figure(figsize=(8,8))\n",
    "    \n",
    "    sns.scatterplot(x=pred_values, y=true_values)\n",
    "    plt.plot([0, 500000], [0, 500000], linestyle='--', color='black')  # line where true_values = pred_values\n",
    "    \n",
    "    plt.xlabel('Predicted values')\n",
    "    plt.ylabel('True values')\n",
    "    plt.title('True vs Predicted values')\n",
    "    \n",
    "    if save == True:\n",
    "        plt.savefig(REPORTS_FILE_PATH + 'report.png')\n",
    "    plt.show()"
   ]
  },
  {
   "cell_type": "code",
   "execution_count": 568,
   "id": "breathing-melbourne",
   "metadata": {},
   "outputs": [],
   "source": [
    "class Data_preprocessing():\n",
    "    def __init__(self):\n",
    "        # Treshold values.\n",
    "        self.rooms_l_trsh = 1\n",
    "        self.rooms_h_trsh = 5\n",
    "        \n",
    "        self.min_kitchen_trsh = 3\n",
    "        self.max_kitchen_trsh = 100\n",
    "        \n",
    "        self.extra_square = 3\n",
    "        \n",
    "        #median values intializing\n",
    "        self.kc_median = 0\n",
    "        self.ls_median = 0\n",
    "        self.yr_median = 0\n",
    "        self.hf_median = 0\n",
    "        self.rm_median = 0\n",
    "        \n",
    "        #temporary dataframes for validation processing\n",
    "        \n",
    "        \n",
    "    def median_calculation(self, dfr):\n",
    "        \"\"\"Function calculates median values and then these values can be used for gaps filling\"\"\"\n",
    "        # all changes for dataframe in this function were made according to feature analysis in section 4\n",
    "        # median values for dataframes. Median values will be used for data preprocessing and gaps filling.\n",
    "        self.kc_median = dfr['KitchenSquare'].median()\n",
    "        self.ls_median = dfr['LifeSquare'].median()\n",
    "        self.yr_median = dfr['HouseYear'].median()\n",
    "        self.hf_median = dfr['HouseFloor'].median()\n",
    "        self.rm_median = dfr['Rooms'].median()\n",
    "    \n",
    "    \n",
    "    def add_features(self, dfr):\n",
    "        \"\"\"Adds some new features\"\"\"\n",
    "        # Average square per room in each appartment\n",
    "        dfr['avg_room_square'] = (dfr['Square']/dfr['Rooms']).astype('float32')\n",
    "        \n",
    "        #if 'Price' in dfr.columns:\n",
    "            # Average cost of 1 m2 per district            \n",
    "            #dfr['sq_m_price'] = dfr['Price']/dfr['Square']\n",
    "            #square_cost_per_district = dfr.groupby(['DistrictId'], as_index = False).agg({'sq_m_price':'median'})\n",
    "\n",
    "            \n",
    "            # Average appartment price depends on district\n",
    "            #dfr['Avg_Price_per_district'] = np.NaN\n",
    "            #dfr['Avg_Price_per_district'] = np.round(dfr['Avg_Price_per_district']\\\n",
    "            #                                         .fillna(dfr.groupby('DistrictId')['Price']\\\n",
    "            #                                         .transform('mean')), 0)\n",
    "            \n",
    "        # Ratio between kitchen square and square\n",
    "        dfr['gen_square_kitchen'] = (dfr['KitchenSquare']/dfr['Square']).astype('float32')\n",
    "        return dfr\n",
    "    \n",
    "    \n",
    "    def clear_features(self, dfr):\n",
    "        \"\"\"function that clears extra datafeatures\"\"\"\n",
    "        return dfr\n",
    "        \n",
    "\n",
    "    def data_clearing (self, dfr):\n",
    "        \"\"\"function is need to dataset processing and clearing of data\"\"\"  \n",
    "        \n",
    "        # Rooms\n",
    "        dfr.loc[dfr['Rooms'] < self.rooms_l_trsh, 'Rooms'] = self.rooms_l_trsh\n",
    "        dfr.loc[dfr['Rooms'] >= self.rooms_h_trsh, 'Rooms'] = self.rm_median #or can be set to 5? Change condition to 5 too?\n",
    "    \n",
    "    \n",
    "        #Kitchen square\n",
    "        dfr.loc[dfr['KitchenSquare'] < self.min_kitchen_trsh, 'KitchenSquare'] = self.min_kitchen_trsh\n",
    "        dfr.loc[dfr['KitchenSquare'] > self.max_kitchen_trsh, 'KitchenSquare'] = self.kc_median\n",
    "        dfr.loc[dfr['KitchenSquare'] > dfr['Square'], 'KitchenSquare'] = self.kc_median # ????????????????????????????\n",
    "    \n",
    "        \n",
    "        #House Floor and Floor\n",
    "        dfr.loc[dfr['HouseFloor']==0, 'HouseFloor'] = dfr['Floor']\n",
    "        dfr.loc[(dfr['Floor'] > dfr['HouseFloor']), 'Floor'] = round(dfr['HouseFloor'] * random(), 0)\n",
    "    \n",
    "        #House Year\n",
    "        dfr.loc[dfr['HouseYear'] > 2021, 'HouseYear'] = self.yr_median\n",
    "    \n",
    "        return dfr\n",
    "  \n",
    "\n",
    "    def null_populating_hc(self, dfr, action = 'm'):\n",
    "        \"\"\"Function will populate null values for Healthcare_1 in dataframe based on accepted descision\"\"\"\n",
    "        #Healthcare_1\n",
    "        if 'Healthcare_1' in dfr.columns:\n",
    "            if action == 'd':\n",
    "                dfr = dfr.drop('Healthcare_1', axis = 1)\n",
    "            if action == 'm':\n",
    "                #dfr = dfr.fillna(df['Healthcare_1'].median())\n",
    "                healthcare_per_district = dfr.groupby(['DistrictId'], as_index = False).agg({'Healthcare_1':'median'})\n",
    "                \n",
    "                healthcare_per_district = healthcare_per_district.rename(columns={'Healthcare_1':'hl_pd'})\n",
    "                idx = dfr.index\n",
    "                dfr = dfr.merge(healthcare_per_district, how = 'left', on='DistrictId')\n",
    "                dfr = dfr.set_index(idx)\n",
    "                \n",
    "                #fill na if after merge we will have any gaps\n",
    "                if dfr['Healthcare_1'].isnull().sum() != 0:\n",
    "                    dfr['Healthcare_1'] = dfr.fillna(dfr['hl_pd'].median())\n",
    "       \n",
    "        return dfr\n",
    "\n",
    "    \n",
    "    def null_populating_ls(self, dfr, action = 'm'):\n",
    "        \"\"\"Fill null values for LifeSquare\"\"\"\n",
    "        #LifeSquare\n",
    "        comparing_condition = ((dfr['LifeSquare'].isnull()) | (dfr['LifeSquare'] > (dfr['Square'] - dfr['KitchenSquare'])))\n",
    "        dfr.loc[comparing_condition, 'LifeSquare'] = \\\n",
    "        dfr.loc[comparing_condition, 'Square'] - dfr.loc[comparing_condition, 'KitchenSquare'] - self.extra_square\n",
    "        \n",
    "        return dfr\n",
    "\n",
    "    def normalization(self, dfr, sc_type = 'standard'):\n",
    "        \"\"\"Function which is needed for data normalization for linear regression etc\"\"\"\n",
    "        index_col = dfr.index\n",
    "        num_features = dfr.select_dtypes(include=['float64', 'float32', 'float16', 'int64', 'int32', 'int16', 'int8']).columns\n",
    "    \n",
    "        if sc_type == 'standard':\n",
    "            scaler = StandardScaler()\n",
    "        elif sc_type == 'minmax':\n",
    "            scaler = MinMaxScaler()\n",
    "        else:\n",
    "            scaler = RobustScaler()\n",
    "            \n",
    "        scaled = scaler.fit_tansform(dfr)\n",
    "        dfr_scaled = pd.DataFrame(scaled, columns=num_feature_names)\n",
    "        dfr_scaled = set_index(index_col)\n",
    "        \n",
    "        dfr['Healthcare_1'] = dfr['Healthcare_1'].astype('int8')\n",
    "        \n",
    "        return dfr_scaled\n",
    "       \n",
    "    def district_id_processing(self, dfr):\n",
    "        \"\"\"Function converts DistrictId to AvgPrice per district. In case of validation dataset uses Price \n",
    "            from train dataset.\n",
    "        \"\"\"\n",
    "        if 'Price' in dfr.columns:\n",
    "            self.df_prices_district = dfr[['Price', 'DistrictId']].copy()\n",
    "            self.df_prices_district['Avg_Price_per_district'] = round(self.df_prices_district.groupby('DistrictId')['Price']\\\n",
    "                                                         .transform('mean'), 0)\n",
    "            self.df_prices_district = self.df_prices_district.drop('Price', axis = 1)\n",
    "            dfr = dfr.merge(self.df_prices_district['Avg_Price_per_district'], how = 'left', left_index=True, right_index=True)\n",
    "            #dfr = dfr.drob()\n",
    "            \n",
    "        else:\n",
    "            df_prices_distinct = self.df_prices_district.drop_duplicates('DistrictId')\n",
    "            idx = dfr.index\n",
    "            dfr = dfr.merge(df_prices_distinct, how = 'left', on='DistrictId')\n",
    "            dfr = dfr.set_index(idx)\n",
    "            if dfr['Avg_Price_per_district'].isnull().sum() != 0:\n",
    "                dfr = dfr.fillna(method = 'pad') #also median value can be used\n",
    "            \n",
    "        return dfr\n",
    "    \n"
   ]
  },
  {
   "cell_type": "markdown",
   "id": "legal-privilege",
   "metadata": {},
   "source": [
    "## 4. Data visualisation and pre-processing <a class='anchor' id='visualization'>"
   ]
  },
  {
   "cell_type": "markdown",
   "id": "fatty-chicago",
   "metadata": {},
   "source": [
    "Visualisation:\n",
    "- Histograms for numeric variables distribution\n",
    "- Boxplots before and after pre-processing\n",
    "- Distribution of categorial variables."
   ]
  },
  {
   "cell_type": "markdown",
   "id": "fundamental-absolute",
   "metadata": {},
   "source": [
    "Preprocessing:\n",
    "\n",
    "1. remove columns with lack of data\n",
    "2. Change NaN to appropriate group median values\n",
    "3. Change categorial features to numerical\n",
    "4. Normalization of data (optional)\n",
    "5. regularization of data (optional)"
   ]
  },
  {
   "cell_type": "markdown",
   "id": "virgin-preserve",
   "metadata": {},
   "source": [
    "Creattion of copy of initial dataset for preprocessing."
   ]
  },
  {
   "cell_type": "code",
   "execution_count": 569,
   "id": "reduced-familiar",
   "metadata": {
    "scrolled": true
   },
   "outputs": [],
   "source": [
    "df_fill = df.copy()\n",
    "df_target = 'Price'"
   ]
  },
  {
   "cell_type": "markdown",
   "id": "finnish-season",
   "metadata": {},
   "source": [
    "Initializing of class with preprocessing functions"
   ]
  },
  {
   "cell_type": "code",
   "execution_count": 281,
   "id": "contrary-secret",
   "metadata": {
    "scrolled": true
   },
   "outputs": [
    {
     "data": {
      "text/html": [
       "<div>\n",
       "<style scoped>\n",
       "    .dataframe tbody tr th:only-of-type {\n",
       "        vertical-align: middle;\n",
       "    }\n",
       "\n",
       "    .dataframe tbody tr th {\n",
       "        vertical-align: top;\n",
       "    }\n",
       "\n",
       "    .dataframe thead th {\n",
       "        text-align: right;\n",
       "    }\n",
       "</style>\n",
       "<table border=\"1\" class=\"dataframe\">\n",
       "  <thead>\n",
       "    <tr style=\"text-align: right;\">\n",
       "      <th></th>\n",
       "      <th>DistrictId</th>\n",
       "      <th>Rooms</th>\n",
       "      <th>Square</th>\n",
       "      <th>LifeSquare</th>\n",
       "      <th>KitchenSquare</th>\n",
       "      <th>Floor</th>\n",
       "      <th>HouseFloor</th>\n",
       "      <th>HouseYear</th>\n",
       "      <th>Ecology_1</th>\n",
       "      <th>Ecology_2</th>\n",
       "      <th>Ecology_3</th>\n",
       "      <th>Social_1</th>\n",
       "      <th>Social_2</th>\n",
       "      <th>Social_3</th>\n",
       "      <th>Healthcare_1</th>\n",
       "      <th>Helthcare_2</th>\n",
       "      <th>Shops_1</th>\n",
       "      <th>Shops_2</th>\n",
       "      <th>Price</th>\n",
       "    </tr>\n",
       "    <tr>\n",
       "      <th>Id</th>\n",
       "      <th></th>\n",
       "      <th></th>\n",
       "      <th></th>\n",
       "      <th></th>\n",
       "      <th></th>\n",
       "      <th></th>\n",
       "      <th></th>\n",
       "      <th></th>\n",
       "      <th></th>\n",
       "      <th></th>\n",
       "      <th></th>\n",
       "      <th></th>\n",
       "      <th></th>\n",
       "      <th></th>\n",
       "      <th></th>\n",
       "      <th></th>\n",
       "      <th></th>\n",
       "      <th></th>\n",
       "      <th></th>\n",
       "    </tr>\n",
       "  </thead>\n",
       "  <tbody>\n",
       "    <tr>\n",
       "      <th>14038</th>\n",
       "      <td>35</td>\n",
       "      <td>2.0</td>\n",
       "      <td>47.981561</td>\n",
       "      <td>29.442751</td>\n",
       "      <td>6.0</td>\n",
       "      <td>7</td>\n",
       "      <td>9.0</td>\n",
       "      <td>1969</td>\n",
       "      <td>0.089040</td>\n",
       "      <td>B</td>\n",
       "      <td>B</td>\n",
       "      <td>33</td>\n",
       "      <td>7976</td>\n",
       "      <td>5</td>\n",
       "      <td>NaN</td>\n",
       "      <td>0</td>\n",
       "      <td>11</td>\n",
       "      <td>B</td>\n",
       "      <td>184966.930730</td>\n",
       "    </tr>\n",
       "    <tr>\n",
       "      <th>15053</th>\n",
       "      <td>41</td>\n",
       "      <td>3.0</td>\n",
       "      <td>65.683640</td>\n",
       "      <td>40.049543</td>\n",
       "      <td>8.0</td>\n",
       "      <td>7</td>\n",
       "      <td>9.0</td>\n",
       "      <td>1978</td>\n",
       "      <td>0.000070</td>\n",
       "      <td>B</td>\n",
       "      <td>B</td>\n",
       "      <td>46</td>\n",
       "      <td>10309</td>\n",
       "      <td>1</td>\n",
       "      <td>240.0</td>\n",
       "      <td>1</td>\n",
       "      <td>16</td>\n",
       "      <td>B</td>\n",
       "      <td>300009.450063</td>\n",
       "    </tr>\n",
       "    <tr>\n",
       "      <th>4765</th>\n",
       "      <td>53</td>\n",
       "      <td>2.0</td>\n",
       "      <td>44.947953</td>\n",
       "      <td>29.197612</td>\n",
       "      <td>0.0</td>\n",
       "      <td>8</td>\n",
       "      <td>12.0</td>\n",
       "      <td>1968</td>\n",
       "      <td>0.049637</td>\n",
       "      <td>B</td>\n",
       "      <td>B</td>\n",
       "      <td>34</td>\n",
       "      <td>7759</td>\n",
       "      <td>0</td>\n",
       "      <td>229.0</td>\n",
       "      <td>1</td>\n",
       "      <td>3</td>\n",
       "      <td>B</td>\n",
       "      <td>220925.908524</td>\n",
       "    </tr>\n",
       "    <tr>\n",
       "      <th>5809</th>\n",
       "      <td>58</td>\n",
       "      <td>2.0</td>\n",
       "      <td>53.352981</td>\n",
       "      <td>52.731512</td>\n",
       "      <td>9.0</td>\n",
       "      <td>8</td>\n",
       "      <td>17.0</td>\n",
       "      <td>1977</td>\n",
       "      <td>0.437885</td>\n",
       "      <td>B</td>\n",
       "      <td>B</td>\n",
       "      <td>23</td>\n",
       "      <td>5735</td>\n",
       "      <td>3</td>\n",
       "      <td>1084.0</td>\n",
       "      <td>0</td>\n",
       "      <td>5</td>\n",
       "      <td>B</td>\n",
       "      <td>175616.227217</td>\n",
       "    </tr>\n",
       "    <tr>\n",
       "      <th>10783</th>\n",
       "      <td>99</td>\n",
       "      <td>1.0</td>\n",
       "      <td>39.649192</td>\n",
       "      <td>23.776169</td>\n",
       "      <td>7.0</td>\n",
       "      <td>11</td>\n",
       "      <td>12.0</td>\n",
       "      <td>1976</td>\n",
       "      <td>0.012339</td>\n",
       "      <td>B</td>\n",
       "      <td>B</td>\n",
       "      <td>35</td>\n",
       "      <td>5776</td>\n",
       "      <td>1</td>\n",
       "      <td>2078.0</td>\n",
       "      <td>2</td>\n",
       "      <td>4</td>\n",
       "      <td>B</td>\n",
       "      <td>150226.531644</td>\n",
       "    </tr>\n",
       "  </tbody>\n",
       "</table>\n",
       "</div>"
      ],
      "text/plain": [
       "       DistrictId  Rooms     Square  LifeSquare  KitchenSquare  Floor  \\\n",
       "Id                                                                      \n",
       "14038          35    2.0  47.981561   29.442751            6.0      7   \n",
       "15053          41    3.0  65.683640   40.049543            8.0      7   \n",
       "4765           53    2.0  44.947953   29.197612            0.0      8   \n",
       "5809           58    2.0  53.352981   52.731512            9.0      8   \n",
       "10783          99    1.0  39.649192   23.776169            7.0     11   \n",
       "\n",
       "       HouseFloor  HouseYear  Ecology_1 Ecology_2 Ecology_3  Social_1  \\\n",
       "Id                                                                      \n",
       "14038         9.0       1969   0.089040         B         B        33   \n",
       "15053         9.0       1978   0.000070         B         B        46   \n",
       "4765         12.0       1968   0.049637         B         B        34   \n",
       "5809         17.0       1977   0.437885         B         B        23   \n",
       "10783        12.0       1976   0.012339         B         B        35   \n",
       "\n",
       "       Social_2  Social_3  Healthcare_1  Helthcare_2  Shops_1 Shops_2  \\\n",
       "Id                                                                      \n",
       "14038      7976         5           NaN            0       11       B   \n",
       "15053     10309         1         240.0            1       16       B   \n",
       "4765       7759         0         229.0            1        3       B   \n",
       "5809       5735         3        1084.0            0        5       B   \n",
       "10783      5776         1        2078.0            2        4       B   \n",
       "\n",
       "               Price  \n",
       "Id                    \n",
       "14038  184966.930730  \n",
       "15053  300009.450063  \n",
       "4765   220925.908524  \n",
       "5809   175616.227217  \n",
       "10783  150226.531644  "
      ]
     },
     "execution_count": 281,
     "metadata": {},
     "output_type": "execute_result"
    }
   ],
   "source": [
    "df_fill.head()"
   ]
  },
  {
   "cell_type": "markdown",
   "id": "included-workstation",
   "metadata": {},
   "source": [
    "Distribution of numeric variables:"
   ]
  },
  {
   "cell_type": "code",
   "execution_count": 282,
   "id": "remarkable-living",
   "metadata": {},
   "outputs": [
    {
     "data": {
      "text/plain": [
       "DistrictId          0\n",
       "Rooms               0\n",
       "Square              0\n",
       "LifeSquare       2113\n",
       "KitchenSquare       0\n",
       "Floor               0\n",
       "HouseFloor          0\n",
       "HouseYear           0\n",
       "Ecology_1           0\n",
       "Social_1            0\n",
       "Social_2            0\n",
       "Social_3            0\n",
       "Healthcare_1     4798\n",
       "Helthcare_2         0\n",
       "Shops_1             0\n",
       "Price               0\n",
       "dtype: int64"
      ]
     },
     "execution_count": 282,
     "metadata": {},
     "output_type": "execute_result"
    }
   ],
   "source": [
    "df_num_features = df_fill.select_dtypes(include=['float64', 'float32', 'float16', 'int64', 'int32', 'int16', 'int8'])\n",
    "df_num_features.isnull().sum()"
   ]
  },
  {
   "cell_type": "code",
   "execution_count": 283,
   "id": "wrapped-therapy",
   "metadata": {},
   "outputs": [],
   "source": [
    "df_num_features = df_num_features.drop('Price', axis = 1)\n"
   ]
  },
  {
   "cell_type": "markdown",
   "id": "better-soccer",
   "metadata": {},
   "source": [
    "Selecting of numerical features and check their distribution."
   ]
  },
  {
   "cell_type": "code",
   "execution_count": null,
   "id": "institutional-montgomery",
   "metadata": {},
   "outputs": [],
   "source": [
    "df_num_features.hist(figsize=(12,12), bins=20, grid=False);"
   ]
  },
  {
   "cell_type": "markdown",
   "id": "square-balloon",
   "metadata": {},
   "source": [
    "### Processing of features"
   ]
  },
  {
   "cell_type": "markdown",
   "id": "noble-frontier",
   "metadata": {},
   "source": [
    "In this section some features will be transformed to remove anomalies and outliers"
   ]
  },
  {
   "cell_type": "markdown",
   "id": "unknown-statement",
   "metadata": {},
   "source": [
    "Adding of new temporary features for analyze outliers."
   ]
  },
  {
   "cell_type": "markdown",
   "id": "hindu-radiation",
   "metadata": {},
   "source": [
    "Temporary columns. Will be deleted after completing of preprocessing."
   ]
  },
  {
   "cell_type": "markdown",
   "id": "exposed-trinity",
   "metadata": {},
   "source": [
    "In the rows below each feature will be processed individually and regarding of result analyze optimal way for feature processing will be chosen."
   ]
  },
  {
   "cell_type": "markdown",
   "id": "convertible-failing",
   "metadata": {},
   "source": [
    "**Rooms**"
   ]
  },
  {
   "cell_type": "code",
   "execution_count": 494,
   "id": "suspended-manhattan",
   "metadata": {},
   "outputs": [
    {
     "name": "stderr",
     "output_type": "stream",
     "text": [
      "c:\\users\\пк\\appdata\\local\\programs\\python\\python39\\lib\\site-packages\\seaborn\\_decorators.py:36: FutureWarning: Pass the following variables as keyword args: x, y. From version 0.12, the only valid positional argument will be `data`, and passing other arguments without an explicit keyword will result in an error or misinterpretation.\n",
      "  warnings.warn(\n"
     ]
    },
    {
     "data": {
      "image/png": "[encoded data removed]",
      "text/plain": [
       "<Figure size 432x432 with 3 Axes>"
      ]
     },
     "metadata": {
      "needs_background": "light"
     },
     "output_type": "display_data"
    }
   ],
   "source": [
    "grid = sns.jointplot(df_fill['Rooms'], df_fill['Price'], kind='reg')\n",
    "grid.fig.set_figwidth(6)\n",
    "grid.fig.set_figheight(6)"
   ]
  },
  {
   "cell_type": "code",
   "execution_count": null,
   "id": "amber-murder",
   "metadata": {},
   "outputs": [],
   "source": []
  },
  {
   "cell_type": "code",
   "execution_count": null,
   "id": "atlantic-tennessee",
   "metadata": {
    "scrolled": false
   },
   "outputs": [],
   "source": [
    "plt.figure(figsize=(6, 3))\n",
    "sns.boxplot(df_fill['Rooms'])\n",
    "plt.xlabel('Rooms')\n",
    "plt.show()"
   ]
  },
  {
   "cell_type": "code",
   "execution_count": null,
   "id": "dramatic-history",
   "metadata": {
    "scrolled": true
   },
   "outputs": [],
   "source": [
    "df_fill['Rooms'].describe()"
   ]
  },
  {
   "cell_type": "code",
   "execution_count": null,
   "id": "headed-night",
   "metadata": {},
   "outputs": [],
   "source": [
    "df_fill['Rooms'].value_counts().sort_values()"
   ]
  },
  {
   "cell_type": "markdown",
   "id": "hundred-distribution",
   "metadata": {},
   "source": [
    "All appartmets where rooms have zero value will be changed to 1"
   ]
  },
  {
   "cell_type": "code",
   "execution_count": null,
   "id": "spread-example",
   "metadata": {},
   "outputs": [],
   "source": [
    "df_fill[(df_fill['Rooms'] > 6)][['Rooms', 'avg_room_square']]"
   ]
  },
  {
   "cell_type": "markdown",
   "id": "divided-ozone",
   "metadata": {},
   "source": [
    "Resolving of outliers cases:\n",
    "   - All values which are less than 1 will be converted to 1.0\n",
    "   - All values which are greater or equal to six will be converted to median value. "
   ]
  },
  {
   "cell_type": "markdown",
   "id": "further-buying",
   "metadata": {},
   "source": [
    "**Square**"
   ]
  },
  {
   "cell_type": "code",
   "execution_count": null,
   "id": "compact-martin",
   "metadata": {},
   "outputs": [],
   "source": [
    "plt.figure(figsize=(6, 3))\n",
    "sns.boxplot(df_fill['Square'])\n",
    "plt.xlabel('Square')\n",
    "plt.show()"
   ]
  },
  {
   "cell_type": "markdown",
   "id": "medical-interpretation",
   "metadata": {},
   "source": [
    "Square column will be left without changes"
   ]
  },
  {
   "cell_type": "markdown",
   "id": "loved-outside",
   "metadata": {},
   "source": [
    "**Life square**"
   ]
  },
  {
   "cell_type": "code",
   "execution_count": null,
   "id": "bigger-peeing",
   "metadata": {},
   "outputs": [],
   "source": [
    "plt.figure(figsize=(6, 3))\n",
    "sns.boxplot(df_fill['LifeSquare'])\n",
    "plt.xlabel('LifeSquare')\n",
    "plt.show()"
   ]
  },
  {
   "cell_type": "code",
   "execution_count": null,
   "id": "distributed-tobago",
   "metadata": {},
   "outputs": [],
   "source": [
    "df_fill['LifeSquare'].isnull().sum()"
   ]
  },
  {
   "cell_type": "code",
   "execution_count": null,
   "id": "magnetic-crash",
   "metadata": {},
   "outputs": [],
   "source": [
    "df_fill[df_fill['LifeSquare'] > df_fill['Square']]['LifeSquare'].count()"
   ]
  },
  {
   "cell_type": "code",
   "execution_count": null,
   "id": "charitable-leone",
   "metadata": {},
   "outputs": [],
   "source": [
    "df_fill[df_fill['LifeSquare'] == 0]['LifeSquare'].count()"
   ]
  },
  {
   "cell_type": "markdown",
   "id": "universal-aside",
   "metadata": {},
   "source": [
    "Resolving of outliers:\n",
    "- if LifeSquare is NaN or LifeSquare > Square, then LifeSquare will be changed to difference between Square and KitchenSquare and median difference between these differences."
   ]
  },
  {
   "cell_type": "markdown",
   "id": "received-substance",
   "metadata": {},
   "source": [
    "**Kitchen Square**"
   ]
  },
  {
   "cell_type": "code",
   "execution_count": null,
   "id": "starting-stylus",
   "metadata": {},
   "outputs": [],
   "source": [
    "plt.figure(figsize=(6, 3))\n",
    "sns.boxplot(df_fill['KitchenSquare'])\n",
    "plt.xlabel('KitchenSquare')\n",
    "plt.show()"
   ]
  },
  {
   "cell_type": "code",
   "execution_count": null,
   "id": "latest-percentage",
   "metadata": {},
   "outputs": [],
   "source": [
    "# df_fill['KitchenSquare'].value_counts().sort_values()\n",
    "df_fill['KitchenSquare'].describe()"
   ]
  },
  {
   "cell_type": "code",
   "execution_count": null,
   "id": "fiscal-accordance",
   "metadata": {},
   "outputs": [],
   "source": [
    "df_fill[(df['KitchenSquare'] > 80)]['KitchenSquare'].count()"
   ]
  },
  {
   "cell_type": "code",
   "execution_count": null,
   "id": "drawn-honolulu",
   "metadata": {},
   "outputs": [],
   "source": [
    "df_fill[(df['KitchenSquare'] > df_fill['LifeSquare'])]['KitchenSquare'].count()"
   ]
  },
  {
   "cell_type": "markdown",
   "id": "great-spiritual",
   "metadata": {},
   "source": [
    "Resolving of outliers:\n",
    "- If Kitchen square > 100 it will be converted to median value\n",
    "- If Kitchen square < 3 it will be converted to 3\n",
    "- if Kitchen square > general square it will be converted to 3"
   ]
  },
  {
   "cell_type": "markdown",
   "id": "consecutive-smile",
   "metadata": {},
   "source": [
    "**Floor and house floor**"
   ]
  },
  {
   "cell_type": "code",
   "execution_count": null,
   "id": "expected-throw",
   "metadata": {},
   "outputs": [],
   "source": [
    "ax = sns.boxplot(data = df_fill[['Floor', 'HouseFloor']]                )\n",
    "plt.show()"
   ]
  },
  {
   "cell_type": "code",
   "execution_count": null,
   "id": "threaded-reading",
   "metadata": {},
   "outputs": [],
   "source": [
    "df_fill[df_fill['Floor'] == 0]['Floor'].count()"
   ]
  },
  {
   "cell_type": "code",
   "execution_count": null,
   "id": "assured-bacon",
   "metadata": {},
   "outputs": [],
   "source": [
    "df_fill[df_fill['HouseFloor'] == 0]['HouseFloor'].count()"
   ]
  },
  {
   "cell_type": "code",
   "execution_count": null,
   "id": "median-chrome",
   "metadata": {},
   "outputs": [],
   "source": [
    "df_fill[(df_fill['HouseFloor'] < df_fill['Floor']) ]['Floor'].count()"
   ]
  },
  {
   "cell_type": "markdown",
   "id": "fitted-register",
   "metadata": {},
   "source": [
    "Resolvong of outliers:\n",
    "- if HouseFloor == 0, value will be changed to Floor (or to median value of whole dataset - optional to be compared with result sxore)\n",
    "- if Floor > HouseFloor, value will be changed to HouseFloor"
   ]
  },
  {
   "cell_type": "markdown",
   "id": "weird-chair",
   "metadata": {},
   "source": [
    "**HouseYear**"
   ]
  },
  {
   "cell_type": "code",
   "execution_count": null,
   "id": "mineral-lesson",
   "metadata": {
    "scrolled": true
   },
   "outputs": [],
   "source": [
    "plt.figure(figsize=(6, 3))\n",
    "sns.boxplot(df_fill['HouseYear'])\n",
    "plt.xlabel('HouseYear')\n",
    "plt.show()"
   ]
  },
  {
   "cell_type": "code",
   "execution_count": null,
   "id": "aggressive-istanbul",
   "metadata": {},
   "outputs": [],
   "source": [
    "df_fill[df_fill['HouseYear'] == 0]['HouseYear'].count()"
   ]
  },
  {
   "cell_type": "code",
   "execution_count": null,
   "id": "divided-single",
   "metadata": {},
   "outputs": [],
   "source": [
    "df_fill[df_fill['HouseYear'] < 1900]['HouseYear'].count()"
   ]
  },
  {
   "cell_type": "code",
   "execution_count": null,
   "id": "congressional-density",
   "metadata": {},
   "outputs": [],
   "source": [
    "df_fill[df_fill['HouseYear'] > 2021]['HouseYear'].count()"
   ]
  },
  {
   "cell_type": "markdown",
   "id": "electric-entrepreneur",
   "metadata": {},
   "source": [
    "Resolvong of outliers:\n",
    "- if year > 2021 it will be changed to median year"
   ]
  },
  {
   "cell_type": "markdown",
   "id": "mounted-emission",
   "metadata": {},
   "source": [
    "**Healthcare_1**"
   ]
  },
  {
   "cell_type": "markdown",
   "id": "dynamic-suspect",
   "metadata": {},
   "source": [
    "Due to big amount of NaN values in Healthcare_1 column, it can be dropped"
   ]
  },
  {
   "cell_type": "markdown",
   "id": "likely-marking",
   "metadata": {},
   "source": [
    "### Applying of data clearing"
   ]
  },
  {
   "cell_type": "code",
   "execution_count": 570,
   "id": "civil-breath",
   "metadata": {},
   "outputs": [],
   "source": [
    "dp = Data_preprocessing()"
   ]
  },
  {
   "cell_type": "markdown",
   "id": "worse-graphic",
   "metadata": {},
   "source": [
    "Function from section 3 will be applied to test dataset"
   ]
  },
  {
   "cell_type": "code",
   "execution_count": 571,
   "id": "parental-butler",
   "metadata": {
    "scrolled": false
   },
   "outputs": [
    {
     "data": {
      "text/plain": [
       "(10000, 19)"
      ]
     },
     "execution_count": 571,
     "metadata": {},
     "output_type": "execute_result"
    }
   ],
   "source": [
    "df_fill.shape"
   ]
  },
  {
   "cell_type": "code",
   "execution_count": 572,
   "id": "animated-sydney",
   "metadata": {},
   "outputs": [],
   "source": [
    "dp.median_calculation(df_fill)"
   ]
  },
  {
   "cell_type": "code",
   "execution_count": 573,
   "id": "indoor-faculty",
   "metadata": {
    "scrolled": true
   },
   "outputs": [],
   "source": [
    "df_fill = dp.data_clearing (df_fill)"
   ]
  },
  {
   "cell_type": "code",
   "execution_count": 574,
   "id": "radical-bowling",
   "metadata": {},
   "outputs": [],
   "source": [
    "df_fill = dp.null_populating_hc(df_fill)"
   ]
  },
  {
   "cell_type": "code",
   "execution_count": 575,
   "id": "differential-literacy",
   "metadata": {},
   "outputs": [],
   "source": [
    "df_fill = dp.null_populating_ls(df_fill)"
   ]
  },
  {
   "cell_type": "code",
   "execution_count": 576,
   "id": "signed-disability",
   "metadata": {},
   "outputs": [],
   "source": [
    "df_fill = dp.district_id_processing(df_fill)"
   ]
  },
  {
   "cell_type": "code",
   "execution_count": 577,
   "id": "equipped-delta",
   "metadata": {
    "scrolled": true
   },
   "outputs": [
    {
     "data": {
      "text/plain": [
       "(10000, 21)"
      ]
     },
     "execution_count": 577,
     "metadata": {},
     "output_type": "execute_result"
    }
   ],
   "source": [
    "df_fill.shape"
   ]
  },
  {
   "cell_type": "code",
   "execution_count": 580,
   "id": "scientific-marshall",
   "metadata": {
    "scrolled": true
   },
   "outputs": [
    {
     "data": {
      "text/plain": [
       "DistrictId                0\n",
       "Rooms                     0\n",
       "Square                    0\n",
       "LifeSquare                0\n",
       "KitchenSquare             0\n",
       "Floor                     0\n",
       "HouseFloor                0\n",
       "HouseYear                 0\n",
       "Ecology_1                 0\n",
       "Ecology_2                 0\n",
       "Ecology_3                 0\n",
       "Social_1                  0\n",
       "Social_2                  0\n",
       "Social_3                  0\n",
       "Healthcare_1              0\n",
       "Helthcare_2               0\n",
       "Shops_1                   0\n",
       "Shops_2                   0\n",
       "Price                     0\n",
       "hl_pd                     0\n",
       "Avg_Price_per_district    0\n",
       "dtype: int64"
      ]
     },
     "execution_count": 580,
     "metadata": {},
     "output_type": "execute_result"
    }
   ],
   "source": [
    "df_fill.isnull().sum()"
   ]
  },
  {
   "cell_type": "code",
   "execution_count": 579,
   "id": "grand-distribution",
   "metadata": {},
   "outputs": [],
   "source": [
    "df_fill['hl_pd'] = df_fill['hl_pd'].fillna(df_fill['hl_pd'].median())"
   ]
  },
  {
   "cell_type": "code",
   "execution_count": 292,
   "id": "prescribed-gamma",
   "metadata": {},
   "outputs": [],
   "source": [
    "df_fill = df_fill.drop('hl_pd', axis = 1)"
   ]
  },
  {
   "cell_type": "code",
   "execution_count": 539,
   "id": "cheap-plaza",
   "metadata": {},
   "outputs": [],
   "source": [
    "df_fill = df_fill.drop('DistrictId', axis = 1)"
   ]
  },
  {
   "cell_type": "code",
   "execution_count": 294,
   "id": "oriental-journalism",
   "metadata": {},
   "outputs": [
    {
     "data": {
      "text/plain": [
       "Rooms                     0\n",
       "Square                    0\n",
       "LifeSquare                0\n",
       "KitchenSquare             0\n",
       "Floor                     0\n",
       "HouseFloor                0\n",
       "HouseYear                 0\n",
       "Ecology_1                 0\n",
       "Ecology_2                 0\n",
       "Ecology_3                 0\n",
       "Social_1                  0\n",
       "Social_2                  0\n",
       "Social_3                  0\n",
       "Healthcare_1              0\n",
       "Helthcare_2               0\n",
       "Shops_1                   0\n",
       "Shops_2                   0\n",
       "Price                     0\n",
       "Avg_Price_per_district    0\n",
       "dtype: int64"
      ]
     },
     "execution_count": 294,
     "metadata": {},
     "output_type": "execute_result"
    }
   ],
   "source": [
    "df_fill.isnull().sum()"
   ]
  },
  {
   "cell_type": "code",
   "execution_count": 295,
   "id": "decent-stick",
   "metadata": {},
   "outputs": [
    {
     "data": {
      "text/plain": [
       "(10000, 19)"
      ]
     },
     "execution_count": 295,
     "metadata": {},
     "output_type": "execute_result"
    }
   ],
   "source": [
    "df_fill.shape"
   ]
  },
  {
   "cell_type": "code",
   "execution_count": 296,
   "id": "isolated-belly",
   "metadata": {},
   "outputs": [
    {
     "data": {
      "text/html": [
       "<div>\n",
       "<style scoped>\n",
       "    .dataframe tbody tr th:only-of-type {\n",
       "        vertical-align: middle;\n",
       "    }\n",
       "\n",
       "    .dataframe tbody tr th {\n",
       "        vertical-align: top;\n",
       "    }\n",
       "\n",
       "    .dataframe thead th {\n",
       "        text-align: right;\n",
       "    }\n",
       "</style>\n",
       "<table border=\"1\" class=\"dataframe\">\n",
       "  <thead>\n",
       "    <tr style=\"text-align: right;\">\n",
       "      <th></th>\n",
       "      <th>Rooms</th>\n",
       "      <th>Square</th>\n",
       "      <th>LifeSquare</th>\n",
       "      <th>KitchenSquare</th>\n",
       "      <th>Floor</th>\n",
       "      <th>HouseFloor</th>\n",
       "      <th>HouseYear</th>\n",
       "      <th>Ecology_1</th>\n",
       "      <th>Social_1</th>\n",
       "      <th>Social_2</th>\n",
       "      <th>Social_3</th>\n",
       "      <th>Helthcare_2</th>\n",
       "      <th>Shops_1</th>\n",
       "      <th>Price</th>\n",
       "      <th>Avg_Price_per_district</th>\n",
       "    </tr>\n",
       "  </thead>\n",
       "  <tbody>\n",
       "    <tr>\n",
       "      <th>count</th>\n",
       "      <td>10000.000000</td>\n",
       "      <td>10000.000000</td>\n",
       "      <td>10000.000000</td>\n",
       "      <td>10000.00000</td>\n",
       "      <td>10000.000000</td>\n",
       "      <td>10000.000000</td>\n",
       "      <td>10000.000000</td>\n",
       "      <td>10000.000000</td>\n",
       "      <td>10000.000000</td>\n",
       "      <td>10000.000000</td>\n",
       "      <td>10000.000000</td>\n",
       "      <td>10000.000000</td>\n",
       "      <td>10000.000000</td>\n",
       "      <td>10000.000000</td>\n",
       "      <td>10000.000000</td>\n",
       "    </tr>\n",
       "    <tr>\n",
       "      <th>mean</th>\n",
       "      <td>1.877000</td>\n",
       "      <td>56.315775</td>\n",
       "      <td>38.951606</td>\n",
       "      <td>6.52450</td>\n",
       "      <td>7.852900</td>\n",
       "      <td>12.852200</td>\n",
       "      <td>1984.468400</td>\n",
       "      <td>0.118858</td>\n",
       "      <td>24.687000</td>\n",
       "      <td>5352.157400</td>\n",
       "      <td>8.039200</td>\n",
       "      <td>1.319500</td>\n",
       "      <td>4.231300</td>\n",
       "      <td>214138.857399</td>\n",
       "      <td>214138.735900</td>\n",
       "    </tr>\n",
       "    <tr>\n",
       "      <th>std</th>\n",
       "      <td>0.806806</td>\n",
       "      <td>21.058732</td>\n",
       "      <td>20.911978</td>\n",
       "      <td>4.00677</td>\n",
       "      <td>5.127172</td>\n",
       "      <td>6.536821</td>\n",
       "      <td>33.567459</td>\n",
       "      <td>0.119025</td>\n",
       "      <td>17.532614</td>\n",
       "      <td>4006.799803</td>\n",
       "      <td>23.831875</td>\n",
       "      <td>1.493601</td>\n",
       "      <td>4.806341</td>\n",
       "      <td>92872.293865</td>\n",
       "      <td>54404.433815</td>\n",
       "    </tr>\n",
       "    <tr>\n",
       "      <th>min</th>\n",
       "      <td>0.000000</td>\n",
       "      <td>1.136859</td>\n",
       "      <td>-2.871886</td>\n",
       "      <td>0.00000</td>\n",
       "      <td>1.000000</td>\n",
       "      <td>1.000000</td>\n",
       "      <td>0.000000</td>\n",
       "      <td>0.000000</td>\n",
       "      <td>0.000000</td>\n",
       "      <td>168.000000</td>\n",
       "      <td>0.000000</td>\n",
       "      <td>0.000000</td>\n",
       "      <td>0.000000</td>\n",
       "      <td>59174.778028</td>\n",
       "      <td>126840.000000</td>\n",
       "    </tr>\n",
       "    <tr>\n",
       "      <th>25%</th>\n",
       "      <td>1.000000</td>\n",
       "      <td>41.774881</td>\n",
       "      <td>24.761580</td>\n",
       "      <td>3.00000</td>\n",
       "      <td>4.000000</td>\n",
       "      <td>9.000000</td>\n",
       "      <td>1974.000000</td>\n",
       "      <td>0.017647</td>\n",
       "      <td>6.000000</td>\n",
       "      <td>1564.000000</td>\n",
       "      <td>0.000000</td>\n",
       "      <td>0.000000</td>\n",
       "      <td>1.000000</td>\n",
       "      <td>153872.633942</td>\n",
       "      <td>171615.000000</td>\n",
       "    </tr>\n",
       "    <tr>\n",
       "      <th>50%</th>\n",
       "      <td>2.000000</td>\n",
       "      <td>52.513310</td>\n",
       "      <td>34.691735</td>\n",
       "      <td>6.00000</td>\n",
       "      <td>7.000000</td>\n",
       "      <td>14.000000</td>\n",
       "      <td>1977.000000</td>\n",
       "      <td>0.075424</td>\n",
       "      <td>25.000000</td>\n",
       "      <td>5285.000000</td>\n",
       "      <td>2.000000</td>\n",
       "      <td>1.000000</td>\n",
       "      <td>3.000000</td>\n",
       "      <td>192269.644879</td>\n",
       "      <td>204464.000000</td>\n",
       "    </tr>\n",
       "    <tr>\n",
       "      <th>75%</th>\n",
       "      <td>2.000000</td>\n",
       "      <td>65.900625</td>\n",
       "      <td>47.953650</td>\n",
       "      <td>9.00000</td>\n",
       "      <td>11.000000</td>\n",
       "      <td>17.000000</td>\n",
       "      <td>2001.000000</td>\n",
       "      <td>0.195781</td>\n",
       "      <td>36.000000</td>\n",
       "      <td>7227.000000</td>\n",
       "      <td>5.000000</td>\n",
       "      <td>2.000000</td>\n",
       "      <td>6.000000</td>\n",
       "      <td>249135.462171</td>\n",
       "      <td>243342.000000</td>\n",
       "    </tr>\n",
       "    <tr>\n",
       "      <th>max</th>\n",
       "      <td>4.000000</td>\n",
       "      <td>641.065193</td>\n",
       "      <td>628.065193</td>\n",
       "      <td>96.00000</td>\n",
       "      <td>42.000000</td>\n",
       "      <td>117.000000</td>\n",
       "      <td>2020.000000</td>\n",
       "      <td>0.521867</td>\n",
       "      <td>74.000000</td>\n",
       "      <td>19083.000000</td>\n",
       "      <td>141.000000</td>\n",
       "      <td>6.000000</td>\n",
       "      <td>23.000000</td>\n",
       "      <td>633233.466570</td>\n",
       "      <td>482791.000000</td>\n",
       "    </tr>\n",
       "  </tbody>\n",
       "</table>\n",
       "</div>"
      ],
      "text/plain": [
       "              Rooms        Square    LifeSquare  KitchenSquare         Floor  \\\n",
       "count  10000.000000  10000.000000  10000.000000    10000.00000  10000.000000   \n",
       "mean       1.877000     56.315775     38.951606        6.52450      7.852900   \n",
       "std        0.806806     21.058732     20.911978        4.00677      5.127172   \n",
       "min        0.000000      1.136859     -2.871886        0.00000      1.000000   \n",
       "25%        1.000000     41.774881     24.761580        3.00000      4.000000   \n",
       "50%        2.000000     52.513310     34.691735        6.00000      7.000000   \n",
       "75%        2.000000     65.900625     47.953650        9.00000     11.000000   \n",
       "max        4.000000    641.065193    628.065193       96.00000     42.000000   \n",
       "\n",
       "         HouseFloor     HouseYear     Ecology_1      Social_1      Social_2  \\\n",
       "count  10000.000000  10000.000000  10000.000000  10000.000000  10000.000000   \n",
       "mean      12.852200   1984.468400      0.118858     24.687000   5352.157400   \n",
       "std        6.536821     33.567459      0.119025     17.532614   4006.799803   \n",
       "min        1.000000      0.000000      0.000000      0.000000    168.000000   \n",
       "25%        9.000000   1974.000000      0.017647      6.000000   1564.000000   \n",
       "50%       14.000000   1977.000000      0.075424     25.000000   5285.000000   \n",
       "75%       17.000000   2001.000000      0.195781     36.000000   7227.000000   \n",
       "max      117.000000   2020.000000      0.521867     74.000000  19083.000000   \n",
       "\n",
       "           Social_3   Helthcare_2       Shops_1          Price  \\\n",
       "count  10000.000000  10000.000000  10000.000000   10000.000000   \n",
       "mean       8.039200      1.319500      4.231300  214138.857399   \n",
       "std       23.831875      1.493601      4.806341   92872.293865   \n",
       "min        0.000000      0.000000      0.000000   59174.778028   \n",
       "25%        0.000000      0.000000      1.000000  153872.633942   \n",
       "50%        2.000000      1.000000      3.000000  192269.644879   \n",
       "75%        5.000000      2.000000      6.000000  249135.462171   \n",
       "max      141.000000      6.000000     23.000000  633233.466570   \n",
       "\n",
       "       Avg_Price_per_district  \n",
       "count            10000.000000  \n",
       "mean            214138.735900  \n",
       "std              54404.433815  \n",
       "min             126840.000000  \n",
       "25%             171615.000000  \n",
       "50%             204464.000000  \n",
       "75%             243342.000000  \n",
       "max             482791.000000  "
      ]
     },
     "execution_count": 296,
     "metadata": {},
     "output_type": "execute_result"
    }
   ],
   "source": [
    "df_fill.describe()"
   ]
  },
  {
   "cell_type": "markdown",
   "id": "pacific-strength",
   "metadata": {},
   "source": [
    "Save dataframe to pickle file."
   ]
  },
  {
   "cell_type": "code",
   "execution_count": 581,
   "id": "driven-waterproof",
   "metadata": {},
   "outputs": [],
   "source": [
    "df_fill.to_pickle(\"D:/Learning/GeekBrains/numpy and pandas/df_fill.pkl\")"
   ]
  },
  {
   "cell_type": "code",
   "execution_count": 585,
   "id": "given-impossible",
   "metadata": {},
   "outputs": [],
   "source": [
    "df_fill = pd.read_pickle(\"D:/Learning/GeekBrains/numpy and pandas/df_fill.pkl\")"
   ]
  },
  {
   "cell_type": "markdown",
   "id": "proved-chase",
   "metadata": {},
   "source": [
    "### Processing of categorial variables"
   ]
  },
  {
   "cell_type": "markdown",
   "id": "applied-cowboy",
   "metadata": {},
   "source": [
    "There are three categorial columns in the dataset:\n",
    "- Ecology_2\n",
    "- Ecology_3\n",
    "- Shops_2\n",
    "\n",
    "Each columns can have ony one of two values and do not contain any null values."
   ]
  },
  {
   "cell_type": "code",
   "execution_count": 589,
   "id": "uniform-miami",
   "metadata": {},
   "outputs": [],
   "source": [
    "df_cat_features = df_fill.select_dtypes(include=['object', 'category'])"
   ]
  },
  {
   "cell_type": "code",
   "execution_count": 593,
   "id": "amber-major",
   "metadata": {},
   "outputs": [],
   "source": [
    "df_cat_features = df_cat_features.drop(['Healthcare_1'], axis = 1)"
   ]
  },
  {
   "cell_type": "code",
   "execution_count": 555,
   "id": "taken-newton",
   "metadata": {},
   "outputs": [
    {
     "data": {
      "text/html": [
       "<div>\n",
       "<style scoped>\n",
       "    .dataframe tbody tr th:only-of-type {\n",
       "        vertical-align: middle;\n",
       "    }\n",
       "\n",
       "    .dataframe tbody tr th {\n",
       "        vertical-align: top;\n",
       "    }\n",
       "\n",
       "    .dataframe thead th {\n",
       "        text-align: right;\n",
       "    }\n",
       "</style>\n",
       "<table border=\"1\" class=\"dataframe\">\n",
       "  <thead>\n",
       "    <tr style=\"text-align: right;\">\n",
       "      <th></th>\n",
       "      <th>Ecology_2</th>\n",
       "      <th>Ecology_3</th>\n",
       "      <th>Shops_2</th>\n",
       "    </tr>\n",
       "    <tr>\n",
       "      <th>Id</th>\n",
       "      <th></th>\n",
       "      <th></th>\n",
       "      <th></th>\n",
       "    </tr>\n",
       "  </thead>\n",
       "  <tbody>\n",
       "    <tr>\n",
       "      <th>14038</th>\n",
       "      <td>B</td>\n",
       "      <td>B</td>\n",
       "      <td>B</td>\n",
       "    </tr>\n",
       "    <tr>\n",
       "      <th>15053</th>\n",
       "      <td>B</td>\n",
       "      <td>B</td>\n",
       "      <td>B</td>\n",
       "    </tr>\n",
       "    <tr>\n",
       "      <th>4765</th>\n",
       "      <td>B</td>\n",
       "      <td>B</td>\n",
       "      <td>B</td>\n",
       "    </tr>\n",
       "    <tr>\n",
       "      <th>5809</th>\n",
       "      <td>B</td>\n",
       "      <td>B</td>\n",
       "      <td>B</td>\n",
       "    </tr>\n",
       "    <tr>\n",
       "      <th>10783</th>\n",
       "      <td>B</td>\n",
       "      <td>B</td>\n",
       "      <td>B</td>\n",
       "    </tr>\n",
       "  </tbody>\n",
       "</table>\n",
       "</div>"
      ],
      "text/plain": [
       "      Ecology_2 Ecology_3 Shops_2\n",
       "Id                               \n",
       "14038         B         B       B\n",
       "15053         B         B       B\n",
       "4765          B         B       B\n",
       "5809          B         B       B\n",
       "10783         B         B       B"
      ]
     },
     "execution_count": 555,
     "metadata": {},
     "output_type": "execute_result"
    }
   ],
   "source": [
    "df_cat_features.head()"
   ]
  },
  {
   "cell_type": "code",
   "execution_count": null,
   "id": "outstanding-amber",
   "metadata": {
    "scrolled": true
   },
   "outputs": [],
   "source": [
    "df_cat_features['Ecology_2'].unique()"
   ]
  },
  {
   "cell_type": "code",
   "execution_count": null,
   "id": "upper-savings",
   "metadata": {},
   "outputs": [],
   "source": [
    "df_cat_features['Ecology_3'].unique()"
   ]
  },
  {
   "cell_type": "code",
   "execution_count": null,
   "id": "broken-beverage",
   "metadata": {},
   "outputs": [],
   "source": [
    "df_cat_features['Shops_2'].unique()"
   ]
  },
  {
   "cell_type": "code",
   "execution_count": null,
   "id": "severe-player",
   "metadata": {
    "scrolled": true
   },
   "outputs": [],
   "source": [
    "fig, ax =plt.subplots(1,3)\n",
    "fig.subplots_adjust(wspace=0.7, hspace=0.7)\n",
    "sns.countplot(y = 'Ecology_2',data = df_cat_features, ax=ax[0])\n",
    "sns.countplot(y = 'Ecology_3',data = df_cat_features, ax=ax[1])\n",
    "sns.countplot(y = 'Shops_2',data = df_cat_features, ax=ax[2])\n",
    "fig.show()"
   ]
  },
  {
   "cell_type": "code",
   "execution_count": null,
   "id": "periodic-distinction",
   "metadata": {},
   "outputs": [],
   "source": [
    "df_cat_features['Ecology_2'].value_counts()"
   ]
  },
  {
   "cell_type": "markdown",
   "id": "running-horse",
   "metadata": {},
   "source": [
    "Categorial values will b converted to numerical using get_dummies metgod.\n",
    "\n",
    "As a result of applying this method new columns in the dataset will be added."
   ]
  },
  {
   "cell_type": "code",
   "execution_count": 594,
   "id": "sophisticated-alert",
   "metadata": {},
   "outputs": [],
   "source": [
    "df_fill = pd.get_dummies(df_fill, columns = df_cat_features.columns)"
   ]
  },
  {
   "cell_type": "code",
   "execution_count": 595,
   "id": "legitimate-antibody",
   "metadata": {},
   "outputs": [
    {
     "data": {
      "text/plain": [
       "(10000, 24)"
      ]
     },
     "execution_count": 595,
     "metadata": {},
     "output_type": "execute_result"
    }
   ],
   "source": [
    "df_fill.shape"
   ]
  },
  {
   "cell_type": "code",
   "execution_count": 596,
   "id": "stainless-scottish",
   "metadata": {},
   "outputs": [
    {
     "data": {
      "text/html": [
       "<div>\n",
       "<style scoped>\n",
       "    .dataframe tbody tr th:only-of-type {\n",
       "        vertical-align: middle;\n",
       "    }\n",
       "\n",
       "    .dataframe tbody tr th {\n",
       "        vertical-align: top;\n",
       "    }\n",
       "\n",
       "    .dataframe thead th {\n",
       "        text-align: right;\n",
       "    }\n",
       "</style>\n",
       "<table border=\"1\" class=\"dataframe\">\n",
       "  <thead>\n",
       "    <tr style=\"text-align: right;\">\n",
       "      <th></th>\n",
       "      <th>DistrictId</th>\n",
       "      <th>Rooms</th>\n",
       "      <th>Square</th>\n",
       "      <th>LifeSquare</th>\n",
       "      <th>KitchenSquare</th>\n",
       "      <th>Floor</th>\n",
       "      <th>HouseFloor</th>\n",
       "      <th>HouseYear</th>\n",
       "      <th>Ecology_1</th>\n",
       "      <th>Social_1</th>\n",
       "      <th>...</th>\n",
       "      <th>Shops_1</th>\n",
       "      <th>Price</th>\n",
       "      <th>hl_pd</th>\n",
       "      <th>Avg_Price_per_district</th>\n",
       "      <th>Ecology_2_A</th>\n",
       "      <th>Ecology_2_B</th>\n",
       "      <th>Ecology_3_A</th>\n",
       "      <th>Ecology_3_B</th>\n",
       "      <th>Shops_2_A</th>\n",
       "      <th>Shops_2_B</th>\n",
       "    </tr>\n",
       "    <tr>\n",
       "      <th>Id</th>\n",
       "      <th></th>\n",
       "      <th></th>\n",
       "      <th></th>\n",
       "      <th></th>\n",
       "      <th></th>\n",
       "      <th></th>\n",
       "      <th></th>\n",
       "      <th></th>\n",
       "      <th></th>\n",
       "      <th></th>\n",
       "      <th></th>\n",
       "      <th></th>\n",
       "      <th></th>\n",
       "      <th></th>\n",
       "      <th></th>\n",
       "      <th></th>\n",
       "      <th></th>\n",
       "      <th></th>\n",
       "      <th></th>\n",
       "      <th></th>\n",
       "      <th></th>\n",
       "    </tr>\n",
       "  </thead>\n",
       "  <tbody>\n",
       "    <tr>\n",
       "      <th>14038</th>\n",
       "      <td>35</td>\n",
       "      <td>2.0</td>\n",
       "      <td>47.981561</td>\n",
       "      <td>29.442751</td>\n",
       "      <td>6.0</td>\n",
       "      <td>7.0</td>\n",
       "      <td>9.0</td>\n",
       "      <td>1969.0</td>\n",
       "      <td>0.089040</td>\n",
       "      <td>33</td>\n",
       "      <td>...</td>\n",
       "      <td>11</td>\n",
       "      <td>184966.930730</td>\n",
       "      <td>770.0</td>\n",
       "      <td>219720.0</td>\n",
       "      <td>0</td>\n",
       "      <td>1</td>\n",
       "      <td>0</td>\n",
       "      <td>1</td>\n",
       "      <td>0</td>\n",
       "      <td>1</td>\n",
       "    </tr>\n",
       "    <tr>\n",
       "      <th>15053</th>\n",
       "      <td>41</td>\n",
       "      <td>3.0</td>\n",
       "      <td>65.683640</td>\n",
       "      <td>40.049543</td>\n",
       "      <td>8.0</td>\n",
       "      <td>7.0</td>\n",
       "      <td>9.0</td>\n",
       "      <td>1978.0</td>\n",
       "      <td>0.000070</td>\n",
       "      <td>46</td>\n",
       "      <td>...</td>\n",
       "      <td>16</td>\n",
       "      <td>300009.450063</td>\n",
       "      <td>320.0</td>\n",
       "      <td>225919.0</td>\n",
       "      <td>0</td>\n",
       "      <td>1</td>\n",
       "      <td>0</td>\n",
       "      <td>1</td>\n",
       "      <td>0</td>\n",
       "      <td>1</td>\n",
       "    </tr>\n",
       "    <tr>\n",
       "      <th>4765</th>\n",
       "      <td>53</td>\n",
       "      <td>2.0</td>\n",
       "      <td>44.947953</td>\n",
       "      <td>29.197612</td>\n",
       "      <td>3.0</td>\n",
       "      <td>8.0</td>\n",
       "      <td>12.0</td>\n",
       "      <td>1968.0</td>\n",
       "      <td>0.049637</td>\n",
       "      <td>34</td>\n",
       "      <td>...</td>\n",
       "      <td>3</td>\n",
       "      <td>220925.908524</td>\n",
       "      <td>229.0</td>\n",
       "      <td>255736.0</td>\n",
       "      <td>0</td>\n",
       "      <td>1</td>\n",
       "      <td>0</td>\n",
       "      <td>1</td>\n",
       "      <td>0</td>\n",
       "      <td>1</td>\n",
       "    </tr>\n",
       "    <tr>\n",
       "      <th>5809</th>\n",
       "      <td>58</td>\n",
       "      <td>2.0</td>\n",
       "      <td>53.352981</td>\n",
       "      <td>41.352981</td>\n",
       "      <td>9.0</td>\n",
       "      <td>8.0</td>\n",
       "      <td>17.0</td>\n",
       "      <td>1977.0</td>\n",
       "      <td>0.437885</td>\n",
       "      <td>23</td>\n",
       "      <td>...</td>\n",
       "      <td>5</td>\n",
       "      <td>175616.227217</td>\n",
       "      <td>1084.0</td>\n",
       "      <td>162287.0</td>\n",
       "      <td>0</td>\n",
       "      <td>1</td>\n",
       "      <td>0</td>\n",
       "      <td>1</td>\n",
       "      <td>0</td>\n",
       "      <td>1</td>\n",
       "    </tr>\n",
       "    <tr>\n",
       "      <th>10783</th>\n",
       "      <td>99</td>\n",
       "      <td>1.0</td>\n",
       "      <td>39.649192</td>\n",
       "      <td>23.776169</td>\n",
       "      <td>7.0</td>\n",
       "      <td>11.0</td>\n",
       "      <td>12.0</td>\n",
       "      <td>1976.0</td>\n",
       "      <td>0.012339</td>\n",
       "      <td>35</td>\n",
       "      <td>...</td>\n",
       "      <td>4</td>\n",
       "      <td>150226.531644</td>\n",
       "      <td>2078.0</td>\n",
       "      <td>184157.0</td>\n",
       "      <td>0</td>\n",
       "      <td>1</td>\n",
       "      <td>0</td>\n",
       "      <td>1</td>\n",
       "      <td>0</td>\n",
       "      <td>1</td>\n",
       "    </tr>\n",
       "  </tbody>\n",
       "</table>\n",
       "<p>5 rows × 24 columns</p>\n",
       "</div>"
      ],
      "text/plain": [
       "       DistrictId  Rooms     Square  LifeSquare  KitchenSquare  Floor  \\\n",
       "Id                                                                      \n",
       "14038          35    2.0  47.981561   29.442751            6.0    7.0   \n",
       "15053          41    3.0  65.683640   40.049543            8.0    7.0   \n",
       "4765           53    2.0  44.947953   29.197612            3.0    8.0   \n",
       "5809           58    2.0  53.352981   41.352981            9.0    8.0   \n",
       "10783          99    1.0  39.649192   23.776169            7.0   11.0   \n",
       "\n",
       "       HouseFloor  HouseYear  Ecology_1  Social_1  ...  Shops_1  \\\n",
       "Id                                                 ...            \n",
       "14038         9.0     1969.0   0.089040        33  ...       11   \n",
       "15053         9.0     1978.0   0.000070        46  ...       16   \n",
       "4765         12.0     1968.0   0.049637        34  ...        3   \n",
       "5809         17.0     1977.0   0.437885        23  ...        5   \n",
       "10783        12.0     1976.0   0.012339        35  ...        4   \n",
       "\n",
       "               Price   hl_pd  Avg_Price_per_district  Ecology_2_A  \\\n",
       "Id                                                                  \n",
       "14038  184966.930730   770.0                219720.0            0   \n",
       "15053  300009.450063   320.0                225919.0            0   \n",
       "4765   220925.908524   229.0                255736.0            0   \n",
       "5809   175616.227217  1084.0                162287.0            0   \n",
       "10783  150226.531644  2078.0                184157.0            0   \n",
       "\n",
       "       Ecology_2_B  Ecology_3_A  Ecology_3_B  Shops_2_A  Shops_2_B  \n",
       "Id                                                                  \n",
       "14038            1            0            1          0          1  \n",
       "15053            1            0            1          0          1  \n",
       "4765             1            0            1          0          1  \n",
       "5809             1            0            1          0          1  \n",
       "10783            1            0            1          0          1  \n",
       "\n",
       "[5 rows x 24 columns]"
      ]
     },
     "execution_count": 596,
     "metadata": {},
     "output_type": "execute_result"
    }
   ],
   "source": [
    "df_fill.head()"
   ]
  },
  {
   "cell_type": "code",
   "execution_count": null,
   "id": "incomplete-liver",
   "metadata": {
    "scrolled": true
   },
   "outputs": [],
   "source": [
    "df_fill.head()"
   ]
  },
  {
   "cell_type": "code",
   "execution_count": null,
   "id": "acting-mobility",
   "metadata": {},
   "outputs": [],
   "source": [
    "df_fill.dtypes"
   ]
  },
  {
   "cell_type": "code",
   "execution_count": 597,
   "id": "medium-consensus",
   "metadata": {},
   "outputs": [],
   "source": [
    "df_fill.to_pickle(\"D:/Learning/GeekBrains/numpy and pandas/df_fill_processed.pkl\")"
   ]
  },
  {
   "cell_type": "code",
   "execution_count": null,
   "id": "found-haven",
   "metadata": {},
   "outputs": [],
   "source": [
    "df_fill = pd.read_pickle(\"D:/Learning/GeekBrains/numpy and pandas/df_fill_processed.pkl\")"
   ]
  },
  {
   "cell_type": "markdown",
   "id": "underlying-characteristic",
   "metadata": {},
   "source": [
    "# 5. Model creation and applying <a class='anchor' id='models'>"
   ]
  },
  {
   "cell_type": "markdown",
   "id": "british-specification",
   "metadata": {},
   "source": [
    "## Algorithms and Techniques"
   ]
  },
  {
   "cell_type": "markdown",
   "id": "northern-raleigh",
   "metadata": {},
   "source": [
    "There are a lot of algorythms for solving of regression tasks:\n",
    "   - linear regression\n",
    "   - polynominal regression\n",
    "   - Decision Tree Regressor\n",
    "   - Random Forest Regressor\n",
    "   - Gradient Boosting etc\n",
    "**Linear regression**\n",
    "One of the simplest algorythms. Sometimes it even is not counted as ML method.\n",
    "Simpliest formula is:\n",
    "Y = kx + b\n",
    "and goal of algorithm is to find weights k and shift b to satisfy the best selected metric value.\n",
    "Implementation of linear regression is based on appropriate module from sklearn.\n",
    "\n",
    "**Decision Tree Regression**\n",
    "This is more flexible and easiy to understand method. It allows to have results which more fit curve of target variable.\n",
    "\n",
    "\n",
    "**Random Forest Regression**\n",
    "Method based on Decision Tree method but it use relatively big amount of Decision Trees. They works with different set of features in different combinations. \n",
    "Selecting of value for target variable is performed via voting of different trees from ensemble.\n",
    "\n",
    "**Gradient Boosting**\n",
    "Method which is based on boosting - method of ensembles building where predictors are built consistently, not in paralleal like in RandomForest. Boosting uses idea that every next model will be learnt based on errors of previous model.\n"
   ]
  },
  {
   "cell_type": "markdown",
   "id": "other-bidder",
   "metadata": {},
   "source": [
    "To split initial dataset for training and test datasets train_test_split from sklearn can be used.\n",
    "\n",
    "For best supervised method selection following methods of price prediction will be applied:\n",
    "2. Random Forest \n",
    "3. Gradient Boosting\n",
    "\n",
    "After processing of all methods the best variant will be selected.\n",
    "\n",
    "To determine of quality of model, following metrics will be used:\n",
    "- R2 score\n",
    "- mean absolute error\n",
    "- mean squared error"
   ]
  },
  {
   "cell_type": "markdown",
   "id": "fitting-burton",
   "metadata": {},
   "source": [
    "### Metrics"
   ]
  },
  {
   "cell_type": "markdown",
   "id": "packed-scale",
   "metadata": {},
   "source": [
    "    \n",
    "ML metric - Mean Squared Error (**MSE**) \n",
    "    - MSE in direct ratio to RMSE и R^2\n",
    "    - MSE  easy to optimize (take the derrivatives)   \n",
    "\n",
    "\n",
    "\n",
    "Business metric - **R^2**, Root Mean Squared Error (**RMSE**)\n",
    "    - Easy interpretable\n",
    "    - easy to understand for business\n",
    "    - R^2 can have velues from 0 to 1, if 1, all our predictions are ideal. It possible to say that r2 score describy accuracy of our model.\n",
    "\n",
    "The best model will have max value of R2MSE for testdataset. "
   ]
  },
  {
   "cell_type": "markdown",
   "id": "challenging-stack",
   "metadata": {},
   "source": [
    " $$MSE = \\frac{1}{n}  \\sum{(y - y_{pred})^2}$$"
   ]
  },
  {
   "cell_type": "markdown",
   "id": "genuine-seattle",
   "metadata": {},
   "source": [
    "$$RMSE = \\sqrt{\\frac{1}{n}  \\sum{(y - y_{pred})^2}}$$"
   ]
  },
  {
   "cell_type": "markdown",
   "id": "furnished-dancing",
   "metadata": {},
   "source": [
    "$$R^2 = 1 - \\frac{\\frac{1}{n}\\sum{(y - y_{pred})^2}}{\\frac{1}{n}\\sum{(y - y_{mean})^2}}$$"
   ]
  },
  {
   "cell_type": "markdown",
   "id": "stable-guarantee",
   "metadata": {},
   "source": [
    "Dataset for each model will be processed by following steps:\n",
    "1. additional preprocessing which can be needed for this particular model\n",
    "2. spliting training and testing \n",
    "3. perform machine learning and record training and testing scores"
   ]
  },
  {
   "cell_type": "code",
   "execution_count": null,
   "id": "valuable-savannah",
   "metadata": {},
   "outputs": [],
   "source": []
  },
  {
   "cell_type": "code",
   "execution_count": null,
   "id": "stable-austria",
   "metadata": {},
   "outputs": [],
   "source": []
  },
  {
   "cell_type": "markdown",
   "id": "presidential-affect",
   "metadata": {},
   "source": [
    "### Random Forest"
   ]
  },
  {
   "cell_type": "markdown",
   "id": "behavioral-planner",
   "metadata": {},
   "source": [
    "Random forests is a supervised learning algorithm. It can be used both for classification and regression. It is also the most flexible and easy to use algorithm. A forest is comprised of trees. It is said that the more trees it has, the more robust a forest is. Random forests creates decision trees on randomly selected data samples, gets prediction from each tree and selects the best solution by means of voting. It also provides a pretty good indicator of the feature importance."
   ]
  },
  {
   "cell_type": "code",
   "execution_count": 598,
   "id": "random-complexity",
   "metadata": {},
   "outputs": [],
   "source": [
    "X_rf = df_fill.copy()"
   ]
  },
  {
   "cell_type": "code",
   "execution_count": null,
   "id": "unknown-asset",
   "metadata": {},
   "outputs": [],
   "source": []
  },
  {
   "cell_type": "code",
   "execution_count": 599,
   "id": "guided-place",
   "metadata": {},
   "outputs": [],
   "source": [
    "y_rf = X_rf['Price']"
   ]
  },
  {
   "cell_type": "code",
   "execution_count": 600,
   "id": "brown-musical",
   "metadata": {},
   "outputs": [],
   "source": [
    "X_rf = X_rf.drop('Price', axis = 1)"
   ]
  },
  {
   "cell_type": "code",
   "execution_count": 601,
   "id": "fluid-emerald",
   "metadata": {
    "scrolled": true
   },
   "outputs": [
    {
     "data": {
      "text/plain": [
       "(10000, 23)"
      ]
     },
     "execution_count": 601,
     "metadata": {},
     "output_type": "execute_result"
    }
   ],
   "source": [
    "X_rf.shape"
   ]
  },
  {
   "cell_type": "code",
   "execution_count": 304,
   "id": "ahead-animation",
   "metadata": {},
   "outputs": [],
   "source": [
    "#X_rf = X_rf.drop(['Ecology_2','Ecology_3', 'Shops_2'], axis = 1)"
   ]
  },
  {
   "cell_type": "code",
   "execution_count": 305,
   "id": "loose-terminology",
   "metadata": {},
   "outputs": [
    {
     "data": {
      "text/html": [
       "<div>\n",
       "<style scoped>\n",
       "    .dataframe tbody tr th:only-of-type {\n",
       "        vertical-align: middle;\n",
       "    }\n",
       "\n",
       "    .dataframe tbody tr th {\n",
       "        vertical-align: top;\n",
       "    }\n",
       "\n",
       "    .dataframe thead th {\n",
       "        text-align: right;\n",
       "    }\n",
       "</style>\n",
       "<table border=\"1\" class=\"dataframe\">\n",
       "  <thead>\n",
       "    <tr style=\"text-align: right;\">\n",
       "      <th></th>\n",
       "      <th>Rooms</th>\n",
       "      <th>Square</th>\n",
       "      <th>LifeSquare</th>\n",
       "      <th>KitchenSquare</th>\n",
       "      <th>Floor</th>\n",
       "      <th>HouseFloor</th>\n",
       "      <th>HouseYear</th>\n",
       "      <th>Ecology_1</th>\n",
       "      <th>Social_1</th>\n",
       "      <th>Social_2</th>\n",
       "      <th>Social_3</th>\n",
       "      <th>Healthcare_1</th>\n",
       "      <th>Helthcare_2</th>\n",
       "      <th>Shops_1</th>\n",
       "      <th>Avg_Price_per_district</th>\n",
       "    </tr>\n",
       "    <tr>\n",
       "      <th>Id</th>\n",
       "      <th></th>\n",
       "      <th></th>\n",
       "      <th></th>\n",
       "      <th></th>\n",
       "      <th></th>\n",
       "      <th></th>\n",
       "      <th></th>\n",
       "      <th></th>\n",
       "      <th></th>\n",
       "      <th></th>\n",
       "      <th></th>\n",
       "      <th></th>\n",
       "      <th></th>\n",
       "      <th></th>\n",
       "      <th></th>\n",
       "    </tr>\n",
       "  </thead>\n",
       "  <tbody>\n",
       "    <tr>\n",
       "      <th>14038</th>\n",
       "      <td>2.0</td>\n",
       "      <td>47.981561</td>\n",
       "      <td>29.442751</td>\n",
       "      <td>6.0</td>\n",
       "      <td>7.0</td>\n",
       "      <td>9.0</td>\n",
       "      <td>1969</td>\n",
       "      <td>0.08904</td>\n",
       "      <td>33</td>\n",
       "      <td>7976</td>\n",
       "      <td>5</td>\n",
       "      <td>35</td>\n",
       "      <td>0</td>\n",
       "      <td>11</td>\n",
       "      <td>219720.0</td>\n",
       "    </tr>\n",
       "  </tbody>\n",
       "</table>\n",
       "</div>"
      ],
      "text/plain": [
       "       Rooms     Square  LifeSquare  KitchenSquare  Floor  HouseFloor  \\\n",
       "Id                                                                      \n",
       "14038    2.0  47.981561   29.442751            6.0    7.0         9.0   \n",
       "\n",
       "       HouseYear  Ecology_1  Social_1  Social_2  Social_3 Healthcare_1  \\\n",
       "Id                                                                       \n",
       "14038       1969    0.08904        33      7976         5           35   \n",
       "\n",
       "       Helthcare_2  Shops_1  Avg_Price_per_district  \n",
       "Id                                                   \n",
       "14038            0       11                219720.0  "
      ]
     },
     "execution_count": 305,
     "metadata": {},
     "output_type": "execute_result"
    }
   ],
   "source": [
    "X_rf.head(1)"
   ]
  },
  {
   "cell_type": "code",
   "execution_count": 602,
   "id": "exotic-watch",
   "metadata": {},
   "outputs": [],
   "source": [
    "X_train_rf, X_test_rf, y_train_rf, y_test_rf = train_test_split(X_rf, y_rf, test_size=0.3, random_state = 42)"
   ]
  },
  {
   "cell_type": "markdown",
   "id": "authorized-brook",
   "metadata": {},
   "source": [
    "Selecting of params for model fit"
   ]
  },
  {
   "cell_type": "code",
   "execution_count": 126,
   "id": "persistent-bangladesh",
   "metadata": {},
   "outputs": [],
   "source": [
    "\n"
   ]
  },
  {
   "cell_type": "code",
   "execution_count": 603,
   "id": "miniature-utilization",
   "metadata": {},
   "outputs": [],
   "source": [
    "rf_model = RandomForestRegressor(criterion='mse', random_state=42)"
   ]
  },
  {
   "cell_type": "markdown",
   "id": "lucky-characterization",
   "metadata": {},
   "source": [
    "Some parameters for random forest model, like quality metrics will be same, they will be left beyond metha-parametrs fit.\n",
    "Selecting of parameters will be perfomed using GridSearchCV from sklearn"
   ]
  },
  {
   "cell_type": "markdown",
   "id": "informal-sympathy",
   "metadata": {},
   "source": [
    "**Optimization of parameters for Random Forest model**"
   ]
  },
  {
   "cell_type": "markdown",
   "id": "married-haven",
   "metadata": {},
   "source": [
    "#### Random Search"
   ]
  },
  {
   "cell_type": "code",
   "execution_count": 347,
   "id": "written-subcommittee",
   "metadata": {},
   "outputs": [],
   "source": [
    "# define evaluation\n",
    "cv = RepeatedKFold(n_splits=10, n_repeats=3, random_state=1)"
   ]
  },
  {
   "cell_type": "code",
   "execution_count": 348,
   "id": "contemporary-bangkok",
   "metadata": {},
   "outputs": [
    {
     "ename": "NameError",
     "evalue": "name 'loguniform' is not defined",
     "output_type": "error",
     "traceback": [
      "\u001b[1;31m---------------------------------------------------------------------------\u001b[0m",
      "\u001b[1;31mNameError\u001b[0m                                 Traceback (most recent call last)",
      "\u001b[1;32m<ipython-input-348-b16bc3884c7b>\u001b[0m in \u001b[0;36m<module>\u001b[1;34m\u001b[0m\n\u001b[0;32m      2\u001b[0m \u001b[0mspace\u001b[0m \u001b[1;33m=\u001b[0m \u001b[0mdict\u001b[0m\u001b[1;33m(\u001b[0m\u001b[1;33m)\u001b[0m\u001b[1;33m\u001b[0m\u001b[1;33m\u001b[0m\u001b[0m\n\u001b[0;32m      3\u001b[0m \u001b[0mspace\u001b[0m\u001b[1;33m[\u001b[0m\u001b[1;34m'solver'\u001b[0m\u001b[1;33m]\u001b[0m \u001b[1;33m=\u001b[0m \u001b[1;33m[\u001b[0m\u001b[1;34m'svd'\u001b[0m\u001b[1;33m,\u001b[0m \u001b[1;34m'cholesky'\u001b[0m\u001b[1;33m,\u001b[0m \u001b[1;34m'lsqr'\u001b[0m\u001b[1;33m,\u001b[0m \u001b[1;34m'sag'\u001b[0m\u001b[1;33m]\u001b[0m\u001b[1;33m\u001b[0m\u001b[1;33m\u001b[0m\u001b[0m\n\u001b[1;32m----> 4\u001b[1;33m \u001b[0mspace\u001b[0m\u001b[1;33m[\u001b[0m\u001b[1;34m'alpha'\u001b[0m\u001b[1;33m]\u001b[0m \u001b[1;33m=\u001b[0m \u001b[0mloguniform\u001b[0m\u001b[1;33m(\u001b[0m\u001b[1;36m1e-5\u001b[0m\u001b[1;33m,\u001b[0m \u001b[1;36m100\u001b[0m\u001b[1;33m)\u001b[0m\u001b[1;33m\u001b[0m\u001b[1;33m\u001b[0m\u001b[0m\n\u001b[0m\u001b[0;32m      5\u001b[0m \u001b[0mspace\u001b[0m\u001b[1;33m[\u001b[0m\u001b[1;34m'fit_intercept'\u001b[0m\u001b[1;33m]\u001b[0m \u001b[1;33m=\u001b[0m \u001b[1;33m[\u001b[0m\u001b[1;32mTrue\u001b[0m\u001b[1;33m,\u001b[0m \u001b[1;32mFalse\u001b[0m\u001b[1;33m]\u001b[0m\u001b[1;33m\u001b[0m\u001b[1;33m\u001b[0m\u001b[0m\n\u001b[0;32m      6\u001b[0m \u001b[0mspace\u001b[0m\u001b[1;33m[\u001b[0m\u001b[1;34m'normalize'\u001b[0m\u001b[1;33m]\u001b[0m \u001b[1;33m=\u001b[0m \u001b[1;33m[\u001b[0m\u001b[1;32mTrue\u001b[0m\u001b[1;33m,\u001b[0m \u001b[1;32mFalse\u001b[0m\u001b[1;33m]\u001b[0m\u001b[1;33m\u001b[0m\u001b[1;33m\u001b[0m\u001b[0m\n",
      "\u001b[1;31mNameError\u001b[0m: name 'loguniform' is not defined"
     ]
    }
   ],
   "source": [
    "# define search space\n",
    "space = dict()\n",
    "space['solver'] = ['svd', 'cholesky', 'lsqr', 'sag']\n",
    "space['alpha'] = loguniform(1e-5, 100)\n",
    "space['fit_intercept'] = [True, False]\n",
    "space['normalize'] = [True, False]"
   ]
  },
  {
   "cell_type": "code",
   "execution_count": 350,
   "id": "understood-price",
   "metadata": {},
   "outputs": [],
   "source": [
    "\n",
    "\n",
    "\n",
    "rrf = RandomizedSearchCV(rf_model, space, n_iter=500, scoring='neg_mean_absolute_error', n_jobs=-1, cv=cv, random_state=1)"
   ]
  },
  {
   "cell_type": "code",
   "execution_count": 351,
   "id": "dependent-photographer",
   "metadata": {},
   "outputs": [
    {
     "name": "stderr",
     "output_type": "stream",
     "text": [
      "c:\\users\\пк\\appdata\\local\\programs\\python\\python39\\lib\\site-packages\\sklearn\\model_selection\\_search.py:285: UserWarning: The total space of parameters 4 is smaller than n_iter=500. Running 4 iterations. For exhaustive searches, use GridSearchCV.\n",
      "  warnings.warn(\n"
     ]
    },
    {
     "ename": "ValueError",
     "evalue": "Invalid parameter solver for estimator RandomForestRegressor(random_state=42). Check the list of available parameters with `estimator.get_params().keys()`.",
     "output_type": "error",
     "traceback": [
      "\u001b[1;31m---------------------------------------------------------------------------\u001b[0m",
      "\u001b[1;31m_RemoteTraceback\u001b[0m                          Traceback (most recent call last)",
      "\u001b[1;31m_RemoteTraceback\u001b[0m: \n\"\"\"\nTraceback (most recent call last):\n  File \"c:\\users\\пк\\appdata\\local\\programs\\python\\python39\\lib\\site-packages\\joblib\\externals\\loky\\process_executor.py\", line 431, in _process_worker\n    r = call_item()\n  File \"c:\\users\\пк\\appdata\\local\\programs\\python\\python39\\lib\\site-packages\\joblib\\externals\\loky\\process_executor.py\", line 285, in __call__\n    return self.fn(*self.args, **self.kwargs)\n  File \"c:\\users\\пк\\appdata\\local\\programs\\python\\python39\\lib\\site-packages\\joblib\\_parallel_backends.py\", line 595, in __call__\n    return self.func(*args, **kwargs)\n  File \"c:\\users\\пк\\appdata\\local\\programs\\python\\python39\\lib\\site-packages\\joblib\\parallel.py\", line 262, in __call__\n    return [func(*args, **kwargs)\n  File \"c:\\users\\пк\\appdata\\local\\programs\\python\\python39\\lib\\site-packages\\joblib\\parallel.py\", line 262, in <listcomp>\n    return [func(*args, **kwargs)\n  File \"c:\\users\\пк\\appdata\\local\\programs\\python\\python39\\lib\\site-packages\\sklearn\\utils\\fixes.py\", line 222, in __call__\n    return self.function(*args, **kwargs)\n  File \"c:\\users\\пк\\appdata\\local\\programs\\python\\python39\\lib\\site-packages\\sklearn\\model_selection\\_validation.py\", line 581, in _fit_and_score\n    estimator = estimator.set_params(**cloned_parameters)\n  File \"c:\\users\\пк\\appdata\\local\\programs\\python\\python39\\lib\\site-packages\\sklearn\\base.py\", line 230, in set_params\n    raise ValueError('Invalid parameter %s for estimator %s. '\nValueError: Invalid parameter solver for estimator RandomForestRegressor(random_state=42). Check the list of available parameters with `estimator.get_params().keys()`.\n\"\"\"",
      "\nThe above exception was the direct cause of the following exception:\n",
      "\u001b[1;31mValueError\u001b[0m                                Traceback (most recent call last)",
      "\u001b[1;32m<ipython-input-351-93c1b767d575>\u001b[0m in \u001b[0;36m<module>\u001b[1;34m\u001b[0m\n\u001b[1;32m----> 1\u001b[1;33m \u001b[0mrrf\u001b[0m\u001b[1;33m.\u001b[0m\u001b[0mfit\u001b[0m\u001b[1;33m(\u001b[0m\u001b[0mX_train_rf\u001b[0m\u001b[1;33m,\u001b[0m \u001b[0my_train_rf\u001b[0m\u001b[1;33m)\u001b[0m\u001b[1;33m\u001b[0m\u001b[1;33m\u001b[0m\u001b[0m\n\u001b[0m",
      "\u001b[1;32mc:\\users\\пк\\appdata\\local\\programs\\python\\python39\\lib\\site-packages\\sklearn\\utils\\validation.py\u001b[0m in \u001b[0;36minner_f\u001b[1;34m(*args, **kwargs)\u001b[0m\n\u001b[0;32m     61\u001b[0m             \u001b[0mextra_args\u001b[0m \u001b[1;33m=\u001b[0m \u001b[0mlen\u001b[0m\u001b[1;33m(\u001b[0m\u001b[0margs\u001b[0m\u001b[1;33m)\u001b[0m \u001b[1;33m-\u001b[0m \u001b[0mlen\u001b[0m\u001b[1;33m(\u001b[0m\u001b[0mall_args\u001b[0m\u001b[1;33m)\u001b[0m\u001b[1;33m\u001b[0m\u001b[1;33m\u001b[0m\u001b[0m\n\u001b[0;32m     62\u001b[0m             \u001b[1;32mif\u001b[0m \u001b[0mextra_args\u001b[0m \u001b[1;33m<=\u001b[0m \u001b[1;36m0\u001b[0m\u001b[1;33m:\u001b[0m\u001b[1;33m\u001b[0m\u001b[1;33m\u001b[0m\u001b[0m\n\u001b[1;32m---> 63\u001b[1;33m                 \u001b[1;32mreturn\u001b[0m \u001b[0mf\u001b[0m\u001b[1;33m(\u001b[0m\u001b[1;33m*\u001b[0m\u001b[0margs\u001b[0m\u001b[1;33m,\u001b[0m \u001b[1;33m**\u001b[0m\u001b[0mkwargs\u001b[0m\u001b[1;33m)\u001b[0m\u001b[1;33m\u001b[0m\u001b[1;33m\u001b[0m\u001b[0m\n\u001b[0m\u001b[0;32m     64\u001b[0m \u001b[1;33m\u001b[0m\u001b[0m\n\u001b[0;32m     65\u001b[0m             \u001b[1;31m# extra_args > 0\u001b[0m\u001b[1;33m\u001b[0m\u001b[1;33m\u001b[0m\u001b[1;33m\u001b[0m\u001b[0m\n",
      "\u001b[1;32mc:\\users\\пк\\appdata\\local\\programs\\python\\python39\\lib\\site-packages\\sklearn\\model_selection\\_search.py\u001b[0m in \u001b[0;36mfit\u001b[1;34m(self, X, y, groups, **fit_params)\u001b[0m\n\u001b[0;32m    839\u001b[0m                 \u001b[1;32mreturn\u001b[0m \u001b[0mresults\u001b[0m\u001b[1;33m\u001b[0m\u001b[1;33m\u001b[0m\u001b[0m\n\u001b[0;32m    840\u001b[0m \u001b[1;33m\u001b[0m\u001b[0m\n\u001b[1;32m--> 841\u001b[1;33m             \u001b[0mself\u001b[0m\u001b[1;33m.\u001b[0m\u001b[0m_run_search\u001b[0m\u001b[1;33m(\u001b[0m\u001b[0mevaluate_candidates\u001b[0m\u001b[1;33m)\u001b[0m\u001b[1;33m\u001b[0m\u001b[1;33m\u001b[0m\u001b[0m\n\u001b[0m\u001b[0;32m    842\u001b[0m \u001b[1;33m\u001b[0m\u001b[0m\n\u001b[0;32m    843\u001b[0m             \u001b[1;31m# multimetric is determined here because in the case of a callable\u001b[0m\u001b[1;33m\u001b[0m\u001b[1;33m\u001b[0m\u001b[1;33m\u001b[0m\u001b[0m\n",
      "\u001b[1;32mc:\\users\\пк\\appdata\\local\\programs\\python\\python39\\lib\\site-packages\\sklearn\\model_selection\\_search.py\u001b[0m in \u001b[0;36m_run_search\u001b[1;34m(self, evaluate_candidates)\u001b[0m\n\u001b[0;32m   1617\u001b[0m     \u001b[1;32mdef\u001b[0m \u001b[0m_run_search\u001b[0m\u001b[1;33m(\u001b[0m\u001b[0mself\u001b[0m\u001b[1;33m,\u001b[0m \u001b[0mevaluate_candidates\u001b[0m\u001b[1;33m)\u001b[0m\u001b[1;33m:\u001b[0m\u001b[1;33m\u001b[0m\u001b[1;33m\u001b[0m\u001b[0m\n\u001b[0;32m   1618\u001b[0m         \u001b[1;34m\"\"\"Search n_iter candidates from param_distributions\"\"\"\u001b[0m\u001b[1;33m\u001b[0m\u001b[1;33m\u001b[0m\u001b[0m\n\u001b[1;32m-> 1619\u001b[1;33m         evaluate_candidates(ParameterSampler(\n\u001b[0m\u001b[0;32m   1620\u001b[0m             \u001b[0mself\u001b[0m\u001b[1;33m.\u001b[0m\u001b[0mparam_distributions\u001b[0m\u001b[1;33m,\u001b[0m \u001b[0mself\u001b[0m\u001b[1;33m.\u001b[0m\u001b[0mn_iter\u001b[0m\u001b[1;33m,\u001b[0m\u001b[1;33m\u001b[0m\u001b[1;33m\u001b[0m\u001b[0m\n\u001b[0;32m   1621\u001b[0m             random_state=self.random_state))\n",
      "\u001b[1;32mc:\\users\\пк\\appdata\\local\\programs\\python\\python39\\lib\\site-packages\\sklearn\\model_selection\\_search.py\u001b[0m in \u001b[0;36mevaluate_candidates\u001b[1;34m(candidate_params, cv, more_results)\u001b[0m\n\u001b[0;32m    793\u001b[0m                               n_splits, n_candidates, n_candidates * n_splits))\n\u001b[0;32m    794\u001b[0m \u001b[1;33m\u001b[0m\u001b[0m\n\u001b[1;32m--> 795\u001b[1;33m                 out = parallel(delayed(_fit_and_score)(clone(base_estimator),\n\u001b[0m\u001b[0;32m    796\u001b[0m                                                        \u001b[0mX\u001b[0m\u001b[1;33m,\u001b[0m \u001b[0my\u001b[0m\u001b[1;33m,\u001b[0m\u001b[1;33m\u001b[0m\u001b[1;33m\u001b[0m\u001b[0m\n\u001b[0;32m    797\u001b[0m                                                        \u001b[0mtrain\u001b[0m\u001b[1;33m=\u001b[0m\u001b[0mtrain\u001b[0m\u001b[1;33m,\u001b[0m \u001b[0mtest\u001b[0m\u001b[1;33m=\u001b[0m\u001b[0mtest\u001b[0m\u001b[1;33m,\u001b[0m\u001b[1;33m\u001b[0m\u001b[1;33m\u001b[0m\u001b[0m\n",
      "\u001b[1;32mc:\\users\\пк\\appdata\\local\\programs\\python\\python39\\lib\\site-packages\\joblib\\parallel.py\u001b[0m in \u001b[0;36m__call__\u001b[1;34m(self, iterable)\u001b[0m\n\u001b[0;32m   1052\u001b[0m \u001b[1;33m\u001b[0m\u001b[0m\n\u001b[0;32m   1053\u001b[0m             \u001b[1;32mwith\u001b[0m \u001b[0mself\u001b[0m\u001b[1;33m.\u001b[0m\u001b[0m_backend\u001b[0m\u001b[1;33m.\u001b[0m\u001b[0mretrieval_context\u001b[0m\u001b[1;33m(\u001b[0m\u001b[1;33m)\u001b[0m\u001b[1;33m:\u001b[0m\u001b[1;33m\u001b[0m\u001b[1;33m\u001b[0m\u001b[0m\n\u001b[1;32m-> 1054\u001b[1;33m                 \u001b[0mself\u001b[0m\u001b[1;33m.\u001b[0m\u001b[0mretrieve\u001b[0m\u001b[1;33m(\u001b[0m\u001b[1;33m)\u001b[0m\u001b[1;33m\u001b[0m\u001b[1;33m\u001b[0m\u001b[0m\n\u001b[0m\u001b[0;32m   1055\u001b[0m             \u001b[1;31m# Make sure that we get a last message telling us we are done\u001b[0m\u001b[1;33m\u001b[0m\u001b[1;33m\u001b[0m\u001b[1;33m\u001b[0m\u001b[0m\n\u001b[0;32m   1056\u001b[0m             \u001b[0melapsed_time\u001b[0m \u001b[1;33m=\u001b[0m \u001b[0mtime\u001b[0m\u001b[1;33m.\u001b[0m\u001b[0mtime\u001b[0m\u001b[1;33m(\u001b[0m\u001b[1;33m)\u001b[0m \u001b[1;33m-\u001b[0m \u001b[0mself\u001b[0m\u001b[1;33m.\u001b[0m\u001b[0m_start_time\u001b[0m\u001b[1;33m\u001b[0m\u001b[1;33m\u001b[0m\u001b[0m\n",
      "\u001b[1;32mc:\\users\\пк\\appdata\\local\\programs\\python\\python39\\lib\\site-packages\\joblib\\parallel.py\u001b[0m in \u001b[0;36mretrieve\u001b[1;34m(self)\u001b[0m\n\u001b[0;32m    931\u001b[0m             \u001b[1;32mtry\u001b[0m\u001b[1;33m:\u001b[0m\u001b[1;33m\u001b[0m\u001b[1;33m\u001b[0m\u001b[0m\n\u001b[0;32m    932\u001b[0m                 \u001b[1;32mif\u001b[0m \u001b[0mgetattr\u001b[0m\u001b[1;33m(\u001b[0m\u001b[0mself\u001b[0m\u001b[1;33m.\u001b[0m\u001b[0m_backend\u001b[0m\u001b[1;33m,\u001b[0m \u001b[1;34m'supports_timeout'\u001b[0m\u001b[1;33m,\u001b[0m \u001b[1;32mFalse\u001b[0m\u001b[1;33m)\u001b[0m\u001b[1;33m:\u001b[0m\u001b[1;33m\u001b[0m\u001b[1;33m\u001b[0m\u001b[0m\n\u001b[1;32m--> 933\u001b[1;33m                     \u001b[0mself\u001b[0m\u001b[1;33m.\u001b[0m\u001b[0m_output\u001b[0m\u001b[1;33m.\u001b[0m\u001b[0mextend\u001b[0m\u001b[1;33m(\u001b[0m\u001b[0mjob\u001b[0m\u001b[1;33m.\u001b[0m\u001b[0mget\u001b[0m\u001b[1;33m(\u001b[0m\u001b[0mtimeout\u001b[0m\u001b[1;33m=\u001b[0m\u001b[0mself\u001b[0m\u001b[1;33m.\u001b[0m\u001b[0mtimeout\u001b[0m\u001b[1;33m)\u001b[0m\u001b[1;33m)\u001b[0m\u001b[1;33m\u001b[0m\u001b[1;33m\u001b[0m\u001b[0m\n\u001b[0m\u001b[0;32m    934\u001b[0m                 \u001b[1;32melse\u001b[0m\u001b[1;33m:\u001b[0m\u001b[1;33m\u001b[0m\u001b[1;33m\u001b[0m\u001b[0m\n\u001b[0;32m    935\u001b[0m                     \u001b[0mself\u001b[0m\u001b[1;33m.\u001b[0m\u001b[0m_output\u001b[0m\u001b[1;33m.\u001b[0m\u001b[0mextend\u001b[0m\u001b[1;33m(\u001b[0m\u001b[0mjob\u001b[0m\u001b[1;33m.\u001b[0m\u001b[0mget\u001b[0m\u001b[1;33m(\u001b[0m\u001b[1;33m)\u001b[0m\u001b[1;33m)\u001b[0m\u001b[1;33m\u001b[0m\u001b[1;33m\u001b[0m\u001b[0m\n",
      "\u001b[1;32mc:\\users\\пк\\appdata\\local\\programs\\python\\python39\\lib\\site-packages\\joblib\\_parallel_backends.py\u001b[0m in \u001b[0;36mwrap_future_result\u001b[1;34m(future, timeout)\u001b[0m\n\u001b[0;32m    540\u001b[0m         AsyncResults.get from multiprocessing.\"\"\"\n\u001b[0;32m    541\u001b[0m         \u001b[1;32mtry\u001b[0m\u001b[1;33m:\u001b[0m\u001b[1;33m\u001b[0m\u001b[1;33m\u001b[0m\u001b[0m\n\u001b[1;32m--> 542\u001b[1;33m             \u001b[1;32mreturn\u001b[0m \u001b[0mfuture\u001b[0m\u001b[1;33m.\u001b[0m\u001b[0mresult\u001b[0m\u001b[1;33m(\u001b[0m\u001b[0mtimeout\u001b[0m\u001b[1;33m=\u001b[0m\u001b[0mtimeout\u001b[0m\u001b[1;33m)\u001b[0m\u001b[1;33m\u001b[0m\u001b[1;33m\u001b[0m\u001b[0m\n\u001b[0m\u001b[0;32m    543\u001b[0m         \u001b[1;32mexcept\u001b[0m \u001b[0mCfTimeoutError\u001b[0m \u001b[1;32mas\u001b[0m \u001b[0me\u001b[0m\u001b[1;33m:\u001b[0m\u001b[1;33m\u001b[0m\u001b[1;33m\u001b[0m\u001b[0m\n\u001b[0;32m    544\u001b[0m             \u001b[1;32mraise\u001b[0m \u001b[0mTimeoutError\u001b[0m \u001b[1;32mfrom\u001b[0m \u001b[0me\u001b[0m\u001b[1;33m\u001b[0m\u001b[1;33m\u001b[0m\u001b[0m\n",
      "\u001b[1;32mc:\\users\\пк\\appdata\\local\\programs\\python\\python39\\lib\\concurrent\\futures\\_base.py\u001b[0m in \u001b[0;36mresult\u001b[1;34m(self, timeout)\u001b[0m\n\u001b[0;32m    438\u001b[0m                 \u001b[1;32mraise\u001b[0m \u001b[0mCancelledError\u001b[0m\u001b[1;33m(\u001b[0m\u001b[1;33m)\u001b[0m\u001b[1;33m\u001b[0m\u001b[1;33m\u001b[0m\u001b[0m\n\u001b[0;32m    439\u001b[0m             \u001b[1;32melif\u001b[0m \u001b[0mself\u001b[0m\u001b[1;33m.\u001b[0m\u001b[0m_state\u001b[0m \u001b[1;33m==\u001b[0m \u001b[0mFINISHED\u001b[0m\u001b[1;33m:\u001b[0m\u001b[1;33m\u001b[0m\u001b[1;33m\u001b[0m\u001b[0m\n\u001b[1;32m--> 440\u001b[1;33m                 \u001b[1;32mreturn\u001b[0m \u001b[0mself\u001b[0m\u001b[1;33m.\u001b[0m\u001b[0m__get_result\u001b[0m\u001b[1;33m(\u001b[0m\u001b[1;33m)\u001b[0m\u001b[1;33m\u001b[0m\u001b[1;33m\u001b[0m\u001b[0m\n\u001b[0m\u001b[0;32m    441\u001b[0m             \u001b[1;32melse\u001b[0m\u001b[1;33m:\u001b[0m\u001b[1;33m\u001b[0m\u001b[1;33m\u001b[0m\u001b[0m\n\u001b[0;32m    442\u001b[0m                 \u001b[1;32mraise\u001b[0m \u001b[0mTimeoutError\u001b[0m\u001b[1;33m(\u001b[0m\u001b[1;33m)\u001b[0m\u001b[1;33m\u001b[0m\u001b[1;33m\u001b[0m\u001b[0m\n",
      "\u001b[1;32mc:\\users\\пк\\appdata\\local\\programs\\python\\python39\\lib\\concurrent\\futures\\_base.py\u001b[0m in \u001b[0;36m__get_result\u001b[1;34m(self)\u001b[0m\n\u001b[0;32m    387\u001b[0m     \u001b[1;32mdef\u001b[0m \u001b[0m__get_result\u001b[0m\u001b[1;33m(\u001b[0m\u001b[0mself\u001b[0m\u001b[1;33m)\u001b[0m\u001b[1;33m:\u001b[0m\u001b[1;33m\u001b[0m\u001b[1;33m\u001b[0m\u001b[0m\n\u001b[0;32m    388\u001b[0m         \u001b[1;32mif\u001b[0m \u001b[0mself\u001b[0m\u001b[1;33m.\u001b[0m\u001b[0m_exception\u001b[0m\u001b[1;33m:\u001b[0m\u001b[1;33m\u001b[0m\u001b[1;33m\u001b[0m\u001b[0m\n\u001b[1;32m--> 389\u001b[1;33m             \u001b[1;32mraise\u001b[0m \u001b[0mself\u001b[0m\u001b[1;33m.\u001b[0m\u001b[0m_exception\u001b[0m\u001b[1;33m\u001b[0m\u001b[1;33m\u001b[0m\u001b[0m\n\u001b[0m\u001b[0;32m    390\u001b[0m         \u001b[1;32melse\u001b[0m\u001b[1;33m:\u001b[0m\u001b[1;33m\u001b[0m\u001b[1;33m\u001b[0m\u001b[0m\n\u001b[0;32m    391\u001b[0m             \u001b[1;32mreturn\u001b[0m \u001b[0mself\u001b[0m\u001b[1;33m.\u001b[0m\u001b[0m_result\u001b[0m\u001b[1;33m\u001b[0m\u001b[1;33m\u001b[0m\u001b[0m\n",
      "\u001b[1;31mValueError\u001b[0m: Invalid parameter solver for estimator RandomForestRegressor(random_state=42). Check the list of available parameters with `estimator.get_params().keys()`."
     ]
    }
   ],
   "source": [
    "rrf.fit(X_train_rf, y_train_rf)"
   ]
  },
  {
   "cell_type": "markdown",
   "id": "medical-portugal",
   "metadata": {},
   "source": [
    "#### Grid Search"
   ]
  },
  {
   "cell_type": "code",
   "execution_count": 604,
   "id": "killing-final",
   "metadata": {},
   "outputs": [],
   "source": [
    "params = {'n_estimators':range(100, 1100, 100), \n",
    "          'max_depth':range(6, 19, 2),\n",
    "         }"
   ]
  },
  {
   "cell_type": "code",
   "execution_count": 605,
   "id": "broad-exposure",
   "metadata": {},
   "outputs": [],
   "source": [
    "gsr = GridSearchCV(rf_model\n",
    "                   , params\n",
    "                   , scoring='r2' # selected metric for model estimation \n",
    "                   , cv=KFold(n_splits=5,   #amount of folds in cross-validation\n",
    "                              random_state=40, \n",
    "                              shuffle=True\n",
    "                             )\n",
    "                   , n_jobs=-1\n",
    "                   #, return_train_score=True\n",
    "                  )"
   ]
  },
  {
   "cell_type": "code",
   "execution_count": 606,
   "id": "pregnant-cargo",
   "metadata": {},
   "outputs": [
    {
     "name": "stdout",
     "output_type": "stream",
     "text": [
      "Wall time: 33min 20s\n"
     ]
    },
    {
     "data": {
      "text/plain": [
       "GridSearchCV(cv=KFold(n_splits=5, random_state=40, shuffle=True),\n",
       "             estimator=RandomForestRegressor(random_state=42), n_jobs=-1,\n",
       "             param_grid={'max_depth': range(6, 19, 2),\n",
       "                         'n_estimators': range(100, 1100, 100)},\n",
       "             scoring='r2')"
      ]
     },
     "execution_count": 606,
     "metadata": {},
     "output_type": "execute_result"
    }
   ],
   "source": [
    "%%time\n",
    "gsr.fit(X_train_rf, y_train_rf) "
   ]
  },
  {
   "cell_type": "markdown",
   "id": "announced-colorado",
   "metadata": {},
   "source": [
    "**Random Forest metaparameters which was determined as the best**"
   ]
  },
  {
   "cell_type": "code",
   "execution_count": 607,
   "id": "thousand-wellington",
   "metadata": {},
   "outputs": [
    {
     "data": {
      "text/plain": [
       "{'max_depth': 12, 'n_estimators': 1000}"
      ]
     },
     "execution_count": 607,
     "metadata": {},
     "output_type": "execute_result"
    }
   ],
   "source": [
    "gsr.best_params_"
   ]
  },
  {
   "cell_type": "markdown",
   "id": "cosmetic-fiction",
   "metadata": {},
   "source": [
    "According to grid search beast params are: {'max_depth': 15, 'n_estimators': 500}"
   ]
  },
  {
   "cell_type": "code",
   "execution_count": 608,
   "id": "unlimited-geneva",
   "metadata": {},
   "outputs": [
    {
     "data": {
      "text/plain": [
       "0.7414330335653329"
      ]
     },
     "execution_count": 608,
     "metadata": {},
     "output_type": "execute_result"
    }
   ],
   "source": [
    "gsr.best_score_"
   ]
  },
  {
   "cell_type": "code",
   "execution_count": 609,
   "id": "arbitrary-durham",
   "metadata": {},
   "outputs": [],
   "source": [
    "best_rf_model = gsr.best_estimator_"
   ]
  },
  {
   "cell_type": "markdown",
   "id": "straight-opening",
   "metadata": {},
   "source": [
    "**Applying of selected model to training dataset**"
   ]
  },
  {
   "cell_type": "code",
   "execution_count": 610,
   "id": "fifty-article",
   "metadata": {
    "scrolled": true
   },
   "outputs": [],
   "source": [
    "y_pred_rf = best_rf_model.predict(X_train_rf)"
   ]
  },
  {
   "cell_type": "markdown",
   "id": "progressive-offense",
   "metadata": {},
   "source": [
    "**Calculation of metrics for train dataset**"
   ]
  },
  {
   "cell_type": "code",
   "execution_count": 611,
   "id": "pressing-pressing",
   "metadata": {},
   "outputs": [
    {
     "data": {
      "text/plain": [
       "644173808.8207065"
      ]
     },
     "execution_count": 611,
     "metadata": {},
     "output_type": "execute_result"
    }
   ],
   "source": [
    "mean_squared_error(y_train_rf, y_pred_rf)"
   ]
  },
  {
   "cell_type": "code",
   "execution_count": 612,
   "id": "suburban-determination",
   "metadata": {},
   "outputs": [
    {
     "data": {
      "text/plain": [
       "16905.037428445667"
      ]
     },
     "execution_count": 612,
     "metadata": {},
     "output_type": "execute_result"
    }
   ],
   "source": [
    "mean_absolute_error(y_train_rf, y_pred_rf)"
   ]
  },
  {
   "cell_type": "code",
   "execution_count": 613,
   "id": "cheap-mathematics",
   "metadata": {
    "scrolled": true
   },
   "outputs": [
    {
     "data": {
      "text/plain": [
       "0.9253891735231351"
      ]
     },
     "execution_count": 613,
     "metadata": {},
     "output_type": "execute_result"
    }
   ],
   "source": [
    "r2_score(y_train_rf, y_pred_rf)"
   ]
  },
  {
   "cell_type": "markdown",
   "id": "logical-boutique",
   "metadata": {},
   "source": [
    "**Prediction for test dataset**"
   ]
  },
  {
   "cell_type": "code",
   "execution_count": 374,
   "id": "conscious-accounting",
   "metadata": {},
   "outputs": [],
   "source": [
    "y_pred_rf_test = best_rf_model.predict(X_test_rf)"
   ]
  },
  {
   "cell_type": "code",
   "execution_count": 375,
   "id": "russian-heavy",
   "metadata": {},
   "outputs": [
    {
     "data": {
      "text/plain": [
       "2334583973.783708"
      ]
     },
     "execution_count": 375,
     "metadata": {},
     "output_type": "execute_result"
    }
   ],
   "source": [
    "rf_mean_sq_error = mean_squared_error(y_test_rf, y_pred_rf_test)\n",
    "rf_mean_sq_error"
   ]
  },
  {
   "cell_type": "code",
   "execution_count": 376,
   "id": "level-yield",
   "metadata": {},
   "outputs": [
    {
     "data": {
      "text/plain": [
       "28130.315163599913"
      ]
     },
     "execution_count": 376,
     "metadata": {},
     "output_type": "execute_result"
    }
   ],
   "source": [
    "rf_mean_abs_error = mean_absolute_error(y_test_rf, y_pred_rf_test)\n",
    "rf_mean_abs_error"
   ]
  },
  {
   "cell_type": "code",
   "execution_count": 377,
   "id": "whole-addition",
   "metadata": {},
   "outputs": [
    {
     "data": {
      "text/plain": [
       "0.7285921333891963"
      ]
     },
     "execution_count": 377,
     "metadata": {},
     "output_type": "execute_result"
    }
   ],
   "source": [
    "rf_mean_r2 = r2_score(y_test_rf, y_pred_rf_test)\n",
    "rf_mean_r2"
   ]
  },
  {
   "cell_type": "code",
   "execution_count": 378,
   "id": "valid-plymouth",
   "metadata": {},
   "outputs": [],
   "source": [
    "df_res = pd.DataFrame([['Random  Forest','Yes',rf_mean_r2,rf_mean_abs_error,rf_mean_sq_error]], columns = result.columns)\n",
    "result = result.append(df_res)"
   ]
  },
  {
   "cell_type": "code",
   "execution_count": 379,
   "id": "laden-gothic",
   "metadata": {},
   "outputs": [
    {
     "name": "stdout",
     "output_type": "stream",
     "text": [
      "R2:\t0.729\n",
      "RMSE:\t48317.533\n",
      "MSE:\t2334583973.784\n"
     ]
    },
    {
     "data": {
      "image/png": "[encoded data removed]",
      "text/plain": [
       "<Figure size 576x576 with 1 Axes>"
      ]
     },
     "metadata": {
      "needs_background": "light"
     },
     "output_type": "display_data"
    }
   ],
   "source": [
    "evaluate_preds(y_test_rf, y_pred_rf_test)"
   ]
  },
  {
   "cell_type": "code",
   "execution_count": 380,
   "id": "golden-interpretation",
   "metadata": {
    "scrolled": true
   },
   "outputs": [
    {
     "data": {
      "text/plain": [
       "array([0.0299339 , 0.42255737, 0.03150492, 0.01675076, 0.01918223,\n",
       "       0.01566925, 0.02433015, 0.01500456, 0.01843774, 0.02137431,\n",
       "       0.02272055, 0.01504365, 0.00580018, 0.00774651, 0.33394392])"
      ]
     },
     "execution_count": 380,
     "metadata": {},
     "output_type": "execute_result"
    }
   ],
   "source": [
    "best_rf_model.feature_importances_"
   ]
  },
  {
   "cell_type": "markdown",
   "id": "received-amount",
   "metadata": {},
   "source": [
    "**Feature Importances for test dataset**"
   ]
  },
  {
   "cell_type": "code",
   "execution_count": null,
   "id": "dimensional-independence",
   "metadata": {},
   "outputs": [],
   "source": [
    "feature_importances_df = pd.DataFrame(zip(X_train_rf.columns, \n",
    "                                       best_rf_model.feature_importances_), \n",
    "                                   columns=['feature_name', 'importance'])\n",
    "\n",
    "feature_importances_df.sort_values(by='importance', ascending=False, inplace=True)"
   ]
  },
  {
   "cell_type": "code",
   "execution_count": null,
   "id": "mechanical-workplace",
   "metadata": {},
   "outputs": [],
   "source": [
    "feature_importances_df"
   ]
  },
  {
   "cell_type": "code",
   "execution_count": null,
   "id": "secret-intro",
   "metadata": {
    "scrolled": true
   },
   "outputs": [],
   "source": [
    "f, ax = plt.subplots(figsize=(4, 4))\n",
    "sns.barplot(y=feature_importances_df.feature_name, x=feature_importances_df.importance)\n",
    "\n",
    "plt.xlabel('Feature importance')\n",
    "plt.ylabel('Features')\n",
    "plt.title(\"the most important features\")\n",
    "plt.show()"
   ]
  },
  {
   "cell_type": "markdown",
   "id": "different-nerve",
   "metadata": {},
   "source": [
    "**Prediction for whole dataset**"
   ]
  },
  {
   "cell_type": "code",
   "execution_count": 381,
   "id": "ahead-gabriel",
   "metadata": {},
   "outputs": [],
   "source": [
    "y_pred_rf = best_rf_model.predict(X_rf)"
   ]
  },
  {
   "cell_type": "code",
   "execution_count": 382,
   "id": "patent-prime",
   "metadata": {
    "scrolled": false
   },
   "outputs": [
    {
     "name": "stdout",
     "output_type": "stream",
     "text": [
      "R2:\t0.882\n",
      "RMSE:\t31946.979\n",
      "MSE:\t1020609480.8\n"
     ]
    },
    {
     "data": {
      "image/png": "[encoded data removed]",
      "text/plain": [
       "<Figure size 576x576 with 1 Axes>"
      ]
     },
     "metadata": {
      "needs_background": "light"
     },
     "output_type": "display_data"
    }
   ],
   "source": [
    "evaluate_preds(y_rf, y_pred_rf)"
   ]
  },
  {
   "cell_type": "markdown",
   "id": "short-restoration",
   "metadata": {},
   "source": [
    "**Model Validation**"
   ]
  },
  {
   "cell_type": "code",
   "execution_count": 384,
   "id": "municipal-czech",
   "metadata": {},
   "outputs": [],
   "source": [
    "df_real_rf = pd.read_csv(\"D:/Learning/GeekBrains/numpy and pandas/test.csv\", index_col='Id')"
   ]
  },
  {
   "cell_type": "markdown",
   "id": "unlimited-apollo",
   "metadata": {},
   "source": [
    "**Applying changes to validation model**"
   ]
  },
  {
   "cell_type": "code",
   "execution_count": 385,
   "id": "reserved-placement",
   "metadata": {},
   "outputs": [],
   "source": [
    "df_real_rf = dp.data_clearing (df_real_rf)"
   ]
  },
  {
   "cell_type": "code",
   "execution_count": 386,
   "id": "pleased-drill",
   "metadata": {},
   "outputs": [],
   "source": [
    "df_real_rf = dp.null_populating_hc(df_real_rf)"
   ]
  },
  {
   "cell_type": "code",
   "execution_count": 387,
   "id": "spoken-tracker",
   "metadata": {},
   "outputs": [],
   "source": [
    "df_real_rf = dp.null_populating_ls(df_real_rf)"
   ]
  },
  {
   "cell_type": "code",
   "execution_count": 388,
   "id": "through-proportion",
   "metadata": {},
   "outputs": [],
   "source": [
    "df_real_rf = dp.district_id_processing(df_real_rf)"
   ]
  },
  {
   "cell_type": "code",
   "execution_count": 389,
   "id": "practical-middle",
   "metadata": {},
   "outputs": [
    {
     "data": {
      "text/html": [
       "<div>\n",
       "<style scoped>\n",
       "    .dataframe tbody tr th:only-of-type {\n",
       "        vertical-align: middle;\n",
       "    }\n",
       "\n",
       "    .dataframe tbody tr th {\n",
       "        vertical-align: top;\n",
       "    }\n",
       "\n",
       "    .dataframe thead th {\n",
       "        text-align: right;\n",
       "    }\n",
       "</style>\n",
       "<table border=\"1\" class=\"dataframe\">\n",
       "  <thead>\n",
       "    <tr style=\"text-align: right;\">\n",
       "      <th></th>\n",
       "      <th>DistrictId</th>\n",
       "      <th>Rooms</th>\n",
       "      <th>Square</th>\n",
       "      <th>LifeSquare</th>\n",
       "      <th>KitchenSquare</th>\n",
       "      <th>Floor</th>\n",
       "      <th>HouseFloor</th>\n",
       "      <th>HouseYear</th>\n",
       "      <th>Ecology_1</th>\n",
       "      <th>Ecology_2</th>\n",
       "      <th>Ecology_3</th>\n",
       "      <th>Social_1</th>\n",
       "      <th>Social_2</th>\n",
       "      <th>Social_3</th>\n",
       "      <th>Healthcare_1</th>\n",
       "      <th>Helthcare_2</th>\n",
       "      <th>Shops_1</th>\n",
       "      <th>Shops_2</th>\n",
       "      <th>hl_pd</th>\n",
       "      <th>Avg_Price_per_district</th>\n",
       "    </tr>\n",
       "    <tr>\n",
       "      <th>Id</th>\n",
       "      <th></th>\n",
       "      <th></th>\n",
       "      <th></th>\n",
       "      <th></th>\n",
       "      <th></th>\n",
       "      <th></th>\n",
       "      <th></th>\n",
       "      <th></th>\n",
       "      <th></th>\n",
       "      <th></th>\n",
       "      <th></th>\n",
       "      <th></th>\n",
       "      <th></th>\n",
       "      <th></th>\n",
       "      <th></th>\n",
       "      <th></th>\n",
       "      <th></th>\n",
       "      <th></th>\n",
       "      <th></th>\n",
       "      <th></th>\n",
       "    </tr>\n",
       "  </thead>\n",
       "  <tbody>\n",
       "    <tr>\n",
       "      <th>725</th>\n",
       "      <td>58</td>\n",
       "      <td>2.0</td>\n",
       "      <td>49.882643</td>\n",
       "      <td>33.432782</td>\n",
       "      <td>6.0</td>\n",
       "      <td>6.0</td>\n",
       "      <td>14.0</td>\n",
       "      <td>1972</td>\n",
       "      <td>0.310199</td>\n",
       "      <td>B</td>\n",
       "      <td>B</td>\n",
       "      <td>11</td>\n",
       "      <td>2748</td>\n",
       "      <td>1</td>\n",
       "      <td>58</td>\n",
       "      <td>0</td>\n",
       "      <td>0</td>\n",
       "      <td>B</td>\n",
       "      <td>1084.0</td>\n",
       "      <td>162287.0</td>\n",
       "    </tr>\n",
       "    <tr>\n",
       "      <th>15856</th>\n",
       "      <td>74</td>\n",
       "      <td>2.0</td>\n",
       "      <td>69.263183</td>\n",
       "      <td>63.263183</td>\n",
       "      <td>3.0</td>\n",
       "      <td>1.0</td>\n",
       "      <td>1.0</td>\n",
       "      <td>1977</td>\n",
       "      <td>0.075779</td>\n",
       "      <td>B</td>\n",
       "      <td>B</td>\n",
       "      <td>6</td>\n",
       "      <td>1437</td>\n",
       "      <td>3</td>\n",
       "      <td>74</td>\n",
       "      <td>0</td>\n",
       "      <td>2</td>\n",
       "      <td>B</td>\n",
       "      <td>990.0</td>\n",
       "      <td>210696.0</td>\n",
       "    </tr>\n",
       "    <tr>\n",
       "      <th>5480</th>\n",
       "      <td>190</td>\n",
       "      <td>1.0</td>\n",
       "      <td>13.597819</td>\n",
       "      <td>-1.402181</td>\n",
       "      <td>12.0</td>\n",
       "      <td>2.0</td>\n",
       "      <td>5.0</td>\n",
       "      <td>1909</td>\n",
       "      <td>0.000000</td>\n",
       "      <td>B</td>\n",
       "      <td>B</td>\n",
       "      <td>30</td>\n",
       "      <td>7538</td>\n",
       "      <td>87</td>\n",
       "      <td>190</td>\n",
       "      <td>5</td>\n",
       "      <td>5</td>\n",
       "      <td>B</td>\n",
       "      <td>4702.0</td>\n",
       "      <td>471967.0</td>\n",
       "    </tr>\n",
       "    <tr>\n",
       "      <th>15664</th>\n",
       "      <td>47</td>\n",
       "      <td>2.0</td>\n",
       "      <td>73.046609</td>\n",
       "      <td>51.940842</td>\n",
       "      <td>9.0</td>\n",
       "      <td>22.0</td>\n",
       "      <td>22.0</td>\n",
       "      <td>2007</td>\n",
       "      <td>0.101872</td>\n",
       "      <td>B</td>\n",
       "      <td>B</td>\n",
       "      <td>23</td>\n",
       "      <td>4583</td>\n",
       "      <td>3</td>\n",
       "      <td>47</td>\n",
       "      <td>3</td>\n",
       "      <td>3</td>\n",
       "      <td>B</td>\n",
       "      <td>240.0</td>\n",
       "      <td>213626.0</td>\n",
       "    </tr>\n",
       "    <tr>\n",
       "      <th>14275</th>\n",
       "      <td>27</td>\n",
       "      <td>1.0</td>\n",
       "      <td>47.527111</td>\n",
       "      <td>43.387569</td>\n",
       "      <td>3.0</td>\n",
       "      <td>17.0</td>\n",
       "      <td>17.0</td>\n",
       "      <td>2017</td>\n",
       "      <td>0.072158</td>\n",
       "      <td>B</td>\n",
       "      <td>B</td>\n",
       "      <td>2</td>\n",
       "      <td>629</td>\n",
       "      <td>1</td>\n",
       "      <td>27</td>\n",
       "      <td>0</td>\n",
       "      <td>0</td>\n",
       "      <td>A</td>\n",
       "      <td>240.0</td>\n",
       "      <td>156046.0</td>\n",
       "    </tr>\n",
       "  </tbody>\n",
       "</table>\n",
       "</div>"
      ],
      "text/plain": [
       "       DistrictId  Rooms     Square  LifeSquare  KitchenSquare  Floor  \\\n",
       "Id                                                                      \n",
       "725            58    2.0  49.882643   33.432782            6.0    6.0   \n",
       "15856          74    2.0  69.263183   63.263183            3.0    1.0   \n",
       "5480          190    1.0  13.597819   -1.402181           12.0    2.0   \n",
       "15664          47    2.0  73.046609   51.940842            9.0   22.0   \n",
       "14275          27    1.0  47.527111   43.387569            3.0   17.0   \n",
       "\n",
       "       HouseFloor  HouseYear  Ecology_1 Ecology_2 Ecology_3  Social_1  \\\n",
       "Id                                                                      \n",
       "725          14.0       1972   0.310199         B         B        11   \n",
       "15856         1.0       1977   0.075779         B         B         6   \n",
       "5480          5.0       1909   0.000000         B         B        30   \n",
       "15664        22.0       2007   0.101872         B         B        23   \n",
       "14275        17.0       2017   0.072158         B         B         2   \n",
       "\n",
       "       Social_2  Social_3  Healthcare_1  Helthcare_2  Shops_1 Shops_2   hl_pd  \\\n",
       "Id                                                                              \n",
       "725        2748         1            58            0        0       B  1084.0   \n",
       "15856      1437         3            74            0        2       B   990.0   \n",
       "5480       7538        87           190            5        5       B  4702.0   \n",
       "15664      4583         3            47            3        3       B   240.0   \n",
       "14275       629         1            27            0        0       A   240.0   \n",
       "\n",
       "       Avg_Price_per_district  \n",
       "Id                             \n",
       "725                  162287.0  \n",
       "15856                210696.0  \n",
       "5480                 471967.0  \n",
       "15664                213626.0  \n",
       "14275                156046.0  "
      ]
     },
     "execution_count": 389,
     "metadata": {},
     "output_type": "execute_result"
    }
   ],
   "source": [
    "df_real_rf.head()"
   ]
  },
  {
   "cell_type": "code",
   "execution_count": 390,
   "id": "studied-lafayette",
   "metadata": {},
   "outputs": [],
   "source": [
    "df_real_rf = df_real_rf.drop('hl_pd', axis = 1)\n",
    "df_real_rf = df_real_rf.drop('DistrictId', axis = 1)"
   ]
  },
  {
   "cell_type": "code",
   "execution_count": 391,
   "id": "smart-sound",
   "metadata": {},
   "outputs": [],
   "source": [
    "X_rl_rf = df_real_rf.copy()"
   ]
  },
  {
   "cell_type": "code",
   "execution_count": 392,
   "id": "comprehensive-kelly",
   "metadata": {},
   "outputs": [],
   "source": [
    "X_rl_rf = X_rl_rf.drop(['Ecology_2','Ecology_3', 'Shops_2'], axis = 1)"
   ]
  },
  {
   "cell_type": "code",
   "execution_count": 393,
   "id": "multiple-equation",
   "metadata": {},
   "outputs": [],
   "source": [
    "y_pred_rl_rf = best_rf_model.predict(X_rl_rf)"
   ]
  },
  {
   "cell_type": "code",
   "execution_count": 394,
   "id": "standing-trainer",
   "metadata": {},
   "outputs": [
    {
     "data": {
      "text/plain": [
       "array([161966.89136185, 199585.22376551, 294042.79781354, ...,\n",
       "       294110.81800431, 187665.32493007, 174021.9805272 ])"
      ]
     },
     "execution_count": 394,
     "metadata": {},
     "output_type": "execute_result"
    }
   ],
   "source": [
    "y_pred_rl_rf"
   ]
  },
  {
   "cell_type": "code",
   "execution_count": 395,
   "id": "human-brooklyn",
   "metadata": {},
   "outputs": [],
   "source": [
    "res_rl_rf = pd.Series(y_pred_rl_rf)"
   ]
  },
  {
   "cell_type": "code",
   "execution_count": 396,
   "id": "nominated-contents",
   "metadata": {},
   "outputs": [],
   "source": [
    "submission_rl_rf = X_rl_rf.index"
   ]
  },
  {
   "cell_type": "code",
   "execution_count": 397,
   "id": "seasonal-ranking",
   "metadata": {},
   "outputs": [],
   "source": [
    "frame_rl_rf = {'Id':submission_rl_rf, 'Price': res_rl_rf}"
   ]
  },
  {
   "cell_type": "code",
   "execution_count": 398,
   "id": "miniature-works",
   "metadata": {},
   "outputs": [],
   "source": [
    "submission_result_rl_rf = pd.DataFrame(frame_rl_rf)"
   ]
  },
  {
   "cell_type": "code",
   "execution_count": 399,
   "id": "signal-racing",
   "metadata": {},
   "outputs": [
    {
     "data": {
      "text/html": [
       "<div>\n",
       "<style scoped>\n",
       "    .dataframe tbody tr th:only-of-type {\n",
       "        vertical-align: middle;\n",
       "    }\n",
       "\n",
       "    .dataframe tbody tr th {\n",
       "        vertical-align: top;\n",
       "    }\n",
       "\n",
       "    .dataframe thead th {\n",
       "        text-align: right;\n",
       "    }\n",
       "</style>\n",
       "<table border=\"1\" class=\"dataframe\">\n",
       "  <thead>\n",
       "    <tr style=\"text-align: right;\">\n",
       "      <th></th>\n",
       "      <th>Id</th>\n",
       "      <th>Price</th>\n",
       "    </tr>\n",
       "  </thead>\n",
       "  <tbody>\n",
       "    <tr>\n",
       "      <th>0</th>\n",
       "      <td>725</td>\n",
       "      <td>161966.891362</td>\n",
       "    </tr>\n",
       "    <tr>\n",
       "      <th>1</th>\n",
       "      <td>15856</td>\n",
       "      <td>199585.223766</td>\n",
       "    </tr>\n",
       "    <tr>\n",
       "      <th>2</th>\n",
       "      <td>5480</td>\n",
       "      <td>294042.797814</td>\n",
       "    </tr>\n",
       "    <tr>\n",
       "      <th>3</th>\n",
       "      <td>15664</td>\n",
       "      <td>329378.011058</td>\n",
       "    </tr>\n",
       "    <tr>\n",
       "      <th>4</th>\n",
       "      <td>14275</td>\n",
       "      <td>147842.406104</td>\n",
       "    </tr>\n",
       "  </tbody>\n",
       "</table>\n",
       "</div>"
      ],
      "text/plain": [
       "      Id          Price\n",
       "0    725  161966.891362\n",
       "1  15856  199585.223766\n",
       "2   5480  294042.797814\n",
       "3  15664  329378.011058\n",
       "4  14275  147842.406104"
      ]
     },
     "execution_count": 399,
     "metadata": {},
     "output_type": "execute_result"
    }
   ],
   "source": [
    "submission_result_rl_rf.head()"
   ]
  },
  {
   "cell_type": "code",
   "execution_count": 400,
   "id": "contrary-census",
   "metadata": {},
   "outputs": [
    {
     "data": {
      "text/plain": [
       "(5000, 2)"
      ]
     },
     "execution_count": 400,
     "metadata": {},
     "output_type": "execute_result"
    }
   ],
   "source": [
    "submission_result_rl_rf.shape"
   ]
  },
  {
   "cell_type": "code",
   "execution_count": 401,
   "id": "inside-trailer",
   "metadata": {},
   "outputs": [],
   "source": [
    "submission_result_rl_rf.to_csv('D:/Learning/GeekBrains/numpy and pandas/result.csv', index = False)"
   ]
  },
  {
   "cell_type": "markdown",
   "id": "tutorial-knock",
   "metadata": {},
   "source": [
    "**Conclusion about random forest model:**\n",
    "\n",
    "Random forest significantly increases prediction value relatively Linear model.  "
   ]
  },
  {
   "cell_type": "markdown",
   "id": "vanilla-entity",
   "metadata": {},
   "source": [
    "## Gradient Boosting"
   ]
  },
  {
   "cell_type": "markdown",
   "id": "adopted-transparency",
   "metadata": {},
   "source": [
    "Gradient boosting model applying"
   ]
  },
  {
   "cell_type": "code",
   "execution_count": 614,
   "id": "quantitative-healing",
   "metadata": {},
   "outputs": [],
   "source": [
    "X_gb = df_fill.copy()"
   ]
  },
  {
   "cell_type": "code",
   "execution_count": 615,
   "id": "eastern-welsh",
   "metadata": {
    "scrolled": true
   },
   "outputs": [
    {
     "data": {
      "text/html": [
       "<div>\n",
       "<style scoped>\n",
       "    .dataframe tbody tr th:only-of-type {\n",
       "        vertical-align: middle;\n",
       "    }\n",
       "\n",
       "    .dataframe tbody tr th {\n",
       "        vertical-align: top;\n",
       "    }\n",
       "\n",
       "    .dataframe thead th {\n",
       "        text-align: right;\n",
       "    }\n",
       "</style>\n",
       "<table border=\"1\" class=\"dataframe\">\n",
       "  <thead>\n",
       "    <tr style=\"text-align: right;\">\n",
       "      <th></th>\n",
       "      <th>DistrictId</th>\n",
       "      <th>Rooms</th>\n",
       "      <th>Square</th>\n",
       "      <th>LifeSquare</th>\n",
       "      <th>KitchenSquare</th>\n",
       "      <th>Floor</th>\n",
       "      <th>HouseFloor</th>\n",
       "      <th>HouseYear</th>\n",
       "      <th>Ecology_1</th>\n",
       "      <th>Social_1</th>\n",
       "      <th>...</th>\n",
       "      <th>Shops_1</th>\n",
       "      <th>Price</th>\n",
       "      <th>hl_pd</th>\n",
       "      <th>Avg_Price_per_district</th>\n",
       "      <th>Ecology_2_A</th>\n",
       "      <th>Ecology_2_B</th>\n",
       "      <th>Ecology_3_A</th>\n",
       "      <th>Ecology_3_B</th>\n",
       "      <th>Shops_2_A</th>\n",
       "      <th>Shops_2_B</th>\n",
       "    </tr>\n",
       "    <tr>\n",
       "      <th>Id</th>\n",
       "      <th></th>\n",
       "      <th></th>\n",
       "      <th></th>\n",
       "      <th></th>\n",
       "      <th></th>\n",
       "      <th></th>\n",
       "      <th></th>\n",
       "      <th></th>\n",
       "      <th></th>\n",
       "      <th></th>\n",
       "      <th></th>\n",
       "      <th></th>\n",
       "      <th></th>\n",
       "      <th></th>\n",
       "      <th></th>\n",
       "      <th></th>\n",
       "      <th></th>\n",
       "      <th></th>\n",
       "      <th></th>\n",
       "      <th></th>\n",
       "      <th></th>\n",
       "    </tr>\n",
       "  </thead>\n",
       "  <tbody>\n",
       "    <tr>\n",
       "      <th>14038</th>\n",
       "      <td>35</td>\n",
       "      <td>2.0</td>\n",
       "      <td>47.981561</td>\n",
       "      <td>29.442751</td>\n",
       "      <td>6.0</td>\n",
       "      <td>7.0</td>\n",
       "      <td>9.0</td>\n",
       "      <td>1969.0</td>\n",
       "      <td>0.089040</td>\n",
       "      <td>33</td>\n",
       "      <td>...</td>\n",
       "      <td>11</td>\n",
       "      <td>184966.930730</td>\n",
       "      <td>770.0</td>\n",
       "      <td>219720.0</td>\n",
       "      <td>0</td>\n",
       "      <td>1</td>\n",
       "      <td>0</td>\n",
       "      <td>1</td>\n",
       "      <td>0</td>\n",
       "      <td>1</td>\n",
       "    </tr>\n",
       "    <tr>\n",
       "      <th>15053</th>\n",
       "      <td>41</td>\n",
       "      <td>3.0</td>\n",
       "      <td>65.683640</td>\n",
       "      <td>40.049543</td>\n",
       "      <td>8.0</td>\n",
       "      <td>7.0</td>\n",
       "      <td>9.0</td>\n",
       "      <td>1978.0</td>\n",
       "      <td>0.000070</td>\n",
       "      <td>46</td>\n",
       "      <td>...</td>\n",
       "      <td>16</td>\n",
       "      <td>300009.450063</td>\n",
       "      <td>320.0</td>\n",
       "      <td>225919.0</td>\n",
       "      <td>0</td>\n",
       "      <td>1</td>\n",
       "      <td>0</td>\n",
       "      <td>1</td>\n",
       "      <td>0</td>\n",
       "      <td>1</td>\n",
       "    </tr>\n",
       "    <tr>\n",
       "      <th>4765</th>\n",
       "      <td>53</td>\n",
       "      <td>2.0</td>\n",
       "      <td>44.947953</td>\n",
       "      <td>29.197612</td>\n",
       "      <td>3.0</td>\n",
       "      <td>8.0</td>\n",
       "      <td>12.0</td>\n",
       "      <td>1968.0</td>\n",
       "      <td>0.049637</td>\n",
       "      <td>34</td>\n",
       "      <td>...</td>\n",
       "      <td>3</td>\n",
       "      <td>220925.908524</td>\n",
       "      <td>229.0</td>\n",
       "      <td>255736.0</td>\n",
       "      <td>0</td>\n",
       "      <td>1</td>\n",
       "      <td>0</td>\n",
       "      <td>1</td>\n",
       "      <td>0</td>\n",
       "      <td>1</td>\n",
       "    </tr>\n",
       "    <tr>\n",
       "      <th>5809</th>\n",
       "      <td>58</td>\n",
       "      <td>2.0</td>\n",
       "      <td>53.352981</td>\n",
       "      <td>41.352981</td>\n",
       "      <td>9.0</td>\n",
       "      <td>8.0</td>\n",
       "      <td>17.0</td>\n",
       "      <td>1977.0</td>\n",
       "      <td>0.437885</td>\n",
       "      <td>23</td>\n",
       "      <td>...</td>\n",
       "      <td>5</td>\n",
       "      <td>175616.227217</td>\n",
       "      <td>1084.0</td>\n",
       "      <td>162287.0</td>\n",
       "      <td>0</td>\n",
       "      <td>1</td>\n",
       "      <td>0</td>\n",
       "      <td>1</td>\n",
       "      <td>0</td>\n",
       "      <td>1</td>\n",
       "    </tr>\n",
       "    <tr>\n",
       "      <th>10783</th>\n",
       "      <td>99</td>\n",
       "      <td>1.0</td>\n",
       "      <td>39.649192</td>\n",
       "      <td>23.776169</td>\n",
       "      <td>7.0</td>\n",
       "      <td>11.0</td>\n",
       "      <td>12.0</td>\n",
       "      <td>1976.0</td>\n",
       "      <td>0.012339</td>\n",
       "      <td>35</td>\n",
       "      <td>...</td>\n",
       "      <td>4</td>\n",
       "      <td>150226.531644</td>\n",
       "      <td>2078.0</td>\n",
       "      <td>184157.0</td>\n",
       "      <td>0</td>\n",
       "      <td>1</td>\n",
       "      <td>0</td>\n",
       "      <td>1</td>\n",
       "      <td>0</td>\n",
       "      <td>1</td>\n",
       "    </tr>\n",
       "  </tbody>\n",
       "</table>\n",
       "<p>5 rows × 24 columns</p>\n",
       "</div>"
      ],
      "text/plain": [
       "       DistrictId  Rooms     Square  LifeSquare  KitchenSquare  Floor  \\\n",
       "Id                                                                      \n",
       "14038          35    2.0  47.981561   29.442751            6.0    7.0   \n",
       "15053          41    3.0  65.683640   40.049543            8.0    7.0   \n",
       "4765           53    2.0  44.947953   29.197612            3.0    8.0   \n",
       "5809           58    2.0  53.352981   41.352981            9.0    8.0   \n",
       "10783          99    1.0  39.649192   23.776169            7.0   11.0   \n",
       "\n",
       "       HouseFloor  HouseYear  Ecology_1  Social_1  ...  Shops_1  \\\n",
       "Id                                                 ...            \n",
       "14038         9.0     1969.0   0.089040        33  ...       11   \n",
       "15053         9.0     1978.0   0.000070        46  ...       16   \n",
       "4765         12.0     1968.0   0.049637        34  ...        3   \n",
       "5809         17.0     1977.0   0.437885        23  ...        5   \n",
       "10783        12.0     1976.0   0.012339        35  ...        4   \n",
       "\n",
       "               Price   hl_pd  Avg_Price_per_district  Ecology_2_A  \\\n",
       "Id                                                                  \n",
       "14038  184966.930730   770.0                219720.0            0   \n",
       "15053  300009.450063   320.0                225919.0            0   \n",
       "4765   220925.908524   229.0                255736.0            0   \n",
       "5809   175616.227217  1084.0                162287.0            0   \n",
       "10783  150226.531644  2078.0                184157.0            0   \n",
       "\n",
       "       Ecology_2_B  Ecology_3_A  Ecology_3_B  Shops_2_A  Shops_2_B  \n",
       "Id                                                                  \n",
       "14038            1            0            1          0          1  \n",
       "15053            1            0            1          0          1  \n",
       "4765             1            0            1          0          1  \n",
       "5809             1            0            1          0          1  \n",
       "10783            1            0            1          0          1  \n",
       "\n",
       "[5 rows x 24 columns]"
      ]
     },
     "execution_count": 615,
     "metadata": {},
     "output_type": "execute_result"
    }
   ],
   "source": [
    "X_gb.head()"
   ]
  },
  {
   "cell_type": "markdown",
   "id": "inside-commons",
   "metadata": {},
   "source": [
    "**Dataset preprocessing.**"
   ]
  },
  {
   "cell_type": "markdown",
   "id": "strategic-horizontal",
   "metadata": {},
   "source": [
    "For validation dataset preprocessign same data will be used as for training datasets."
   ]
  },
  {
   "cell_type": "code",
   "execution_count": 616,
   "id": "actual-jaguar",
   "metadata": {},
   "outputs": [],
   "source": [
    "y_gb = X_gb['Price']"
   ]
  },
  {
   "cell_type": "code",
   "execution_count": 617,
   "id": "intimate-stanford",
   "metadata": {},
   "outputs": [],
   "source": [
    "X_gb = X_gb.drop(['Price'], axis = 1)"
   ]
  },
  {
   "cell_type": "markdown",
   "id": "sunrise-marketing",
   "metadata": {},
   "source": [
    "Splitting training dataset to train and test sub datasets."
   ]
  },
  {
   "cell_type": "code",
   "execution_count": null,
   "id": "latin-prior",
   "metadata": {},
   "outputs": [],
   "source": [
    "#X_gb = X_gb.drop('DistrictId', axis = 1)"
   ]
  },
  {
   "cell_type": "markdown",
   "id": "amino-tongue",
   "metadata": {},
   "source": [
    "Based on experience of work with current dataset, some features can be deleted."
   ]
  },
  {
   "cell_type": "code",
   "execution_count": 406,
   "id": "caroline-focus",
   "metadata": {},
   "outputs": [],
   "source": [
    "X_gb = X_gb.drop(['Ecology_2', 'Ecology_3','Shops_2'], axis = 1)"
   ]
  },
  {
   "cell_type": "code",
   "execution_count": 174,
   "id": "reverse-pocket",
   "metadata": {},
   "outputs": [],
   "source": []
  },
  {
   "cell_type": "markdown",
   "id": "fallen-corruption",
   "metadata": {},
   "source": [
    "Splitting of dataset to training and test."
   ]
  },
  {
   "cell_type": "code",
   "execution_count": 618,
   "id": "resident-boring",
   "metadata": {},
   "outputs": [],
   "source": [
    "X_train_gb, X_test_gb, y_train_gb, y_test_gb = train_test_split(X_gb, y_gb, test_size=0.3, random_state = 44)"
   ]
  },
  {
   "cell_type": "markdown",
   "id": "choice-technician",
   "metadata": {},
   "source": [
    "**Selecting of optimal parameters for dataset.**"
   ]
  },
  {
   "cell_type": "code",
   "execution_count": 619,
   "id": "adverse-priest",
   "metadata": {},
   "outputs": [],
   "source": [
    "gb_model = GradientBoostingRegressor(criterion='mse',\n",
    "                          # min_samples_leaf=10,\n",
    "                          random_state=44,\n",
    "                         # n_estimators=100,\n",
    "                         # max_depth=7\n",
    "                         )"
   ]
  },
  {
   "cell_type": "markdown",
   "id": "ruled-kazakhstan",
   "metadata": {},
   "source": [
    "params = {'n_estimators': range(200, 701, 100), \n",
    "          'max_depth': range(2, 10, 2),\n",
    "         #'min_samples_leaf':[20, 30, 40]                   \n",
    "         }"
   ]
  },
  {
   "cell_type": "code",
   "execution_count": 620,
   "id": "stupid-coral",
   "metadata": {},
   "outputs": [],
   "source": [
    "params = {'n_estimators': range(100, 1001, 50), \n",
    "          'max_depth': range(2, 15, 2)\n",
    "         #'min_samples_leaf':[20, 30, 40]                   \n",
    "         }"
   ]
  },
  {
   "cell_type": "markdown",
   "id": "dietary-journey",
   "metadata": {},
   "source": [
    "Applying of gread search to selecting of the most optimal set of meth-parameters."
   ]
  },
  {
   "cell_type": "code",
   "execution_count": 621,
   "id": "little-local",
   "metadata": {},
   "outputs": [],
   "source": [
    "gs = GridSearchCV(gb_model, params, \n",
    "                  scoring='r2', # r2 score metric \n",
    "                  cv=KFold(n_splits=5,   # k number of fold in cross validation\n",
    "                           random_state=21, \n",
    "                           shuffle=True),\n",
    "                  n_jobs=-1\n",
    "                  )"
   ]
  },
  {
   "cell_type": "code",
   "execution_count": 622,
   "id": "everyday-steps",
   "metadata": {},
   "outputs": [
    {
     "name": "stdout",
     "output_type": "stream",
     "text": [
      "Wall time: 1h 2min 55s\n"
     ]
    },
    {
     "data": {
      "text/plain": [
       "GridSearchCV(cv=KFold(n_splits=5, random_state=21, shuffle=True),\n",
       "             estimator=GradientBoostingRegressor(criterion='mse',\n",
       "                                                 random_state=44),\n",
       "             n_jobs=-1,\n",
       "             param_grid={'max_depth': range(2, 15, 2),\n",
       "                         'n_estimators': range(100, 1001, 50)},\n",
       "             scoring='r2')"
      ]
     },
     "execution_count": 622,
     "metadata": {},
     "output_type": "execute_result"
    }
   ],
   "source": [
    "%%time\n",
    "gs.fit(X_train_gb, y_train_gb)"
   ]
  },
  {
   "cell_type": "code",
   "execution_count": 623,
   "id": "harmful-eligibility",
   "metadata": {},
   "outputs": [
    {
     "data": {
      "text/plain": [
       "{'max_depth': 6, 'n_estimators': 100}"
      ]
     },
     "execution_count": 623,
     "metadata": {},
     "output_type": "execute_result"
    }
   ],
   "source": [
    "gs.best_params_"
   ]
  },
  {
   "cell_type": "markdown",
   "id": "civic-journalist",
   "metadata": {},
   "source": [
    "Best params are {'max_depth': 6, 'n_estimators': 100}"
   ]
  },
  {
   "cell_type": "code",
   "execution_count": 624,
   "id": "amateur-gabriel",
   "metadata": {},
   "outputs": [
    {
     "data": {
      "text/plain": [
       "0.741610990918805"
      ]
     },
     "execution_count": 624,
     "metadata": {},
     "output_type": "execute_result"
    }
   ],
   "source": [
    "gs.best_score_"
   ]
  },
  {
   "cell_type": "code",
   "execution_count": 625,
   "id": "naked-honolulu",
   "metadata": {},
   "outputs": [],
   "source": [
    "best_gb_model = gs.best_estimator_"
   ]
  },
  {
   "cell_type": "code",
   "execution_count": 626,
   "id": "becoming-script",
   "metadata": {},
   "outputs": [],
   "source": [
    "y_pred_gb = best_gb_model.predict(X_test_gb)\n",
    "# evaluate_preds(y_train, y_train_preds)"
   ]
  },
  {
   "cell_type": "markdown",
   "id": "superior-excerpt",
   "metadata": {},
   "source": [
    "**Selected model evaluation**"
   ]
  },
  {
   "cell_type": "code",
   "execution_count": 627,
   "id": "loving-integral",
   "metadata": {
    "scrolled": true
   },
   "outputs": [
    {
     "name": "stdout",
     "output_type": "stream",
     "text": [
      "R2:\t0.766\n",
      "RMSE:\t44911.542\n",
      "MSE:\t2017046567.839\n"
     ]
    },
    {
     "data": {
      "image/png": "[encoded data removed]",
      "text/plain": [
       "<Figure size 576x576 with 1 Axes>"
      ]
     },
     "metadata": {
      "needs_background": "light"
     },
     "output_type": "display_data"
    }
   ],
   "source": [
    "evaluate_preds(np.squeeze(y_test_gb.values), y_pred_gb)"
   ]
  },
  {
   "cell_type": "code",
   "execution_count": 628,
   "id": "czech-turner",
   "metadata": {},
   "outputs": [],
   "source": [
    "y_pred_gb_full = best_gb_model.predict(X_gb)"
   ]
  },
  {
   "cell_type": "code",
   "execution_count": 629,
   "id": "afraid-chaos",
   "metadata": {},
   "outputs": [
    {
     "data": {
      "text/plain": [
       "array([6.96737157e-03, 3.12576409e-02, 4.40550608e-01, 1.99120818e-02,\n",
       "       1.73560164e-02, 7.57719421e-03, 1.62341228e-02, 2.65192636e-02,\n",
       "       1.17890126e-02, 1.53399828e-02, 2.11740929e-02, 2.04714682e-02,\n",
       "       6.50177289e-03, 2.78619850e-03, 6.20416160e-03, 1.02564738e-02,\n",
       "       3.37197616e-01, 1.29358749e-04, 7.77039295e-05, 3.32193670e-04,\n",
       "       1.73592725e-04, 6.96384489e-04, 4.95687947e-04])"
      ]
     },
     "execution_count": 629,
     "metadata": {},
     "output_type": "execute_result"
    }
   ],
   "source": [
    "best_gb_model.feature_importances_"
   ]
  },
  {
   "cell_type": "code",
   "execution_count": 630,
   "id": "proof-reynolds",
   "metadata": {},
   "outputs": [],
   "source": [
    "feature_importances_df = pd.DataFrame(zip(X_train_gb.columns, \n",
    "                                       best_gb_model.feature_importances_), \n",
    "                                   columns=['feature_name', 'importance'])\n",
    "\n",
    "feature_importances_df.sort_values(by='importance', ascending=False, inplace=True)"
   ]
  },
  {
   "cell_type": "code",
   "execution_count": 631,
   "id": "suspected-permit",
   "metadata": {
    "scrolled": true
   },
   "outputs": [
    {
     "data": {
      "image/png": "[encoded data removed]",
      "text/plain": [
       "<Figure size 432x432 with 1 Axes>"
      ]
     },
     "metadata": {
      "needs_background": "light"
     },
     "output_type": "display_data"
    }
   ],
   "source": [
    "f, ax = plt.subplots(figsize=(6, 6))\n",
    "sns.barplot(y=feature_importances_df.feature_name, x=feature_importances_df.importance)\n",
    "\n",
    "plt.xlabel('Важность атрибутов')\n",
    "plt.ylabel('Атрибуты')\n",
    "plt.title(\"Наиболее важные атрибуты\")\n",
    "plt.show()"
   ]
  },
  {
   "cell_type": "code",
   "execution_count": 632,
   "id": "thrown-thinking",
   "metadata": {},
   "outputs": [
    {
     "data": {
      "text/plain": [
       "2017046567.8389218"
      ]
     },
     "execution_count": 632,
     "metadata": {},
     "output_type": "execute_result"
    }
   ],
   "source": [
    "gb_mean_sqe_error = mean_squared_error(y_pred_gb, y_test_gb)\n",
    "gb_mean_sqe_error"
   ]
  },
  {
   "cell_type": "code",
   "execution_count": 633,
   "id": "cutting-incentive",
   "metadata": {},
   "outputs": [
    {
     "data": {
      "text/plain": [
       "26786.875914460677"
      ]
     },
     "execution_count": 633,
     "metadata": {},
     "output_type": "execute_result"
    }
   ],
   "source": [
    "gb_mean_abs_error = mean_absolute_error(y_pred_gb, y_test_gb)\n",
    "gb_mean_abs_error"
   ]
  },
  {
   "cell_type": "code",
   "execution_count": 634,
   "id": "developmental-enhancement",
   "metadata": {},
   "outputs": [
    {
     "data": {
      "text/plain": [
       "0.6906406934432454"
      ]
     },
     "execution_count": 634,
     "metadata": {},
     "output_type": "execute_result"
    }
   ],
   "source": [
    "gb_r2_score = r2_score(y_pred_gb, y_test_gb)\n",
    "gb_r2_score"
   ]
  },
  {
   "cell_type": "code",
   "execution_count": 635,
   "id": "developmental-debate",
   "metadata": {},
   "outputs": [
    {
     "data": {
      "text/plain": [
       "0.8322703463409755"
      ]
     },
     "execution_count": 635,
     "metadata": {},
     "output_type": "execute_result"
    }
   ],
   "source": [
    "r2_score(y_pred_gb_full, y_gb)"
   ]
  },
  {
   "cell_type": "code",
   "execution_count": 636,
   "id": "still-tobacco",
   "metadata": {},
   "outputs": [],
   "source": [
    "df_res = pd.DataFrame([['Gradient Boosting','Yes',gb_r2_score,gb_mean_abs_error,gb_mean_sqe_error]], columns = result.columns)\n",
    "result = result.append(df_res)"
   ]
  },
  {
   "cell_type": "markdown",
   "id": "atmospheric-google",
   "metadata": {},
   "source": [
    "**Validate data  on validation model**"
   ]
  },
  {
   "cell_type": "code",
   "execution_count": 639,
   "id": "planned-smell",
   "metadata": {},
   "outputs": [
    {
     "data": {
      "text/html": [
       "<div>\n",
       "<style scoped>\n",
       "    .dataframe tbody tr th:only-of-type {\n",
       "        vertical-align: middle;\n",
       "    }\n",
       "\n",
       "    .dataframe tbody tr th {\n",
       "        vertical-align: top;\n",
       "    }\n",
       "\n",
       "    .dataframe thead th {\n",
       "        text-align: right;\n",
       "    }\n",
       "</style>\n",
       "<table border=\"1\" class=\"dataframe\">\n",
       "  <thead>\n",
       "    <tr style=\"text-align: right;\">\n",
       "      <th></th>\n",
       "      <th>DistrictId</th>\n",
       "      <th>Rooms</th>\n",
       "      <th>Square</th>\n",
       "      <th>LifeSquare</th>\n",
       "      <th>KitchenSquare</th>\n",
       "      <th>Floor</th>\n",
       "      <th>HouseFloor</th>\n",
       "      <th>HouseYear</th>\n",
       "      <th>Ecology_1</th>\n",
       "      <th>Social_1</th>\n",
       "      <th>...</th>\n",
       "      <th>Shops_1</th>\n",
       "      <th>Price</th>\n",
       "      <th>hl_pd</th>\n",
       "      <th>Avg_Price_per_district</th>\n",
       "      <th>Ecology_2_A</th>\n",
       "      <th>Ecology_2_B</th>\n",
       "      <th>Ecology_3_A</th>\n",
       "      <th>Ecology_3_B</th>\n",
       "      <th>Shops_2_A</th>\n",
       "      <th>Shops_2_B</th>\n",
       "    </tr>\n",
       "    <tr>\n",
       "      <th>Id</th>\n",
       "      <th></th>\n",
       "      <th></th>\n",
       "      <th></th>\n",
       "      <th></th>\n",
       "      <th></th>\n",
       "      <th></th>\n",
       "      <th></th>\n",
       "      <th></th>\n",
       "      <th></th>\n",
       "      <th></th>\n",
       "      <th></th>\n",
       "      <th></th>\n",
       "      <th></th>\n",
       "      <th></th>\n",
       "      <th></th>\n",
       "      <th></th>\n",
       "      <th></th>\n",
       "      <th></th>\n",
       "      <th></th>\n",
       "      <th></th>\n",
       "      <th></th>\n",
       "    </tr>\n",
       "  </thead>\n",
       "  <tbody>\n",
       "    <tr>\n",
       "      <th>14038</th>\n",
       "      <td>35</td>\n",
       "      <td>2.0</td>\n",
       "      <td>47.981561</td>\n",
       "      <td>29.442751</td>\n",
       "      <td>6.0</td>\n",
       "      <td>7.0</td>\n",
       "      <td>9.0</td>\n",
       "      <td>1969.0</td>\n",
       "      <td>0.089040</td>\n",
       "      <td>33</td>\n",
       "      <td>...</td>\n",
       "      <td>11</td>\n",
       "      <td>184966.930730</td>\n",
       "      <td>770.0</td>\n",
       "      <td>219720.0</td>\n",
       "      <td>0</td>\n",
       "      <td>1</td>\n",
       "      <td>0</td>\n",
       "      <td>1</td>\n",
       "      <td>0</td>\n",
       "      <td>1</td>\n",
       "    </tr>\n",
       "    <tr>\n",
       "      <th>15053</th>\n",
       "      <td>41</td>\n",
       "      <td>3.0</td>\n",
       "      <td>65.683640</td>\n",
       "      <td>40.049543</td>\n",
       "      <td>8.0</td>\n",
       "      <td>7.0</td>\n",
       "      <td>9.0</td>\n",
       "      <td>1978.0</td>\n",
       "      <td>0.000070</td>\n",
       "      <td>46</td>\n",
       "      <td>...</td>\n",
       "      <td>16</td>\n",
       "      <td>300009.450063</td>\n",
       "      <td>320.0</td>\n",
       "      <td>225919.0</td>\n",
       "      <td>0</td>\n",
       "      <td>1</td>\n",
       "      <td>0</td>\n",
       "      <td>1</td>\n",
       "      <td>0</td>\n",
       "      <td>1</td>\n",
       "    </tr>\n",
       "    <tr>\n",
       "      <th>4765</th>\n",
       "      <td>53</td>\n",
       "      <td>2.0</td>\n",
       "      <td>44.947953</td>\n",
       "      <td>29.197612</td>\n",
       "      <td>3.0</td>\n",
       "      <td>8.0</td>\n",
       "      <td>12.0</td>\n",
       "      <td>1968.0</td>\n",
       "      <td>0.049637</td>\n",
       "      <td>34</td>\n",
       "      <td>...</td>\n",
       "      <td>3</td>\n",
       "      <td>220925.908524</td>\n",
       "      <td>229.0</td>\n",
       "      <td>255736.0</td>\n",
       "      <td>0</td>\n",
       "      <td>1</td>\n",
       "      <td>0</td>\n",
       "      <td>1</td>\n",
       "      <td>0</td>\n",
       "      <td>1</td>\n",
       "    </tr>\n",
       "    <tr>\n",
       "      <th>5809</th>\n",
       "      <td>58</td>\n",
       "      <td>2.0</td>\n",
       "      <td>53.352981</td>\n",
       "      <td>41.352981</td>\n",
       "      <td>9.0</td>\n",
       "      <td>8.0</td>\n",
       "      <td>17.0</td>\n",
       "      <td>1977.0</td>\n",
       "      <td>0.437885</td>\n",
       "      <td>23</td>\n",
       "      <td>...</td>\n",
       "      <td>5</td>\n",
       "      <td>175616.227217</td>\n",
       "      <td>1084.0</td>\n",
       "      <td>162287.0</td>\n",
       "      <td>0</td>\n",
       "      <td>1</td>\n",
       "      <td>0</td>\n",
       "      <td>1</td>\n",
       "      <td>0</td>\n",
       "      <td>1</td>\n",
       "    </tr>\n",
       "    <tr>\n",
       "      <th>10783</th>\n",
       "      <td>99</td>\n",
       "      <td>1.0</td>\n",
       "      <td>39.649192</td>\n",
       "      <td>23.776169</td>\n",
       "      <td>7.0</td>\n",
       "      <td>11.0</td>\n",
       "      <td>12.0</td>\n",
       "      <td>1976.0</td>\n",
       "      <td>0.012339</td>\n",
       "      <td>35</td>\n",
       "      <td>...</td>\n",
       "      <td>4</td>\n",
       "      <td>150226.531644</td>\n",
       "      <td>2078.0</td>\n",
       "      <td>184157.0</td>\n",
       "      <td>0</td>\n",
       "      <td>1</td>\n",
       "      <td>0</td>\n",
       "      <td>1</td>\n",
       "      <td>0</td>\n",
       "      <td>1</td>\n",
       "    </tr>\n",
       "  </tbody>\n",
       "</table>\n",
       "<p>5 rows × 24 columns</p>\n",
       "</div>"
      ],
      "text/plain": [
       "       DistrictId  Rooms     Square  LifeSquare  KitchenSquare  Floor  \\\n",
       "Id                                                                      \n",
       "14038          35    2.0  47.981561   29.442751            6.0    7.0   \n",
       "15053          41    3.0  65.683640   40.049543            8.0    7.0   \n",
       "4765           53    2.0  44.947953   29.197612            3.0    8.0   \n",
       "5809           58    2.0  53.352981   41.352981            9.0    8.0   \n",
       "10783          99    1.0  39.649192   23.776169            7.0   11.0   \n",
       "\n",
       "       HouseFloor  HouseYear  Ecology_1  Social_1  ...  Shops_1  \\\n",
       "Id                                                 ...            \n",
       "14038         9.0     1969.0   0.089040        33  ...       11   \n",
       "15053         9.0     1978.0   0.000070        46  ...       16   \n",
       "4765         12.0     1968.0   0.049637        34  ...        3   \n",
       "5809         17.0     1977.0   0.437885        23  ...        5   \n",
       "10783        12.0     1976.0   0.012339        35  ...        4   \n",
       "\n",
       "               Price   hl_pd  Avg_Price_per_district  Ecology_2_A  \\\n",
       "Id                                                                  \n",
       "14038  184966.930730   770.0                219720.0            0   \n",
       "15053  300009.450063   320.0                225919.0            0   \n",
       "4765   220925.908524   229.0                255736.0            0   \n",
       "5809   175616.227217  1084.0                162287.0            0   \n",
       "10783  150226.531644  2078.0                184157.0            0   \n",
       "\n",
       "       Ecology_2_B  Ecology_3_A  Ecology_3_B  Shops_2_A  Shops_2_B  \n",
       "Id                                                                  \n",
       "14038            1            0            1          0          1  \n",
       "15053            1            0            1          0          1  \n",
       "4765             1            0            1          0          1  \n",
       "5809             1            0            1          0          1  \n",
       "10783            1            0            1          0          1  \n",
       "\n",
       "[5 rows x 24 columns]"
      ]
     },
     "execution_count": 639,
     "metadata": {},
     "output_type": "execute_result"
    }
   ],
   "source": [
    "df_fill.head()"
   ]
  },
  {
   "cell_type": "code",
   "execution_count": 637,
   "id": "sexual-arthur",
   "metadata": {},
   "outputs": [],
   "source": [
    "df_real_gb = pd.read_csv(\"D:/Learning/GeekBrains/numpy and pandas/test.csv\", index_col='Id')"
   ]
  },
  {
   "cell_type": "code",
   "execution_count": 638,
   "id": "incomplete-stockholm",
   "metadata": {},
   "outputs": [],
   "source": [
    "df_real_gb = dp.data_clearing (df_real_gb)\n",
    "df_real_gb = dp.null_populating_hc(df_real_gb)\n",
    "df_real_gb = dp.null_populating_ls(df_real_gb)\n",
    "df_real_gb = dp.district_id_processing(df_real_gb)"
   ]
  },
  {
   "cell_type": "code",
   "execution_count": 640,
   "id": "radio-puzzle",
   "metadata": {},
   "outputs": [],
   "source": [
    "df_real_gb = pd.get_dummies(df_real_gb, columns = df_cat_features.columns)"
   ]
  },
  {
   "cell_type": "code",
   "execution_count": 428,
   "id": "informal-executive",
   "metadata": {},
   "outputs": [],
   "source": [
    "df_real_gb = df_real_gb.drop('hl_pd', axis = 1)\n",
    "df_real_gb = df_real_gb.drop('DistrictId', axis = 1)"
   ]
  },
  {
   "cell_type": "code",
   "execution_count": 429,
   "id": "powerful-traveler",
   "metadata": {},
   "outputs": [],
   "source": [
    "df_real_gb = df_real_gb.drop(['Ecology_2','Ecology_3', 'Shops_2'], axis = 1)"
   ]
  },
  {
   "cell_type": "code",
   "execution_count": 641,
   "id": "structured-reggae",
   "metadata": {},
   "outputs": [],
   "source": [
    "X_rl_gb = df_real_gb.copy()"
   ]
  },
  {
   "cell_type": "code",
   "execution_count": 642,
   "id": "enabling-kenya",
   "metadata": {},
   "outputs": [],
   "source": [
    "y_pred_rl_gb = best_gb_model.predict(X_rl_gb)"
   ]
  },
  {
   "cell_type": "code",
   "execution_count": 643,
   "id": "protecting-classic",
   "metadata": {},
   "outputs": [],
   "source": [
    "res_rl_gb = pd.Series(y_pred_rl_gb)"
   ]
  },
  {
   "cell_type": "code",
   "execution_count": 644,
   "id": "anticipated-disease",
   "metadata": {},
   "outputs": [],
   "source": [
    "submission_rl_gb = X_rl_gb.index"
   ]
  },
  {
   "cell_type": "code",
   "execution_count": 645,
   "id": "chemical-australian",
   "metadata": {},
   "outputs": [],
   "source": [
    "frame_rl_gb = {'Id':submission_rl_gb, 'Price': res_rl_gb}"
   ]
  },
  {
   "cell_type": "code",
   "execution_count": 646,
   "id": "little-supplier",
   "metadata": {},
   "outputs": [],
   "source": [
    "submission_result_rl_gb = pd.DataFrame(frame_rl_gb)"
   ]
  },
  {
   "cell_type": "code",
   "execution_count": 647,
   "id": "smart-booking",
   "metadata": {},
   "outputs": [
    {
     "data": {
      "text/plain": [
       "(5000, 2)"
      ]
     },
     "execution_count": 647,
     "metadata": {},
     "output_type": "execute_result"
    }
   ],
   "source": [
    "submission_result_rl_gb.shape"
   ]
  },
  {
   "cell_type": "code",
   "execution_count": 648,
   "id": "expanded-synthesis",
   "metadata": {},
   "outputs": [],
   "source": [
    "submission_result_rl_gb.to_csv('D:/Learning/GeekBrains/numpy and pandas/result.csv', index = False)"
   ]
  },
  {
   "cell_type": "markdown",
   "id": "alpine-medication",
   "metadata": {},
   "source": [
    "**Conclusion**\n",
    "\n",
    "Gradient Boosting predisctions has the highest prediction e2 score from all tested models.\n"
   ]
  },
  {
   "cell_type": "markdown",
   "id": "bizarre-earthquake",
   "metadata": {},
   "source": [
    "## CatBoost"
   ]
  },
  {
   "cell_type": "markdown",
   "id": "parental-dubai",
   "metadata": {},
   "source": [
    "**Import validation file**"
   ]
  },
  {
   "cell_type": "code",
   "execution_count": 649,
   "id": "demographic-plenty",
   "metadata": {},
   "outputs": [],
   "source": [
    "df_real_cb = pd.read_csv(\"D:/Learning/GeekBrains/numpy and pandas/test.csv\", index_col='Id')"
   ]
  },
  {
   "cell_type": "markdown",
   "id": "efficient-treaty",
   "metadata": {},
   "source": [
    "**Copy training dataset**"
   ]
  },
  {
   "cell_type": "code",
   "execution_count": 650,
   "id": "quantitative-aberdeen",
   "metadata": {},
   "outputs": [],
   "source": [
    "df_real_cb = dp.data_clearing (df_real_cb)\n",
    "df_real_cb = dp.null_populating_hc(df_real_cb)\n",
    "df_real_cb = dp.null_populating_ls(df_real_cb)\n",
    "df_real_cb = dp.district_id_processing(df_real_cb)\n",
    "\n"
   ]
  },
  {
   "cell_type": "code",
   "execution_count": 651,
   "id": "warming-capacity",
   "metadata": {},
   "outputs": [],
   "source": [
    "df_real_cb = pd.get_dummies(df_real_cb, columns = df_cat_features.columns)"
   ]
  },
  {
   "cell_type": "code",
   "execution_count": null,
   "id": "intermediate-footage",
   "metadata": {},
   "outputs": [],
   "source": [
    "df_real_cb = df_real_cb.drop('hl_pd', axis = 1)\n"
   ]
  },
  {
   "cell_type": "code",
   "execution_count": 490,
   "id": "interior-bench",
   "metadata": {},
   "outputs": [],
   "source": [
    "df_real_cb = df_real_cb.drop('DistrictId', axis = 1)"
   ]
  },
  {
   "cell_type": "code",
   "execution_count": 652,
   "id": "legitimate-april",
   "metadata": {},
   "outputs": [],
   "source": [
    "X_cb = df_fill.copy()"
   ]
  },
  {
   "cell_type": "code",
   "execution_count": 653,
   "id": "armed-frederick",
   "metadata": {},
   "outputs": [],
   "source": [
    "y_cb = X_cb['Price']"
   ]
  },
  {
   "cell_type": "code",
   "execution_count": 654,
   "id": "ethical-bunch",
   "metadata": {},
   "outputs": [],
   "source": [
    "X_cb = X_cb.drop('Price', axis = 1)"
   ]
  },
  {
   "cell_type": "markdown",
   "id": "involved-johns",
   "metadata": {},
   "source": [
    "**split dataset**"
   ]
  },
  {
   "cell_type": "code",
   "execution_count": 655,
   "id": "phantom-breed",
   "metadata": {},
   "outputs": [],
   "source": [
    "X_train_cb, X_test_cb, y_train_cb, y_test_cb = train_test_split(X_cb, y_cb, test_size=0.3, random_state = 4)"
   ]
  },
  {
   "cell_type": "markdown",
   "id": "official-cambodia",
   "metadata": {},
   "source": [
    "**selecting params and model applying**"
   ]
  },
  {
   "cell_type": "code",
   "execution_count": 656,
   "id": "theoretical-deputy",
   "metadata": {},
   "outputs": [],
   "source": [
    "params = {\"iterations\": range(40, 201, 20),\n",
    "          \"depth\": range(2, 11, 1)          \n",
    "          }"
   ]
  },
  {
   "cell_type": "code",
   "execution_count": 657,
   "id": "marked-parallel",
   "metadata": {},
   "outputs": [],
   "source": [
    "model_cb = CatBoostRegressor(loss_function=\"RMSE\", verbose=False)"
   ]
  },
  {
   "cell_type": "code",
   "execution_count": 658,
   "id": "painted-jonathan",
   "metadata": {},
   "outputs": [],
   "source": [
    "gcb = GridSearchCV(model_cb, params, \n",
    "                  scoring='r2', # r2 score metric \n",
    "                  cv=KFold(n_splits=5,   # k number of fold in cross validation\n",
    "                           random_state=21, \n",
    "                           shuffle=True),\n",
    "                  n_jobs=-1\n",
    "                  )"
   ]
  },
  {
   "cell_type": "code",
   "execution_count": 659,
   "id": "wound-network",
   "metadata": {},
   "outputs": [],
   "source": [
    "index_no = []"
   ]
  },
  {
   "cell_type": "code",
   "execution_count": 661,
   "id": "worldwide-cookbook",
   "metadata": {},
   "outputs": [],
   "source": [
    "index_no.append(X_cb.columns.get_loc('Ecology_2_A'))\n",
    "index_no.append(X_cb.columns.get_loc('Ecology_3_A'))\n",
    "index_no.append(X_cb.columns.get_loc('Shops_2_A'))"
   ]
  },
  {
   "cell_type": "code",
   "execution_count": 662,
   "id": "english-acoustic",
   "metadata": {},
   "outputs": [],
   "source": [
    "index_no.append(X_cb.columns.get_loc('Ecology_2_B'))\n",
    "index_no.append(X_cb.columns.get_loc('Ecology_3_B'))\n",
    "index_no.append(X_cb.columns.get_loc('Shops_2_B'))"
   ]
  },
  {
   "cell_type": "code",
   "execution_count": 664,
   "id": "african-workstation",
   "metadata": {},
   "outputs": [],
   "source": [
    "index_no.sort()"
   ]
  },
  {
   "cell_type": "code",
   "execution_count": 665,
   "id": "played-initial",
   "metadata": {},
   "outputs": [
    {
     "data": {
      "text/plain": [
       "[17, 18, 19, 20, 21, 22]"
      ]
     },
     "execution_count": 665,
     "metadata": {},
     "output_type": "execute_result"
    }
   ],
   "source": [
    "index_no"
   ]
  },
  {
   "cell_type": "code",
   "execution_count": 666,
   "id": "canadian-creek",
   "metadata": {},
   "outputs": [
    {
     "name": "stdout",
     "output_type": "stream",
     "text": [
      "Wall time: 6min 39s\n"
     ]
    },
    {
     "data": {
      "text/plain": [
       "GridSearchCV(cv=KFold(n_splits=5, random_state=21, shuffle=True),\n",
       "             estimator=<catboost.core.CatBoostRegressor object at 0x000001E5339AA430>,\n",
       "             n_jobs=-1,\n",
       "             param_grid={'depth': range(2, 11),\n",
       "                         'iterations': range(40, 201, 20)},\n",
       "             scoring='r2')"
      ]
     },
     "execution_count": 666,
     "metadata": {},
     "output_type": "execute_result"
    }
   ],
   "source": [
    "%%time\n",
    "gcb.fit(X_train_cb, y_train_cb, cat_features = index_no)"
   ]
  },
  {
   "cell_type": "code",
   "execution_count": 458,
   "id": "configured-prospect",
   "metadata": {},
   "outputs": [
    {
     "data": {
      "text/plain": [
       "{'depth': 8, 'iterations': 200}"
      ]
     },
     "execution_count": 458,
     "metadata": {},
     "output_type": "execute_result"
    }
   ],
   "source": [
    "gcb.best_params_"
   ]
  },
  {
   "cell_type": "code",
   "execution_count": 459,
   "id": "complex-mirror",
   "metadata": {},
   "outputs": [
    {
     "data": {
      "text/plain": [
       "0.7651334052611235"
      ]
     },
     "execution_count": 459,
     "metadata": {},
     "output_type": "execute_result"
    }
   ],
   "source": [
    "gcb.best_score_"
   ]
  },
  {
   "cell_type": "code",
   "execution_count": 460,
   "id": "happy-raising",
   "metadata": {},
   "outputs": [],
   "source": [
    "best_cb_model = gcb.best_estimator_"
   ]
  },
  {
   "cell_type": "code",
   "execution_count": null,
   "id": "pressed-square",
   "metadata": {},
   "outputs": [],
   "source": []
  },
  {
   "cell_type": "markdown",
   "id": "comparable-configuration",
   "metadata": {},
   "source": [
    "**validation of train model**"
   ]
  },
  {
   "cell_type": "code",
   "execution_count": 483,
   "id": "prescription-letters",
   "metadata": {},
   "outputs": [],
   "source": [
    "y_pred_train_cb = best_cb_model.predict(X_train_cb)"
   ]
  },
  {
   "cell_type": "code",
   "execution_count": 484,
   "id": "present-termination",
   "metadata": {},
   "outputs": [
    {
     "data": {
      "text/plain": [
       "0.9142751309376644"
      ]
     },
     "execution_count": 484,
     "metadata": {},
     "output_type": "execute_result"
    }
   ],
   "source": [
    "cb_r2_train_score = r2_score(y_pred_train_cb, y_train_cb)\n",
    "cb_r2_train_score"
   ]
  },
  {
   "cell_type": "markdown",
   "id": "coral-peter",
   "metadata": {},
   "source": [
    "**validation of test model**"
   ]
  },
  {
   "cell_type": "code",
   "execution_count": 485,
   "id": "improving-banana",
   "metadata": {},
   "outputs": [],
   "source": [
    "y_pred_test_cb = best_cb_model.predict(X_test_cb)"
   ]
  },
  {
   "cell_type": "code",
   "execution_count": 486,
   "id": "agreed-sheffield",
   "metadata": {},
   "outputs": [
    {
     "data": {
      "text/plain": [
       "0.6727282232013301"
      ]
     },
     "execution_count": 486,
     "metadata": {},
     "output_type": "execute_result"
    }
   ],
   "source": [
    "cb_r2_test_score = r2_score(y_pred_test_cb, y_test_cb)\n",
    "cb_r2_test_score"
   ]
  },
  {
   "cell_type": "markdown",
   "id": "monetary-donor",
   "metadata": {},
   "source": [
    "**Processing real dataset to fit initial**"
   ]
  },
  {
   "cell_type": "code",
   "execution_count": 466,
   "id": "realistic-blame",
   "metadata": {},
   "outputs": [],
   "source": [
    "df_real_cb = pd.read_csv(\"D:/Learning/GeekBrains/numpy and pandas/test.csv\", index_col='Id')"
   ]
  },
  {
   "cell_type": "code",
   "execution_count": 467,
   "id": "offshore-adjustment",
   "metadata": {},
   "outputs": [],
   "source": [
    "df_real_cb = dp.data_clearing (df_real_cb)\n",
    "df_real_cb = dp.null_populating_hc(df_real_cb)\n",
    "df_real_cb = dp.null_populating_ls(df_real_cb)\n",
    "df_real_cb = dp.district_id_processing(df_real_cb)\n"
   ]
  },
  {
   "cell_type": "code",
   "execution_count": 468,
   "id": "swiss-edgar",
   "metadata": {},
   "outputs": [],
   "source": [
    "df_real_cb = df_real_cb.drop('hl_pd', axis = 1)\n",
    "df_real_cb = df_real_cb.drop('DistrictId', axis = 1)\n"
   ]
  },
  {
   "cell_type": "code",
   "execution_count": 469,
   "id": "listed-stevens",
   "metadata": {},
   "outputs": [],
   "source": [
    "X_rl_cb = df_real_cb.copy()"
   ]
  },
  {
   "cell_type": "code",
   "execution_count": 470,
   "id": "experimental-arabic",
   "metadata": {},
   "outputs": [],
   "source": [
    "y_pred_rl_cb = best_cb_model.predict(X_rl_cb)"
   ]
  },
  {
   "cell_type": "code",
   "execution_count": null,
   "id": "exterior-words",
   "metadata": {},
   "outputs": [],
   "source": []
  },
  {
   "cell_type": "code",
   "execution_count": 471,
   "id": "alien-jumping",
   "metadata": {},
   "outputs": [],
   "source": [
    "res_rl_cb = pd.Series(y_pred_rl_cb)"
   ]
  },
  {
   "cell_type": "code",
   "execution_count": 472,
   "id": "coordinate-investing",
   "metadata": {},
   "outputs": [],
   "source": [
    "submission_rl_cb = X_rl_cb.index"
   ]
  },
  {
   "cell_type": "code",
   "execution_count": 473,
   "id": "following-violation",
   "metadata": {},
   "outputs": [],
   "source": [
    "frame_rl_cb = {'Id':submission_rl_cb, 'Price': res_rl_cb}"
   ]
  },
  {
   "cell_type": "code",
   "execution_count": 474,
   "id": "adolescent-dubai",
   "metadata": {},
   "outputs": [],
   "source": [
    "submission_result_rl_cb = pd.DataFrame(frame_rl_cb)"
   ]
  },
  {
   "cell_type": "code",
   "execution_count": 475,
   "id": "weird-conservation",
   "metadata": {},
   "outputs": [
    {
     "data": {
      "text/plain": [
       "(5000, 2)"
      ]
     },
     "execution_count": 475,
     "metadata": {},
     "output_type": "execute_result"
    }
   ],
   "source": [
    "submission_result_rl_cb.shape"
   ]
  },
  {
   "cell_type": "code",
   "execution_count": 476,
   "id": "southern-double",
   "metadata": {},
   "outputs": [],
   "source": [
    "submission_result_rl_cb.to_csv('D:/Learning/GeekBrains/numpy and pandas/result.csv', index = False)"
   ]
  },
  {
   "cell_type": "code",
   "execution_count": null,
   "id": "large-replica",
   "metadata": {},
   "outputs": [],
   "source": []
  },
  {
   "cell_type": "code",
   "execution_count": null,
   "id": "dramatic-picture",
   "metadata": {},
   "outputs": [],
   "source": []
  },
  {
   "cell_type": "markdown",
   "id": "obvious-future",
   "metadata": {},
   "source": [
    "# 6. Conclusions <a class='anchor' id='conclusions'>"
   ]
  },
  {
   "cell_type": "markdown",
   "id": "secret-jacket",
   "metadata": {},
   "source": [
    "**Dataset**\n",
    "\n",
    "Initial and training datasets have big amount of features which do no have influence on prediction accuracy.\n",
    "Also changing categorial variables using get_dummies function almost does not have influence on funal accuracy of predictions for this current dataset.\n",
    "Big mount of NaN in some columns requires their population or complete removing of features with big amount of gaps in data."
   ]
  },
  {
   "cell_type": "markdown",
   "id": "indie-friendship",
   "metadata": {},
   "source": [
    "**Model Selection**\n",
    "\n",
    "Random Forest model has the best accuracy comparable accuracy　from all models applied.\n",
    "Gradient boosting have slightly higher R2 score but for current dataset in can be relative to more sucessful set of metha parameters.\n",
    "\n"
   ]
  },
  {
   "cell_type": "markdown",
   "id": "isolated-bridge",
   "metadata": {},
   "source": [
    "**Potential ways for result improvement**\n",
    "\n",
    "Available ways for r2 scorw increasing:\n",
    "- improve process of feature preprocessing\n",
    "- use regularisation of features insted of normalisation\n",
    "- try to use PCA dimensional reducing\n",
    "- use more efficeiant models like xgboosting"
   ]
  },
  {
   "cell_type": "code",
   "execution_count": null,
   "id": "wrong-search",
   "metadata": {
    "scrolled": true
   },
   "outputs": [],
   "source": [
    "# s = pd.Series([_ for _ in range(1, result.shape[0] + 1)])\n",
    "# result.set_index(s)"
   ]
  },
  {
   "cell_type": "code",
   "execution_count": null,
   "id": "ceramic-vanilla",
   "metadata": {},
   "outputs": [],
   "source": [
    "gc.collect"
   ]
  }
 ],
 "metadata": {
  "kernelspec": {
   "display_name": "Python 3",
   "language": "python",
   "name": "python3"
  },
  "language_info": {
   "codemirror_mode": {
    "name": "ipython",
    "version": 3
   },
   "file_extension": ".py",
   "mimetype": "text/x-python",
   "name": "python",
   "nbconvert_exporter": "python",
   "pygments_lexer": "ipython3",
   "version": "3.9.1"
  }
 },
 "nbformat": 4,
 "nbformat_minor": 5
}
