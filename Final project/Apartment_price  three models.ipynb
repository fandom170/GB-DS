{
 "cells": [
  {
   "cell_type": "markdown",
   "id": "proof-liberty",
   "metadata": {},
   "source": [
    "# Machine learning project"
   ]
  },
  {
   "cell_type": "markdown",
   "id": "empirical-basis",
   "metadata": {},
   "source": [
    "**Content**\n",
    "\n",
    "1. [Definition](#definition)\n",
    "2. [Data Analysis](#data_analysis)\n",
    "3. [Functions for data processing](#functions)\n",
    "4. [Data visualisation and pre-processing](#visualization)\n",
    "5. [Model creation and applying](#models)\n",
    "6. [Conclusions](#conclusions)"
   ]
  },
  {
   "cell_type": "markdown",
   "id": "signal-kennedy",
   "metadata": {},
   "source": [
    "## 1. Definition <a class='anchor' id='definition'>"
   ]
  },
  {
   "cell_type": "markdown",
   "id": "affiliated-flexibility",
   "metadata": {},
   "source": [
    "### Overview"
   ]
  },
  {
   "cell_type": "markdown",
   "id": "european-suicide",
   "metadata": {},
   "source": [
    "Dataset which is used in the current task was taken from kaggle contest.\n",
    "https://www.kaggle.com/c/realestatepriceprediction/data\n",
    "\n",
    "\n",
    "Main goal of this contest was predict price of appartment based, on set of features which characterizes these appartments."
   ]
  },
  {
   "cell_type": "markdown",
   "id": "forbidden-depression",
   "metadata": {},
   "source": [
    "### Problem statement"
   ]
  },
  {
   "cell_type": "markdown",
   "id": "applicable-harassment",
   "metadata": {},
   "source": [
    "In the current project price of appartment from test dataset is going to be predicted.\n",
    "There are several models of different types will be created and then their results will be compared to found the most optimal model which fit best for Price prediction.\n",
    "\n",
    "Price prognosos is the regression question and target variable has continiuous range of values. \n",
    "When counting parameters of existing appartments we are going to predict price for other appartments described by the same set of features.\n",
    "\n",
    "Main goal: Find the model which will be able predict value of target variable for each new object.\n",
    "Quality of prediction will be R2 score."
   ]
  },
  {
   "cell_type": "markdown",
   "id": "thorough-perfume",
   "metadata": {},
   "source": [
    "### Metrics"
   ]
  },
  {
   "cell_type": "markdown",
   "id": "important-article",
   "metadata": {},
   "source": [
    "There are three metrics which can be used for regression tasks.\n",
    "\n",
    "- Mean_absolute_error\n",
    "- Mean Square Error\n",
    "- R2_score\n",
    "\n",
    "Quality of model will be verified based on R2 score which should be close to 1.0 as close as it is possible."
   ]
  },
  {
   "cell_type": "markdown",
   "id": "early-distributor",
   "metadata": {},
   "source": [
    "### Model selection"
   ]
  },
  {
   "cell_type": "markdown",
   "id": "assigned-concentrate",
   "metadata": {},
   "source": [
    "For the current tasks followinf models will be applied for comparing of results:\n",
    "- Lienar Regression\n",
    "- Random Forrest Regressor\n",
    "- Gradient Boosting"
   ]
  },
  {
   "cell_type": "markdown",
   "id": "obvious-edinburgh",
   "metadata": {},
   "source": [
    "### Modules import"
   ]
  },
  {
   "cell_type": "code",
   "execution_count": 1,
   "id": "killing-candle",
   "metadata": {},
   "outputs": [],
   "source": [
    "import pandas as pd\n",
    "import numpy as np"
   ]
  },
  {
   "cell_type": "code",
   "execution_count": 2,
   "id": "resistant-questionnaire",
   "metadata": {},
   "outputs": [],
   "source": [
    "from sklearn import tree\n",
    "import matplotlib.pyplot as plt"
   ]
  },
  {
   "cell_type": "code",
   "execution_count": 3,
   "id": "approved-classroom",
   "metadata": {},
   "outputs": [],
   "source": [
    "import seaborn as sns"
   ]
  },
  {
   "cell_type": "code",
   "execution_count": 4,
   "id": "current-practitioner",
   "metadata": {},
   "outputs": [],
   "source": [
    "from sklearn.linear_model import LinearRegression"
   ]
  },
  {
   "cell_type": "code",
   "execution_count": 5,
   "id": "surprising-denial",
   "metadata": {},
   "outputs": [],
   "source": [
    "%matplotlib inline"
   ]
  },
  {
   "cell_type": "code",
   "execution_count": 6,
   "id": "previous-emphasis",
   "metadata": {},
   "outputs": [],
   "source": [
    "from sklearn.model_selection import GridSearchCV"
   ]
  },
  {
   "cell_type": "code",
   "execution_count": 7,
   "id": "collective-optimum",
   "metadata": {},
   "outputs": [],
   "source": [
    "from sklearn.metrics import accuracy_score"
   ]
  },
  {
   "cell_type": "code",
   "execution_count": 8,
   "id": "governmental-increase",
   "metadata": {},
   "outputs": [],
   "source": [
    "from sklearn.ensemble import RandomForestRegressor, GradientBoostingRegressor"
   ]
  },
  {
   "cell_type": "code",
   "execution_count": 9,
   "id": "contrary-fight",
   "metadata": {},
   "outputs": [],
   "source": [
    "from sklearn.model_selection import train_test_split\n",
    "from sklearn.model_selection import GridSearchCV\n",
    "from sklearn.model_selection import KFold"
   ]
  },
  {
   "cell_type": "code",
   "execution_count": 10,
   "id": "composite-external",
   "metadata": {},
   "outputs": [],
   "source": [
    "from sklearn.metrics import r2_score\n",
    "from sklearn.metrics import mean_absolute_error\n",
    "from sklearn.metrics import mean_squared_error"
   ]
  },
  {
   "cell_type": "code",
   "execution_count": 11,
   "id": "numerical-truth",
   "metadata": {},
   "outputs": [],
   "source": [
    "from sklearn.linear_model import LinearRegression\n",
    "from sklearn.linear_model import Lasso, Ridge"
   ]
  },
  {
   "cell_type": "code",
   "execution_count": 12,
   "id": "rapid-netscape",
   "metadata": {},
   "outputs": [],
   "source": [
    "from sklearn.preprocessing import StandardScaler"
   ]
  },
  {
   "cell_type": "code",
   "execution_count": 13,
   "id": "electric-veteran",
   "metadata": {},
   "outputs": [],
   "source": [
    "from random import randint"
   ]
  },
  {
   "cell_type": "code",
   "execution_count": 14,
   "id": "optical-matter",
   "metadata": {},
   "outputs": [],
   "source": [
    "# garbage collector\n",
    "import gc "
   ]
  },
  {
   "cell_type": "markdown",
   "id": "underlying-familiar",
   "metadata": {},
   "source": [
    "Creation of empty dataframe for result storing"
   ]
  },
  {
   "cell_type": "code",
   "execution_count": 15,
   "id": "widespread-ferry",
   "metadata": {},
   "outputs": [],
   "source": [
    "result = pd.DataFrame(columns=['Model_type','data_proprocessing','R2_score', 'MAE', 'MSE'], dtype = object)"
   ]
  },
  {
   "cell_type": "markdown",
   "id": "ongoing-mumbai",
   "metadata": {},
   "source": [
    "## 2. Data analysis <a class='anchor' id='data_analysis'>"
   ]
  },
  {
   "cell_type": "markdown",
   "id": "colonial-habitat",
   "metadata": {},
   "source": [
    "### Data Preparation"
   ]
  },
  {
   "cell_type": "markdown",
   "id": "swiss-government",
   "metadata": {},
   "source": [
    "Dataset which is used in the current task was taken from kaggle contest.\n",
    "https://www.kaggle.com/c/realestatepriceprediction/data\n",
    "\n",
    "Id columns will be used as index because this field should be unique and does not any valueable information for prediction process."
   ]
  },
  {
   "cell_type": "code",
   "execution_count": 16,
   "id": "failing-receptor",
   "metadata": {},
   "outputs": [],
   "source": [
    "df = pd.read_csv(\"D:\\\\Learning\\\\GeekBrains\\\\numpy and pandas\\\\Final project\\\\train.csv\", index_col='Id' )"
   ]
  },
  {
   "cell_type": "code",
   "execution_count": 17,
   "id": "beginning-fiction",
   "metadata": {},
   "outputs": [
    {
     "data": {
      "text/plain": [
       "DistrictId         int64\n",
       "Rooms            float64\n",
       "Square           float64\n",
       "LifeSquare       float64\n",
       "KitchenSquare    float64\n",
       "Floor              int64\n",
       "HouseFloor       float64\n",
       "HouseYear          int64\n",
       "Ecology_1        float64\n",
       "Ecology_2         object\n",
       "Ecology_3         object\n",
       "Social_1           int64\n",
       "Social_2           int64\n",
       "Social_3           int64\n",
       "Healthcare_1     float64\n",
       "Helthcare_2        int64\n",
       "Shops_1            int64\n",
       "Shops_2           object\n",
       "Price            float64\n",
       "dtype: object"
      ]
     },
     "execution_count": 17,
     "metadata": {},
     "output_type": "execute_result"
    }
   ],
   "source": [
    "df.dtypes"
   ]
  },
  {
   "cell_type": "markdown",
   "id": "creative-technique",
   "metadata": {},
   "source": [
    "#### Data fields/Features\n",
    "- Id - id of appartment\n",
    "- DistrictId - id of district where appartment is\n",
    "- Rooms - number of rooms in apartment\n",
    "- Square - area of appartment\n",
    "- LifeSquare - value of life square of appartment\n",
    "- KitchenSquare - value of kitchen square of appartment\n",
    "- Floor - floor where appartment is.\n",
    "- HouseFloor - number of floors of the house.\n",
    "- HouseYear - year where house was built.\n",
    "- Ecology_1, Ecology_2, Ecology_3 - ecological features of region\n",
    "- Social_1, Social_2, Social_3 - social features of region\n",
    "- Healthcare_1, Helthcare_2 - features of reagion related to healthcare\n",
    "- Shops_1, Shops_2 - features which describe existiong of shops, trade centers etc nearby\n",
    "- Price - target value. Price of appartment"
   ]
  },
  {
   "cell_type": "code",
   "execution_count": 18,
   "id": "lovely-longer",
   "metadata": {
    "scrolled": false
   },
   "outputs": [
    {
     "data": {
      "text/html": [
       "<div>\n",
       "<style scoped>\n",
       "    .dataframe tbody tr th:only-of-type {\n",
       "        vertical-align: middle;\n",
       "    }\n",
       "\n",
       "    .dataframe tbody tr th {\n",
       "        vertical-align: top;\n",
       "    }\n",
       "\n",
       "    .dataframe thead th {\n",
       "        text-align: right;\n",
       "    }\n",
       "</style>\n",
       "<table border=\"1\" class=\"dataframe\">\n",
       "  <thead>\n",
       "    <tr style=\"text-align: right;\">\n",
       "      <th></th>\n",
       "      <th>DistrictId</th>\n",
       "      <th>Rooms</th>\n",
       "      <th>Square</th>\n",
       "      <th>LifeSquare</th>\n",
       "      <th>KitchenSquare</th>\n",
       "      <th>Floor</th>\n",
       "      <th>HouseFloor</th>\n",
       "      <th>HouseYear</th>\n",
       "      <th>Ecology_1</th>\n",
       "      <th>Ecology_2</th>\n",
       "      <th>Ecology_3</th>\n",
       "      <th>Social_1</th>\n",
       "      <th>Social_2</th>\n",
       "      <th>Social_3</th>\n",
       "      <th>Healthcare_1</th>\n",
       "      <th>Helthcare_2</th>\n",
       "      <th>Shops_1</th>\n",
       "      <th>Shops_2</th>\n",
       "      <th>Price</th>\n",
       "    </tr>\n",
       "    <tr>\n",
       "      <th>Id</th>\n",
       "      <th></th>\n",
       "      <th></th>\n",
       "      <th></th>\n",
       "      <th></th>\n",
       "      <th></th>\n",
       "      <th></th>\n",
       "      <th></th>\n",
       "      <th></th>\n",
       "      <th></th>\n",
       "      <th></th>\n",
       "      <th></th>\n",
       "      <th></th>\n",
       "      <th></th>\n",
       "      <th></th>\n",
       "      <th></th>\n",
       "      <th></th>\n",
       "      <th></th>\n",
       "      <th></th>\n",
       "      <th></th>\n",
       "    </tr>\n",
       "  </thead>\n",
       "  <tbody>\n",
       "    <tr>\n",
       "      <th>14038</th>\n",
       "      <td>35</td>\n",
       "      <td>2.0</td>\n",
       "      <td>47.981561</td>\n",
       "      <td>29.442751</td>\n",
       "      <td>6.0</td>\n",
       "      <td>7</td>\n",
       "      <td>9.0</td>\n",
       "      <td>1969</td>\n",
       "      <td>0.089040</td>\n",
       "      <td>B</td>\n",
       "      <td>B</td>\n",
       "      <td>33</td>\n",
       "      <td>7976</td>\n",
       "      <td>5</td>\n",
       "      <td>NaN</td>\n",
       "      <td>0</td>\n",
       "      <td>11</td>\n",
       "      <td>B</td>\n",
       "      <td>184966.930730</td>\n",
       "    </tr>\n",
       "    <tr>\n",
       "      <th>15053</th>\n",
       "      <td>41</td>\n",
       "      <td>3.0</td>\n",
       "      <td>65.683640</td>\n",
       "      <td>40.049543</td>\n",
       "      <td>8.0</td>\n",
       "      <td>7</td>\n",
       "      <td>9.0</td>\n",
       "      <td>1978</td>\n",
       "      <td>0.000070</td>\n",
       "      <td>B</td>\n",
       "      <td>B</td>\n",
       "      <td>46</td>\n",
       "      <td>10309</td>\n",
       "      <td>1</td>\n",
       "      <td>240.0</td>\n",
       "      <td>1</td>\n",
       "      <td>16</td>\n",
       "      <td>B</td>\n",
       "      <td>300009.450063</td>\n",
       "    </tr>\n",
       "    <tr>\n",
       "      <th>4765</th>\n",
       "      <td>53</td>\n",
       "      <td>2.0</td>\n",
       "      <td>44.947953</td>\n",
       "      <td>29.197612</td>\n",
       "      <td>0.0</td>\n",
       "      <td>8</td>\n",
       "      <td>12.0</td>\n",
       "      <td>1968</td>\n",
       "      <td>0.049637</td>\n",
       "      <td>B</td>\n",
       "      <td>B</td>\n",
       "      <td>34</td>\n",
       "      <td>7759</td>\n",
       "      <td>0</td>\n",
       "      <td>229.0</td>\n",
       "      <td>1</td>\n",
       "      <td>3</td>\n",
       "      <td>B</td>\n",
       "      <td>220925.908524</td>\n",
       "    </tr>\n",
       "    <tr>\n",
       "      <th>5809</th>\n",
       "      <td>58</td>\n",
       "      <td>2.0</td>\n",
       "      <td>53.352981</td>\n",
       "      <td>52.731512</td>\n",
       "      <td>9.0</td>\n",
       "      <td>8</td>\n",
       "      <td>17.0</td>\n",
       "      <td>1977</td>\n",
       "      <td>0.437885</td>\n",
       "      <td>B</td>\n",
       "      <td>B</td>\n",
       "      <td>23</td>\n",
       "      <td>5735</td>\n",
       "      <td>3</td>\n",
       "      <td>1084.0</td>\n",
       "      <td>0</td>\n",
       "      <td>5</td>\n",
       "      <td>B</td>\n",
       "      <td>175616.227217</td>\n",
       "    </tr>\n",
       "    <tr>\n",
       "      <th>10783</th>\n",
       "      <td>99</td>\n",
       "      <td>1.0</td>\n",
       "      <td>39.649192</td>\n",
       "      <td>23.776169</td>\n",
       "      <td>7.0</td>\n",
       "      <td>11</td>\n",
       "      <td>12.0</td>\n",
       "      <td>1976</td>\n",
       "      <td>0.012339</td>\n",
       "      <td>B</td>\n",
       "      <td>B</td>\n",
       "      <td>35</td>\n",
       "      <td>5776</td>\n",
       "      <td>1</td>\n",
       "      <td>2078.0</td>\n",
       "      <td>2</td>\n",
       "      <td>4</td>\n",
       "      <td>B</td>\n",
       "      <td>150226.531644</td>\n",
       "    </tr>\n",
       "  </tbody>\n",
       "</table>\n",
       "</div>"
      ],
      "text/plain": [
       "       DistrictId  Rooms     Square  LifeSquare  KitchenSquare  Floor  \\\n",
       "Id                                                                      \n",
       "14038          35    2.0  47.981561   29.442751            6.0      7   \n",
       "15053          41    3.0  65.683640   40.049543            8.0      7   \n",
       "4765           53    2.0  44.947953   29.197612            0.0      8   \n",
       "5809           58    2.0  53.352981   52.731512            9.0      8   \n",
       "10783          99    1.0  39.649192   23.776169            7.0     11   \n",
       "\n",
       "       HouseFloor  HouseYear  Ecology_1 Ecology_2 Ecology_3  Social_1  \\\n",
       "Id                                                                      \n",
       "14038         9.0       1969   0.089040         B         B        33   \n",
       "15053         9.0       1978   0.000070         B         B        46   \n",
       "4765         12.0       1968   0.049637         B         B        34   \n",
       "5809         17.0       1977   0.437885         B         B        23   \n",
       "10783        12.0       1976   0.012339         B         B        35   \n",
       "\n",
       "       Social_2  Social_3  Healthcare_1  Helthcare_2  Shops_1 Shops_2  \\\n",
       "Id                                                                      \n",
       "14038      7976         5           NaN            0       11       B   \n",
       "15053     10309         1         240.0            1       16       B   \n",
       "4765       7759         0         229.0            1        3       B   \n",
       "5809       5735         3        1084.0            0        5       B   \n",
       "10783      5776         1        2078.0            2        4       B   \n",
       "\n",
       "               Price  \n",
       "Id                    \n",
       "14038  184966.930730  \n",
       "15053  300009.450063  \n",
       "4765   220925.908524  \n",
       "5809   175616.227217  \n",
       "10783  150226.531644  "
      ]
     },
     "execution_count": 18,
     "metadata": {},
     "output_type": "execute_result"
    }
   ],
   "source": [
    "df.head()"
   ]
  },
  {
   "cell_type": "code",
   "execution_count": 19,
   "id": "orange-explorer",
   "metadata": {
    "scrolled": true
   },
   "outputs": [
    {
     "data": {
      "text/plain": [
       "(10000, 19)"
      ]
     },
     "execution_count": 19,
     "metadata": {},
     "output_type": "execute_result"
    }
   ],
   "source": [
    "df.shape"
   ]
  },
  {
   "cell_type": "code",
   "execution_count": 20,
   "id": "prescription-transcript",
   "metadata": {
    "scrolled": false
   },
   "outputs": [
    {
     "data": {
      "text/html": [
       "<div>\n",
       "<style scoped>\n",
       "    .dataframe tbody tr th:only-of-type {\n",
       "        vertical-align: middle;\n",
       "    }\n",
       "\n",
       "    .dataframe tbody tr th {\n",
       "        vertical-align: top;\n",
       "    }\n",
       "\n",
       "    .dataframe thead th {\n",
       "        text-align: right;\n",
       "    }\n",
       "</style>\n",
       "<table border=\"1\" class=\"dataframe\">\n",
       "  <thead>\n",
       "    <tr style=\"text-align: right;\">\n",
       "      <th></th>\n",
       "      <th>DistrictId</th>\n",
       "      <th>Rooms</th>\n",
       "      <th>Square</th>\n",
       "      <th>LifeSquare</th>\n",
       "      <th>KitchenSquare</th>\n",
       "      <th>Floor</th>\n",
       "      <th>HouseFloor</th>\n",
       "      <th>HouseYear</th>\n",
       "      <th>Ecology_1</th>\n",
       "      <th>Social_1</th>\n",
       "      <th>Social_2</th>\n",
       "      <th>Social_3</th>\n",
       "      <th>Healthcare_1</th>\n",
       "      <th>Helthcare_2</th>\n",
       "      <th>Shops_1</th>\n",
       "      <th>Price</th>\n",
       "    </tr>\n",
       "  </thead>\n",
       "  <tbody>\n",
       "    <tr>\n",
       "      <th>count</th>\n",
       "      <td>10000.000000</td>\n",
       "      <td>10000.000000</td>\n",
       "      <td>10000.000000</td>\n",
       "      <td>7887.000000</td>\n",
       "      <td>10000.000000</td>\n",
       "      <td>10000.000000</td>\n",
       "      <td>10000.000000</td>\n",
       "      <td>1.000000e+04</td>\n",
       "      <td>10000.000000</td>\n",
       "      <td>10000.000000</td>\n",
       "      <td>10000.000000</td>\n",
       "      <td>10000.000000</td>\n",
       "      <td>5202.000000</td>\n",
       "      <td>10000.000000</td>\n",
       "      <td>10000.000000</td>\n",
       "      <td>10000.000000</td>\n",
       "    </tr>\n",
       "    <tr>\n",
       "      <th>mean</th>\n",
       "      <td>50.400800</td>\n",
       "      <td>1.890500</td>\n",
       "      <td>56.315775</td>\n",
       "      <td>37.199645</td>\n",
       "      <td>6.273300</td>\n",
       "      <td>8.526700</td>\n",
       "      <td>12.609400</td>\n",
       "      <td>3.990166e+03</td>\n",
       "      <td>0.118858</td>\n",
       "      <td>24.687000</td>\n",
       "      <td>5352.157400</td>\n",
       "      <td>8.039200</td>\n",
       "      <td>1142.904460</td>\n",
       "      <td>1.319500</td>\n",
       "      <td>4.231300</td>\n",
       "      <td>214138.857399</td>\n",
       "    </tr>\n",
       "    <tr>\n",
       "      <th>std</th>\n",
       "      <td>43.587592</td>\n",
       "      <td>0.839512</td>\n",
       "      <td>21.058732</td>\n",
       "      <td>86.241209</td>\n",
       "      <td>28.560917</td>\n",
       "      <td>5.241148</td>\n",
       "      <td>6.775974</td>\n",
       "      <td>2.005003e+05</td>\n",
       "      <td>0.119025</td>\n",
       "      <td>17.532614</td>\n",
       "      <td>4006.799803</td>\n",
       "      <td>23.831875</td>\n",
       "      <td>1021.517264</td>\n",
       "      <td>1.493601</td>\n",
       "      <td>4.806341</td>\n",
       "      <td>92872.293865</td>\n",
       "    </tr>\n",
       "    <tr>\n",
       "      <th>min</th>\n",
       "      <td>0.000000</td>\n",
       "      <td>0.000000</td>\n",
       "      <td>1.136859</td>\n",
       "      <td>0.370619</td>\n",
       "      <td>0.000000</td>\n",
       "      <td>1.000000</td>\n",
       "      <td>0.000000</td>\n",
       "      <td>1.910000e+03</td>\n",
       "      <td>0.000000</td>\n",
       "      <td>0.000000</td>\n",
       "      <td>168.000000</td>\n",
       "      <td>0.000000</td>\n",
       "      <td>0.000000</td>\n",
       "      <td>0.000000</td>\n",
       "      <td>0.000000</td>\n",
       "      <td>59174.778028</td>\n",
       "    </tr>\n",
       "    <tr>\n",
       "      <th>25%</th>\n",
       "      <td>20.000000</td>\n",
       "      <td>1.000000</td>\n",
       "      <td>41.774881</td>\n",
       "      <td>22.769832</td>\n",
       "      <td>1.000000</td>\n",
       "      <td>4.000000</td>\n",
       "      <td>9.000000</td>\n",
       "      <td>1.974000e+03</td>\n",
       "      <td>0.017647</td>\n",
       "      <td>6.000000</td>\n",
       "      <td>1564.000000</td>\n",
       "      <td>0.000000</td>\n",
       "      <td>350.000000</td>\n",
       "      <td>0.000000</td>\n",
       "      <td>1.000000</td>\n",
       "      <td>153872.633942</td>\n",
       "    </tr>\n",
       "    <tr>\n",
       "      <th>50%</th>\n",
       "      <td>36.000000</td>\n",
       "      <td>2.000000</td>\n",
       "      <td>52.513310</td>\n",
       "      <td>32.781260</td>\n",
       "      <td>6.000000</td>\n",
       "      <td>7.000000</td>\n",
       "      <td>13.000000</td>\n",
       "      <td>1.977000e+03</td>\n",
       "      <td>0.075424</td>\n",
       "      <td>25.000000</td>\n",
       "      <td>5285.000000</td>\n",
       "      <td>2.000000</td>\n",
       "      <td>900.000000</td>\n",
       "      <td>1.000000</td>\n",
       "      <td>3.000000</td>\n",
       "      <td>192269.644879</td>\n",
       "    </tr>\n",
       "    <tr>\n",
       "      <th>75%</th>\n",
       "      <td>75.000000</td>\n",
       "      <td>2.000000</td>\n",
       "      <td>65.900625</td>\n",
       "      <td>45.128803</td>\n",
       "      <td>9.000000</td>\n",
       "      <td>12.000000</td>\n",
       "      <td>17.000000</td>\n",
       "      <td>2.001000e+03</td>\n",
       "      <td>0.195781</td>\n",
       "      <td>36.000000</td>\n",
       "      <td>7227.000000</td>\n",
       "      <td>5.000000</td>\n",
       "      <td>1548.000000</td>\n",
       "      <td>2.000000</td>\n",
       "      <td>6.000000</td>\n",
       "      <td>249135.462171</td>\n",
       "    </tr>\n",
       "    <tr>\n",
       "      <th>max</th>\n",
       "      <td>209.000000</td>\n",
       "      <td>19.000000</td>\n",
       "      <td>641.065193</td>\n",
       "      <td>7480.592129</td>\n",
       "      <td>2014.000000</td>\n",
       "      <td>42.000000</td>\n",
       "      <td>117.000000</td>\n",
       "      <td>2.005201e+07</td>\n",
       "      <td>0.521867</td>\n",
       "      <td>74.000000</td>\n",
       "      <td>19083.000000</td>\n",
       "      <td>141.000000</td>\n",
       "      <td>4849.000000</td>\n",
       "      <td>6.000000</td>\n",
       "      <td>23.000000</td>\n",
       "      <td>633233.466570</td>\n",
       "    </tr>\n",
       "  </tbody>\n",
       "</table>\n",
       "</div>"
      ],
      "text/plain": [
       "         DistrictId         Rooms        Square   LifeSquare  KitchenSquare  \\\n",
       "count  10000.000000  10000.000000  10000.000000  7887.000000   10000.000000   \n",
       "mean      50.400800      1.890500     56.315775    37.199645       6.273300   \n",
       "std       43.587592      0.839512     21.058732    86.241209      28.560917   \n",
       "min        0.000000      0.000000      1.136859     0.370619       0.000000   \n",
       "25%       20.000000      1.000000     41.774881    22.769832       1.000000   \n",
       "50%       36.000000      2.000000     52.513310    32.781260       6.000000   \n",
       "75%       75.000000      2.000000     65.900625    45.128803       9.000000   \n",
       "max      209.000000     19.000000    641.065193  7480.592129    2014.000000   \n",
       "\n",
       "              Floor    HouseFloor     HouseYear     Ecology_1      Social_1  \\\n",
       "count  10000.000000  10000.000000  1.000000e+04  10000.000000  10000.000000   \n",
       "mean       8.526700     12.609400  3.990166e+03      0.118858     24.687000   \n",
       "std        5.241148      6.775974  2.005003e+05      0.119025     17.532614   \n",
       "min        1.000000      0.000000  1.910000e+03      0.000000      0.000000   \n",
       "25%        4.000000      9.000000  1.974000e+03      0.017647      6.000000   \n",
       "50%        7.000000     13.000000  1.977000e+03      0.075424     25.000000   \n",
       "75%       12.000000     17.000000  2.001000e+03      0.195781     36.000000   \n",
       "max       42.000000    117.000000  2.005201e+07      0.521867     74.000000   \n",
       "\n",
       "           Social_2      Social_3  Healthcare_1   Helthcare_2       Shops_1  \\\n",
       "count  10000.000000  10000.000000   5202.000000  10000.000000  10000.000000   \n",
       "mean    5352.157400      8.039200   1142.904460      1.319500      4.231300   \n",
       "std     4006.799803     23.831875   1021.517264      1.493601      4.806341   \n",
       "min      168.000000      0.000000      0.000000      0.000000      0.000000   \n",
       "25%     1564.000000      0.000000    350.000000      0.000000      1.000000   \n",
       "50%     5285.000000      2.000000    900.000000      1.000000      3.000000   \n",
       "75%     7227.000000      5.000000   1548.000000      2.000000      6.000000   \n",
       "max    19083.000000    141.000000   4849.000000      6.000000     23.000000   \n",
       "\n",
       "               Price  \n",
       "count   10000.000000  \n",
       "mean   214138.857399  \n",
       "std     92872.293865  \n",
       "min     59174.778028  \n",
       "25%    153872.633942  \n",
       "50%    192269.644879  \n",
       "75%    249135.462171  \n",
       "max    633233.466570  "
      ]
     },
     "execution_count": 20,
     "metadata": {},
     "output_type": "execute_result"
    }
   ],
   "source": [
    "df.describe()"
   ]
  },
  {
   "cell_type": "markdown",
   "id": "tight-monthly",
   "metadata": {},
   "source": [
    "The most of fields have anomalies and outliers."
   ]
  },
  {
   "cell_type": "markdown",
   "id": "urban-evolution",
   "metadata": {},
   "source": [
    "Distribution of target variable:"
   ]
  },
  {
   "cell_type": "code",
   "execution_count": 21,
   "id": "adequate-monte",
   "metadata": {
    "scrolled": false
   },
   "outputs": [
    {
     "data": {
      "image/png": "[encoded data removed]",
      "text/plain": [
       "<Figure size 576x288 with 2 Axes>"
      ]
     },
     "metadata": {
      "needs_background": "light"
     },
     "output_type": "display_data"
    }
   ],
   "source": [
    "plt.figure(figsize = (8, 4))\n",
    "\n",
    "plt.subplot(121)\n",
    "df['Price'].hist(density=False, bins=20)\n",
    "plt.ylabel('count')\n",
    "plt.xlabel('price_value')\n",
    "\n",
    "plt.subplot(122)\n",
    "sns.kdeplot(df['Price'], shade=True, legend=False)\n",
    "plt.xlabel('price_value')\n",
    "\n",
    "plt.suptitle('Distribution of price_value')\n",
    "plt.show()"
   ]
  },
  {
   "cell_type": "code",
   "execution_count": 22,
   "id": "typical-excerpt",
   "metadata": {},
   "outputs": [
    {
     "data": {
      "text/plain": [
       "count     10000.000000\n",
       "mean     214138.857399\n",
       "std       92872.293865\n",
       "min       59174.778028\n",
       "25%      153872.633942\n",
       "50%      192269.644879\n",
       "75%      249135.462171\n",
       "max      633233.466570\n",
       "Name: Price, dtype: float64"
      ]
     },
     "execution_count": 22,
     "metadata": {},
     "output_type": "execute_result"
    }
   ],
   "source": [
    "df['Price'].describe()"
   ]
  },
  {
   "cell_type": "markdown",
   "id": "careful-deposit",
   "metadata": {},
   "source": [
    "Dispersion of target variable is closed to normal, non-symmetrical. \n",
    "\n",
    "It looks like that changes or processing of target variable Price is not required."
   ]
  },
  {
   "cell_type": "markdown",
   "id": "seven-electron",
   "metadata": {},
   "source": [
    "### Columns with null data"
   ]
  },
  {
   "cell_type": "code",
   "execution_count": 23,
   "id": "touched-quick",
   "metadata": {},
   "outputs": [
    {
     "data": {
      "text/plain": [
       "DistrictId          0\n",
       "Rooms               0\n",
       "Square              0\n",
       "LifeSquare       2113\n",
       "KitchenSquare       0\n",
       "Floor               0\n",
       "HouseFloor          0\n",
       "HouseYear           0\n",
       "Ecology_1           0\n",
       "Ecology_2           0\n",
       "Ecology_3           0\n",
       "Social_1            0\n",
       "Social_2            0\n",
       "Social_3            0\n",
       "Healthcare_1     4798\n",
       "Helthcare_2         0\n",
       "Shops_1             0\n",
       "Shops_2             0\n",
       "Price               0\n",
       "dtype: int64"
      ]
     },
     "execution_count": 23,
     "metadata": {},
     "output_type": "execute_result"
    }
   ],
   "source": [
    "df.isnull().sum()"
   ]
  },
  {
   "cell_type": "markdown",
   "id": "guided-mandate",
   "metadata": {},
   "source": [
    "'LifeSquare' and 'Healthcare_1' columns contains a lot of null data.\n",
    "\n",
    "Training dataset contains 10000 entries.\n",
    "\n",
    "So persent of missing data for 'LifeSquare' is 21.13 ad for Healthcare_1 is 47.98."
   ]
  },
  {
   "cell_type": "markdown",
   "id": "complimentary-fisher",
   "metadata": {},
   "source": [
    "#### Columns with anomalies/outliers"
   ]
  },
  {
   "cell_type": "code",
   "execution_count": 24,
   "id": "different-typing",
   "metadata": {
    "scrolled": true
   },
   "outputs": [
    {
     "data": {
      "text/html": [
       "<div>\n",
       "<style scoped>\n",
       "    .dataframe tbody tr th:only-of-type {\n",
       "        vertical-align: middle;\n",
       "    }\n",
       "\n",
       "    .dataframe tbody tr th {\n",
       "        vertical-align: top;\n",
       "    }\n",
       "\n",
       "    .dataframe thead th {\n",
       "        text-align: right;\n",
       "    }\n",
       "</style>\n",
       "<table border=\"1\" class=\"dataframe\">\n",
       "  <thead>\n",
       "    <tr style=\"text-align: right;\">\n",
       "      <th></th>\n",
       "      <th>DistrictId</th>\n",
       "      <th>Rooms</th>\n",
       "      <th>Square</th>\n",
       "      <th>LifeSquare</th>\n",
       "      <th>KitchenSquare</th>\n",
       "      <th>Floor</th>\n",
       "      <th>HouseFloor</th>\n",
       "      <th>HouseYear</th>\n",
       "      <th>Ecology_1</th>\n",
       "      <th>Social_1</th>\n",
       "      <th>Social_2</th>\n",
       "      <th>Social_3</th>\n",
       "      <th>Healthcare_1</th>\n",
       "      <th>Helthcare_2</th>\n",
       "      <th>Shops_1</th>\n",
       "      <th>Price</th>\n",
       "    </tr>\n",
       "  </thead>\n",
       "  <tbody>\n",
       "    <tr>\n",
       "      <th>count</th>\n",
       "      <td>10000.000000</td>\n",
       "      <td>10000.000000</td>\n",
       "      <td>10000.000000</td>\n",
       "      <td>7887.000000</td>\n",
       "      <td>10000.000000</td>\n",
       "      <td>10000.000000</td>\n",
       "      <td>10000.000000</td>\n",
       "      <td>1.000000e+04</td>\n",
       "      <td>10000.000000</td>\n",
       "      <td>10000.000000</td>\n",
       "      <td>10000.000000</td>\n",
       "      <td>10000.000000</td>\n",
       "      <td>5202.000000</td>\n",
       "      <td>10000.000000</td>\n",
       "      <td>10000.000000</td>\n",
       "      <td>10000.000000</td>\n",
       "    </tr>\n",
       "    <tr>\n",
       "      <th>mean</th>\n",
       "      <td>50.400800</td>\n",
       "      <td>1.890500</td>\n",
       "      <td>56.315775</td>\n",
       "      <td>37.199645</td>\n",
       "      <td>6.273300</td>\n",
       "      <td>8.526700</td>\n",
       "      <td>12.609400</td>\n",
       "      <td>3.990166e+03</td>\n",
       "      <td>0.118858</td>\n",
       "      <td>24.687000</td>\n",
       "      <td>5352.157400</td>\n",
       "      <td>8.039200</td>\n",
       "      <td>1142.904460</td>\n",
       "      <td>1.319500</td>\n",
       "      <td>4.231300</td>\n",
       "      <td>214138.857399</td>\n",
       "    </tr>\n",
       "    <tr>\n",
       "      <th>std</th>\n",
       "      <td>43.587592</td>\n",
       "      <td>0.839512</td>\n",
       "      <td>21.058732</td>\n",
       "      <td>86.241209</td>\n",
       "      <td>28.560917</td>\n",
       "      <td>5.241148</td>\n",
       "      <td>6.775974</td>\n",
       "      <td>2.005003e+05</td>\n",
       "      <td>0.119025</td>\n",
       "      <td>17.532614</td>\n",
       "      <td>4006.799803</td>\n",
       "      <td>23.831875</td>\n",
       "      <td>1021.517264</td>\n",
       "      <td>1.493601</td>\n",
       "      <td>4.806341</td>\n",
       "      <td>92872.293865</td>\n",
       "    </tr>\n",
       "    <tr>\n",
       "      <th>min</th>\n",
       "      <td>0.000000</td>\n",
       "      <td>0.000000</td>\n",
       "      <td>1.136859</td>\n",
       "      <td>0.370619</td>\n",
       "      <td>0.000000</td>\n",
       "      <td>1.000000</td>\n",
       "      <td>0.000000</td>\n",
       "      <td>1.910000e+03</td>\n",
       "      <td>0.000000</td>\n",
       "      <td>0.000000</td>\n",
       "      <td>168.000000</td>\n",
       "      <td>0.000000</td>\n",
       "      <td>0.000000</td>\n",
       "      <td>0.000000</td>\n",
       "      <td>0.000000</td>\n",
       "      <td>59174.778028</td>\n",
       "    </tr>\n",
       "    <tr>\n",
       "      <th>25%</th>\n",
       "      <td>20.000000</td>\n",
       "      <td>1.000000</td>\n",
       "      <td>41.774881</td>\n",
       "      <td>22.769832</td>\n",
       "      <td>1.000000</td>\n",
       "      <td>4.000000</td>\n",
       "      <td>9.000000</td>\n",
       "      <td>1.974000e+03</td>\n",
       "      <td>0.017647</td>\n",
       "      <td>6.000000</td>\n",
       "      <td>1564.000000</td>\n",
       "      <td>0.000000</td>\n",
       "      <td>350.000000</td>\n",
       "      <td>0.000000</td>\n",
       "      <td>1.000000</td>\n",
       "      <td>153872.633942</td>\n",
       "    </tr>\n",
       "    <tr>\n",
       "      <th>50%</th>\n",
       "      <td>36.000000</td>\n",
       "      <td>2.000000</td>\n",
       "      <td>52.513310</td>\n",
       "      <td>32.781260</td>\n",
       "      <td>6.000000</td>\n",
       "      <td>7.000000</td>\n",
       "      <td>13.000000</td>\n",
       "      <td>1.977000e+03</td>\n",
       "      <td>0.075424</td>\n",
       "      <td>25.000000</td>\n",
       "      <td>5285.000000</td>\n",
       "      <td>2.000000</td>\n",
       "      <td>900.000000</td>\n",
       "      <td>1.000000</td>\n",
       "      <td>3.000000</td>\n",
       "      <td>192269.644879</td>\n",
       "    </tr>\n",
       "    <tr>\n",
       "      <th>75%</th>\n",
       "      <td>75.000000</td>\n",
       "      <td>2.000000</td>\n",
       "      <td>65.900625</td>\n",
       "      <td>45.128803</td>\n",
       "      <td>9.000000</td>\n",
       "      <td>12.000000</td>\n",
       "      <td>17.000000</td>\n",
       "      <td>2.001000e+03</td>\n",
       "      <td>0.195781</td>\n",
       "      <td>36.000000</td>\n",
       "      <td>7227.000000</td>\n",
       "      <td>5.000000</td>\n",
       "      <td>1548.000000</td>\n",
       "      <td>2.000000</td>\n",
       "      <td>6.000000</td>\n",
       "      <td>249135.462171</td>\n",
       "    </tr>\n",
       "    <tr>\n",
       "      <th>max</th>\n",
       "      <td>209.000000</td>\n",
       "      <td>19.000000</td>\n",
       "      <td>641.065193</td>\n",
       "      <td>7480.592129</td>\n",
       "      <td>2014.000000</td>\n",
       "      <td>42.000000</td>\n",
       "      <td>117.000000</td>\n",
       "      <td>2.005201e+07</td>\n",
       "      <td>0.521867</td>\n",
       "      <td>74.000000</td>\n",
       "      <td>19083.000000</td>\n",
       "      <td>141.000000</td>\n",
       "      <td>4849.000000</td>\n",
       "      <td>6.000000</td>\n",
       "      <td>23.000000</td>\n",
       "      <td>633233.466570</td>\n",
       "    </tr>\n",
       "  </tbody>\n",
       "</table>\n",
       "</div>"
      ],
      "text/plain": [
       "         DistrictId         Rooms        Square   LifeSquare  KitchenSquare  \\\n",
       "count  10000.000000  10000.000000  10000.000000  7887.000000   10000.000000   \n",
       "mean      50.400800      1.890500     56.315775    37.199645       6.273300   \n",
       "std       43.587592      0.839512     21.058732    86.241209      28.560917   \n",
       "min        0.000000      0.000000      1.136859     0.370619       0.000000   \n",
       "25%       20.000000      1.000000     41.774881    22.769832       1.000000   \n",
       "50%       36.000000      2.000000     52.513310    32.781260       6.000000   \n",
       "75%       75.000000      2.000000     65.900625    45.128803       9.000000   \n",
       "max      209.000000     19.000000    641.065193  7480.592129    2014.000000   \n",
       "\n",
       "              Floor    HouseFloor     HouseYear     Ecology_1      Social_1  \\\n",
       "count  10000.000000  10000.000000  1.000000e+04  10000.000000  10000.000000   \n",
       "mean       8.526700     12.609400  3.990166e+03      0.118858     24.687000   \n",
       "std        5.241148      6.775974  2.005003e+05      0.119025     17.532614   \n",
       "min        1.000000      0.000000  1.910000e+03      0.000000      0.000000   \n",
       "25%        4.000000      9.000000  1.974000e+03      0.017647      6.000000   \n",
       "50%        7.000000     13.000000  1.977000e+03      0.075424     25.000000   \n",
       "75%       12.000000     17.000000  2.001000e+03      0.195781     36.000000   \n",
       "max       42.000000    117.000000  2.005201e+07      0.521867     74.000000   \n",
       "\n",
       "           Social_2      Social_3  Healthcare_1   Helthcare_2       Shops_1  \\\n",
       "count  10000.000000  10000.000000   5202.000000  10000.000000  10000.000000   \n",
       "mean    5352.157400      8.039200   1142.904460      1.319500      4.231300   \n",
       "std     4006.799803     23.831875   1021.517264      1.493601      4.806341   \n",
       "min      168.000000      0.000000      0.000000      0.000000      0.000000   \n",
       "25%     1564.000000      0.000000    350.000000      0.000000      1.000000   \n",
       "50%     5285.000000      2.000000    900.000000      1.000000      3.000000   \n",
       "75%     7227.000000      5.000000   1548.000000      2.000000      6.000000   \n",
       "max    19083.000000    141.000000   4849.000000      6.000000     23.000000   \n",
       "\n",
       "               Price  \n",
       "count   10000.000000  \n",
       "mean   214138.857399  \n",
       "std     92872.293865  \n",
       "min     59174.778028  \n",
       "25%    153872.633942  \n",
       "50%    192269.644879  \n",
       "75%    249135.462171  \n",
       "max    633233.466570  "
      ]
     },
     "execution_count": 24,
     "metadata": {},
     "output_type": "execute_result"
    }
   ],
   "source": [
    "df.describe()"
   ]
  },
  {
   "cell_type": "code",
   "execution_count": 25,
   "id": "popular-external",
   "metadata": {},
   "outputs": [
    {
     "data": {
      "text/plain": [
       "DistrictId       486\n",
       "Rooms            486\n",
       "Square           486\n",
       "LifeSquare       486\n",
       "KitchenSquare    486\n",
       "Floor            486\n",
       "HouseFloor       486\n",
       "HouseYear        486\n",
       "Ecology_1        486\n",
       "Ecology_2        486\n",
       "Ecology_3        486\n",
       "Social_1         486\n",
       "Social_2         486\n",
       "Social_3         486\n",
       "Healthcare_1     170\n",
       "Helthcare_2      486\n",
       "Shops_1          486\n",
       "Shops_2          486\n",
       "Price            486\n",
       "dtype: int64"
      ]
     },
     "execution_count": 25,
     "metadata": {},
     "output_type": "execute_result"
    }
   ],
   "source": [
    "df[(df['KitchenSquare'] > df['Square']) | (df['LifeSquare'] > df['Square'])].count()"
   ]
  },
  {
   "cell_type": "markdown",
   "id": "accurate-interaction",
   "metadata": {},
   "source": [
    "Amount of columns where floor value exceeds general amount of floor."
   ]
  },
  {
   "cell_type": "code",
   "execution_count": 26,
   "id": "gross-designation",
   "metadata": {},
   "outputs": [
    {
     "data": {
      "text/plain": [
       "DistrictId       1825\n",
       "Rooms            1825\n",
       "Square           1825\n",
       "LifeSquare       1210\n",
       "KitchenSquare    1825\n",
       "Floor            1825\n",
       "HouseFloor       1825\n",
       "HouseYear        1825\n",
       "Ecology_1        1825\n",
       "Ecology_2        1825\n",
       "Ecology_3        1825\n",
       "Social_1         1825\n",
       "Social_2         1825\n",
       "Social_3         1825\n",
       "Healthcare_1      861\n",
       "Helthcare_2      1825\n",
       "Shops_1          1825\n",
       "Shops_2          1825\n",
       "Price            1825\n",
       "dtype: int64"
      ]
     },
     "execution_count": 26,
     "metadata": {},
     "output_type": "execute_result"
    }
   ],
   "source": [
    "df[df['Floor'] > df['HouseFloor']].count()"
   ]
  },
  {
   "cell_type": "markdown",
   "id": "incredible-wales",
   "metadata": {},
   "source": [
    "Data for cases above will be transformed in the next sections."
   ]
  },
  {
   "cell_type": "markdown",
   "id": "laden-castle",
   "metadata": {},
   "source": [
    "#### Categorial variables"
   ]
  },
  {
   "cell_type": "markdown",
   "id": "quarterly-shuttle",
   "metadata": {},
   "source": [
    "The most part of columns contains numerical data, but three of them have object/category data type:\n",
    "- Ecology_2 \n",
    "- Ecology_3\n",
    "- Shops_2 \n",
    "\n",
    "During further processing object datatypes will be changed to their numerical equivalents."
   ]
  },
  {
   "cell_type": "code",
   "execution_count": 27,
   "id": "greek-sentence",
   "metadata": {},
   "outputs": [
    {
     "data": {
      "text/html": [
       "<div>\n",
       "<style scoped>\n",
       "    .dataframe tbody tr th:only-of-type {\n",
       "        vertical-align: middle;\n",
       "    }\n",
       "\n",
       "    .dataframe tbody tr th {\n",
       "        vertical-align: top;\n",
       "    }\n",
       "\n",
       "    .dataframe thead th {\n",
       "        text-align: right;\n",
       "    }\n",
       "</style>\n",
       "<table border=\"1\" class=\"dataframe\">\n",
       "  <thead>\n",
       "    <tr style=\"text-align: right;\">\n",
       "      <th></th>\n",
       "      <th>Ecology_2</th>\n",
       "      <th>Ecology_3</th>\n",
       "      <th>Shops_2</th>\n",
       "    </tr>\n",
       "    <tr>\n",
       "      <th>Id</th>\n",
       "      <th></th>\n",
       "      <th></th>\n",
       "      <th></th>\n",
       "    </tr>\n",
       "  </thead>\n",
       "  <tbody>\n",
       "    <tr>\n",
       "      <th>14038</th>\n",
       "      <td>B</td>\n",
       "      <td>B</td>\n",
       "      <td>B</td>\n",
       "    </tr>\n",
       "    <tr>\n",
       "      <th>15053</th>\n",
       "      <td>B</td>\n",
       "      <td>B</td>\n",
       "      <td>B</td>\n",
       "    </tr>\n",
       "    <tr>\n",
       "      <th>4765</th>\n",
       "      <td>B</td>\n",
       "      <td>B</td>\n",
       "      <td>B</td>\n",
       "    </tr>\n",
       "    <tr>\n",
       "      <th>5809</th>\n",
       "      <td>B</td>\n",
       "      <td>B</td>\n",
       "      <td>B</td>\n",
       "    </tr>\n",
       "    <tr>\n",
       "      <th>10783</th>\n",
       "      <td>B</td>\n",
       "      <td>B</td>\n",
       "      <td>B</td>\n",
       "    </tr>\n",
       "    <tr>\n",
       "      <th>...</th>\n",
       "      <td>...</td>\n",
       "      <td>...</td>\n",
       "      <td>...</td>\n",
       "    </tr>\n",
       "    <tr>\n",
       "      <th>77</th>\n",
       "      <td>B</td>\n",
       "      <td>B</td>\n",
       "      <td>B</td>\n",
       "    </tr>\n",
       "    <tr>\n",
       "      <th>6159</th>\n",
       "      <td>B</td>\n",
       "      <td>B</td>\n",
       "      <td>A</td>\n",
       "    </tr>\n",
       "    <tr>\n",
       "      <th>5123</th>\n",
       "      <td>B</td>\n",
       "      <td>B</td>\n",
       "      <td>A</td>\n",
       "    </tr>\n",
       "    <tr>\n",
       "      <th>5400</th>\n",
       "      <td>B</td>\n",
       "      <td>A</td>\n",
       "      <td>B</td>\n",
       "    </tr>\n",
       "    <tr>\n",
       "      <th>6306</th>\n",
       "      <td>B</td>\n",
       "      <td>B</td>\n",
       "      <td>B</td>\n",
       "    </tr>\n",
       "  </tbody>\n",
       "</table>\n",
       "<p>10000 rows × 3 columns</p>\n",
       "</div>"
      ],
      "text/plain": [
       "      Ecology_2 Ecology_3 Shops_2\n",
       "Id                               \n",
       "14038         B         B       B\n",
       "15053         B         B       B\n",
       "4765          B         B       B\n",
       "5809          B         B       B\n",
       "10783         B         B       B\n",
       "...         ...       ...     ...\n",
       "77            B         B       B\n",
       "6159          B         B       A\n",
       "5123          B         B       A\n",
       "5400          B         A       B\n",
       "6306          B         B       B\n",
       "\n",
       "[10000 rows x 3 columns]"
      ]
     },
     "execution_count": 27,
     "metadata": {},
     "output_type": "execute_result"
    }
   ],
   "source": [
    "df.select_dtypes(include=['object', 'category'])"
   ]
  },
  {
   "cell_type": "markdown",
   "id": "affected-lemon",
   "metadata": {},
   "source": [
    "Changing of datatypes and converting of columns is not required."
   ]
  },
  {
   "cell_type": "markdown",
   "id": "drawn-elizabeth",
   "metadata": {},
   "source": [
    "## 3. Functions for data processing <a class='anchor' id='functions'>"
   ]
  },
  {
   "cell_type": "markdown",
   "id": "sensitive-cassette",
   "metadata": {},
   "source": [
    "This section contains functions which can be used in next sections to simplify performing of some operations."
   ]
  },
  {
   "cell_type": "code",
   "execution_count": 28,
   "id": "russian-amber",
   "metadata": {},
   "outputs": [],
   "source": [
    "    def reduce_mem_usage(df):\n",
    "        \"\"\" iterate through all the columns of a dataframe and modify the data type\n",
    "            to reduce memory usage.        \n",
    "        \"\"\"\n",
    "        start_mem = df.memory_usage().sum() / 1024**2\n",
    "        print('Memory usage of dataframe is {:.2f} MB'.format(start_mem))\n",
    "    \n",
    "        for col in df.columns:\n",
    "            col_type = df[col].dtype\n",
    "        \n",
    "        if col_type != object:\n",
    "            c_min = df[col].min()\n",
    "            c_max = df[col].max()\n",
    "            if str(col_type)[:3] == 'int':\n",
    "                if c_min > np.iinfo(np.int8).min and c_max < np.iinfo(np.int8).max:\n",
    "                    df[col] = df[col].astype(np.int8)\n",
    "                elif c_min > np.iinfo(np.int16).min and c_max < np.iinfo(np.int16).max:\n",
    "                    df[col] = df[col].astype(np.int16)\n",
    "                elif c_min > np.iinfo(np.int32).min and c_max < np.iinfo(np.int32).max:\n",
    "                    df[col] = df[col].astype(np.int32)\n",
    "                elif c_min > np.iinfo(np.int64).min and c_max < np.iinfo(np.int64).max:\n",
    "                    df[col] = df[col].astype(np.int64)  \n",
    "            else:\n",
    "                if c_min > np.finfo(np.float32).min and c_max < np.finfo(np.float32).max:\n",
    "                    df[col] = df[col].astype(np.float32)\n",
    "                else:\n",
    "                    df[col] = df[col].astype(np.float64)\n",
    "        else:\n",
    "            df[col] = df[col].astype('category')\n",
    "\n",
    "        end_mem = df.memory_usage().sum() / 1024**2\n",
    "        print('Memory usage after optimization is: {:.2f} MB'.format(end_mem))\n",
    "        print('Decreased by {:.1f}%'.format(100 * (start_mem - end_mem) / start_mem))\n",
    "    \n",
    "        return df    "
   ]
  },
  {
   "cell_type": "code",
   "execution_count": 29,
   "id": "streaming-helicopter",
   "metadata": {},
   "outputs": [],
   "source": [
    "def evaluate_preds(true_values, pred_values, save=False):\n",
    "    \"\"\"Evaluation of model quality preds vs true\"\"\"\n",
    "    \n",
    "    print(\"R2:\\t\" + str(round(r2_score(true_values, pred_values), 3)) + \"\\n\" +\n",
    "          \"RMSE:\\t\" + str(round(np.sqrt(mean_squared_error(true_values, pred_values)), 3)) + \"\\n\" +\n",
    "          \"MSE:\\t\" + str(round(mean_squared_error(true_values, pred_values), 3))\n",
    "         )\n",
    "    \n",
    "    plt.figure(figsize=(8,8))\n",
    "    \n",
    "    sns.scatterplot(x=pred_values, y=true_values)\n",
    "    plt.plot([0, 500000], [0, 500000], linestyle='--', color='black')  # line where true_values = pred_values\n",
    "    \n",
    "    plt.xlabel('Predicted values')\n",
    "    plt.ylabel('True values')\n",
    "    plt.title('True vs Predicted values')\n",
    "    \n",
    "    if save == True:\n",
    "        plt.savefig(REPORTS_FILE_PATH + 'report.png')\n",
    "    plt.show()"
   ]
  },
  {
   "cell_type": "code",
   "execution_count": 30,
   "id": "breathing-melbourne",
   "metadata": {},
   "outputs": [],
   "source": [
    "# function is need to dataset processing and clearing of data\n",
    "def data_clearing (dfr):\n",
    "    # median values for dataframes. Median values will be used for data preprocessing and gaps filling.\n",
    "    # all changes for dataframe in this function were made according to feature analysis in section 4\n",
    "    #ls_median = dfr['LifeSquare'].median()\n",
    "    yr_median = dfr['HouseYear'].median()\n",
    "    #house_floor_median = dfr['HouseFloor'].median()\n",
    "    kc_median = dfr['KitchenSquare'].median()\n",
    "    rm_median = dfr['Rooms'].median()\n",
    "\n",
    "    # Rooms\n",
    "    dfr.loc[dfr['Rooms'] < 1, 'Rooms'] = 1\n",
    "    dfr.loc[dfr['Rooms'] >= 6, 'Rooms'] = rm_median\n",
    "    \n",
    "    \n",
    "    #Kitchen square\n",
    "    dfr.loc[dfr['KitchenSquare'] < 3, 'KitchenSquare'] = 3\n",
    "    dfr.loc[dfr['KitchenSquare'] > 100, 'KitchenSquare'] = kc_median\n",
    "    dfr.loc[dfr['KitchenSquare'] > dfr['Square'], 'KitchenSquare'] = 3\n",
    "    \n",
    "    #House Floor\n",
    "    #hf_median\n",
    "    dfr.loc[dfr['HouseFloor']==0, 'HouseFloor'] = dfr['Floor']\n",
    "    dfr.loc[(dfr['Floor'] > dfr['HouseFloor']), 'HouseFloor'] = dfr['HouseFloor']   \n",
    "    \n",
    "    #House Year\n",
    "    dfr.loc[dfr['HouseYear'] > 2021, 'HouseYear'] = yr_median\n",
    "    \n",
    "    #Healthcare_1\n",
    "    #if 'Healthcare_1' in dfr.columns:\n",
    "    #    dfr = dfr.drop('Healthcare_1', axis = 1)\n",
    "    dfr = dfr.fillna(df['Healthcare_1'].median())\n",
    "    \n",
    "    #LifeSquare\n",
    "    comparing_condition = ((dfr['LifeSquare'].isnull()) | (dfr['LifeSquare'] > (dfr['Square'] - dfr['KitchenSquare'])))\n",
    "    dfr.loc[comparing_condition, 'LifeSquare'] = \\\n",
    "    dfr.loc[comparing_condition, 'Square'] - dfr.loc[comparing_condition, 'KitchenSquare'] - 2\n",
    "    # 2 \n",
    "            \n",
    "    #Removing all auxiliary columns from dataset\n",
    "    if 'square_difference' in dfr.columns:\n",
    "        dfr = dfr.drop('square_difference', axis = 1)\n",
    "    if 'avg_room_square' in dfr.columns:\n",
    "        dfr = dfr.drop('avg_room_square', axis = 1)\n",
    "    if 'gen_square_kitchen' in dfr.columns:\n",
    "        dfr = dfr.drop('gen_square_kitchen', axis = 1)\n",
    "    \n",
    "    return dfr"
   ]
  },
  {
   "cell_type": "markdown",
   "id": "legal-privilege",
   "metadata": {},
   "source": [
    "## 4. Data visualisation and pre-processing <a class='anchor' id='visualization'>"
   ]
  },
  {
   "cell_type": "markdown",
   "id": "fatty-chicago",
   "metadata": {},
   "source": [
    "Visualisation:\n",
    "- Histograms for numeric variables distribution\n",
    "- Boxplots before and after pre-processing\n",
    "- Distribution of categorial variables."
   ]
  },
  {
   "cell_type": "markdown",
   "id": "fundamental-absolute",
   "metadata": {},
   "source": [
    "Preprocessing:\n",
    "\n",
    "1. remove columns with lack of data\n",
    "2. Change NaN to appropriate group median values\n",
    "3. Change categorial features to numerical\n",
    "4. Normalization of data (optional)\n",
    "5. regularization of data (optional)"
   ]
  },
  {
   "cell_type": "markdown",
   "id": "virgin-preserve",
   "metadata": {},
   "source": [
    "Creattion of copy of initial dataset for preprocessing."
   ]
  },
  {
   "cell_type": "code",
   "execution_count": 31,
   "id": "reduced-familiar",
   "metadata": {
    "scrolled": true
   },
   "outputs": [],
   "source": [
    "df_fill = df.copy()"
   ]
  },
  {
   "cell_type": "code",
   "execution_count": 32,
   "id": "encouraging-employer",
   "metadata": {},
   "outputs": [],
   "source": [
    "df_target = 'Price'"
   ]
  },
  {
   "cell_type": "code",
   "execution_count": 33,
   "id": "contrary-secret",
   "metadata": {
    "scrolled": true
   },
   "outputs": [
    {
     "data": {
      "text/html": [
       "<div>\n",
       "<style scoped>\n",
       "    .dataframe tbody tr th:only-of-type {\n",
       "        vertical-align: middle;\n",
       "    }\n",
       "\n",
       "    .dataframe tbody tr th {\n",
       "        vertical-align: top;\n",
       "    }\n",
       "\n",
       "    .dataframe thead th {\n",
       "        text-align: right;\n",
       "    }\n",
       "</style>\n",
       "<table border=\"1\" class=\"dataframe\">\n",
       "  <thead>\n",
       "    <tr style=\"text-align: right;\">\n",
       "      <th></th>\n",
       "      <th>DistrictId</th>\n",
       "      <th>Rooms</th>\n",
       "      <th>Square</th>\n",
       "      <th>LifeSquare</th>\n",
       "      <th>KitchenSquare</th>\n",
       "      <th>Floor</th>\n",
       "      <th>HouseFloor</th>\n",
       "      <th>HouseYear</th>\n",
       "      <th>Ecology_1</th>\n",
       "      <th>Ecology_2</th>\n",
       "      <th>Ecology_3</th>\n",
       "      <th>Social_1</th>\n",
       "      <th>Social_2</th>\n",
       "      <th>Social_3</th>\n",
       "      <th>Healthcare_1</th>\n",
       "      <th>Helthcare_2</th>\n",
       "      <th>Shops_1</th>\n",
       "      <th>Shops_2</th>\n",
       "      <th>Price</th>\n",
       "    </tr>\n",
       "    <tr>\n",
       "      <th>Id</th>\n",
       "      <th></th>\n",
       "      <th></th>\n",
       "      <th></th>\n",
       "      <th></th>\n",
       "      <th></th>\n",
       "      <th></th>\n",
       "      <th></th>\n",
       "      <th></th>\n",
       "      <th></th>\n",
       "      <th></th>\n",
       "      <th></th>\n",
       "      <th></th>\n",
       "      <th></th>\n",
       "      <th></th>\n",
       "      <th></th>\n",
       "      <th></th>\n",
       "      <th></th>\n",
       "      <th></th>\n",
       "      <th></th>\n",
       "    </tr>\n",
       "  </thead>\n",
       "  <tbody>\n",
       "    <tr>\n",
       "      <th>14038</th>\n",
       "      <td>35</td>\n",
       "      <td>2.0</td>\n",
       "      <td>47.981561</td>\n",
       "      <td>29.442751</td>\n",
       "      <td>6.0</td>\n",
       "      <td>7</td>\n",
       "      <td>9.0</td>\n",
       "      <td>1969</td>\n",
       "      <td>0.089040</td>\n",
       "      <td>B</td>\n",
       "      <td>B</td>\n",
       "      <td>33</td>\n",
       "      <td>7976</td>\n",
       "      <td>5</td>\n",
       "      <td>NaN</td>\n",
       "      <td>0</td>\n",
       "      <td>11</td>\n",
       "      <td>B</td>\n",
       "      <td>184966.930730</td>\n",
       "    </tr>\n",
       "    <tr>\n",
       "      <th>15053</th>\n",
       "      <td>41</td>\n",
       "      <td>3.0</td>\n",
       "      <td>65.683640</td>\n",
       "      <td>40.049543</td>\n",
       "      <td>8.0</td>\n",
       "      <td>7</td>\n",
       "      <td>9.0</td>\n",
       "      <td>1978</td>\n",
       "      <td>0.000070</td>\n",
       "      <td>B</td>\n",
       "      <td>B</td>\n",
       "      <td>46</td>\n",
       "      <td>10309</td>\n",
       "      <td>1</td>\n",
       "      <td>240.0</td>\n",
       "      <td>1</td>\n",
       "      <td>16</td>\n",
       "      <td>B</td>\n",
       "      <td>300009.450063</td>\n",
       "    </tr>\n",
       "    <tr>\n",
       "      <th>4765</th>\n",
       "      <td>53</td>\n",
       "      <td>2.0</td>\n",
       "      <td>44.947953</td>\n",
       "      <td>29.197612</td>\n",
       "      <td>0.0</td>\n",
       "      <td>8</td>\n",
       "      <td>12.0</td>\n",
       "      <td>1968</td>\n",
       "      <td>0.049637</td>\n",
       "      <td>B</td>\n",
       "      <td>B</td>\n",
       "      <td>34</td>\n",
       "      <td>7759</td>\n",
       "      <td>0</td>\n",
       "      <td>229.0</td>\n",
       "      <td>1</td>\n",
       "      <td>3</td>\n",
       "      <td>B</td>\n",
       "      <td>220925.908524</td>\n",
       "    </tr>\n",
       "    <tr>\n",
       "      <th>5809</th>\n",
       "      <td>58</td>\n",
       "      <td>2.0</td>\n",
       "      <td>53.352981</td>\n",
       "      <td>52.731512</td>\n",
       "      <td>9.0</td>\n",
       "      <td>8</td>\n",
       "      <td>17.0</td>\n",
       "      <td>1977</td>\n",
       "      <td>0.437885</td>\n",
       "      <td>B</td>\n",
       "      <td>B</td>\n",
       "      <td>23</td>\n",
       "      <td>5735</td>\n",
       "      <td>3</td>\n",
       "      <td>1084.0</td>\n",
       "      <td>0</td>\n",
       "      <td>5</td>\n",
       "      <td>B</td>\n",
       "      <td>175616.227217</td>\n",
       "    </tr>\n",
       "    <tr>\n",
       "      <th>10783</th>\n",
       "      <td>99</td>\n",
       "      <td>1.0</td>\n",
       "      <td>39.649192</td>\n",
       "      <td>23.776169</td>\n",
       "      <td>7.0</td>\n",
       "      <td>11</td>\n",
       "      <td>12.0</td>\n",
       "      <td>1976</td>\n",
       "      <td>0.012339</td>\n",
       "      <td>B</td>\n",
       "      <td>B</td>\n",
       "      <td>35</td>\n",
       "      <td>5776</td>\n",
       "      <td>1</td>\n",
       "      <td>2078.0</td>\n",
       "      <td>2</td>\n",
       "      <td>4</td>\n",
       "      <td>B</td>\n",
       "      <td>150226.531644</td>\n",
       "    </tr>\n",
       "  </tbody>\n",
       "</table>\n",
       "</div>"
      ],
      "text/plain": [
       "       DistrictId  Rooms     Square  LifeSquare  KitchenSquare  Floor  \\\n",
       "Id                                                                      \n",
       "14038          35    2.0  47.981561   29.442751            6.0      7   \n",
       "15053          41    3.0  65.683640   40.049543            8.0      7   \n",
       "4765           53    2.0  44.947953   29.197612            0.0      8   \n",
       "5809           58    2.0  53.352981   52.731512            9.0      8   \n",
       "10783          99    1.0  39.649192   23.776169            7.0     11   \n",
       "\n",
       "       HouseFloor  HouseYear  Ecology_1 Ecology_2 Ecology_3  Social_1  \\\n",
       "Id                                                                      \n",
       "14038         9.0       1969   0.089040         B         B        33   \n",
       "15053         9.0       1978   0.000070         B         B        46   \n",
       "4765         12.0       1968   0.049637         B         B        34   \n",
       "5809         17.0       1977   0.437885         B         B        23   \n",
       "10783        12.0       1976   0.012339         B         B        35   \n",
       "\n",
       "       Social_2  Social_3  Healthcare_1  Helthcare_2  Shops_1 Shops_2  \\\n",
       "Id                                                                      \n",
       "14038      7976         5           NaN            0       11       B   \n",
       "15053     10309         1         240.0            1       16       B   \n",
       "4765       7759         0         229.0            1        3       B   \n",
       "5809       5735         3        1084.0            0        5       B   \n",
       "10783      5776         1        2078.0            2        4       B   \n",
       "\n",
       "               Price  \n",
       "Id                    \n",
       "14038  184966.930730  \n",
       "15053  300009.450063  \n",
       "4765   220925.908524  \n",
       "5809   175616.227217  \n",
       "10783  150226.531644  "
      ]
     },
     "execution_count": 33,
     "metadata": {},
     "output_type": "execute_result"
    }
   ],
   "source": [
    "df_fill.head()"
   ]
  },
  {
   "cell_type": "markdown",
   "id": "included-workstation",
   "metadata": {},
   "source": [
    "Distribution of numeric variables:"
   ]
  },
  {
   "cell_type": "code",
   "execution_count": 34,
   "id": "remarkable-living",
   "metadata": {},
   "outputs": [
    {
     "data": {
      "text/plain": [
       "DistrictId          0\n",
       "Rooms               0\n",
       "Square              0\n",
       "LifeSquare       2113\n",
       "KitchenSquare       0\n",
       "Floor               0\n",
       "HouseFloor          0\n",
       "HouseYear           0\n",
       "Ecology_1           0\n",
       "Social_1            0\n",
       "Social_2            0\n",
       "Social_3            0\n",
       "Healthcare_1     4798\n",
       "Helthcare_2         0\n",
       "Shops_1             0\n",
       "Price               0\n",
       "dtype: int64"
      ]
     },
     "execution_count": 34,
     "metadata": {},
     "output_type": "execute_result"
    }
   ],
   "source": [
    "df_num_features = df_fill.select_dtypes(include=['float64', 'float32', 'float16', 'int64', 'int32', 'int16', 'int8'])\n",
    "df_num_features.isnull().sum()"
   ]
  },
  {
   "cell_type": "code",
   "execution_count": 35,
   "id": "wrapped-therapy",
   "metadata": {},
   "outputs": [],
   "source": [
    "df_num_features = df_num_features.drop('Price', axis = 1)\n"
   ]
  },
  {
   "cell_type": "markdown",
   "id": "better-soccer",
   "metadata": {},
   "source": [
    "Selecting of numerical features and check their distribution."
   ]
  },
  {
   "cell_type": "code",
   "execution_count": 36,
   "id": "institutional-montgomery",
   "metadata": {},
   "outputs": [
    {
     "data": {
      "image/png": "[encoded data removed]",
      "text/plain": [
       "<Figure size 864x864 with 16 Axes>"
      ]
     },
     "metadata": {
      "needs_background": "light"
     },
     "output_type": "display_data"
    }
   ],
   "source": [
    "df_num_features.hist(figsize=(12,12), bins=20, grid=False);"
   ]
  },
  {
   "cell_type": "markdown",
   "id": "square-balloon",
   "metadata": {},
   "source": [
    "### Processing of features"
   ]
  },
  {
   "cell_type": "markdown",
   "id": "noble-frontier",
   "metadata": {},
   "source": [
    "In this section some features will be transformed to remove anomalies and outliers"
   ]
  },
  {
   "cell_type": "markdown",
   "id": "unknown-statement",
   "metadata": {},
   "source": [
    "Adding of new temporary features for analyze outliers."
   ]
  },
  {
   "cell_type": "markdown",
   "id": "hindu-radiation",
   "metadata": {},
   "source": [
    "Temporary columns. Will be deleted after completing of preprocessing."
   ]
  },
  {
   "cell_type": "code",
   "execution_count": 37,
   "id": "provincial-melbourne",
   "metadata": {},
   "outputs": [],
   "source": [
    "del df_num_features"
   ]
  },
  {
   "cell_type": "code",
   "execution_count": 38,
   "id": "radical-radiation",
   "metadata": {},
   "outputs": [],
   "source": [
    "# Average square per room in each appartment\n",
    "df_fill['avg_room_square'] = (df_fill['Square']/df_fill['Rooms']).astype('float32')"
   ]
  },
  {
   "cell_type": "code",
   "execution_count": 39,
   "id": "optical-chicago",
   "metadata": {},
   "outputs": [],
   "source": [
    "# Ratio between kitchen square and square\n",
    "df_fill['gen_square_kitchen'] = (df_fill['KitchenSquare']/df_fill['Square']).astype('float32')"
   ]
  },
  {
   "cell_type": "code",
   "execution_count": 40,
   "id": "sexual-patient",
   "metadata": {},
   "outputs": [],
   "source": [
    "# difference between general square and other mentioned squares\n",
    "df_fill['square_difference'] = (df_fill['Square'] - df_fill['KitchenSquare'] - df_fill['LifeSquare']).round(decimals = 0)"
   ]
  },
  {
   "cell_type": "markdown",
   "id": "exposed-trinity",
   "metadata": {},
   "source": [
    "In the rows below each feature will be processed individually and regarding of result analyze optimal way for feature processing will be chosen."
   ]
  },
  {
   "cell_type": "markdown",
   "id": "convertible-failing",
   "metadata": {},
   "source": [
    "**Rooms**"
   ]
  },
  {
   "cell_type": "code",
   "execution_count": 41,
   "id": "atlantic-tennessee",
   "metadata": {
    "scrolled": false
   },
   "outputs": [
    {
     "name": "stderr",
     "output_type": "stream",
     "text": [
      "c:\\users\\пк\\appdata\\local\\programs\\python\\python39\\lib\\site-packages\\seaborn\\_decorators.py:36: FutureWarning: Pass the following variable as a keyword arg: x. From version 0.12, the only valid positional argument will be `data`, and passing other arguments without an explicit keyword will result in an error or misinterpretation.\n",
      "  warnings.warn(\n"
     ]
    },
    {
     "data": {
      "image/png": "[encoded data removed]",
      "text/plain": [
       "<Figure size 432x216 with 1 Axes>"
      ]
     },
     "metadata": {
      "needs_background": "light"
     },
     "output_type": "display_data"
    }
   ],
   "source": [
    "plt.figure(figsize=(6, 3))\n",
    "sns.boxplot(df_fill['Rooms'])\n",
    "plt.xlabel('Rooms')\n",
    "plt.show()"
   ]
  },
  {
   "cell_type": "code",
   "execution_count": 42,
   "id": "dramatic-history",
   "metadata": {
    "scrolled": true
   },
   "outputs": [
    {
     "data": {
      "text/plain": [
       "count    10000.000000\n",
       "mean         1.890500\n",
       "std          0.839512\n",
       "min          0.000000\n",
       "25%          1.000000\n",
       "50%          2.000000\n",
       "75%          2.000000\n",
       "max         19.000000\n",
       "Name: Rooms, dtype: float64"
      ]
     },
     "execution_count": 42,
     "metadata": {},
     "output_type": "execute_result"
    }
   ],
   "source": [
    "df_fill['Rooms'].describe()"
   ]
  },
  {
   "cell_type": "code",
   "execution_count": 43,
   "id": "headed-night",
   "metadata": {},
   "outputs": [
    {
     "data": {
      "text/plain": [
       "6.0        1\n",
       "19.0       1\n",
       "10.0       2\n",
       "0.0        8\n",
       "5.0       18\n",
       "4.0      150\n",
       "3.0     2235\n",
       "1.0     3705\n",
       "2.0     3880\n",
       "Name: Rooms, dtype: int64"
      ]
     },
     "execution_count": 43,
     "metadata": {},
     "output_type": "execute_result"
    }
   ],
   "source": [
    "df_fill['Rooms'].value_counts().sort_values()"
   ]
  },
  {
   "cell_type": "markdown",
   "id": "hundred-distribution",
   "metadata": {},
   "source": [
    "All appartmets where rooms have zero value will be changed to 1"
   ]
  },
  {
   "cell_type": "code",
   "execution_count": 44,
   "id": "spread-example",
   "metadata": {},
   "outputs": [
    {
     "data": {
      "text/html": [
       "<div>\n",
       "<style scoped>\n",
       "    .dataframe tbody tr th:only-of-type {\n",
       "        vertical-align: middle;\n",
       "    }\n",
       "\n",
       "    .dataframe tbody tr th {\n",
       "        vertical-align: top;\n",
       "    }\n",
       "\n",
       "    .dataframe thead th {\n",
       "        text-align: right;\n",
       "    }\n",
       "</style>\n",
       "<table border=\"1\" class=\"dataframe\">\n",
       "  <thead>\n",
       "    <tr style=\"text-align: right;\">\n",
       "      <th></th>\n",
       "      <th>Rooms</th>\n",
       "      <th>avg_room_square</th>\n",
       "    </tr>\n",
       "    <tr>\n",
       "      <th>Id</th>\n",
       "      <th></th>\n",
       "      <th></th>\n",
       "    </tr>\n",
       "  </thead>\n",
       "  <tbody>\n",
       "    <tr>\n",
       "      <th>5927</th>\n",
       "      <td>10.0</td>\n",
       "      <td>5.905697</td>\n",
       "    </tr>\n",
       "    <tr>\n",
       "      <th>8491</th>\n",
       "      <td>19.0</td>\n",
       "      <td>2.210845</td>\n",
       "    </tr>\n",
       "    <tr>\n",
       "      <th>14865</th>\n",
       "      <td>10.0</td>\n",
       "      <td>6.087127</td>\n",
       "    </tr>\n",
       "  </tbody>\n",
       "</table>\n",
       "</div>"
      ],
      "text/plain": [
       "       Rooms  avg_room_square\n",
       "Id                           \n",
       "5927    10.0         5.905697\n",
       "8491    19.0         2.210845\n",
       "14865   10.0         6.087127"
      ]
     },
     "execution_count": 44,
     "metadata": {},
     "output_type": "execute_result"
    }
   ],
   "source": [
    "df_fill[(df_fill['Rooms'] > 6)][['Rooms', 'avg_room_square']]"
   ]
  },
  {
   "cell_type": "markdown",
   "id": "divided-ozone",
   "metadata": {},
   "source": [
    "Resolving of outliers cases:\n",
    "   - All values which are less than 1 will be converted to 1.0\n",
    "   - All values which are greater or equal to six will be converted to median value. "
   ]
  },
  {
   "cell_type": "markdown",
   "id": "further-buying",
   "metadata": {},
   "source": [
    "**Square**"
   ]
  },
  {
   "cell_type": "code",
   "execution_count": 45,
   "id": "compact-martin",
   "metadata": {},
   "outputs": [
    {
     "name": "stderr",
     "output_type": "stream",
     "text": [
      "c:\\users\\пк\\appdata\\local\\programs\\python\\python39\\lib\\site-packages\\seaborn\\_decorators.py:36: FutureWarning: Pass the following variable as a keyword arg: x. From version 0.12, the only valid positional argument will be `data`, and passing other arguments without an explicit keyword will result in an error or misinterpretation.\n",
      "  warnings.warn(\n"
     ]
    },
    {
     "data": {
      "image/png": "[encoded data removed]",
      "text/plain": [
       "<Figure size 432x216 with 1 Axes>"
      ]
     },
     "metadata": {
      "needs_background": "light"
     },
     "output_type": "display_data"
    }
   ],
   "source": [
    "plt.figure(figsize=(6, 3))\n",
    "sns.boxplot(df_fill['Square'])\n",
    "plt.xlabel('Square')\n",
    "plt.show()"
   ]
  },
  {
   "cell_type": "markdown",
   "id": "medical-interpretation",
   "metadata": {},
   "source": [
    "Square column will be left without changes"
   ]
  },
  {
   "cell_type": "markdown",
   "id": "loved-outside",
   "metadata": {},
   "source": [
    "**Life square**"
   ]
  },
  {
   "cell_type": "code",
   "execution_count": 46,
   "id": "bigger-peeing",
   "metadata": {},
   "outputs": [
    {
     "name": "stderr",
     "output_type": "stream",
     "text": [
      "c:\\users\\пк\\appdata\\local\\programs\\python\\python39\\lib\\site-packages\\seaborn\\_decorators.py:36: FutureWarning: Pass the following variable as a keyword arg: x. From version 0.12, the only valid positional argument will be `data`, and passing other arguments without an explicit keyword will result in an error or misinterpretation.\n",
      "  warnings.warn(\n"
     ]
    },
    {
     "data": {
      "image/png": "[encoded data removed]",
      "text/plain": [
       "<Figure size 432x216 with 1 Axes>"
      ]
     },
     "metadata": {
      "needs_background": "light"
     },
     "output_type": "display_data"
    }
   ],
   "source": [
    "plt.figure(figsize=(6, 3))\n",
    "sns.boxplot(df_fill['LifeSquare'])\n",
    "plt.xlabel('LifeSquare')\n",
    "plt.show()"
   ]
  },
  {
   "cell_type": "code",
   "execution_count": 47,
   "id": "distributed-tobago",
   "metadata": {},
   "outputs": [
    {
     "data": {
      "text/plain": [
       "2113"
      ]
     },
     "execution_count": 47,
     "metadata": {},
     "output_type": "execute_result"
    }
   ],
   "source": [
    "df_fill['LifeSquare'].isnull().sum()"
   ]
  },
  {
   "cell_type": "code",
   "execution_count": 48,
   "id": "magnetic-crash",
   "metadata": {},
   "outputs": [
    {
     "data": {
      "text/plain": [
       "482"
      ]
     },
     "execution_count": 48,
     "metadata": {},
     "output_type": "execute_result"
    }
   ],
   "source": [
    "df_fill[df_fill['LifeSquare'] > df_fill['Square']]['LifeSquare'].count()"
   ]
  },
  {
   "cell_type": "code",
   "execution_count": 49,
   "id": "charitable-leone",
   "metadata": {},
   "outputs": [
    {
     "data": {
      "text/plain": [
       "0"
      ]
     },
     "execution_count": 49,
     "metadata": {},
     "output_type": "execute_result"
    }
   ],
   "source": [
    "df_fill[df_fill['LifeSquare'] == 0]['LifeSquare'].count()"
   ]
  },
  {
   "cell_type": "markdown",
   "id": "universal-aside",
   "metadata": {},
   "source": [
    "Resolving of outliers:\n",
    "- if LifeSquare is NaN or LifeSquare > Square, then LifeSquare will be changed to difference between Square and KitchenSquare and median difference between these differences."
   ]
  },
  {
   "cell_type": "markdown",
   "id": "received-substance",
   "metadata": {},
   "source": [
    "**Kitchen Square**"
   ]
  },
  {
   "cell_type": "code",
   "execution_count": 50,
   "id": "starting-stylus",
   "metadata": {},
   "outputs": [
    {
     "name": "stderr",
     "output_type": "stream",
     "text": [
      "c:\\users\\пк\\appdata\\local\\programs\\python\\python39\\lib\\site-packages\\seaborn\\_decorators.py:36: FutureWarning: Pass the following variable as a keyword arg: x. From version 0.12, the only valid positional argument will be `data`, and passing other arguments without an explicit keyword will result in an error or misinterpretation.\n",
      "  warnings.warn(\n"
     ]
    },
    {
     "data": {
      "image/png": "[encoded data removed]",
      "text/plain": [
       "<Figure size 432x216 with 1 Axes>"
      ]
     },
     "metadata": {
      "needs_background": "light"
     },
     "output_type": "display_data"
    }
   ],
   "source": [
    "plt.figure(figsize=(6, 3))\n",
    "sns.boxplot(df_fill['KitchenSquare'])\n",
    "plt.xlabel('KitchenSquare')\n",
    "plt.show()"
   ]
  },
  {
   "cell_type": "code",
   "execution_count": 51,
   "id": "latest-percentage",
   "metadata": {},
   "outputs": [
    {
     "data": {
      "text/plain": [
       "count    10000.000000\n",
       "mean         6.273300\n",
       "std         28.560917\n",
       "min          0.000000\n",
       "25%          1.000000\n",
       "50%          6.000000\n",
       "75%          9.000000\n",
       "max       2014.000000\n",
       "Name: KitchenSquare, dtype: float64"
      ]
     },
     "execution_count": 51,
     "metadata": {},
     "output_type": "execute_result"
    }
   ],
   "source": [
    "# df_fill['KitchenSquare'].value_counts().sort_values()\n",
    "df_fill['KitchenSquare'].describe()"
   ]
  },
  {
   "cell_type": "code",
   "execution_count": 52,
   "id": "fiscal-accordance",
   "metadata": {},
   "outputs": [
    {
     "data": {
      "text/plain": [
       "7"
      ]
     },
     "execution_count": 52,
     "metadata": {},
     "output_type": "execute_result"
    }
   ],
   "source": [
    "df_fill[(df['KitchenSquare'] > 80)]['KitchenSquare'].count()"
   ]
  },
  {
   "cell_type": "code",
   "execution_count": 53,
   "id": "drawn-honolulu",
   "metadata": {},
   "outputs": [
    {
     "data": {
      "text/plain": [
       "23"
      ]
     },
     "execution_count": 53,
     "metadata": {},
     "output_type": "execute_result"
    }
   ],
   "source": [
    "df_fill[(df['KitchenSquare'] > df_fill['LifeSquare'])]['KitchenSquare'].count()"
   ]
  },
  {
   "cell_type": "markdown",
   "id": "great-spiritual",
   "metadata": {},
   "source": [
    "Resolving of outliers:\n",
    "- If Kitchen square > 100 it will be converted to median value\n",
    "- If Kitchen square < 3 it will be converted to 3\n",
    "- if Kitchen square > general square it will be converted to 3"
   ]
  },
  {
   "cell_type": "markdown",
   "id": "consecutive-smile",
   "metadata": {},
   "source": [
    "**Floor and house floor**"
   ]
  },
  {
   "cell_type": "code",
   "execution_count": 54,
   "id": "expected-throw",
   "metadata": {},
   "outputs": [
    {
     "data": {
      "image/png": "[encoded data removed]",
      "text/plain": [
       "<Figure size 432x288 with 1 Axes>"
      ]
     },
     "metadata": {
      "needs_background": "light"
     },
     "output_type": "display_data"
    }
   ],
   "source": [
    "ax = sns.boxplot(data = df_fill[['Floor', 'HouseFloor']]                )\n",
    "plt.show()"
   ]
  },
  {
   "cell_type": "code",
   "execution_count": 55,
   "id": "threaded-reading",
   "metadata": {},
   "outputs": [
    {
     "data": {
      "text/plain": [
       "0"
      ]
     },
     "execution_count": 55,
     "metadata": {},
     "output_type": "execute_result"
    }
   ],
   "source": [
    "df_fill[df_fill['Floor'] == 0]['Floor'].count()"
   ]
  },
  {
   "cell_type": "code",
   "execution_count": 56,
   "id": "assured-bacon",
   "metadata": {},
   "outputs": [
    {
     "data": {
      "text/plain": [
       "269"
      ]
     },
     "execution_count": 56,
     "metadata": {},
     "output_type": "execute_result"
    }
   ],
   "source": [
    "df_fill[df_fill['HouseFloor'] == 0]['HouseFloor'].count()"
   ]
  },
  {
   "cell_type": "code",
   "execution_count": 57,
   "id": "median-chrome",
   "metadata": {},
   "outputs": [
    {
     "data": {
      "text/plain": [
       "1825"
      ]
     },
     "execution_count": 57,
     "metadata": {},
     "output_type": "execute_result"
    }
   ],
   "source": [
    "df_fill[(df_fill['HouseFloor'] < df_fill['Floor']) ]['Floor'].count()"
   ]
  },
  {
   "cell_type": "markdown",
   "id": "fitted-register",
   "metadata": {},
   "source": [
    "Resolvong of outliers:\n",
    "- if HouseFloor == 0, value will be changed to Floor (or to median value of whole dataset - optional to be compared with result sxore)\n",
    "- if Floor > HouseFloor, value will be changed to HouseFloor"
   ]
  },
  {
   "cell_type": "markdown",
   "id": "weird-chair",
   "metadata": {},
   "source": [
    "**HouseYear**"
   ]
  },
  {
   "cell_type": "code",
   "execution_count": 58,
   "id": "mineral-lesson",
   "metadata": {
    "scrolled": true
   },
   "outputs": [
    {
     "name": "stderr",
     "output_type": "stream",
     "text": [
      "c:\\users\\пк\\appdata\\local\\programs\\python\\python39\\lib\\site-packages\\seaborn\\_decorators.py:36: FutureWarning: Pass the following variable as a keyword arg: x. From version 0.12, the only valid positional argument will be `data`, and passing other arguments without an explicit keyword will result in an error or misinterpretation.\n",
      "  warnings.warn(\n"
     ]
    },
    {
     "data": {
      "image/png": "[encoded data removed]",
      "text/plain": [
       "<Figure size 432x216 with 1 Axes>"
      ]
     },
     "metadata": {
      "needs_background": "light"
     },
     "output_type": "display_data"
    }
   ],
   "source": [
    "plt.figure(figsize=(6, 3))\n",
    "sns.boxplot(df_fill['HouseYear'])\n",
    "plt.xlabel('HouseYear')\n",
    "plt.show()"
   ]
  },
  {
   "cell_type": "code",
   "execution_count": 59,
   "id": "aggressive-istanbul",
   "metadata": {},
   "outputs": [
    {
     "data": {
      "text/plain": [
       "0"
      ]
     },
     "execution_count": 59,
     "metadata": {},
     "output_type": "execute_result"
    }
   ],
   "source": [
    "df_fill[df_fill['HouseYear'] == 0]['HouseYear'].count()"
   ]
  },
  {
   "cell_type": "code",
   "execution_count": 60,
   "id": "divided-single",
   "metadata": {},
   "outputs": [
    {
     "data": {
      "text/plain": [
       "0"
      ]
     },
     "execution_count": 60,
     "metadata": {},
     "output_type": "execute_result"
    }
   ],
   "source": [
    "df_fill[df_fill['HouseYear'] < 1900]['HouseYear'].count()"
   ]
  },
  {
   "cell_type": "code",
   "execution_count": 61,
   "id": "congressional-density",
   "metadata": {},
   "outputs": [
    {
     "data": {
      "text/plain": [
       "2"
      ]
     },
     "execution_count": 61,
     "metadata": {},
     "output_type": "execute_result"
    }
   ],
   "source": [
    "df_fill[df_fill['HouseYear'] > 2021]['HouseYear'].count()"
   ]
  },
  {
   "cell_type": "markdown",
   "id": "electric-entrepreneur",
   "metadata": {},
   "source": [
    "Resolvong of outliers:\n",
    "- if year > 2021 it will be changed to median year"
   ]
  },
  {
   "cell_type": "markdown",
   "id": "mounted-emission",
   "metadata": {},
   "source": [
    "**Healthcare_1**"
   ]
  },
  {
   "cell_type": "markdown",
   "id": "dynamic-suspect",
   "metadata": {},
   "source": [
    "Due to big amount of NaN values in Healthcare_1 column, it should be dropped"
   ]
  },
  {
   "cell_type": "markdown",
   "id": "likely-marking",
   "metadata": {},
   "source": [
    "### Applying of data clearing"
   ]
  },
  {
   "cell_type": "markdown",
   "id": "worse-graphic",
   "metadata": {},
   "source": [
    "Function from section 3 will be applied to test dataset"
   ]
  },
  {
   "cell_type": "code",
   "execution_count": 62,
   "id": "parental-butler",
   "metadata": {
    "scrolled": false
   },
   "outputs": [
    {
     "data": {
      "text/plain": [
       "(10000, 22)"
      ]
     },
     "execution_count": 62,
     "metadata": {},
     "output_type": "execute_result"
    }
   ],
   "source": [
    "df_fill.shape"
   ]
  },
  {
   "cell_type": "code",
   "execution_count": 63,
   "id": "indoor-faculty",
   "metadata": {
    "scrolled": true
   },
   "outputs": [],
   "source": [
    "df_fill = data_clearing (df_fill)"
   ]
  },
  {
   "cell_type": "code",
   "execution_count": 64,
   "id": "equipped-delta",
   "metadata": {},
   "outputs": [
    {
     "data": {
      "text/plain": [
       "(10000, 19)"
      ]
     },
     "execution_count": 64,
     "metadata": {},
     "output_type": "execute_result"
    }
   ],
   "source": [
    "df_fill.shape"
   ]
  },
  {
   "cell_type": "code",
   "execution_count": 65,
   "id": "isolated-belly",
   "metadata": {},
   "outputs": [
    {
     "data": {
      "text/html": [
       "<div>\n",
       "<style scoped>\n",
       "    .dataframe tbody tr th:only-of-type {\n",
       "        vertical-align: middle;\n",
       "    }\n",
       "\n",
       "    .dataframe tbody tr th {\n",
       "        vertical-align: top;\n",
       "    }\n",
       "\n",
       "    .dataframe thead th {\n",
       "        text-align: right;\n",
       "    }\n",
       "</style>\n",
       "<table border=\"1\" class=\"dataframe\">\n",
       "  <thead>\n",
       "    <tr style=\"text-align: right;\">\n",
       "      <th></th>\n",
       "      <th>DistrictId</th>\n",
       "      <th>Rooms</th>\n",
       "      <th>Square</th>\n",
       "      <th>LifeSquare</th>\n",
       "      <th>KitchenSquare</th>\n",
       "      <th>Floor</th>\n",
       "      <th>HouseFloor</th>\n",
       "      <th>HouseYear</th>\n",
       "      <th>Ecology_1</th>\n",
       "      <th>Social_1</th>\n",
       "      <th>Social_2</th>\n",
       "      <th>Social_3</th>\n",
       "      <th>Healthcare_1</th>\n",
       "      <th>Helthcare_2</th>\n",
       "      <th>Shops_1</th>\n",
       "      <th>Price</th>\n",
       "    </tr>\n",
       "  </thead>\n",
       "  <tbody>\n",
       "    <tr>\n",
       "      <th>count</th>\n",
       "      <td>10000.000000</td>\n",
       "      <td>10000.000000</td>\n",
       "      <td>10000.000000</td>\n",
       "      <td>10000.000000</td>\n",
       "      <td>10000.00000</td>\n",
       "      <td>10000.000000</td>\n",
       "      <td>10000.000000</td>\n",
       "      <td>10000.000000</td>\n",
       "      <td>10000.000000</td>\n",
       "      <td>10000.000000</td>\n",
       "      <td>10000.000000</td>\n",
       "      <td>10000.000000</td>\n",
       "      <td>10000.000000</td>\n",
       "      <td>10000.000000</td>\n",
       "      <td>10000.000000</td>\n",
       "      <td>10000.000000</td>\n",
       "    </tr>\n",
       "    <tr>\n",
       "      <th>mean</th>\n",
       "      <td>50.400800</td>\n",
       "      <td>1.887600</td>\n",
       "      <td>56.315775</td>\n",
       "      <td>39.267365</td>\n",
       "      <td>6.52960</td>\n",
       "      <td>8.526700</td>\n",
       "      <td>12.852200</td>\n",
       "      <td>1984.863800</td>\n",
       "      <td>0.118858</td>\n",
       "      <td>24.687000</td>\n",
       "      <td>5352.157400</td>\n",
       "      <td>8.039200</td>\n",
       "      <td>1026.358900</td>\n",
       "      <td>1.319500</td>\n",
       "      <td>4.231300</td>\n",
       "      <td>214138.857399</td>\n",
       "    </tr>\n",
       "    <tr>\n",
       "      <th>std</th>\n",
       "      <td>43.587592</td>\n",
       "      <td>0.811438</td>\n",
       "      <td>21.058732</td>\n",
       "      <td>21.124402</td>\n",
       "      <td>4.00149</td>\n",
       "      <td>5.241148</td>\n",
       "      <td>6.536821</td>\n",
       "      <td>18.409979</td>\n",
       "      <td>0.119025</td>\n",
       "      <td>17.532614</td>\n",
       "      <td>4006.799803</td>\n",
       "      <td>23.831875</td>\n",
       "      <td>746.662828</td>\n",
       "      <td>1.493601</td>\n",
       "      <td>4.806341</td>\n",
       "      <td>92872.293865</td>\n",
       "    </tr>\n",
       "    <tr>\n",
       "      <th>min</th>\n",
       "      <td>0.000000</td>\n",
       "      <td>1.000000</td>\n",
       "      <td>1.136859</td>\n",
       "      <td>-3.863141</td>\n",
       "      <td>3.00000</td>\n",
       "      <td>1.000000</td>\n",
       "      <td>1.000000</td>\n",
       "      <td>1910.000000</td>\n",
       "      <td>0.000000</td>\n",
       "      <td>0.000000</td>\n",
       "      <td>168.000000</td>\n",
       "      <td>0.000000</td>\n",
       "      <td>0.000000</td>\n",
       "      <td>0.000000</td>\n",
       "      <td>0.000000</td>\n",
       "      <td>59174.778028</td>\n",
       "    </tr>\n",
       "    <tr>\n",
       "      <th>25%</th>\n",
       "      <td>20.000000</td>\n",
       "      <td>1.000000</td>\n",
       "      <td>41.774881</td>\n",
       "      <td>24.882906</td>\n",
       "      <td>3.00000</td>\n",
       "      <td>4.000000</td>\n",
       "      <td>9.000000</td>\n",
       "      <td>1974.000000</td>\n",
       "      <td>0.017647</td>\n",
       "      <td>6.000000</td>\n",
       "      <td>1564.000000</td>\n",
       "      <td>0.000000</td>\n",
       "      <td>830.000000</td>\n",
       "      <td>0.000000</td>\n",
       "      <td>1.000000</td>\n",
       "      <td>153872.633942</td>\n",
       "    </tr>\n",
       "    <tr>\n",
       "      <th>50%</th>\n",
       "      <td>36.000000</td>\n",
       "      <td>2.000000</td>\n",
       "      <td>52.513310</td>\n",
       "      <td>35.029360</td>\n",
       "      <td>6.00000</td>\n",
       "      <td>7.000000</td>\n",
       "      <td>14.000000</td>\n",
       "      <td>1977.000000</td>\n",
       "      <td>0.075424</td>\n",
       "      <td>25.000000</td>\n",
       "      <td>5285.000000</td>\n",
       "      <td>2.000000</td>\n",
       "      <td>900.000000</td>\n",
       "      <td>1.000000</td>\n",
       "      <td>3.000000</td>\n",
       "      <td>192269.644879</td>\n",
       "    </tr>\n",
       "    <tr>\n",
       "      <th>75%</th>\n",
       "      <td>75.000000</td>\n",
       "      <td>2.000000</td>\n",
       "      <td>65.900625</td>\n",
       "      <td>48.256785</td>\n",
       "      <td>9.00000</td>\n",
       "      <td>12.000000</td>\n",
       "      <td>17.000000</td>\n",
       "      <td>2001.000000</td>\n",
       "      <td>0.195781</td>\n",
       "      <td>36.000000</td>\n",
       "      <td>7227.000000</td>\n",
       "      <td>5.000000</td>\n",
       "      <td>990.000000</td>\n",
       "      <td>2.000000</td>\n",
       "      <td>6.000000</td>\n",
       "      <td>249135.462171</td>\n",
       "    </tr>\n",
       "    <tr>\n",
       "      <th>max</th>\n",
       "      <td>209.000000</td>\n",
       "      <td>5.000000</td>\n",
       "      <td>641.065193</td>\n",
       "      <td>629.065193</td>\n",
       "      <td>96.00000</td>\n",
       "      <td>42.000000</td>\n",
       "      <td>117.000000</td>\n",
       "      <td>2020.000000</td>\n",
       "      <td>0.521867</td>\n",
       "      <td>74.000000</td>\n",
       "      <td>19083.000000</td>\n",
       "      <td>141.000000</td>\n",
       "      <td>4849.000000</td>\n",
       "      <td>6.000000</td>\n",
       "      <td>23.000000</td>\n",
       "      <td>633233.466570</td>\n",
       "    </tr>\n",
       "  </tbody>\n",
       "</table>\n",
       "</div>"
      ],
      "text/plain": [
       "         DistrictId         Rooms        Square    LifeSquare  KitchenSquare  \\\n",
       "count  10000.000000  10000.000000  10000.000000  10000.000000    10000.00000   \n",
       "mean      50.400800      1.887600     56.315775     39.267365        6.52960   \n",
       "std       43.587592      0.811438     21.058732     21.124402        4.00149   \n",
       "min        0.000000      1.000000      1.136859     -3.863141        3.00000   \n",
       "25%       20.000000      1.000000     41.774881     24.882906        3.00000   \n",
       "50%       36.000000      2.000000     52.513310     35.029360        6.00000   \n",
       "75%       75.000000      2.000000     65.900625     48.256785        9.00000   \n",
       "max      209.000000      5.000000    641.065193    629.065193       96.00000   \n",
       "\n",
       "              Floor    HouseFloor     HouseYear     Ecology_1      Social_1  \\\n",
       "count  10000.000000  10000.000000  10000.000000  10000.000000  10000.000000   \n",
       "mean       8.526700     12.852200   1984.863800      0.118858     24.687000   \n",
       "std        5.241148      6.536821     18.409979      0.119025     17.532614   \n",
       "min        1.000000      1.000000   1910.000000      0.000000      0.000000   \n",
       "25%        4.000000      9.000000   1974.000000      0.017647      6.000000   \n",
       "50%        7.000000     14.000000   1977.000000      0.075424     25.000000   \n",
       "75%       12.000000     17.000000   2001.000000      0.195781     36.000000   \n",
       "max       42.000000    117.000000   2020.000000      0.521867     74.000000   \n",
       "\n",
       "           Social_2      Social_3  Healthcare_1   Helthcare_2       Shops_1  \\\n",
       "count  10000.000000  10000.000000  10000.000000  10000.000000  10000.000000   \n",
       "mean    5352.157400      8.039200   1026.358900      1.319500      4.231300   \n",
       "std     4006.799803     23.831875    746.662828      1.493601      4.806341   \n",
       "min      168.000000      0.000000      0.000000      0.000000      0.000000   \n",
       "25%     1564.000000      0.000000    830.000000      0.000000      1.000000   \n",
       "50%     5285.000000      2.000000    900.000000      1.000000      3.000000   \n",
       "75%     7227.000000      5.000000    990.000000      2.000000      6.000000   \n",
       "max    19083.000000    141.000000   4849.000000      6.000000     23.000000   \n",
       "\n",
       "               Price  \n",
       "count   10000.000000  \n",
       "mean   214138.857399  \n",
       "std     92872.293865  \n",
       "min     59174.778028  \n",
       "25%    153872.633942  \n",
       "50%    192269.644879  \n",
       "75%    249135.462171  \n",
       "max    633233.466570  "
      ]
     },
     "execution_count": 65,
     "metadata": {},
     "output_type": "execute_result"
    }
   ],
   "source": [
    "df_fill.describe()"
   ]
  },
  {
   "cell_type": "markdown",
   "id": "pacific-strength",
   "metadata": {},
   "source": [
    "Save dataframe to pickle file."
   ]
  },
  {
   "cell_type": "code",
   "execution_count": 66,
   "id": "driven-waterproof",
   "metadata": {},
   "outputs": [],
   "source": [
    "df_fill.to_pickle(\"D:/Learning/GeekBrains/numpy and pandas/df_fill.pkl\")"
   ]
  },
  {
   "cell_type": "code",
   "execution_count": null,
   "id": "given-impossible",
   "metadata": {},
   "outputs": [],
   "source": [
    "df_fill = pd.read_pickle(\"D:/Learning/GeekBrains/numpy and pandas/df_fill.pkl\")"
   ]
  },
  {
   "cell_type": "markdown",
   "id": "proved-chase",
   "metadata": {},
   "source": [
    "### Processing of categorial variables"
   ]
  },
  {
   "cell_type": "markdown",
   "id": "applied-cowboy",
   "metadata": {},
   "source": [
    "There are three categorial columns in the dataset:\n",
    "- Ecology_2\n",
    "- Ecology_3\n",
    "- Shops_2\n",
    "\n",
    "Each columns can have ony one of two values and do not contain any null values."
   ]
  },
  {
   "cell_type": "code",
   "execution_count": 67,
   "id": "uniform-miami",
   "metadata": {},
   "outputs": [],
   "source": [
    "df_cat_features = df_fill.select_dtypes(include=['object', 'category'])"
   ]
  },
  {
   "cell_type": "code",
   "execution_count": 68,
   "id": "taken-newton",
   "metadata": {},
   "outputs": [
    {
     "data": {
      "text/html": [
       "<div>\n",
       "<style scoped>\n",
       "    .dataframe tbody tr th:only-of-type {\n",
       "        vertical-align: middle;\n",
       "    }\n",
       "\n",
       "    .dataframe tbody tr th {\n",
       "        vertical-align: top;\n",
       "    }\n",
       "\n",
       "    .dataframe thead th {\n",
       "        text-align: right;\n",
       "    }\n",
       "</style>\n",
       "<table border=\"1\" class=\"dataframe\">\n",
       "  <thead>\n",
       "    <tr style=\"text-align: right;\">\n",
       "      <th></th>\n",
       "      <th>Ecology_2</th>\n",
       "      <th>Ecology_3</th>\n",
       "      <th>Shops_2</th>\n",
       "    </tr>\n",
       "    <tr>\n",
       "      <th>Id</th>\n",
       "      <th></th>\n",
       "      <th></th>\n",
       "      <th></th>\n",
       "    </tr>\n",
       "  </thead>\n",
       "  <tbody>\n",
       "    <tr>\n",
       "      <th>14038</th>\n",
       "      <td>B</td>\n",
       "      <td>B</td>\n",
       "      <td>B</td>\n",
       "    </tr>\n",
       "    <tr>\n",
       "      <th>15053</th>\n",
       "      <td>B</td>\n",
       "      <td>B</td>\n",
       "      <td>B</td>\n",
       "    </tr>\n",
       "    <tr>\n",
       "      <th>4765</th>\n",
       "      <td>B</td>\n",
       "      <td>B</td>\n",
       "      <td>B</td>\n",
       "    </tr>\n",
       "    <tr>\n",
       "      <th>5809</th>\n",
       "      <td>B</td>\n",
       "      <td>B</td>\n",
       "      <td>B</td>\n",
       "    </tr>\n",
       "    <tr>\n",
       "      <th>10783</th>\n",
       "      <td>B</td>\n",
       "      <td>B</td>\n",
       "      <td>B</td>\n",
       "    </tr>\n",
       "  </tbody>\n",
       "</table>\n",
       "</div>"
      ],
      "text/plain": [
       "      Ecology_2 Ecology_3 Shops_2\n",
       "Id                               \n",
       "14038         B         B       B\n",
       "15053         B         B       B\n",
       "4765          B         B       B\n",
       "5809          B         B       B\n",
       "10783         B         B       B"
      ]
     },
     "execution_count": 68,
     "metadata": {},
     "output_type": "execute_result"
    }
   ],
   "source": [
    "df_cat_features.head()"
   ]
  },
  {
   "cell_type": "code",
   "execution_count": 69,
   "id": "outstanding-amber",
   "metadata": {
    "scrolled": true
   },
   "outputs": [
    {
     "data": {
      "text/plain": [
       "array(['B', 'A'], dtype=object)"
      ]
     },
     "execution_count": 69,
     "metadata": {},
     "output_type": "execute_result"
    }
   ],
   "source": [
    "df_cat_features['Ecology_2'].unique()"
   ]
  },
  {
   "cell_type": "code",
   "execution_count": 70,
   "id": "upper-savings",
   "metadata": {},
   "outputs": [
    {
     "data": {
      "text/plain": [
       "array(['B', 'A'], dtype=object)"
      ]
     },
     "execution_count": 70,
     "metadata": {},
     "output_type": "execute_result"
    }
   ],
   "source": [
    "df_cat_features['Ecology_3'].unique()"
   ]
  },
  {
   "cell_type": "code",
   "execution_count": 71,
   "id": "broken-beverage",
   "metadata": {},
   "outputs": [
    {
     "data": {
      "text/plain": [
       "array(['B', 'A'], dtype=object)"
      ]
     },
     "execution_count": 71,
     "metadata": {},
     "output_type": "execute_result"
    }
   ],
   "source": [
    "df_cat_features['Shops_2'].unique()"
   ]
  },
  {
   "cell_type": "code",
   "execution_count": null,
   "id": "severe-player",
   "metadata": {
    "scrolled": true
   },
   "outputs": [],
   "source": [
    "fig, ax =plt.subplots(1,3)\n",
    "fig.subplots_adjust(wspace=0.7, hspace=0.7)\n",
    "sns.countplot(y = 'Ecology_2',data = df_cat_features, ax=ax[0])\n",
    "sns.countplot(y = 'Ecology_3',data = df_cat_features, ax=ax[1])\n",
    "sns.countplot(y = 'Shops_2',data = df_cat_features, ax=ax[2])\n",
    "fig.show()"
   ]
  },
  {
   "cell_type": "code",
   "execution_count": null,
   "id": "periodic-distinction",
   "metadata": {},
   "outputs": [],
   "source": [
    "df_cat_features['Ecology_2'].value_counts()"
   ]
  },
  {
   "cell_type": "markdown",
   "id": "running-horse",
   "metadata": {},
   "source": [
    "Categorial values will b converted to numerical using get_dummies metgod.\n",
    "\n",
    "As a result of applying this method new columns in the dataset will be added."
   ]
  },
  {
   "cell_type": "code",
   "execution_count": 72,
   "id": "sophisticated-alert",
   "metadata": {},
   "outputs": [],
   "source": [
    "df_fill = pd.get_dummies(df_fill, columns = df_cat_features.columns)"
   ]
  },
  {
   "cell_type": "code",
   "execution_count": 73,
   "id": "legitimate-antibody",
   "metadata": {},
   "outputs": [
    {
     "data": {
      "text/plain": [
       "(10000, 22)"
      ]
     },
     "execution_count": 73,
     "metadata": {},
     "output_type": "execute_result"
    }
   ],
   "source": [
    "df_fill.shape"
   ]
  },
  {
   "cell_type": "code",
   "execution_count": 74,
   "id": "incomplete-liver",
   "metadata": {
    "scrolled": true
   },
   "outputs": [
    {
     "data": {
      "text/html": [
       "<div>\n",
       "<style scoped>\n",
       "    .dataframe tbody tr th:only-of-type {\n",
       "        vertical-align: middle;\n",
       "    }\n",
       "\n",
       "    .dataframe tbody tr th {\n",
       "        vertical-align: top;\n",
       "    }\n",
       "\n",
       "    .dataframe thead th {\n",
       "        text-align: right;\n",
       "    }\n",
       "</style>\n",
       "<table border=\"1\" class=\"dataframe\">\n",
       "  <thead>\n",
       "    <tr style=\"text-align: right;\">\n",
       "      <th></th>\n",
       "      <th>DistrictId</th>\n",
       "      <th>Rooms</th>\n",
       "      <th>Square</th>\n",
       "      <th>LifeSquare</th>\n",
       "      <th>KitchenSquare</th>\n",
       "      <th>Floor</th>\n",
       "      <th>HouseFloor</th>\n",
       "      <th>HouseYear</th>\n",
       "      <th>Ecology_1</th>\n",
       "      <th>Social_1</th>\n",
       "      <th>...</th>\n",
       "      <th>Healthcare_1</th>\n",
       "      <th>Helthcare_2</th>\n",
       "      <th>Shops_1</th>\n",
       "      <th>Price</th>\n",
       "      <th>Ecology_2_A</th>\n",
       "      <th>Ecology_2_B</th>\n",
       "      <th>Ecology_3_A</th>\n",
       "      <th>Ecology_3_B</th>\n",
       "      <th>Shops_2_A</th>\n",
       "      <th>Shops_2_B</th>\n",
       "    </tr>\n",
       "    <tr>\n",
       "      <th>Id</th>\n",
       "      <th></th>\n",
       "      <th></th>\n",
       "      <th></th>\n",
       "      <th></th>\n",
       "      <th></th>\n",
       "      <th></th>\n",
       "      <th></th>\n",
       "      <th></th>\n",
       "      <th></th>\n",
       "      <th></th>\n",
       "      <th></th>\n",
       "      <th></th>\n",
       "      <th></th>\n",
       "      <th></th>\n",
       "      <th></th>\n",
       "      <th></th>\n",
       "      <th></th>\n",
       "      <th></th>\n",
       "      <th></th>\n",
       "      <th></th>\n",
       "      <th></th>\n",
       "    </tr>\n",
       "  </thead>\n",
       "  <tbody>\n",
       "    <tr>\n",
       "      <th>14038</th>\n",
       "      <td>35</td>\n",
       "      <td>2.0</td>\n",
       "      <td>47.981561</td>\n",
       "      <td>29.442751</td>\n",
       "      <td>6.0</td>\n",
       "      <td>7</td>\n",
       "      <td>9.0</td>\n",
       "      <td>1969.0</td>\n",
       "      <td>0.089040</td>\n",
       "      <td>33</td>\n",
       "      <td>...</td>\n",
       "      <td>900.0</td>\n",
       "      <td>0</td>\n",
       "      <td>11</td>\n",
       "      <td>184966.930730</td>\n",
       "      <td>0</td>\n",
       "      <td>1</td>\n",
       "      <td>0</td>\n",
       "      <td>1</td>\n",
       "      <td>0</td>\n",
       "      <td>1</td>\n",
       "    </tr>\n",
       "    <tr>\n",
       "      <th>15053</th>\n",
       "      <td>41</td>\n",
       "      <td>3.0</td>\n",
       "      <td>65.683640</td>\n",
       "      <td>40.049543</td>\n",
       "      <td>8.0</td>\n",
       "      <td>7</td>\n",
       "      <td>9.0</td>\n",
       "      <td>1978.0</td>\n",
       "      <td>0.000070</td>\n",
       "      <td>46</td>\n",
       "      <td>...</td>\n",
       "      <td>240.0</td>\n",
       "      <td>1</td>\n",
       "      <td>16</td>\n",
       "      <td>300009.450063</td>\n",
       "      <td>0</td>\n",
       "      <td>1</td>\n",
       "      <td>0</td>\n",
       "      <td>1</td>\n",
       "      <td>0</td>\n",
       "      <td>1</td>\n",
       "    </tr>\n",
       "    <tr>\n",
       "      <th>4765</th>\n",
       "      <td>53</td>\n",
       "      <td>2.0</td>\n",
       "      <td>44.947953</td>\n",
       "      <td>29.197612</td>\n",
       "      <td>3.0</td>\n",
       "      <td>8</td>\n",
       "      <td>12.0</td>\n",
       "      <td>1968.0</td>\n",
       "      <td>0.049637</td>\n",
       "      <td>34</td>\n",
       "      <td>...</td>\n",
       "      <td>229.0</td>\n",
       "      <td>1</td>\n",
       "      <td>3</td>\n",
       "      <td>220925.908524</td>\n",
       "      <td>0</td>\n",
       "      <td>1</td>\n",
       "      <td>0</td>\n",
       "      <td>1</td>\n",
       "      <td>0</td>\n",
       "      <td>1</td>\n",
       "    </tr>\n",
       "    <tr>\n",
       "      <th>5809</th>\n",
       "      <td>58</td>\n",
       "      <td>2.0</td>\n",
       "      <td>53.352981</td>\n",
       "      <td>42.352981</td>\n",
       "      <td>9.0</td>\n",
       "      <td>8</td>\n",
       "      <td>17.0</td>\n",
       "      <td>1977.0</td>\n",
       "      <td>0.437885</td>\n",
       "      <td>23</td>\n",
       "      <td>...</td>\n",
       "      <td>1084.0</td>\n",
       "      <td>0</td>\n",
       "      <td>5</td>\n",
       "      <td>175616.227217</td>\n",
       "      <td>0</td>\n",
       "      <td>1</td>\n",
       "      <td>0</td>\n",
       "      <td>1</td>\n",
       "      <td>0</td>\n",
       "      <td>1</td>\n",
       "    </tr>\n",
       "    <tr>\n",
       "      <th>10783</th>\n",
       "      <td>99</td>\n",
       "      <td>1.0</td>\n",
       "      <td>39.649192</td>\n",
       "      <td>23.776169</td>\n",
       "      <td>7.0</td>\n",
       "      <td>11</td>\n",
       "      <td>12.0</td>\n",
       "      <td>1976.0</td>\n",
       "      <td>0.012339</td>\n",
       "      <td>35</td>\n",
       "      <td>...</td>\n",
       "      <td>2078.0</td>\n",
       "      <td>2</td>\n",
       "      <td>4</td>\n",
       "      <td>150226.531644</td>\n",
       "      <td>0</td>\n",
       "      <td>1</td>\n",
       "      <td>0</td>\n",
       "      <td>1</td>\n",
       "      <td>0</td>\n",
       "      <td>1</td>\n",
       "    </tr>\n",
       "  </tbody>\n",
       "</table>\n",
       "<p>5 rows × 22 columns</p>\n",
       "</div>"
      ],
      "text/plain": [
       "       DistrictId  Rooms     Square  LifeSquare  KitchenSquare  Floor  \\\n",
       "Id                                                                      \n",
       "14038          35    2.0  47.981561   29.442751            6.0      7   \n",
       "15053          41    3.0  65.683640   40.049543            8.0      7   \n",
       "4765           53    2.0  44.947953   29.197612            3.0      8   \n",
       "5809           58    2.0  53.352981   42.352981            9.0      8   \n",
       "10783          99    1.0  39.649192   23.776169            7.0     11   \n",
       "\n",
       "       HouseFloor  HouseYear  Ecology_1  Social_1  ...  Healthcare_1  \\\n",
       "Id                                                 ...                 \n",
       "14038         9.0     1969.0   0.089040        33  ...         900.0   \n",
       "15053         9.0     1978.0   0.000070        46  ...         240.0   \n",
       "4765         12.0     1968.0   0.049637        34  ...         229.0   \n",
       "5809         17.0     1977.0   0.437885        23  ...        1084.0   \n",
       "10783        12.0     1976.0   0.012339        35  ...        2078.0   \n",
       "\n",
       "       Helthcare_2  Shops_1          Price  Ecology_2_A  Ecology_2_B  \\\n",
       "Id                                                                     \n",
       "14038            0       11  184966.930730            0            1   \n",
       "15053            1       16  300009.450063            0            1   \n",
       "4765             1        3  220925.908524            0            1   \n",
       "5809             0        5  175616.227217            0            1   \n",
       "10783            2        4  150226.531644            0            1   \n",
       "\n",
       "       Ecology_3_A  Ecology_3_B  Shops_2_A  Shops_2_B  \n",
       "Id                                                     \n",
       "14038            0            1          0          1  \n",
       "15053            0            1          0          1  \n",
       "4765             0            1          0          1  \n",
       "5809             0            1          0          1  \n",
       "10783            0            1          0          1  \n",
       "\n",
       "[5 rows x 22 columns]"
      ]
     },
     "execution_count": 74,
     "metadata": {},
     "output_type": "execute_result"
    }
   ],
   "source": [
    "df_fill.head()"
   ]
  },
  {
   "cell_type": "code",
   "execution_count": 75,
   "id": "acting-mobility",
   "metadata": {},
   "outputs": [
    {
     "data": {
      "text/plain": [
       "DistrictId         int64\n",
       "Rooms            float64\n",
       "Square           float64\n",
       "LifeSquare       float64\n",
       "KitchenSquare    float64\n",
       "Floor              int64\n",
       "HouseFloor       float64\n",
       "HouseYear        float64\n",
       "Ecology_1        float64\n",
       "Social_1           int64\n",
       "Social_2           int64\n",
       "Social_3           int64\n",
       "Healthcare_1     float64\n",
       "Helthcare_2        int64\n",
       "Shops_1            int64\n",
       "Price            float64\n",
       "Ecology_2_A        uint8\n",
       "Ecology_2_B        uint8\n",
       "Ecology_3_A        uint8\n",
       "Ecology_3_B        uint8\n",
       "Shops_2_A          uint8\n",
       "Shops_2_B          uint8\n",
       "dtype: object"
      ]
     },
     "execution_count": 75,
     "metadata": {},
     "output_type": "execute_result"
    }
   ],
   "source": [
    "df_fill.dtypes"
   ]
  },
  {
   "cell_type": "markdown",
   "id": "virgin-rainbow",
   "metadata": {},
   "source": [
    "### Processing of District ID"
   ]
  },
  {
   "cell_type": "code",
   "execution_count": 76,
   "id": "retired-evans",
   "metadata": {},
   "outputs": [
    {
     "data": {
      "text/plain": [
       "array([ 35,  41,  53,  58,  99,  59, 154,  74,   1,  23,  28,  31,  13,\n",
       "        57,  27,  85,  34,  19,   0,  48,  54, 150,  11,  50,  61,  44,\n",
       "        90, 200,  43, 177, 101,  38,  21, 103,  98, 170,  94,   5,  88,\n",
       "        47,   6,  52,  62,  77,  79,   9, 156,  69, 108,  96, 169,  18,\n",
       "       148, 128,  10, 144, 120,  39,   7,  84, 123, 159,  70, 129,   3,\n",
       "        95,  78,  45,  15, 121,  49,  25,   2, 127,  56, 109,  46,  17,\n",
       "       119,  80,  86,  83, 137,  91,  92, 118, 187,  36, 106, 161,  22,\n",
       "        63, 167, 113,  66,  29,  37,  20,   8, 181,  40,  93,  30,  81,\n",
       "       107, 130, 100,  12, 125,  67,  26,  89,  24, 111, 138,  64, 124,\n",
       "       183,  55, 157, 151,  33,  87, 126, 155, 164, 105, 110, 132,  71,\n",
       "        73, 189,  75, 122, 163, 141,  76, 115, 139, 143, 201, 165, 190,\n",
       "       193, 174,  60, 114, 172, 134, 117, 149, 153, 131, 145,  82, 160,\n",
       "        42,  32, 133, 208, 171, 176, 173, 147,  97, 142, 195, 180, 196,\n",
       "       112,  72, 175,   4, 186, 146, 191, 168, 192,  14, 199, 136, 162,\n",
       "       179, 188, 135, 140,  16,  51, 178, 104,  68, 152, 194, 116, 207,\n",
       "       185,  65, 102, 166, 182, 202, 184, 205, 209, 158], dtype=int64)"
      ]
     },
     "execution_count": 76,
     "metadata": {},
     "output_type": "execute_result"
    }
   ],
   "source": [
    "df_fill['DistrictId'].unique()"
   ]
  },
  {
   "cell_type": "code",
   "execution_count": null,
   "id": "orange-length",
   "metadata": {},
   "outputs": [],
   "source": [
    "df_fill['DistrictId'].isnull().sum()"
   ]
  },
  {
   "cell_type": "markdown",
   "id": "healthy-butter",
   "metadata": {},
   "source": [
    "Case 1. Dropping of District ID"
   ]
  },
  {
   "cell_type": "code",
   "execution_count": null,
   "id": "subjective-discretion",
   "metadata": {},
   "outputs": [],
   "source": [
    "#df_fill = df_fill.drop(['DistrictId'], axis = 1)"
   ]
  },
  {
   "cell_type": "code",
   "execution_count": null,
   "id": "computational-speed",
   "metadata": {},
   "outputs": [],
   "source": [
    "#df_fill.shape"
   ]
  },
  {
   "cell_type": "markdown",
   "id": "plain-dayton",
   "metadata": {},
   "source": [
    "Saving of updated dataset to pickle file"
   ]
  },
  {
   "cell_type": "markdown",
   "id": "medium-stress",
   "metadata": {},
   "source": [
    "Case 2. Left data as is. *Accepted for further processing for now.*"
   ]
  },
  {
   "cell_type": "markdown",
   "id": "positive-assignment",
   "metadata": {},
   "source": [
    "Case 3. Transforming of District ID to more valuable data. e.g. to coefficient which related to apartment price."
   ]
  },
  {
   "cell_type": "code",
   "execution_count": null,
   "id": "medium-consensus",
   "metadata": {},
   "outputs": [],
   "source": [
    "df_fill.to_pickle(\"D:/Learning/GeekBrains/numpy and pandas/df_fill_processed.pkl\")"
   ]
  },
  {
   "cell_type": "markdown",
   "id": "underlying-characteristic",
   "metadata": {},
   "source": [
    "# 5. Model creation and applying <a class='anchor' id='models'>"
   ]
  },
  {
   "cell_type": "markdown",
   "id": "british-specification",
   "metadata": {},
   "source": [
    "## Algorithms and Techniques"
   ]
  },
  {
   "cell_type": "markdown",
   "id": "northern-raleigh",
   "metadata": {},
   "source": [
    "There are a lot of algorythms for solving of regression tasks:\n",
    "   - linear regression\n",
    "   - polynominal regression\n",
    "   - Decision Tree Regressor\n",
    "   - Random Forest Regressor\n",
    "   - Gradient Boosting etc\n",
    "**Linear regression**\n",
    "One of the simplest algorythms. Sometimes it even is not counted as ML method.\n",
    "Simpliest formula is:\n",
    "Y = kx + b\n",
    "and goal of algorithm is to find weights k and shift b to satisfy the best selected metric value.\n",
    "Implementation of linear regression is based on appropriate module from sklearn.\n",
    "\n",
    "**Decision Tree Regression**\n",
    "This is more flexible and easiy to understand method. It allows to have results which more fit curve of target variable.\n",
    "\n",
    "\n",
    "**Random Forest Regression**\n",
    "Method based on Decision Tree method but it use relatively big amount of Decision Trees. They works with different set of features in different combinations. \n",
    "Selecting of value for target variable is performed via voting of different trees from ensemble.\n",
    "\n",
    "**Gradient Boosting**\n",
    "Method which is based on boosting - method of ensembles building where predictors are built consistently, not in paralleal like in RandomForest. Boosting uses idea that every next model will be learnt based on errors of previous model.\n"
   ]
  },
  {
   "cell_type": "markdown",
   "id": "other-bidder",
   "metadata": {},
   "source": [
    "To split initial dataset for training and test datasets train_test_split from sklearn can be used.\n",
    "\n",
    "For best supervised method selection following methods of price prediction will be applied:\n",
    "1. Liear regression\n",
    "2. Random Forest \n",
    "3. Gradient Boosting\n",
    "\n",
    "After processing of all methods the best variant will be selected.\n",
    "\n",
    "To determine of quality of model, following metrics will be used:\n",
    "- R2 score\n",
    "- mean absolute error\n",
    "- mean squared error"
   ]
  },
  {
   "cell_type": "markdown",
   "id": "fitting-burton",
   "metadata": {},
   "source": [
    "### Metrics"
   ]
  },
  {
   "cell_type": "markdown",
   "id": "packed-scale",
   "metadata": {},
   "source": [
    "    \n",
    "ML metric - Mean Squared Error (**MSE**) \n",
    "    - MSE in direct ratio to RMSE и R^2\n",
    "    - MSE  easy to optimize (take the derrivatives)   \n",
    "\n",
    "\n",
    "\n",
    "Business metric - **R^2**, Root Mean Squared Error (**RMSE**)\n",
    "    - Easy interpretable\n",
    "    - easy to understand for business\n",
    "    - R^2 can have velues from 0 to 1, if 1, all our predictions are ideal. It possible to say that r2 score describy accuracy of our model.\n",
    "\n",
    "The best model will have max value of R2MSE for testdataset. "
   ]
  },
  {
   "cell_type": "markdown",
   "id": "challenging-stack",
   "metadata": {},
   "source": [
    " $$MSE = \\frac{1}{n}  \\sum{(y - y_{pred})^2}$$"
   ]
  },
  {
   "cell_type": "markdown",
   "id": "genuine-seattle",
   "metadata": {},
   "source": [
    "$$RMSE = \\sqrt{\\frac{1}{n}  \\sum{(y - y_{pred})^2}}$$"
   ]
  },
  {
   "cell_type": "markdown",
   "id": "furnished-dancing",
   "metadata": {},
   "source": [
    "$$R^2 = 1 - \\frac{\\frac{1}{n}\\sum{(y - y_{pred})^2}}{\\frac{1}{n}\\sum{(y - y_{mean})^2}}$$"
   ]
  },
  {
   "cell_type": "markdown",
   "id": "stable-guarantee",
   "metadata": {},
   "source": [
    "Dataset for each model will be processed by following steps:\n",
    "1. additional preprocessing which can be needed for this particular model\n",
    "2. spliting training and testing \n",
    "3. perform machine learning and record training and testing scores"
   ]
  },
  {
   "cell_type": "markdown",
   "id": "compound-reggae",
   "metadata": {},
   "source": [
    "## 5.1 Linear Model"
   ]
  },
  {
   "cell_type": "markdown",
   "id": "hungarian-sudan",
   "metadata": {},
   "source": [
    "Linear model will be used as the simplest avialble model for result comparing.\n",
    "Linear model is senitive to\n"
   ]
  },
  {
   "cell_type": "markdown",
   "id": "caroline-shelter",
   "metadata": {},
   "source": [
    "For linear model normalized values will be applied due to senctivity of this model to differen scale of values."
   ]
  },
  {
   "cell_type": "code",
   "execution_count": 77,
   "id": "sized-budget",
   "metadata": {},
   "outputs": [],
   "source": [
    "X_lr = df_fill.copy()"
   ]
  },
  {
   "cell_type": "code",
   "execution_count": 78,
   "id": "confidential-helmet",
   "metadata": {},
   "outputs": [
    {
     "data": {
      "text/plain": [
       "(10000, 22)"
      ]
     },
     "execution_count": 78,
     "metadata": {},
     "output_type": "execute_result"
    }
   ],
   "source": [
    "X_lr.shape"
   ]
  },
  {
   "cell_type": "code",
   "execution_count": 79,
   "id": "consolidated-rainbow",
   "metadata": {},
   "outputs": [
    {
     "data": {
      "text/html": [
       "<div>\n",
       "<style scoped>\n",
       "    .dataframe tbody tr th:only-of-type {\n",
       "        vertical-align: middle;\n",
       "    }\n",
       "\n",
       "    .dataframe tbody tr th {\n",
       "        vertical-align: top;\n",
       "    }\n",
       "\n",
       "    .dataframe thead th {\n",
       "        text-align: right;\n",
       "    }\n",
       "</style>\n",
       "<table border=\"1\" class=\"dataframe\">\n",
       "  <thead>\n",
       "    <tr style=\"text-align: right;\">\n",
       "      <th></th>\n",
       "      <th>DistrictId</th>\n",
       "      <th>Rooms</th>\n",
       "      <th>Square</th>\n",
       "      <th>LifeSquare</th>\n",
       "      <th>KitchenSquare</th>\n",
       "      <th>Floor</th>\n",
       "      <th>HouseFloor</th>\n",
       "      <th>HouseYear</th>\n",
       "      <th>Ecology_1</th>\n",
       "      <th>Social_1</th>\n",
       "      <th>...</th>\n",
       "      <th>Healthcare_1</th>\n",
       "      <th>Helthcare_2</th>\n",
       "      <th>Shops_1</th>\n",
       "      <th>Price</th>\n",
       "      <th>Ecology_2_A</th>\n",
       "      <th>Ecology_2_B</th>\n",
       "      <th>Ecology_3_A</th>\n",
       "      <th>Ecology_3_B</th>\n",
       "      <th>Shops_2_A</th>\n",
       "      <th>Shops_2_B</th>\n",
       "    </tr>\n",
       "    <tr>\n",
       "      <th>Id</th>\n",
       "      <th></th>\n",
       "      <th></th>\n",
       "      <th></th>\n",
       "      <th></th>\n",
       "      <th></th>\n",
       "      <th></th>\n",
       "      <th></th>\n",
       "      <th></th>\n",
       "      <th></th>\n",
       "      <th></th>\n",
       "      <th></th>\n",
       "      <th></th>\n",
       "      <th></th>\n",
       "      <th></th>\n",
       "      <th></th>\n",
       "      <th></th>\n",
       "      <th></th>\n",
       "      <th></th>\n",
       "      <th></th>\n",
       "      <th></th>\n",
       "      <th></th>\n",
       "    </tr>\n",
       "  </thead>\n",
       "  <tbody>\n",
       "    <tr>\n",
       "      <th>14038</th>\n",
       "      <td>35</td>\n",
       "      <td>2.0</td>\n",
       "      <td>47.981561</td>\n",
       "      <td>29.442751</td>\n",
       "      <td>6.0</td>\n",
       "      <td>7</td>\n",
       "      <td>9.0</td>\n",
       "      <td>1969.0</td>\n",
       "      <td>0.08904</td>\n",
       "      <td>33</td>\n",
       "      <td>...</td>\n",
       "      <td>900.0</td>\n",
       "      <td>0</td>\n",
       "      <td>11</td>\n",
       "      <td>184966.93073</td>\n",
       "      <td>0</td>\n",
       "      <td>1</td>\n",
       "      <td>0</td>\n",
       "      <td>1</td>\n",
       "      <td>0</td>\n",
       "      <td>1</td>\n",
       "    </tr>\n",
       "  </tbody>\n",
       "</table>\n",
       "<p>1 rows × 22 columns</p>\n",
       "</div>"
      ],
      "text/plain": [
       "       DistrictId  Rooms     Square  LifeSquare  KitchenSquare  Floor  \\\n",
       "Id                                                                      \n",
       "14038          35    2.0  47.981561   29.442751            6.0      7   \n",
       "\n",
       "       HouseFloor  HouseYear  Ecology_1  Social_1  ...  Healthcare_1  \\\n",
       "Id                                                 ...                 \n",
       "14038         9.0     1969.0    0.08904        33  ...         900.0   \n",
       "\n",
       "       Helthcare_2  Shops_1         Price  Ecology_2_A  Ecology_2_B  \\\n",
       "Id                                                                    \n",
       "14038            0       11  184966.93073            0            1   \n",
       "\n",
       "       Ecology_3_A  Ecology_3_B  Shops_2_A  Shops_2_B  \n",
       "Id                                                     \n",
       "14038            0            1          0          1  \n",
       "\n",
       "[1 rows x 22 columns]"
      ]
     },
     "execution_count": 79,
     "metadata": {},
     "output_type": "execute_result"
    }
   ],
   "source": [
    "X_lr.head(1)"
   ]
  },
  {
   "cell_type": "markdown",
   "id": "white-principle",
   "metadata": {},
   "source": [
    "Some features will be removed because their corellatia coefficient is 0\n",
    "\n",
    "Categorial variables also will be removed."
   ]
  },
  {
   "cell_type": "code",
   "execution_count": 80,
   "id": "settled-intake",
   "metadata": {},
   "outputs": [],
   "source": [
    "#X_lr = X_lr.drop(['LifeSquare', 'KitchenSquare', 'HouseFloor', 'HouseYear', 'Healthcare_1', \\\n",
    "#                              'Ecology_2', 'Ecology_3', 'Shops_2'], axis = 1)\n",
    "X_lr = X_lr.drop(['Ecology_2_A', 'Ecology_2_B', 'Ecology_3_A','Ecology_3_B','Shops_2_A','Shops_2_B'], axis = 1)"
   ]
  },
  {
   "cell_type": "code",
   "execution_count": 81,
   "id": "potential-linux",
   "metadata": {},
   "outputs": [],
   "source": [
    "y_lr = X_lr['Price']"
   ]
  },
  {
   "cell_type": "code",
   "execution_count": 82,
   "id": "imperial-module",
   "metadata": {},
   "outputs": [],
   "source": [
    "X_lr = X_lr.drop(['Price'], axis = 1)"
   ]
  },
  {
   "cell_type": "code",
   "execution_count": 83,
   "id": "coupled-cargo",
   "metadata": {},
   "outputs": [],
   "source": [
    "num_feature_names = X_lr.columns \n",
    "index_col = X_lr.index"
   ]
  },
  {
   "cell_type": "code",
   "execution_count": 84,
   "id": "manufactured-pantyhose",
   "metadata": {},
   "outputs": [
    {
     "data": {
      "text/html": [
       "<div>\n",
       "<style scoped>\n",
       "    .dataframe tbody tr th:only-of-type {\n",
       "        vertical-align: middle;\n",
       "    }\n",
       "\n",
       "    .dataframe tbody tr th {\n",
       "        vertical-align: top;\n",
       "    }\n",
       "\n",
       "    .dataframe thead th {\n",
       "        text-align: right;\n",
       "    }\n",
       "</style>\n",
       "<table border=\"1\" class=\"dataframe\">\n",
       "  <thead>\n",
       "    <tr style=\"text-align: right;\">\n",
       "      <th></th>\n",
       "      <th>DistrictId</th>\n",
       "      <th>Rooms</th>\n",
       "      <th>Square</th>\n",
       "      <th>LifeSquare</th>\n",
       "      <th>KitchenSquare</th>\n",
       "      <th>Floor</th>\n",
       "      <th>HouseFloor</th>\n",
       "      <th>HouseYear</th>\n",
       "      <th>Ecology_1</th>\n",
       "      <th>Social_1</th>\n",
       "      <th>Social_2</th>\n",
       "      <th>Social_3</th>\n",
       "      <th>Healthcare_1</th>\n",
       "      <th>Helthcare_2</th>\n",
       "      <th>Shops_1</th>\n",
       "    </tr>\n",
       "    <tr>\n",
       "      <th>Id</th>\n",
       "      <th></th>\n",
       "      <th></th>\n",
       "      <th></th>\n",
       "      <th></th>\n",
       "      <th></th>\n",
       "      <th></th>\n",
       "      <th></th>\n",
       "      <th></th>\n",
       "      <th></th>\n",
       "      <th></th>\n",
       "      <th></th>\n",
       "      <th></th>\n",
       "      <th></th>\n",
       "      <th></th>\n",
       "      <th></th>\n",
       "    </tr>\n",
       "  </thead>\n",
       "  <tbody>\n",
       "    <tr>\n",
       "      <th>14038</th>\n",
       "      <td>35</td>\n",
       "      <td>2.0</td>\n",
       "      <td>47.981561</td>\n",
       "      <td>29.442751</td>\n",
       "      <td>6.0</td>\n",
       "      <td>7</td>\n",
       "      <td>9.0</td>\n",
       "      <td>1969.0</td>\n",
       "      <td>0.089040</td>\n",
       "      <td>33</td>\n",
       "      <td>7976</td>\n",
       "      <td>5</td>\n",
       "      <td>900.0</td>\n",
       "      <td>0</td>\n",
       "      <td>11</td>\n",
       "    </tr>\n",
       "    <tr>\n",
       "      <th>15053</th>\n",
       "      <td>41</td>\n",
       "      <td>3.0</td>\n",
       "      <td>65.683640</td>\n",
       "      <td>40.049543</td>\n",
       "      <td>8.0</td>\n",
       "      <td>7</td>\n",
       "      <td>9.0</td>\n",
       "      <td>1978.0</td>\n",
       "      <td>0.000070</td>\n",
       "      <td>46</td>\n",
       "      <td>10309</td>\n",
       "      <td>1</td>\n",
       "      <td>240.0</td>\n",
       "      <td>1</td>\n",
       "      <td>16</td>\n",
       "    </tr>\n",
       "    <tr>\n",
       "      <th>4765</th>\n",
       "      <td>53</td>\n",
       "      <td>2.0</td>\n",
       "      <td>44.947953</td>\n",
       "      <td>29.197612</td>\n",
       "      <td>3.0</td>\n",
       "      <td>8</td>\n",
       "      <td>12.0</td>\n",
       "      <td>1968.0</td>\n",
       "      <td>0.049637</td>\n",
       "      <td>34</td>\n",
       "      <td>7759</td>\n",
       "      <td>0</td>\n",
       "      <td>229.0</td>\n",
       "      <td>1</td>\n",
       "      <td>3</td>\n",
       "    </tr>\n",
       "    <tr>\n",
       "      <th>5809</th>\n",
       "      <td>58</td>\n",
       "      <td>2.0</td>\n",
       "      <td>53.352981</td>\n",
       "      <td>42.352981</td>\n",
       "      <td>9.0</td>\n",
       "      <td>8</td>\n",
       "      <td>17.0</td>\n",
       "      <td>1977.0</td>\n",
       "      <td>0.437885</td>\n",
       "      <td>23</td>\n",
       "      <td>5735</td>\n",
       "      <td>3</td>\n",
       "      <td>1084.0</td>\n",
       "      <td>0</td>\n",
       "      <td>5</td>\n",
       "    </tr>\n",
       "    <tr>\n",
       "      <th>10783</th>\n",
       "      <td>99</td>\n",
       "      <td>1.0</td>\n",
       "      <td>39.649192</td>\n",
       "      <td>23.776169</td>\n",
       "      <td>7.0</td>\n",
       "      <td>11</td>\n",
       "      <td>12.0</td>\n",
       "      <td>1976.0</td>\n",
       "      <td>0.012339</td>\n",
       "      <td>35</td>\n",
       "      <td>5776</td>\n",
       "      <td>1</td>\n",
       "      <td>2078.0</td>\n",
       "      <td>2</td>\n",
       "      <td>4</td>\n",
       "    </tr>\n",
       "  </tbody>\n",
       "</table>\n",
       "</div>"
      ],
      "text/plain": [
       "       DistrictId  Rooms     Square  LifeSquare  KitchenSquare  Floor  \\\n",
       "Id                                                                      \n",
       "14038          35    2.0  47.981561   29.442751            6.0      7   \n",
       "15053          41    3.0  65.683640   40.049543            8.0      7   \n",
       "4765           53    2.0  44.947953   29.197612            3.0      8   \n",
       "5809           58    2.0  53.352981   42.352981            9.0      8   \n",
       "10783          99    1.0  39.649192   23.776169            7.0     11   \n",
       "\n",
       "       HouseFloor  HouseYear  Ecology_1  Social_1  Social_2  Social_3  \\\n",
       "Id                                                                      \n",
       "14038         9.0     1969.0   0.089040        33      7976         5   \n",
       "15053         9.0     1978.0   0.000070        46     10309         1   \n",
       "4765         12.0     1968.0   0.049637        34      7759         0   \n",
       "5809         17.0     1977.0   0.437885        23      5735         3   \n",
       "10783        12.0     1976.0   0.012339        35      5776         1   \n",
       "\n",
       "       Healthcare_1  Helthcare_2  Shops_1  \n",
       "Id                                         \n",
       "14038         900.0            0       11  \n",
       "15053         240.0            1       16  \n",
       "4765          229.0            1        3  \n",
       "5809         1084.0            0        5  \n",
       "10783        2078.0            2        4  "
      ]
     },
     "execution_count": 84,
     "metadata": {},
     "output_type": "execute_result"
    }
   ],
   "source": [
    "X_lr.head()"
   ]
  },
  {
   "cell_type": "markdown",
   "id": "considerable-triumph",
   "metadata": {},
   "source": [
    "**Normalization od data using Standard Sacaler**\n",
    "Linear model is very sensetive to different vallue sacale, so build correct form of correlation dependency all features have to be in the same scale."
   ]
  },
  {
   "cell_type": "code",
   "execution_count": 85,
   "id": "registered-friendship",
   "metadata": {
    "scrolled": true
   },
   "outputs": [
    {
     "data": {
      "text/plain": [
       "DistrictId       0\n",
       "Rooms            0\n",
       "Square           0\n",
       "LifeSquare       0\n",
       "KitchenSquare    0\n",
       "Floor            0\n",
       "HouseFloor       0\n",
       "HouseYear        0\n",
       "Ecology_1        0\n",
       "Social_1         0\n",
       "Social_2         0\n",
       "Social_3         0\n",
       "Healthcare_1     0\n",
       "Helthcare_2      0\n",
       "Shops_1          0\n",
       "dtype: int64"
      ]
     },
     "execution_count": 85,
     "metadata": {},
     "output_type": "execute_result"
    }
   ],
   "source": [
    "X_lr.isnull().sum()"
   ]
  },
  {
   "cell_type": "markdown",
   "id": "smart-textbook",
   "metadata": {},
   "source": [
    "Normalizing of data using Standard Scaler which changes data to their projection to the [-1; 1] interval.\n",
    "\n",
    "Numerical features only will be processed."
   ]
  },
  {
   "cell_type": "code",
   "execution_count": 86,
   "id": "monthly-cassette",
   "metadata": {},
   "outputs": [],
   "source": [
    "scaler = StandardScaler()\n",
    "scaler_lr = scaler.fit_transform(X_lr)\n",
    "\n",
    "X_lr = pd.DataFrame(scaler_lr, columns=num_feature_names)\n",
    "X_lr.set_index(index_col, inplace = True)"
   ]
  },
  {
   "cell_type": "markdown",
   "id": "chinese-balance",
   "metadata": {},
   "source": [
    "Building correlation matrix which will display dependencies of target variable by  other features."
   ]
  },
  {
   "cell_type": "code",
   "execution_count": 87,
   "id": "reduced-stability",
   "metadata": {},
   "outputs": [
    {
     "data": {
      "image/png": "[encoded data removed]",
      "text/plain": [
       "<Figure size 1080x720 with 2 Axes>"
      ]
     },
     "metadata": {
      "needs_background": "light"
     },
     "output_type": "display_data"
    }
   ],
   "source": [
    "plt.figure(figsize = (15,10))\n",
    "\n",
    "sns.set(font_scale=1.4)\n",
    "\n",
    "corr_matrix = X_lr[num_feature_names].corr()\n",
    "corr_matrix = np.round(corr_matrix, 2)\n",
    "corr_matrix[np.abs(corr_matrix) < 0.05] = 0\n",
    "\n",
    "sns.heatmap(corr_matrix, annot=True, linewidths=.5, cmap='coolwarm')\n",
    "\n",
    "plt.title('Correlation matrix')\n",
    "plt.show()"
   ]
  },
  {
   "cell_type": "markdown",
   "id": "effective-integrity",
   "metadata": {},
   "source": [
    "Values which have the hights coefficient of correlatio is Rooms and Square.\n",
    "\n",
    "Social_1, Social_2 and Healthcare also heve correlation coefficient grater than 0.2.\n",
    "Values with low correelation coefficient will be romeved from the dataset"
   ]
  },
  {
   "cell_type": "code",
   "execution_count": 88,
   "id": "concrete-minute",
   "metadata": {},
   "outputs": [],
   "source": [
    "X_train_lr, X_test_lr, y_train_lr, y_test_lr = train_test_split(X_lr, y_lr, test_size=0.3, random_state = 43)"
   ]
  },
  {
   "cell_type": "code",
   "execution_count": 89,
   "id": "polish-grave",
   "metadata": {},
   "outputs": [],
   "source": [
    "lr = LinearRegression()"
   ]
  },
  {
   "cell_type": "code",
   "execution_count": 90,
   "id": "smoking-casino",
   "metadata": {},
   "outputs": [
    {
     "data": {
      "text/html": [
       "<div>\n",
       "<style scoped>\n",
       "    .dataframe tbody tr th:only-of-type {\n",
       "        vertical-align: middle;\n",
       "    }\n",
       "\n",
       "    .dataframe tbody tr th {\n",
       "        vertical-align: top;\n",
       "    }\n",
       "\n",
       "    .dataframe thead th {\n",
       "        text-align: right;\n",
       "    }\n",
       "</style>\n",
       "<table border=\"1\" class=\"dataframe\">\n",
       "  <thead>\n",
       "    <tr style=\"text-align: right;\">\n",
       "      <th></th>\n",
       "      <th>DistrictId</th>\n",
       "      <th>Rooms</th>\n",
       "      <th>Square</th>\n",
       "      <th>LifeSquare</th>\n",
       "      <th>KitchenSquare</th>\n",
       "      <th>Floor</th>\n",
       "      <th>HouseFloor</th>\n",
       "      <th>HouseYear</th>\n",
       "      <th>Ecology_1</th>\n",
       "      <th>Social_1</th>\n",
       "      <th>Social_2</th>\n",
       "      <th>Social_3</th>\n",
       "      <th>Healthcare_1</th>\n",
       "      <th>Helthcare_2</th>\n",
       "      <th>Shops_1</th>\n",
       "    </tr>\n",
       "    <tr>\n",
       "      <th>Id</th>\n",
       "      <th></th>\n",
       "      <th></th>\n",
       "      <th></th>\n",
       "      <th></th>\n",
       "      <th></th>\n",
       "      <th></th>\n",
       "      <th></th>\n",
       "      <th></th>\n",
       "      <th></th>\n",
       "      <th></th>\n",
       "      <th></th>\n",
       "      <th></th>\n",
       "      <th></th>\n",
       "      <th></th>\n",
       "      <th></th>\n",
       "    </tr>\n",
       "  </thead>\n",
       "  <tbody>\n",
       "    <tr>\n",
       "      <th>6498</th>\n",
       "      <td>0.151408</td>\n",
       "      <td>0.138526</td>\n",
       "      <td>0.278368</td>\n",
       "      <td>-0.211745</td>\n",
       "      <td>0.86732</td>\n",
       "      <td>0.853539</td>\n",
       "      <td>1.399496</td>\n",
       "      <td>0.985178</td>\n",
       "      <td>-0.235747</td>\n",
       "      <td>2.812784</td>\n",
       "      <td>3.427056</td>\n",
       "      <td>-0.253421</td>\n",
       "      <td>-0.16924</td>\n",
       "      <td>2.464303</td>\n",
       "      <td>2.240632</td>\n",
       "    </tr>\n",
       "  </tbody>\n",
       "</table>\n",
       "</div>"
      ],
      "text/plain": [
       "      DistrictId     Rooms    Square  LifeSquare  KitchenSquare     Floor  \\\n",
       "Id                                                                          \n",
       "6498    0.151408  0.138526  0.278368   -0.211745        0.86732  0.853539   \n",
       "\n",
       "      HouseFloor  HouseYear  Ecology_1  Social_1  Social_2  Social_3  \\\n",
       "Id                                                                     \n",
       "6498    1.399496   0.985178  -0.235747  2.812784  3.427056 -0.253421   \n",
       "\n",
       "      Healthcare_1  Helthcare_2   Shops_1  \n",
       "Id                                         \n",
       "6498      -0.16924     2.464303  2.240632  "
      ]
     },
     "execution_count": 90,
     "metadata": {},
     "output_type": "execute_result"
    }
   ],
   "source": [
    "X_train_lr.head(1)"
   ]
  },
  {
   "cell_type": "code",
   "execution_count": 91,
   "id": "potential-expense",
   "metadata": {
    "scrolled": true
   },
   "outputs": [
    {
     "name": "stdout",
     "output_type": "stream",
     "text": [
      "R2:\t0.507\n",
      "RMSE:\t65156.023\n",
      "MSE:\t4245307318.573\n"
     ]
    },
    {
     "data": {
      "image/png": "[encoded data removed]",
      "text/plain": [
       "<Figure size 576x576 with 1 Axes>"
      ]
     },
     "metadata": {},
     "output_type": "display_data"
    }
   ],
   "source": [
    "lr_model = LinearRegression()\n",
    "lr_model.fit(X_train_lr, y_train_lr)\n",
    "\n",
    "y_pred_lr = lr_model.predict(X_test_lr)\n",
    "# Постпроцессинг\n",
    "# y_pred = np.clip(y_train_preds, a_min=10000, a_max=500000)\n",
    "\n",
    "evaluate_preds(y_test_lr, y_pred_lr)"
   ]
  },
  {
   "cell_type": "markdown",
   "id": "architectural-little",
   "metadata": {},
   "source": [
    "**Evaluating of algorythm**"
   ]
  },
  {
   "cell_type": "code",
   "execution_count": 92,
   "id": "standing-program",
   "metadata": {
    "scrolled": false
   },
   "outputs": [
    {
     "data": {
      "text/plain": [
       "0.506954101990563"
      ]
     },
     "execution_count": 92,
     "metadata": {},
     "output_type": "execute_result"
    }
   ],
   "source": [
    "lr_mean_r2 = r2_score(y_test_lr, y_pred_lr)\n",
    "lr_mean_r2"
   ]
  },
  {
   "cell_type": "code",
   "execution_count": 93,
   "id": "blank-penalty",
   "metadata": {},
   "outputs": [
    {
     "data": {
      "text/plain": [
       "4245307318.5725756"
      ]
     },
     "execution_count": 93,
     "metadata": {},
     "output_type": "execute_result"
    }
   ],
   "source": [
    "lr_mean_sq_error = mean_squared_error(y_test_lr, y_pred_lr)\n",
    "lr_mean_sq_error"
   ]
  },
  {
   "cell_type": "code",
   "execution_count": 94,
   "id": "contrary-belarus",
   "metadata": {},
   "outputs": [
    {
     "data": {
      "text/plain": [
       "44874.53896456897"
      ]
     },
     "execution_count": 94,
     "metadata": {},
     "output_type": "execute_result"
    }
   ],
   "source": [
    "lr_mean_abs_error = mean_absolute_error(y_test_lr, y_pred_lr)\n",
    "lr_mean_abs_error"
   ]
  },
  {
   "cell_type": "code",
   "execution_count": 95,
   "id": "allied-midnight",
   "metadata": {},
   "outputs": [],
   "source": [
    "df_res = pd.DataFrame([['Linear regression','Yes',lr_mean_r2,lr_mean_abs_error,lr_mean_sq_error]], columns = result.columns)\n",
    "result = result.append(df_res)"
   ]
  },
  {
   "cell_type": "markdown",
   "id": "helpful-belle",
   "metadata": {},
   "source": [
    "**Conclusion about linear model**\n",
    "\n",
    "As expected linear model in this task displayed relatively low r2 score."
   ]
  },
  {
   "cell_type": "markdown",
   "id": "presidential-affect",
   "metadata": {},
   "source": [
    "### Random Forest"
   ]
  },
  {
   "cell_type": "markdown",
   "id": "behavioral-planner",
   "metadata": {},
   "source": [
    "Random forests is a supervised learning algorithm. It can be used both for classification and regression. It is also the most flexible and easy to use algorithm. A forest is comprised of trees. It is said that the more trees it has, the more robust a forest is. Random forests creates decision trees on randomly selected data samples, gets prediction from each tree and selects the best solution by means of voting. It also provides a pretty good indicator of the feature importance."
   ]
  },
  {
   "cell_type": "code",
   "execution_count": 96,
   "id": "random-complexity",
   "metadata": {},
   "outputs": [],
   "source": [
    "X_rf = df_fill.copy()"
   ]
  },
  {
   "cell_type": "code",
   "execution_count": 97,
   "id": "guided-place",
   "metadata": {},
   "outputs": [],
   "source": [
    "y_rf = X_rf['Price']"
   ]
  },
  {
   "cell_type": "code",
   "execution_count": 98,
   "id": "brown-musical",
   "metadata": {},
   "outputs": [],
   "source": [
    "X_rf = X_rf.drop('Price', axis = 1)"
   ]
  },
  {
   "cell_type": "code",
   "execution_count": 99,
   "id": "fluid-emerald",
   "metadata": {},
   "outputs": [
    {
     "data": {
      "text/plain": [
       "(10000, 21)"
      ]
     },
     "execution_count": 99,
     "metadata": {},
     "output_type": "execute_result"
    }
   ],
   "source": [
    "X_rf.shape"
   ]
  },
  {
   "cell_type": "code",
   "execution_count": 100,
   "id": "loose-terminology",
   "metadata": {},
   "outputs": [
    {
     "data": {
      "text/html": [
       "<div>\n",
       "<style scoped>\n",
       "    .dataframe tbody tr th:only-of-type {\n",
       "        vertical-align: middle;\n",
       "    }\n",
       "\n",
       "    .dataframe tbody tr th {\n",
       "        vertical-align: top;\n",
       "    }\n",
       "\n",
       "    .dataframe thead th {\n",
       "        text-align: right;\n",
       "    }\n",
       "</style>\n",
       "<table border=\"1\" class=\"dataframe\">\n",
       "  <thead>\n",
       "    <tr style=\"text-align: right;\">\n",
       "      <th></th>\n",
       "      <th>DistrictId</th>\n",
       "      <th>Rooms</th>\n",
       "      <th>Square</th>\n",
       "      <th>LifeSquare</th>\n",
       "      <th>KitchenSquare</th>\n",
       "      <th>Floor</th>\n",
       "      <th>HouseFloor</th>\n",
       "      <th>HouseYear</th>\n",
       "      <th>Ecology_1</th>\n",
       "      <th>Social_1</th>\n",
       "      <th>...</th>\n",
       "      <th>Social_3</th>\n",
       "      <th>Healthcare_1</th>\n",
       "      <th>Helthcare_2</th>\n",
       "      <th>Shops_1</th>\n",
       "      <th>Ecology_2_A</th>\n",
       "      <th>Ecology_2_B</th>\n",
       "      <th>Ecology_3_A</th>\n",
       "      <th>Ecology_3_B</th>\n",
       "      <th>Shops_2_A</th>\n",
       "      <th>Shops_2_B</th>\n",
       "    </tr>\n",
       "    <tr>\n",
       "      <th>Id</th>\n",
       "      <th></th>\n",
       "      <th></th>\n",
       "      <th></th>\n",
       "      <th></th>\n",
       "      <th></th>\n",
       "      <th></th>\n",
       "      <th></th>\n",
       "      <th></th>\n",
       "      <th></th>\n",
       "      <th></th>\n",
       "      <th></th>\n",
       "      <th></th>\n",
       "      <th></th>\n",
       "      <th></th>\n",
       "      <th></th>\n",
       "      <th></th>\n",
       "      <th></th>\n",
       "      <th></th>\n",
       "      <th></th>\n",
       "      <th></th>\n",
       "      <th></th>\n",
       "    </tr>\n",
       "  </thead>\n",
       "  <tbody>\n",
       "    <tr>\n",
       "      <th>14038</th>\n",
       "      <td>35</td>\n",
       "      <td>2.0</td>\n",
       "      <td>47.981561</td>\n",
       "      <td>29.442751</td>\n",
       "      <td>6.0</td>\n",
       "      <td>7</td>\n",
       "      <td>9.0</td>\n",
       "      <td>1969.0</td>\n",
       "      <td>0.08904</td>\n",
       "      <td>33</td>\n",
       "      <td>...</td>\n",
       "      <td>5</td>\n",
       "      <td>900.0</td>\n",
       "      <td>0</td>\n",
       "      <td>11</td>\n",
       "      <td>0</td>\n",
       "      <td>1</td>\n",
       "      <td>0</td>\n",
       "      <td>1</td>\n",
       "      <td>0</td>\n",
       "      <td>1</td>\n",
       "    </tr>\n",
       "  </tbody>\n",
       "</table>\n",
       "<p>1 rows × 21 columns</p>\n",
       "</div>"
      ],
      "text/plain": [
       "       DistrictId  Rooms     Square  LifeSquare  KitchenSquare  Floor  \\\n",
       "Id                                                                      \n",
       "14038          35    2.0  47.981561   29.442751            6.0      7   \n",
       "\n",
       "       HouseFloor  HouseYear  Ecology_1  Social_1  ...  Social_3  \\\n",
       "Id                                                 ...             \n",
       "14038         9.0     1969.0    0.08904        33  ...         5   \n",
       "\n",
       "       Healthcare_1  Helthcare_2  Shops_1  Ecology_2_A  Ecology_2_B  \\\n",
       "Id                                                                    \n",
       "14038         900.0            0       11            0            1   \n",
       "\n",
       "       Ecology_3_A  Ecology_3_B  Shops_2_A  Shops_2_B  \n",
       "Id                                                     \n",
       "14038            0            1          0          1  \n",
       "\n",
       "[1 rows x 21 columns]"
      ]
     },
     "execution_count": 100,
     "metadata": {},
     "output_type": "execute_result"
    }
   ],
   "source": [
    "X_rf.head(1)"
   ]
  },
  {
   "cell_type": "code",
   "execution_count": 101,
   "id": "exotic-watch",
   "metadata": {},
   "outputs": [],
   "source": [
    "X_train_rf, X_test_rf, y_train_rf, y_test_rf = train_test_split(X_rf, y_rf, test_size=0.3, random_state = 42)"
   ]
  },
  {
   "cell_type": "markdown",
   "id": "supreme-calibration",
   "metadata": {},
   "source": [
    "There are several approaches available for data processing:\n",
    "1. Delete all categorial fields, fields which do not affect result and fields with big amount of null values\n",
    "2. Use data processing by different rules. See above.\n"
   ]
  },
  {
   "cell_type": "markdown",
   "id": "assured-thunder",
   "metadata": {},
   "source": [
    "**Approach 1.** Delete all categorial fields and fields with gaps in data."
   ]
  },
  {
   "cell_type": "markdown",
   "id": "authorized-brook",
   "metadata": {},
   "source": [
    "Selecting of params for model fit"
   ]
  },
  {
   "cell_type": "code",
   "execution_count": 102,
   "id": "persistent-bangladesh",
   "metadata": {},
   "outputs": [],
   "source": [
    "\n",
    "params = {'n_estimators':range(500, 1100, 100), \n",
    "          'max_depth':range(10, 21, 2),\n",
    "         }"
   ]
  },
  {
   "cell_type": "code",
   "execution_count": 103,
   "id": "miniature-utilization",
   "metadata": {},
   "outputs": [],
   "source": [
    "rf_model = RandomForestRegressor(criterion='mse', random_state=42)"
   ]
  },
  {
   "cell_type": "markdown",
   "id": "lucky-characterization",
   "metadata": {},
   "source": [
    "Some parameters for random forest model, like quality metrics will be same, they will be left beyond metha-parametrs fit.\n",
    "Selecting of parameters will be perfomed using GridSearchCV from sklearn"
   ]
  },
  {
   "cell_type": "markdown",
   "id": "informal-sympathy",
   "metadata": {},
   "source": [
    "**Optimization of parameters for Random Forest model**"
   ]
  },
  {
   "cell_type": "code",
   "execution_count": 104,
   "id": "broad-exposure",
   "metadata": {},
   "outputs": [],
   "source": [
    "gsr = GridSearchCV(rf_model, params, \n",
    "                  scoring='r2', # selected metric for model estimation \n",
    "                  cv=KFold(n_splits=5,   #amount of folds in cross-validation\n",
    "                           random_state=21, \n",
    "                           shuffle=True),\n",
    "                  n_jobs=-1\n",
    "                  )"
   ]
  },
  {
   "cell_type": "code",
   "execution_count": 105,
   "id": "pregnant-cargo",
   "metadata": {},
   "outputs": [
    {
     "name": "stdout",
     "output_type": "stream",
     "text": [
      "Wall time: 25min 4s\n"
     ]
    },
    {
     "data": {
      "text/plain": [
       "GridSearchCV(cv=KFold(n_splits=5, random_state=21, shuffle=True),\n",
       "             estimator=RandomForestRegressor(random_state=42), n_jobs=-1,\n",
       "             param_grid={'max_depth': range(10, 21, 2),\n",
       "                         'n_estimators': range(500, 1100, 100)},\n",
       "             scoring='r2')"
      ]
     },
     "execution_count": 105,
     "metadata": {},
     "output_type": "execute_result"
    }
   ],
   "source": [
    "%%time\n",
    "gsr.fit(X_train_rf, y_train_rf) "
   ]
  },
  {
   "cell_type": "markdown",
   "id": "announced-colorado",
   "metadata": {},
   "source": [
    "**Random Forest metaparameters which was determined as the best**"
   ]
  },
  {
   "cell_type": "code",
   "execution_count": 106,
   "id": "connected-neighbor",
   "metadata": {},
   "outputs": [
    {
     "data": {
      "text/html": [
       "<div>\n",
       "<style scoped>\n",
       "    .dataframe tbody tr th:only-of-type {\n",
       "        vertical-align: middle;\n",
       "    }\n",
       "\n",
       "    .dataframe tbody tr th {\n",
       "        vertical-align: top;\n",
       "    }\n",
       "\n",
       "    .dataframe thead th {\n",
       "        text-align: right;\n",
       "    }\n",
       "</style>\n",
       "<table border=\"1\" class=\"dataframe\">\n",
       "  <thead>\n",
       "    <tr style=\"text-align: right;\">\n",
       "      <th></th>\n",
       "      <th>mean_fit_time</th>\n",
       "      <th>std_fit_time</th>\n",
       "      <th>mean_score_time</th>\n",
       "      <th>std_score_time</th>\n",
       "      <th>param_max_depth</th>\n",
       "      <th>param_n_estimators</th>\n",
       "      <th>params</th>\n",
       "      <th>split0_test_score</th>\n",
       "      <th>split1_test_score</th>\n",
       "      <th>split2_test_score</th>\n",
       "      <th>split3_test_score</th>\n",
       "      <th>split4_test_score</th>\n",
       "      <th>mean_test_score</th>\n",
       "      <th>std_test_score</th>\n",
       "      <th>rank_test_score</th>\n",
       "    </tr>\n",
       "  </thead>\n",
       "  <tbody>\n",
       "    <tr>\n",
       "      <th>0</th>\n",
       "      <td>18.917982</td>\n",
       "      <td>1.650909</td>\n",
       "      <td>0.162367</td>\n",
       "      <td>0.022278</td>\n",
       "      <td>10</td>\n",
       "      <td>500</td>\n",
       "      <td>{'max_depth': 10, 'n_estimators': 500}</td>\n",
       "      <td>0.714368</td>\n",
       "      <td>0.715265</td>\n",
       "      <td>0.719707</td>\n",
       "      <td>0.681292</td>\n",
       "      <td>0.755552</td>\n",
       "      <td>0.717237</td>\n",
       "      <td>0.023573</td>\n",
       "      <td>36</td>\n",
       "    </tr>\n",
       "    <tr>\n",
       "      <th>1</th>\n",
       "      <td>17.948932</td>\n",
       "      <td>0.608827</td>\n",
       "      <td>0.159772</td>\n",
       "      <td>0.006225</td>\n",
       "      <td>10</td>\n",
       "      <td>600</td>\n",
       "      <td>{'max_depth': 10, 'n_estimators': 600}</td>\n",
       "      <td>0.714778</td>\n",
       "      <td>0.715556</td>\n",
       "      <td>0.719725</td>\n",
       "      <td>0.681538</td>\n",
       "      <td>0.756145</td>\n",
       "      <td>0.717548</td>\n",
       "      <td>0.023676</td>\n",
       "      <td>33</td>\n",
       "    </tr>\n",
       "  </tbody>\n",
       "</table>\n",
       "</div>"
      ],
      "text/plain": [
       "   mean_fit_time  std_fit_time  mean_score_time  std_score_time  \\\n",
       "0      18.917982      1.650909         0.162367        0.022278   \n",
       "1      17.948932      0.608827         0.159772        0.006225   \n",
       "\n",
       "  param_max_depth param_n_estimators                                  params  \\\n",
       "0              10                500  {'max_depth': 10, 'n_estimators': 500}   \n",
       "1              10                600  {'max_depth': 10, 'n_estimators': 600}   \n",
       "\n",
       "   split0_test_score  split1_test_score  split2_test_score  split3_test_score  \\\n",
       "0           0.714368           0.715265           0.719707           0.681292   \n",
       "1           0.714778           0.715556           0.719725           0.681538   \n",
       "\n",
       "   split4_test_score  mean_test_score  std_test_score  rank_test_score  \n",
       "0           0.755552         0.717237        0.023573               36  \n",
       "1           0.756145         0.717548        0.023676               33  "
      ]
     },
     "execution_count": 106,
     "metadata": {},
     "output_type": "execute_result"
    }
   ],
   "source": [
    "res = pd.DataFrame(gsr.cv_results_)\n",
    "res.head(2)"
   ]
  },
  {
   "cell_type": "code",
   "execution_count": 107,
   "id": "thousand-wellington",
   "metadata": {},
   "outputs": [
    {
     "data": {
      "text/plain": [
       "{'max_depth': 16, 'n_estimators': 1000}"
      ]
     },
     "execution_count": 107,
     "metadata": {},
     "output_type": "execute_result"
    }
   ],
   "source": [
    "gsr.best_params_"
   ]
  },
  {
   "cell_type": "markdown",
   "id": "cosmetic-fiction",
   "metadata": {},
   "source": [
    "According to grid search beast params are: {'max_depth': 15, 'n_estimators': 1000}"
   ]
  },
  {
   "cell_type": "code",
   "execution_count": 108,
   "id": "unlimited-geneva",
   "metadata": {},
   "outputs": [
    {
     "data": {
      "text/plain": [
       "0.7239538628839103"
      ]
     },
     "execution_count": 108,
     "metadata": {},
     "output_type": "execute_result"
    }
   ],
   "source": [
    "gsr.best_score_"
   ]
  },
  {
   "cell_type": "code",
   "execution_count": 109,
   "id": "arbitrary-durham",
   "metadata": {},
   "outputs": [],
   "source": [
    "best_rf_model = gsr.best_estimator_"
   ]
  },
  {
   "cell_type": "markdown",
   "id": "straight-opening",
   "metadata": {},
   "source": [
    "**Applying of selected model to training dataset**"
   ]
  },
  {
   "cell_type": "code",
   "execution_count": 110,
   "id": "young-attraction",
   "metadata": {
    "scrolled": false
   },
   "outputs": [
    {
     "data": {
      "text/plain": [
       "RandomForestRegressor(max_depth=16, n_estimators=1000, random_state=42)"
      ]
     },
     "execution_count": 110,
     "metadata": {},
     "output_type": "execute_result"
    }
   ],
   "source": [
    "best_rf_model.fit(X_train_rf, y_train_rf)"
   ]
  },
  {
   "cell_type": "code",
   "execution_count": 111,
   "id": "fifty-article",
   "metadata": {
    "scrolled": true
   },
   "outputs": [],
   "source": [
    "y_pred_rf = best_rf_model.predict(X_train_rf)"
   ]
  },
  {
   "cell_type": "markdown",
   "id": "progressive-offense",
   "metadata": {},
   "source": [
    "**Calculation of metrics for train dataset**"
   ]
  },
  {
   "cell_type": "code",
   "execution_count": 112,
   "id": "pressing-pressing",
   "metadata": {},
   "outputs": [
    {
     "data": {
      "text/plain": [
       "452756178.4370081"
      ]
     },
     "execution_count": 112,
     "metadata": {},
     "output_type": "execute_result"
    }
   ],
   "source": [
    "mean_squared_error(y_train_rf, y_pred_rf)"
   ]
  },
  {
   "cell_type": "code",
   "execution_count": 113,
   "id": "suburban-determination",
   "metadata": {},
   "outputs": [
    {
     "data": {
      "text/plain": [
       "13708.946543006927"
      ]
     },
     "execution_count": 113,
     "metadata": {},
     "output_type": "execute_result"
    }
   ],
   "source": [
    "mean_absolute_error(y_train_rf, y_pred_rf)"
   ]
  },
  {
   "cell_type": "code",
   "execution_count": 114,
   "id": "cheap-mathematics",
   "metadata": {
    "scrolled": true
   },
   "outputs": [
    {
     "data": {
      "text/plain": [
       "0.94755994080614"
      ]
     },
     "execution_count": 114,
     "metadata": {},
     "output_type": "execute_result"
    }
   ],
   "source": [
    "r2_score(y_train_rf, y_pred_rf)"
   ]
  },
  {
   "cell_type": "markdown",
   "id": "logical-boutique",
   "metadata": {},
   "source": [
    "**Prediction for test dataset**"
   ]
  },
  {
   "cell_type": "code",
   "execution_count": 115,
   "id": "conscious-accounting",
   "metadata": {},
   "outputs": [],
   "source": [
    "y_pred_rf_test = best_rf_model.predict(X_test_rf)"
   ]
  },
  {
   "cell_type": "code",
   "execution_count": 116,
   "id": "russian-heavy",
   "metadata": {},
   "outputs": [
    {
     "data": {
      "text/plain": [
       "2406304678.9855747"
      ]
     },
     "execution_count": 116,
     "metadata": {},
     "output_type": "execute_result"
    }
   ],
   "source": [
    "rf_mean_sq_error = mean_squared_error(y_test_rf, y_pred_rf_test)\n",
    "rf_mean_sq_error"
   ]
  },
  {
   "cell_type": "code",
   "execution_count": 117,
   "id": "level-yield",
   "metadata": {},
   "outputs": [
    {
     "data": {
      "text/plain": [
       "28464.944748774647"
      ]
     },
     "execution_count": 117,
     "metadata": {},
     "output_type": "execute_result"
    }
   ],
   "source": [
    "rf_mean_abs_error = mean_absolute_error(y_test_rf, y_pred_rf_test)\n",
    "rf_mean_abs_error"
   ]
  },
  {
   "cell_type": "code",
   "execution_count": 118,
   "id": "whole-addition",
   "metadata": {},
   "outputs": [
    {
     "data": {
      "text/plain": [
       "0.7202542180221543"
      ]
     },
     "execution_count": 118,
     "metadata": {},
     "output_type": "execute_result"
    }
   ],
   "source": [
    "rf_mean_r2 = r2_score(y_test_rf, y_pred_rf_test)\n",
    "rf_mean_r2"
   ]
  },
  {
   "cell_type": "code",
   "execution_count": 119,
   "id": "valid-plymouth",
   "metadata": {},
   "outputs": [],
   "source": [
    "df_res = pd.DataFrame([['Random  Forest','Yes',rf_mean_r2,rf_mean_abs_error,rf_mean_sq_error]], columns = result.columns)\n",
    "result = result.append(df_res)"
   ]
  },
  {
   "cell_type": "code",
   "execution_count": 120,
   "id": "laden-gothic",
   "metadata": {},
   "outputs": [
    {
     "name": "stdout",
     "output_type": "stream",
     "text": [
      "R2:\t0.72\n",
      "RMSE:\t49054.1\n",
      "MSE:\t2406304678.986\n"
     ]
    },
    {
     "data": {
      "image/png": "[encoded data removed]",
      "text/plain": [
       "<Figure size 576x576 with 1 Axes>"
      ]
     },
     "metadata": {},
     "output_type": "display_data"
    }
   ],
   "source": [
    "evaluate_preds(y_test_rf, y_pred_rf_test)"
   ]
  },
  {
   "cell_type": "code",
   "execution_count": 121,
   "id": "golden-interpretation",
   "metadata": {
    "scrolled": false
   },
   "outputs": [
    {
     "data": {
      "text/plain": [
       "array([4.94045892e-02, 7.01993882e-02, 3.99268071e-01, 3.76553299e-02,\n",
       "       2.10439507e-02, 2.69192134e-02, 2.06982026e-02, 3.37193212e-02,\n",
       "       4.08565462e-02, 9.26174590e-02, 1.02650667e-01, 5.78953526e-02,\n",
       "       2.23936753e-02, 5.95209937e-03, 1.64479291e-02, 2.41563977e-04,\n",
       "       3.25219004e-04, 3.69924684e-04, 4.20641132e-04, 4.62726306e-04,\n",
       "       4.58129674e-04])"
      ]
     },
     "execution_count": 121,
     "metadata": {},
     "output_type": "execute_result"
    }
   ],
   "source": [
    "best_rf_model.feature_importances_"
   ]
  },
  {
   "cell_type": "markdown",
   "id": "received-amount",
   "metadata": {},
   "source": [
    "**Feature Importances for test dataset**"
   ]
  },
  {
   "cell_type": "code",
   "execution_count": 122,
   "id": "dimensional-independence",
   "metadata": {},
   "outputs": [],
   "source": [
    "feature_importances_df = pd.DataFrame(zip(X_train_rf.columns, \n",
    "                                       best_rf_model.feature_importances_), \n",
    "                                   columns=['feature_name', 'importance'])\n",
    "\n",
    "feature_importances_df.sort_values(by='importance', ascending=False, inplace=True)"
   ]
  },
  {
   "cell_type": "code",
   "execution_count": 123,
   "id": "secret-intro",
   "metadata": {},
   "outputs": [
    {
     "data": {
      "image/png": "[encoded data removed]",
      "text/plain": [
       "<Figure size 288x288 with 1 Axes>"
      ]
     },
     "metadata": {},
     "output_type": "display_data"
    }
   ],
   "source": [
    "f, ax = plt.subplots(figsize=(4, 4))\n",
    "sns.barplot(y=feature_importances_df.feature_name, x=feature_importances_df.importance)\n",
    "\n",
    "plt.xlabel('Feature importance')\n",
    "plt.ylabel('Features')\n",
    "plt.title(\"the most important features\")\n",
    "plt.show()"
   ]
  },
  {
   "cell_type": "markdown",
   "id": "cloudy-mozambique",
   "metadata": {},
   "source": [
    "Model validation"
   ]
  },
  {
   "cell_type": "code",
   "execution_count": 124,
   "id": "municipal-czech",
   "metadata": {},
   "outputs": [],
   "source": [
    "df_real_rf = pd.read_csv(\"D:/Learning/GeekBrains/numpy and pandas/test.csv\", index_col='Id')"
   ]
  },
  {
   "cell_type": "markdown",
   "id": "unlimited-apollo",
   "metadata": {},
   "source": [
    "**Applying changes to validation model**"
   ]
  },
  {
   "cell_type": "code",
   "execution_count": 125,
   "id": "gross-luxury",
   "metadata": {},
   "outputs": [],
   "source": [
    "X_rl_rf = pd.get_dummies(df_real_rf)"
   ]
  },
  {
   "cell_type": "code",
   "execution_count": 126,
   "id": "stretch-apache",
   "metadata": {},
   "outputs": [
    {
     "data": {
      "text/plain": [
       "Index(['DistrictId', 'Rooms', 'Square', 'LifeSquare', 'KitchenSquare', 'Floor',\n",
       "       'HouseFloor', 'HouseYear', 'Ecology_1', 'Social_1', 'Social_2',\n",
       "       'Social_3', 'Healthcare_1', 'Helthcare_2', 'Shops_1', 'Ecology_2_A',\n",
       "       'Ecology_2_B', 'Ecology_3_A', 'Ecology_3_B', 'Shops_2_A', 'Shops_2_B'],\n",
       "      dtype='object')"
      ]
     },
     "execution_count": 126,
     "metadata": {},
     "output_type": "execute_result"
    }
   ],
   "source": [
    "X_test_rf.columns"
   ]
  },
  {
   "cell_type": "code",
   "execution_count": 127,
   "id": "optical-funds",
   "metadata": {},
   "outputs": [],
   "source": [
    "#X_rl_rf = df_real_rf.drop(['DistrictId'], axis = 1)"
   ]
  },
  {
   "cell_type": "code",
   "execution_count": 128,
   "id": "professional-indie",
   "metadata": {},
   "outputs": [],
   "source": [
    "X_rl_rf = data_clearing(X_rl_rf)"
   ]
  },
  {
   "cell_type": "code",
   "execution_count": 129,
   "id": "incorporate-collaboration",
   "metadata": {
    "scrolled": true
   },
   "outputs": [
    {
     "data": {
      "text/plain": [
       "DistrictId       0\n",
       "Rooms            0\n",
       "Square           0\n",
       "LifeSquare       0\n",
       "KitchenSquare    0\n",
       "Floor            0\n",
       "HouseFloor       0\n",
       "HouseYear        0\n",
       "Ecology_1        0\n",
       "Social_1         0\n",
       "Social_2         0\n",
       "Social_3         0\n",
       "Healthcare_1     0\n",
       "Helthcare_2      0\n",
       "Shops_1          0\n",
       "Ecology_2_A      0\n",
       "Ecology_2_B      0\n",
       "Ecology_3_A      0\n",
       "Ecology_3_B      0\n",
       "Shops_2_A        0\n",
       "Shops_2_B        0\n",
       "dtype: int64"
      ]
     },
     "execution_count": 129,
     "metadata": {},
     "output_type": "execute_result"
    }
   ],
   "source": [
    "X_rl_rf.isnull().sum()"
   ]
  },
  {
   "cell_type": "code",
   "execution_count": 130,
   "id": "welsh-great",
   "metadata": {},
   "outputs": [],
   "source": [
    "X_rl_rf = pd.get_dummies(X_rl_rf)"
   ]
  },
  {
   "cell_type": "code",
   "execution_count": 131,
   "id": "multiple-equation",
   "metadata": {},
   "outputs": [],
   "source": [
    "y_pred_rl_rf = best_rf_model.predict(X_rl_rf)"
   ]
  },
  {
   "cell_type": "code",
   "execution_count": 132,
   "id": "human-brooklyn",
   "metadata": {},
   "outputs": [],
   "source": [
    "res_rl_rf = pd.Series(y_pred_rl_rf)"
   ]
  },
  {
   "cell_type": "code",
   "execution_count": 133,
   "id": "nominated-contents",
   "metadata": {},
   "outputs": [],
   "source": [
    "submission_rl_rf = X_rl_rf.index"
   ]
  },
  {
   "cell_type": "code",
   "execution_count": 134,
   "id": "seasonal-ranking",
   "metadata": {},
   "outputs": [],
   "source": [
    "frame_rl_rf = {'Id':submission_rl_rf, 'Price': res_rl_rf}"
   ]
  },
  {
   "cell_type": "code",
   "execution_count": 135,
   "id": "miniature-works",
   "metadata": {},
   "outputs": [],
   "source": [
    "submission_result_rl_rf = pd.DataFrame(frame_rl_rf)"
   ]
  },
  {
   "cell_type": "code",
   "execution_count": 136,
   "id": "contrary-census",
   "metadata": {},
   "outputs": [
    {
     "data": {
      "text/plain": [
       "(5000, 2)"
      ]
     },
     "execution_count": 136,
     "metadata": {},
     "output_type": "execute_result"
    }
   ],
   "source": [
    "submission_result_rl_rf.shape"
   ]
  },
  {
   "cell_type": "code",
   "execution_count": 137,
   "id": "inside-trailer",
   "metadata": {},
   "outputs": [],
   "source": [
    "submission_result_rl_rf.to_csv('result.csv', index = False)"
   ]
  },
  {
   "cell_type": "markdown",
   "id": "tutorial-knock",
   "metadata": {},
   "source": [
    "**Conclusion about random forest model:**\n",
    "\n",
    "Random forest significantly increases prediction value relatively Linear model.  "
   ]
  },
  {
   "cell_type": "markdown",
   "id": "vanilla-entity",
   "metadata": {},
   "source": [
    "## Gradient Boosting"
   ]
  },
  {
   "cell_type": "markdown",
   "id": "adopted-transparency",
   "metadata": {},
   "source": [
    "Gradient boosting model applying"
   ]
  },
  {
   "cell_type": "code",
   "execution_count": 208,
   "id": "quantitative-healing",
   "metadata": {},
   "outputs": [],
   "source": [
    "X_gb = df_fill.copy()"
   ]
  },
  {
   "cell_type": "code",
   "execution_count": 209,
   "id": "eastern-welsh",
   "metadata": {
    "scrolled": true
   },
   "outputs": [
    {
     "data": {
      "text/html": [
       "<div>\n",
       "<style scoped>\n",
       "    .dataframe tbody tr th:only-of-type {\n",
       "        vertical-align: middle;\n",
       "    }\n",
       "\n",
       "    .dataframe tbody tr th {\n",
       "        vertical-align: top;\n",
       "    }\n",
       "\n",
       "    .dataframe thead th {\n",
       "        text-align: right;\n",
       "    }\n",
       "</style>\n",
       "<table border=\"1\" class=\"dataframe\">\n",
       "  <thead>\n",
       "    <tr style=\"text-align: right;\">\n",
       "      <th></th>\n",
       "      <th>DistrictId</th>\n",
       "      <th>Rooms</th>\n",
       "      <th>Square</th>\n",
       "      <th>LifeSquare</th>\n",
       "      <th>KitchenSquare</th>\n",
       "      <th>Floor</th>\n",
       "      <th>HouseFloor</th>\n",
       "      <th>HouseYear</th>\n",
       "      <th>Ecology_1</th>\n",
       "      <th>Social_1</th>\n",
       "      <th>...</th>\n",
       "      <th>Healthcare_1</th>\n",
       "      <th>Helthcare_2</th>\n",
       "      <th>Shops_1</th>\n",
       "      <th>Price</th>\n",
       "      <th>Ecology_2_A</th>\n",
       "      <th>Ecology_2_B</th>\n",
       "      <th>Ecology_3_A</th>\n",
       "      <th>Ecology_3_B</th>\n",
       "      <th>Shops_2_A</th>\n",
       "      <th>Shops_2_B</th>\n",
       "    </tr>\n",
       "    <tr>\n",
       "      <th>Id</th>\n",
       "      <th></th>\n",
       "      <th></th>\n",
       "      <th></th>\n",
       "      <th></th>\n",
       "      <th></th>\n",
       "      <th></th>\n",
       "      <th></th>\n",
       "      <th></th>\n",
       "      <th></th>\n",
       "      <th></th>\n",
       "      <th></th>\n",
       "      <th></th>\n",
       "      <th></th>\n",
       "      <th></th>\n",
       "      <th></th>\n",
       "      <th></th>\n",
       "      <th></th>\n",
       "      <th></th>\n",
       "      <th></th>\n",
       "      <th></th>\n",
       "      <th></th>\n",
       "    </tr>\n",
       "  </thead>\n",
       "  <tbody>\n",
       "    <tr>\n",
       "      <th>14038</th>\n",
       "      <td>35</td>\n",
       "      <td>2.0</td>\n",
       "      <td>47.981561</td>\n",
       "      <td>29.442751</td>\n",
       "      <td>6.0</td>\n",
       "      <td>7</td>\n",
       "      <td>9.0</td>\n",
       "      <td>1969.0</td>\n",
       "      <td>0.089040</td>\n",
       "      <td>33</td>\n",
       "      <td>...</td>\n",
       "      <td>900.0</td>\n",
       "      <td>0</td>\n",
       "      <td>11</td>\n",
       "      <td>184966.930730</td>\n",
       "      <td>0</td>\n",
       "      <td>1</td>\n",
       "      <td>0</td>\n",
       "      <td>1</td>\n",
       "      <td>0</td>\n",
       "      <td>1</td>\n",
       "    </tr>\n",
       "    <tr>\n",
       "      <th>15053</th>\n",
       "      <td>41</td>\n",
       "      <td>3.0</td>\n",
       "      <td>65.683640</td>\n",
       "      <td>40.049543</td>\n",
       "      <td>8.0</td>\n",
       "      <td>7</td>\n",
       "      <td>9.0</td>\n",
       "      <td>1978.0</td>\n",
       "      <td>0.000070</td>\n",
       "      <td>46</td>\n",
       "      <td>...</td>\n",
       "      <td>240.0</td>\n",
       "      <td>1</td>\n",
       "      <td>16</td>\n",
       "      <td>300009.450063</td>\n",
       "      <td>0</td>\n",
       "      <td>1</td>\n",
       "      <td>0</td>\n",
       "      <td>1</td>\n",
       "      <td>0</td>\n",
       "      <td>1</td>\n",
       "    </tr>\n",
       "    <tr>\n",
       "      <th>4765</th>\n",
       "      <td>53</td>\n",
       "      <td>2.0</td>\n",
       "      <td>44.947953</td>\n",
       "      <td>29.197612</td>\n",
       "      <td>3.0</td>\n",
       "      <td>8</td>\n",
       "      <td>12.0</td>\n",
       "      <td>1968.0</td>\n",
       "      <td>0.049637</td>\n",
       "      <td>34</td>\n",
       "      <td>...</td>\n",
       "      <td>229.0</td>\n",
       "      <td>1</td>\n",
       "      <td>3</td>\n",
       "      <td>220925.908524</td>\n",
       "      <td>0</td>\n",
       "      <td>1</td>\n",
       "      <td>0</td>\n",
       "      <td>1</td>\n",
       "      <td>0</td>\n",
       "      <td>1</td>\n",
       "    </tr>\n",
       "    <tr>\n",
       "      <th>5809</th>\n",
       "      <td>58</td>\n",
       "      <td>2.0</td>\n",
       "      <td>53.352981</td>\n",
       "      <td>42.352981</td>\n",
       "      <td>9.0</td>\n",
       "      <td>8</td>\n",
       "      <td>17.0</td>\n",
       "      <td>1977.0</td>\n",
       "      <td>0.437885</td>\n",
       "      <td>23</td>\n",
       "      <td>...</td>\n",
       "      <td>1084.0</td>\n",
       "      <td>0</td>\n",
       "      <td>5</td>\n",
       "      <td>175616.227217</td>\n",
       "      <td>0</td>\n",
       "      <td>1</td>\n",
       "      <td>0</td>\n",
       "      <td>1</td>\n",
       "      <td>0</td>\n",
       "      <td>1</td>\n",
       "    </tr>\n",
       "    <tr>\n",
       "      <th>10783</th>\n",
       "      <td>99</td>\n",
       "      <td>1.0</td>\n",
       "      <td>39.649192</td>\n",
       "      <td>23.776169</td>\n",
       "      <td>7.0</td>\n",
       "      <td>11</td>\n",
       "      <td>12.0</td>\n",
       "      <td>1976.0</td>\n",
       "      <td>0.012339</td>\n",
       "      <td>35</td>\n",
       "      <td>...</td>\n",
       "      <td>2078.0</td>\n",
       "      <td>2</td>\n",
       "      <td>4</td>\n",
       "      <td>150226.531644</td>\n",
       "      <td>0</td>\n",
       "      <td>1</td>\n",
       "      <td>0</td>\n",
       "      <td>1</td>\n",
       "      <td>0</td>\n",
       "      <td>1</td>\n",
       "    </tr>\n",
       "  </tbody>\n",
       "</table>\n",
       "<p>5 rows × 22 columns</p>\n",
       "</div>"
      ],
      "text/plain": [
       "       DistrictId  Rooms     Square  LifeSquare  KitchenSquare  Floor  \\\n",
       "Id                                                                      \n",
       "14038          35    2.0  47.981561   29.442751            6.0      7   \n",
       "15053          41    3.0  65.683640   40.049543            8.0      7   \n",
       "4765           53    2.0  44.947953   29.197612            3.0      8   \n",
       "5809           58    2.0  53.352981   42.352981            9.0      8   \n",
       "10783          99    1.0  39.649192   23.776169            7.0     11   \n",
       "\n",
       "       HouseFloor  HouseYear  Ecology_1  Social_1  ...  Healthcare_1  \\\n",
       "Id                                                 ...                 \n",
       "14038         9.0     1969.0   0.089040        33  ...         900.0   \n",
       "15053         9.0     1978.0   0.000070        46  ...         240.0   \n",
       "4765         12.0     1968.0   0.049637        34  ...         229.0   \n",
       "5809         17.0     1977.0   0.437885        23  ...        1084.0   \n",
       "10783        12.0     1976.0   0.012339        35  ...        2078.0   \n",
       "\n",
       "       Helthcare_2  Shops_1          Price  Ecology_2_A  Ecology_2_B  \\\n",
       "Id                                                                     \n",
       "14038            0       11  184966.930730            0            1   \n",
       "15053            1       16  300009.450063            0            1   \n",
       "4765             1        3  220925.908524            0            1   \n",
       "5809             0        5  175616.227217            0            1   \n",
       "10783            2        4  150226.531644            0            1   \n",
       "\n",
       "       Ecology_3_A  Ecology_3_B  Shops_2_A  Shops_2_B  \n",
       "Id                                                     \n",
       "14038            0            1          0          1  \n",
       "15053            0            1          0          1  \n",
       "4765             0            1          0          1  \n",
       "5809             0            1          0          1  \n",
       "10783            0            1          0          1  \n",
       "\n",
       "[5 rows x 22 columns]"
      ]
     },
     "execution_count": 209,
     "metadata": {},
     "output_type": "execute_result"
    }
   ],
   "source": [
    "X_gb.head()"
   ]
  },
  {
   "cell_type": "markdown",
   "id": "inside-commons",
   "metadata": {},
   "source": [
    "**Dataset preprocessing.**"
   ]
  },
  {
   "cell_type": "markdown",
   "id": "strategic-horizontal",
   "metadata": {},
   "source": [
    "For validation dataset preprocessign same data will be used as for training datasets."
   ]
  },
  {
   "cell_type": "code",
   "execution_count": 210,
   "id": "found-retail",
   "metadata": {},
   "outputs": [],
   "source": [
    "X_gb = data_clearing(X_gb)"
   ]
  },
  {
   "cell_type": "code",
   "execution_count": 211,
   "id": "actual-jaguar",
   "metadata": {},
   "outputs": [],
   "source": [
    "y_gb = X_gb['Price']"
   ]
  },
  {
   "cell_type": "code",
   "execution_count": 212,
   "id": "intimate-stanford",
   "metadata": {},
   "outputs": [],
   "source": [
    "X_gb = X_gb.drop(['Price'], axis = 1)"
   ]
  },
  {
   "cell_type": "markdown",
   "id": "sunrise-marketing",
   "metadata": {},
   "source": [
    "Splitting training dataset to train and test sub datasets."
   ]
  },
  {
   "cell_type": "code",
   "execution_count": 213,
   "id": "latin-prior",
   "metadata": {},
   "outputs": [],
   "source": [
    "X_gb = X_gb.drop('DistrictId', axis = 1)"
   ]
  },
  {
   "cell_type": "markdown",
   "id": "amino-tongue",
   "metadata": {},
   "source": [
    "Based on experience of work with current dataset, some features can be deleted."
   ]
  },
  {
   "cell_type": "code",
   "execution_count": 214,
   "id": "reverse-pocket",
   "metadata": {},
   "outputs": [],
   "source": [
    "X_gb = X_gb.drop(['Ecology_2_A','Ecology_2_B', 'Ecology_3_A', 'Ecology_3_B', 'Shops_2_A', 'Shops_2_B'], axis = 1)"
   ]
  },
  {
   "cell_type": "markdown",
   "id": "fallen-corruption",
   "metadata": {},
   "source": [
    "Splitting of dataset to training and test."
   ]
  },
  {
   "cell_type": "code",
   "execution_count": 215,
   "id": "resident-boring",
   "metadata": {},
   "outputs": [],
   "source": [
    "X_train_gb, X_test_gb, y_train_gb, y_test_gb = train_test_split(X_gb, y_gb, test_size=0.3, random_state = 44)"
   ]
  },
  {
   "cell_type": "markdown",
   "id": "choice-technician",
   "metadata": {},
   "source": [
    "**Selecting of optimal parameters for dataset.**"
   ]
  },
  {
   "cell_type": "code",
   "execution_count": 216,
   "id": "adverse-priest",
   "metadata": {},
   "outputs": [],
   "source": [
    "gb_model = GradientBoostingRegressor(criterion='mse',\n",
    "                          # min_samples_leaf=10,\n",
    "                          random_state=44,\n",
    "                         # n_estimators=100,\n",
    "                         # max_depth=7\n",
    "                         )"
   ]
  },
  {
   "cell_type": "markdown",
   "id": "ruled-kazakhstan",
   "metadata": {},
   "source": [
    "params = {'n_estimators': range(200, 701, 100), \n",
    "          'max_depth': range(2, 10, 2),\n",
    "         #'min_samples_leaf':[20, 30, 40]                   \n",
    "         }"
   ]
  },
  {
   "cell_type": "code",
   "execution_count": 217,
   "id": "stupid-coral",
   "metadata": {},
   "outputs": [],
   "source": [
    "params = {'n_estimators': range(100, 701, 50), \n",
    "          'max_depth': range(2, 11, 2)\n",
    "         #'min_samples_leaf':[20, 30, 40]                   \n",
    "         }"
   ]
  },
  {
   "cell_type": "markdown",
   "id": "dietary-journey",
   "metadata": {},
   "source": [
    "Applying of gread search to selecting of the most optimal set of meth-parameters."
   ]
  },
  {
   "cell_type": "code",
   "execution_count": 218,
   "id": "little-local",
   "metadata": {},
   "outputs": [],
   "source": [
    "gs = GridSearchCV(gb_model, params, \n",
    "                  scoring='r2', # r2 score metric \n",
    "                  cv=KFold(n_splits=5,   # k number of fold in cross validation\n",
    "                           random_state=21, \n",
    "                           shuffle=True),\n",
    "                  n_jobs=-1\n",
    "                  )"
   ]
  },
  {
   "cell_type": "code",
   "execution_count": 219,
   "id": "everyday-steps",
   "metadata": {},
   "outputs": [
    {
     "name": "stdout",
     "output_type": "stream",
     "text": [
      "Wall time: 14min 36s\n"
     ]
    },
    {
     "data": {
      "text/plain": [
       "GridSearchCV(cv=KFold(n_splits=5, random_state=21, shuffle=True),\n",
       "             estimator=GradientBoostingRegressor(criterion='mse',\n",
       "                                                 random_state=44),\n",
       "             n_jobs=-1,\n",
       "             param_grid={'max_depth': range(2, 11, 2),\n",
       "                         'n_estimators': range(100, 701, 50)},\n",
       "             scoring='r2')"
      ]
     },
     "execution_count": 219,
     "metadata": {},
     "output_type": "execute_result"
    }
   ],
   "source": [
    "%%time\n",
    "gs.fit(X_train_gb, y_train_gb)"
   ]
  },
  {
   "cell_type": "code",
   "execution_count": 220,
   "id": "harmful-eligibility",
   "metadata": {},
   "outputs": [
    {
     "data": {
      "text/plain": [
       "{'max_depth': 6, 'n_estimators': 100}"
      ]
     },
     "execution_count": 220,
     "metadata": {},
     "output_type": "execute_result"
    }
   ],
   "source": [
    "gs.best_params_"
   ]
  },
  {
   "cell_type": "markdown",
   "id": "civic-journalist",
   "metadata": {},
   "source": [
    "Best params are {'max_depth': 6, 'n_estimators': 200}"
   ]
  },
  {
   "cell_type": "code",
   "execution_count": 221,
   "id": "amateur-gabriel",
   "metadata": {},
   "outputs": [
    {
     "data": {
      "text/plain": [
       "0.7328024314478053"
      ]
     },
     "execution_count": 221,
     "metadata": {},
     "output_type": "execute_result"
    }
   ],
   "source": [
    "gs.best_score_"
   ]
  },
  {
   "cell_type": "code",
   "execution_count": 225,
   "id": "naked-honolulu",
   "metadata": {},
   "outputs": [],
   "source": [
    "best_gb_model = gs.best_estimator_"
   ]
  },
  {
   "cell_type": "code",
   "execution_count": 226,
   "id": "becoming-script",
   "metadata": {},
   "outputs": [],
   "source": [
    "y_pred_gb = best_gb_model.predict(X_test_gb)\n",
    "# evaluate_preds(y_train, y_train_preds)"
   ]
  },
  {
   "cell_type": "markdown",
   "id": "superior-excerpt",
   "metadata": {},
   "source": [
    "**Selected model evaluation**"
   ]
  },
  {
   "cell_type": "code",
   "execution_count": 227,
   "id": "loving-integral",
   "metadata": {},
   "outputs": [
    {
     "name": "stdout",
     "output_type": "stream",
     "text": [
      "R2:\t0.746\n",
      "RMSE:\t46817.475\n",
      "MSE:\t2191875939.35\n"
     ]
    },
    {
     "data": {
      "image/png": "[encoded data removed]",
      "text/plain": [
       "<Figure size 576x576 with 1 Axes>"
      ]
     },
     "metadata": {},
     "output_type": "display_data"
    }
   ],
   "source": [
    "evaluate_preds(np.squeeze(y_test_gb.values), y_pred_gb)"
   ]
  },
  {
   "cell_type": "code",
   "execution_count": 228,
   "id": "afraid-chaos",
   "metadata": {},
   "outputs": [
    {
     "data": {
      "text/plain": [
       "array([0.06822203, 0.41798535, 0.02830428, 0.02560445, 0.02346733,\n",
       "       0.0197006 , 0.03797918, 0.04327349, 0.07623791, 0.13617133,\n",
       "       0.0748074 , 0.02550353, 0.00619535, 0.01654776])"
      ]
     },
     "execution_count": 228,
     "metadata": {},
     "output_type": "execute_result"
    }
   ],
   "source": [
    "best_gb_model.feature_importances_"
   ]
  },
  {
   "cell_type": "code",
   "execution_count": 229,
   "id": "proof-reynolds",
   "metadata": {},
   "outputs": [],
   "source": [
    "feature_importances_df = pd.DataFrame(zip(X_train_gb.columns, \n",
    "                                       best_gb_model.feature_importances_), \n",
    "                                   columns=['feature_name', 'importance'])\n",
    "\n",
    "feature_importances_df.sort_values(by='importance', ascending=False, inplace=True)"
   ]
  },
  {
   "cell_type": "code",
   "execution_count": 230,
   "id": "suspected-permit",
   "metadata": {
    "scrolled": true
   },
   "outputs": [
    {
     "data": {
      "image/png": "[encoded data removed]",
      "text/plain": [
       "<Figure size 432x432 with 1 Axes>"
      ]
     },
     "metadata": {},
     "output_type": "display_data"
    }
   ],
   "source": [
    "f, ax = plt.subplots(figsize=(6, 6))\n",
    "sns.barplot(y=feature_importances_df.feature_name, x=feature_importances_df.importance)\n",
    "\n",
    "plt.xlabel('Важность атрибутов')\n",
    "plt.ylabel('Атрибуты')\n",
    "plt.title(\"Наиболее важные атрибуты\")\n",
    "plt.show()"
   ]
  },
  {
   "cell_type": "code",
   "execution_count": 231,
   "id": "thrown-thinking",
   "metadata": {},
   "outputs": [
    {
     "data": {
      "text/plain": [
       "2191875939.3495502"
      ]
     },
     "execution_count": 231,
     "metadata": {},
     "output_type": "execute_result"
    }
   ],
   "source": [
    "gb_mean_sqe_error = mean_squared_error(y_pred_gb, y_test_gb)\n",
    "gb_mean_sqe_error"
   ]
  },
  {
   "cell_type": "code",
   "execution_count": 232,
   "id": "cutting-incentive",
   "metadata": {},
   "outputs": [
    {
     "data": {
      "text/plain": [
       "27696.02433460185"
      ]
     },
     "execution_count": 232,
     "metadata": {},
     "output_type": "execute_result"
    }
   ],
   "source": [
    "gb_mean_abs_error = mean_absolute_error(y_pred_gb, y_test_gb)\n",
    "gb_mean_abs_error"
   ]
  },
  {
   "cell_type": "code",
   "execution_count": 233,
   "id": "developmental-enhancement",
   "metadata": {},
   "outputs": [
    {
     "data": {
      "text/plain": [
       "0.6558184216917462"
      ]
     },
     "execution_count": 233,
     "metadata": {},
     "output_type": "execute_result"
    }
   ],
   "source": [
    "gb_r2_score = r2_score(y_pred_gb, y_test_gb)\n",
    "gb_r2_score"
   ]
  },
  {
   "cell_type": "code",
   "execution_count": 234,
   "id": "still-tobacco",
   "metadata": {},
   "outputs": [],
   "source": [
    "df_res = pd.DataFrame([['Gradient Boosting','Yes',gb_r2_score,gb_mean_abs_error,gb_mean_sqe_error]], columns = result.columns)\n",
    "result = result.append(df_res)"
   ]
  },
  {
   "cell_type": "markdown",
   "id": "atmospheric-google",
   "metadata": {},
   "source": [
    "**Validate data  on validation model**"
   ]
  },
  {
   "cell_type": "code",
   "execution_count": 235,
   "id": "sexual-arthur",
   "metadata": {},
   "outputs": [],
   "source": [
    "df_real_gb = pd.read_csv(\"D:/Learning/GeekBrains/numpy and pandas/test.csv\", index_col='Id')"
   ]
  },
  {
   "cell_type": "code",
   "execution_count": 236,
   "id": "meaningful-conspiracy",
   "metadata": {},
   "outputs": [],
   "source": [
    "X_rl_gb = data_clearing(df_real_gb)"
   ]
  },
  {
   "cell_type": "code",
   "execution_count": 237,
   "id": "responsible-coral",
   "metadata": {},
   "outputs": [],
   "source": [
    "X_rl_gb = pd.get_dummies(X_rl_gb)"
   ]
  },
  {
   "cell_type": "code",
   "execution_count": 238,
   "id": "pleasant-california",
   "metadata": {},
   "outputs": [],
   "source": [
    "X_rl_gb = X_rl_gb.drop(['Ecology_2_A','Ecology_2_B', 'Ecology_3_A', 'Ecology_3_B', 'Shops_2_A', 'Shops_2_B'], axis = 1)"
   ]
  },
  {
   "cell_type": "code",
   "execution_count": 239,
   "id": "regulated-norway",
   "metadata": {},
   "outputs": [],
   "source": [
    "X_rl_gb = X_rl_gb.drop('DistrictId', axis = 1)"
   ]
  },
  {
   "cell_type": "code",
   "execution_count": 240,
   "id": "bulgarian-vertical",
   "metadata": {},
   "outputs": [
    {
     "data": {
      "text/plain": [
       "Rooms            0\n",
       "Square           0\n",
       "LifeSquare       0\n",
       "KitchenSquare    0\n",
       "Floor            0\n",
       "HouseFloor       0\n",
       "HouseYear        0\n",
       "Ecology_1        0\n",
       "Social_1         0\n",
       "Social_2         0\n",
       "Social_3         0\n",
       "Healthcare_1     0\n",
       "Helthcare_2      0\n",
       "Shops_1          0\n",
       "dtype: int64"
      ]
     },
     "execution_count": 240,
     "metadata": {},
     "output_type": "execute_result"
    }
   ],
   "source": [
    "X_rl_gb.isnull().sum()"
   ]
  },
  {
   "cell_type": "code",
   "execution_count": 241,
   "id": "enabling-kenya",
   "metadata": {},
   "outputs": [],
   "source": [
    "y_pred_rl_gb = best_gb_model.predict(X_rl_gb)"
   ]
  },
  {
   "cell_type": "code",
   "execution_count": 242,
   "id": "protecting-classic",
   "metadata": {},
   "outputs": [],
   "source": [
    "res_rl_gb = pd.Series(y_pred_rl_gb)"
   ]
  },
  {
   "cell_type": "code",
   "execution_count": 243,
   "id": "anticipated-disease",
   "metadata": {},
   "outputs": [],
   "source": [
    "submission_rl_gb = X_rl_gb.index"
   ]
  },
  {
   "cell_type": "code",
   "execution_count": 244,
   "id": "chemical-australian",
   "metadata": {},
   "outputs": [],
   "source": [
    "frame_rl_gb = {'Id':submission_rl_gb, 'Price': res_rl_gb}"
   ]
  },
  {
   "cell_type": "code",
   "execution_count": 245,
   "id": "little-supplier",
   "metadata": {},
   "outputs": [],
   "source": [
    "submission_result_rl_gb = pd.DataFrame(frame_rl_gb)"
   ]
  },
  {
   "cell_type": "code",
   "execution_count": 246,
   "id": "smart-booking",
   "metadata": {},
   "outputs": [
    {
     "data": {
      "text/plain": [
       "(5000, 2)"
      ]
     },
     "execution_count": 246,
     "metadata": {},
     "output_type": "execute_result"
    }
   ],
   "source": [
    "submission_result_rl_gb.shape"
   ]
  },
  {
   "cell_type": "code",
   "execution_count": 247,
   "id": "expanded-synthesis",
   "metadata": {},
   "outputs": [],
   "source": [
    "submission_result_rl_gb.to_csv('result.csv', index = False)"
   ]
  },
  {
   "cell_type": "markdown",
   "id": "alpine-medication",
   "metadata": {},
   "source": [
    "**Conclusion**\n",
    "\n",
    "Gradient Boosting predisctions has the highest prediction e2 score from all tested models.\n"
   ]
  },
  {
   "cell_type": "markdown",
   "id": "obvious-future",
   "metadata": {},
   "source": [
    "# 6. Conclusions <a class='anchor' id='conclusions'>"
   ]
  },
  {
   "cell_type": "markdown",
   "id": "secret-jacket",
   "metadata": {},
   "source": [
    "**Dataset**\n",
    "\n",
    "Initial and training datasets have big amount of features which do no have influence on prediction accuracy.\n",
    "Also changing categorial variables using get_dummies function almost does not have influence on funal accuracy of predictions for this current dataset.\n",
    "Big mount of NaN in some columns requires their population or complete removing of features with big amount of gaps in data."
   ]
  },
  {
   "cell_type": "markdown",
   "id": "indie-friendship",
   "metadata": {},
   "source": [
    "**Model Selection**\n",
    "\n",
    "Random Forest model has the best accuracy comparable accuracy　from all models applied.\n",
    "Gradient boosting have slightly higher R2 score but for current dataset in can be relative to more sucessful set of metha parameters.\n",
    "\n"
   ]
  },
  {
   "cell_type": "markdown",
   "id": "isolated-bridge",
   "metadata": {},
   "source": [
    "**Potential ways for result improvement**\n",
    "\n",
    "Available ways for r2 scorw increasing:\n",
    "- improve process of feature preprocessing\n",
    "- use regularisation of features insted of normalisation\n",
    "- try to use PCA dimensional reducing\n",
    "- use more efficeiant models like xgboosting"
   ]
  },
  {
   "cell_type": "code",
   "execution_count": 183,
   "id": "wrong-search",
   "metadata": {
    "scrolled": true
   },
   "outputs": [],
   "source": [
    "# s = pd.Series([_ for _ in range(1, result.shape[0] + 1)])\n",
    "# result.set_index(s)"
   ]
  },
  {
   "cell_type": "code",
   "execution_count": null,
   "id": "ceramic-vanilla",
   "metadata": {},
   "outputs": [],
   "source": [
    "gc.collect"
   ]
  }
 ],
 "metadata": {
  "kernelspec": {
   "display_name": "Python 3",
   "language": "python",
   "name": "python3"
  },
  "language_info": {
   "codemirror_mode": {
    "name": "ipython",
    "version": 3
   },
   "file_extension": ".py",
   "mimetype": "text/x-python",
   "name": "python",
   "nbconvert_exporter": "python",
   "pygments_lexer": "ipython3",
   "version": "3.9.1"
  }
 },
 "nbformat": 4,
 "nbformat_minor": 5
}
