{
 "cells": [
  {
   "cell_type": "code",
   "execution_count": 14,
   "id": "retired-script",
   "metadata": {},
   "outputs": [],
   "source": [
    "import numpy as np"
   ]
  },
  {
   "cell_type": "markdown",
   "id": "conventional-electron",
   "metadata": {},
   "source": [
    "### Numpy tasks"
   ]
  },
  {
   "cell_type": "markdown",
   "id": "union-restriction",
   "metadata": {},
   "source": [
    "**Task 1**"
   ]
  },
  {
   "cell_type": "code",
   "execution_count": 2,
   "id": "green-lending",
   "metadata": {},
   "outputs": [],
   "source": [
    "arr = np.array([[1, 6],\n",
    "       [2, 8],\n",
    "       [3,11],\n",
    "       [3,10],\n",
    "       [1, 7]], dtype = int)"
   ]
  },
  {
   "cell_type": "code",
   "execution_count": 3,
   "id": "naked-better",
   "metadata": {},
   "outputs": [
    {
     "data": {
      "text/plain": [
       "(5, 2)"
      ]
     },
     "execution_count": 3,
     "metadata": {},
     "output_type": "execute_result"
    }
   ],
   "source": [
    "arr.shape"
   ]
  },
  {
   "cell_type": "code",
   "execution_count": 4,
   "id": "waiting-essex",
   "metadata": {},
   "outputs": [],
   "source": [
    "mean_arr = [np.array(arr[:, 0]).mean(), np.array(arr[:, 1]).mean()]"
   ]
  },
  {
   "cell_type": "code",
   "execution_count": 5,
   "id": "rubber-military",
   "metadata": {},
   "outputs": [
    {
     "data": {
      "text/plain": [
       "[2.0, 8.4]"
      ]
     },
     "execution_count": 5,
     "metadata": {},
     "output_type": "execute_result"
    }
   ],
   "source": [
    "mean_arr"
   ]
  },
  {
   "cell_type": "code",
   "execution_count": 6,
   "id": "loaded-product",
   "metadata": {},
   "outputs": [
    {
     "data": {
      "text/plain": [
       "array([2. , 8.4])"
      ]
     },
     "execution_count": 6,
     "metadata": {},
     "output_type": "execute_result"
    }
   ],
   "source": [
    "mean_arr = arr.mean(axis = 0)\n",
    "mean_arr"
   ]
  },
  {
   "cell_type": "markdown",
   "id": "prerequisite-henry",
   "metadata": {},
   "source": [
    "**Task 2**"
   ]
  },
  {
   "cell_type": "code",
   "execution_count": 7,
   "id": "filled-integral",
   "metadata": {
    "scrolled": true
   },
   "outputs": [
    {
     "data": {
      "text/plain": [
       "array([[-1. , -2.4],\n",
       "       [ 0. , -0.4],\n",
       "       [ 1. ,  2.6],\n",
       "       [ 1. ,  1.6],\n",
       "       [-1. , -1.4]])"
      ]
     },
     "execution_count": 7,
     "metadata": {},
     "output_type": "execute_result"
    }
   ],
   "source": [
    "a_centered = arr - mean_arr\n",
    "a_centered"
   ]
  },
  {
   "cell_type": "code",
   "execution_count": 8,
   "id": "ambient-appreciation",
   "metadata": {},
   "outputs": [
    {
     "data": {
      "text/plain": [
       "(5, 2)"
      ]
     },
     "execution_count": 8,
     "metadata": {},
     "output_type": "execute_result"
    }
   ],
   "source": [
    "a_centered.shape"
   ]
  },
  {
   "cell_type": "markdown",
   "id": "rough-brazilian",
   "metadata": {},
   "source": [
    "**Task 3**"
   ]
  },
  {
   "cell_type": "code",
   "execution_count": 9,
   "id": "colonial-conservation",
   "metadata": {},
   "outputs": [
    {
     "data": {
      "text/plain": [
       "8.0"
      ]
     },
     "execution_count": 9,
     "metadata": {},
     "output_type": "execute_result"
    }
   ],
   "source": [
    "a_centered_sp = a_centered[:, 0].dot(a_centered[:, 1])\n",
    "a_centered_sp"
   ]
  },
  {
   "cell_type": "code",
   "execution_count": 10,
   "id": "neither-insight",
   "metadata": {},
   "outputs": [
    {
     "data": {
      "text/plain": [
       "2.0"
      ]
     },
     "execution_count": 10,
     "metadata": {},
     "output_type": "execute_result"
    }
   ],
   "source": [
    "cov_2 = a_centered_sp/(a_centered.shape[0] - 1)\n",
    "cov_2"
   ]
  },
  {
   "cell_type": "markdown",
   "id": "stylish-terry",
   "metadata": {},
   "source": [
    "**Task 4**"
   ]
  },
  {
   "cell_type": "code",
   "execution_count": 11,
   "id": "assured-connectivity",
   "metadata": {},
   "outputs": [
    {
     "data": {
      "text/plain": [
       "array([[ 1,  2,  3,  3,  1],\n",
       "       [ 6,  8, 11, 10,  7]])"
      ]
     },
     "execution_count": 11,
     "metadata": {},
     "output_type": "execute_result"
    }
   ],
   "source": [
    "arr_t = np.transpose(arr)\n",
    "arr_t"
   ]
  },
  {
   "cell_type": "code",
   "execution_count": 12,
   "id": "gross-scenario",
   "metadata": {},
   "outputs": [],
   "source": [
    "a_cov = np.cov(arr_t)"
   ]
  },
  {
   "cell_type": "code",
   "execution_count": 13,
   "id": "special-familiar",
   "metadata": {},
   "outputs": [
    {
     "data": {
      "text/plain": [
       "array([[1. , 2. ],\n",
       "       [2. , 4.3]])"
      ]
     },
     "execution_count": 13,
     "metadata": {},
     "output_type": "execute_result"
    }
   ],
   "source": [
    "a_cov"
   ]
  },
  {
   "cell_type": "code",
   "execution_count": null,
   "id": "measured-newman",
   "metadata": {},
   "outputs": [],
   "source": []
  }
 ],
 "metadata": {
  "kernelspec": {
   "display_name": "Python 3",
   "language": "python",
   "name": "python3"
  },
  "language_info": {
   "codemirror_mode": {
    "name": "ipython",
    "version": 3
   },
   "file_extension": ".py",
   "mimetype": "text/x-python",
   "name": "python",
   "nbconvert_exporter": "python",
   "pygments_lexer": "ipython3",
   "version": "3.9.1"
  }
 },
 "nbformat": 4,
 "nbformat_minor": 5
}
