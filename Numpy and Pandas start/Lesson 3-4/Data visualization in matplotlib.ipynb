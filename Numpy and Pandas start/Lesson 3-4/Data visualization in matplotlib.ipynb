{
 "cells": [
  {
   "cell_type": "markdown",
   "id": "interpreted-worcester",
   "metadata": {},
   "source": [
    "## Homework 3 - 4 ##"
   ]
  },
  {
   "cell_type": "markdown",
   "id": "incorrect-focus",
   "metadata": {},
   "source": [
    "Задание 1\n",
    "Загрузите модуль pyplot библиотеки matplotlib с псевдонимом plt, а также библиотеку numpy с псевдонимом np.\n",
    "Примените магическую функцию %matplotlib inline для отображения графиков в Jupyter Notebook и настройки конфигурации ноутбука со значением 'svg' для более четкого отображения графиков.\n",
    "Создайте список под названием x с числами 1, 2, 3, 4, 5, 6, 7 и список y с числами 3.5, 3.8, 4.2, 4.5, 5, 5.5, 7.\n",
    "С помощью функции plot постройте график, соединяющий линиями точки с горизонтальными координатами из списка x и вертикальными - из списка y.\n",
    "Затем в следующей ячейке постройте диаграмму рассеяния (другие названия - диаграмма разброса, scatter plot).\n"
   ]
  },
  {
   "cell_type": "code",
   "execution_count": 5,
   "id": "elect-penguin",
   "metadata": {},
   "outputs": [],
   "source": [
    "import matplotlib.pyplot as plt\n",
    "import numpy as np"
   ]
  },
  {
   "cell_type": "code",
   "execution_count": 6,
   "id": "cognitive-liechtenstein",
   "metadata": {},
   "outputs": [],
   "source": [
    "%matplotlib inline"
   ]
  },
  {
   "cell_type": "code",
   "execution_count": 7,
   "id": "powerful-laugh",
   "metadata": {},
   "outputs": [
    {
     "ename": "NameError",
     "evalue": "name 'rcParams' is not defined",
     "output_type": "error",
     "traceback": [
      "\u001b[1;31m---------------------------------------------------------------------------\u001b[0m",
      "\u001b[1;31mNameError\u001b[0m                                 Traceback (most recent call last)",
      "\u001b[1;32m<ipython-input-7-88c2c4fe34c4>\u001b[0m in \u001b[0;36m<module>\u001b[1;34m\u001b[0m\n\u001b[1;32m----> 1\u001b[1;33m \u001b[0mrcParams\u001b[0m\u001b[1;33m[\u001b[0m\u001b[1;34m\"figure.figsize\"\u001b[0m\u001b[1;33m]\u001b[0m \u001b[1;33m=\u001b[0m \u001b[1;36m5\u001b[0m\u001b[1;33m,\u001b[0m \u001b[1;36m3\u001b[0m\u001b[1;33m\u001b[0m\u001b[1;33m\u001b[0m\u001b[0m\n\u001b[0m\u001b[0;32m      2\u001b[0m \u001b[0mget_ipython\u001b[0m\u001b[1;33m(\u001b[0m\u001b[1;33m)\u001b[0m\u001b[1;33m.\u001b[0m\u001b[0mrun_line_magic\u001b[0m\u001b[1;33m(\u001b[0m\u001b[1;34m'config'\u001b[0m\u001b[1;33m,\u001b[0m \u001b[1;34m\"InlineBackend.figure_format = 'svg'\"\u001b[0m\u001b[1;33m)\u001b[0m\u001b[1;33m\u001b[0m\u001b[1;33m\u001b[0m\u001b[0m\n",
      "\u001b[1;31mNameError\u001b[0m: name 'rcParams' is not defined"
     ]
    }
   ],
   "source": [
    "rcParams[\"figure.figsize\"] = 5, 3\n",
    "%config InlineBackend.figure_format = 'svg'"
   ]
  },
  {
   "cell_type": "code",
   "execution_count": 8,
   "id": "burning-sugar",
   "metadata": {},
   "outputs": [
    {
     "ename": "TypeError",
     "evalue": "array() takes from 1 to 2 positional arguments but 7 were given",
     "output_type": "error",
     "traceback": [
      "\u001b[1;31m---------------------------------------------------------------------------\u001b[0m",
      "\u001b[1;31mTypeError\u001b[0m                                 Traceback (most recent call last)",
      "\u001b[1;32m<ipython-input-8-fc89dee24df0>\u001b[0m in \u001b[0;36m<module>\u001b[1;34m\u001b[0m\n\u001b[1;32m----> 1\u001b[1;33m \u001b[0ma\u001b[0m \u001b[1;33m=\u001b[0m \u001b[0mnp\u001b[0m\u001b[1;33m.\u001b[0m\u001b[0marray\u001b[0m\u001b[1;33m(\u001b[0m\u001b[1;36m1\u001b[0m\u001b[1;33m,\u001b[0m \u001b[1;36m2\u001b[0m\u001b[1;33m,\u001b[0m \u001b[1;36m3\u001b[0m\u001b[1;33m,\u001b[0m \u001b[1;36m4\u001b[0m\u001b[1;33m,\u001b[0m \u001b[1;36m5\u001b[0m\u001b[1;33m,\u001b[0m \u001b[1;36m6\u001b[0m\u001b[1;33m,\u001b[0m \u001b[1;36m7\u001b[0m\u001b[1;33m)\u001b[0m\u001b[1;33m\u001b[0m\u001b[1;33m\u001b[0m\u001b[0m\n\u001b[0m",
      "\u001b[1;31mTypeError\u001b[0m: array() takes from 1 to 2 positional arguments but 7 were given"
     ]
    }
   ],
   "source": [
    "a = np.array([1, 2, 3, 4, 5, 6, 7)"
   ]
  },
  {
   "cell_type": "code",
   "execution_count": null,
   "id": "viral-dealer",
   "metadata": {},
   "outputs": [],
   "source": []
  },
  {
   "cell_type": "code",
   "execution_count": null,
   "id": "painful-queue",
   "metadata": {},
   "outputs": [],
   "source": []
  },
  {
   "cell_type": "markdown",
   "id": "narrow-ancient",
   "metadata": {},
   "source": [
    "**Task 2**"
   ]
  },
  {
   "cell_type": "markdown",
   "id": "treated-filter",
   "metadata": {},
   "source": [
    "Задание 2\n",
    "С помощью функции linspace из библиотеки Numpy создайте массив t из 51 числа от 0 до 10 включительно.\n",
    "Создайте массив Numpy под названием f, содержащий косинусы элементов массива t.\n",
    "Постройте линейную диаграмму, используя массив t для координат по горизонтали,а массив f - для координат по вертикали. Линия графика должна быть зеленого цвета.\n",
    "Выведите название диаграммы - 'График f(t)'. Также добавьте названия для горизонтальной оси - 'Значения t' и для вертикальной - 'Значения f'.\n",
    "Ограничьте график по оси x значениями 0.5 и 9.5, а по оси y - значениями -2.5 и 2.5.\n"
   ]
  },
  {
   "cell_type": "code",
   "execution_count": 10,
   "id": "brazilian-bunny",
   "metadata": {},
   "outputs": [
    {
     "data": {
      "text/plain": [
       "array([ 0. ,  0.2,  0.4,  0.6,  0.8,  1. ,  1.2,  1.4,  1.6,  1.8,  2. ,\n",
       "        2.2,  2.4,  2.6,  2.8,  3. ,  3.2,  3.4,  3.6,  3.8,  4. ,  4.2,\n",
       "        4.4,  4.6,  4.8,  5. ,  5.2,  5.4,  5.6,  5.8,  6. ,  6.2,  6.4,\n",
       "        6.6,  6.8,  7. ,  7.2,  7.4,  7.6,  7.8,  8. ,  8.2,  8.4,  8.6,\n",
       "        8.8,  9. ,  9.2,  9.4,  9.6,  9.8, 10. ])"
      ]
     },
     "execution_count": 10,
     "metadata": {},
     "output_type": "execute_result"
    }
   ],
   "source": [
    "t = np.linspace(0, 10, 51)\n",
    "t"
   ]
  },
  {
   "cell_type": "code",
   "execution_count": 15,
   "id": "chemical-heath",
   "metadata": {},
   "outputs": [
    {
     "data": {
      "text/plain": [
       "array([ 1.        ,  0.98006658,  0.92106099,  0.82533561,  0.69670671,\n",
       "        0.54030231,  0.36235775,  0.16996714, -0.02919952, -0.22720209,\n",
       "       -0.41614684, -0.58850112, -0.73739372, -0.85688875, -0.94222234,\n",
       "       -0.9899925 , -0.99829478, -0.96679819, -0.89675842, -0.79096771,\n",
       "       -0.65364362, -0.49026082, -0.30733287, -0.11215253,  0.08749898,\n",
       "        0.28366219,  0.46851667,  0.63469288,  0.77556588,  0.88551952,\n",
       "        0.96017029,  0.9965421 ,  0.99318492,  0.95023259,  0.86939749,\n",
       "        0.75390225,  0.60835131,  0.43854733,  0.25125984,  0.05395542,\n",
       "       -0.14550003, -0.33915486, -0.51928865, -0.67872005, -0.81109301,\n",
       "       -0.91113026, -0.97484362, -0.99969304, -0.98468786, -0.93042627,\n",
       "       -0.83907153])"
      ]
     },
     "execution_count": 15,
     "metadata": {},
     "output_type": "execute_result"
    }
   ],
   "source": [
    "f = np.array(np.cos(t))\n",
    "f"
   ]
  },
  {
   "cell_type": "code",
   "execution_count": 23,
   "id": "requested-display",
   "metadata": {},
   "outputs": [],
   "source": [
    "label_font = {\n",
    "    \"fontsize\": 15,\n",
    "    \"family\": \"serif\",\n",
    "     \"color\":\"#F78787\"\n",
    "}\n"
   ]
  },
  {
   "cell_type": "code",
   "execution_count": 25,
   "id": "promising-syntax",
   "metadata": {
    "scrolled": true
   },
   "outputs": [
    {
     "data": {
      "image/png": "[encoded data removed]",
      "text/plain": [
       "<Figure size 432x288 with 1 Axes>"
      ]
     },
     "metadata": {
      "needs_background": "light"
     },
     "output_type": "display_data"
    }
   ],
   "source": [
    "plt.plot(t, f, color=\"green\")\n",
    "plt.title(\"График f(t)\", fontsize = 16, color = \"#F78787\")\n",
    "plt.xlabel(\"Значения t\", fontdict=label_font)\n",
    "plt.ylabel(\"Значения f\", fontdict=label_font)\n",
    "plt.axis([0.5, 9.5, -2.5, 2.5])\n",
    "plt.show()\n"
   ]
  },
  {
   "cell_type": "markdown",
   "id": "daily-engagement",
   "metadata": {},
   "source": [
    "variant 2"
   ]
  },
  {
   "cell_type": "code",
   "execution_count": 34,
   "id": "adaptive-ceremony",
   "metadata": {},
   "outputs": [
    {
     "data": {
      "text/plain": [
       "[<matplotlib.lines.Line2D at 0x23488f80f40>]"
      ]
     },
     "execution_count": 34,
     "metadata": {},
     "output_type": "execute_result"
    },
    {
     "data": {
      "image/png": "[encoded data removed]",
      "text/plain": [
       "<Figure size 432x288 with 1 Axes>"
      ]
     },
     "metadata": {
      "needs_background": "light"
     },
     "output_type": "display_data"
    }
   ],
   "source": [
    "fig, ax = plt.subplots(nrows=1, ncols=1)\n",
    "ax.set_title(\"График f(t)\", fontsize = 16, color = \"#F78787\")\n",
    "ax.set_xlabel(\"Значения t\", fontdict=label_font)\n",
    "ax.set_ylabel(\"Значения f\", fontdict=label_font)\n",
    "ax.set_xlim([0.5, 9.5])\n",
    "ax.set_ylim([-2.5, 2.5])\n",
    "ax.plot(t, f, color=\"green\")"
   ]
  },
  {
   "cell_type": "markdown",
   "id": "welsh-marble",
   "metadata": {},
   "source": [
    "**Task 3**"
   ]
  },
  {
   "cell_type": "markdown",
   "id": "welcome-peripheral",
   "metadata": {},
   "source": [
    "*Задание 3\n",
    "С помощью функции linspace библиотеки Numpy создайте массив x из 51 числа от -3 до 3 включительно.\n",
    "Создайте массивы y1, y2, y3, y4 по следующим формулам:\n",
    "y1 = x**2\n",
    "y2 = 2 * x + 0.5\n",
    "y3 = -3 * x - 1.5\n",
    "y4 = sin(x)\n",
    "Используя функцию subplots модуля matplotlib.pyplot, создайте объект matplotlib.figure.Figure с названием fig и массив объектов Axes под названием ax,причем так, чтобы у вас было 4 отдельных графика в сетке, состоящей из двух строк и двух столбцов. В каждом графике массив x используется для координат по горизонтали.В левом верхнем графике для координат по вертикали используйте y1,в правом верхнем - y2, в левом нижнем - y3, в правом нижнем - y4.Дайте название графикам: 'График y1', 'График y2' и т.д.\n",
    "Для графика в левом верхнем углу установите границы по оси x от -5 до 5.\n",
    "Установите размеры фигуры 8 дюймов по горизонтали и 6 дюймов по вертикали.\n",
    "Вертикальные и горизонтальные зазоры между графиками должны составлять 0.3.\n"
   ]
  },
  {
   "cell_type": "code",
   "execution_count": 37,
   "id": "cardiovascular-advertiser",
   "metadata": {},
   "outputs": [
    {
     "data": {
      "text/plain": [
       "array([-3.  , -2.88, -2.76, -2.64, -2.52, -2.4 , -2.28, -2.16, -2.04,\n",
       "       -1.92, -1.8 , -1.68, -1.56, -1.44, -1.32, -1.2 , -1.08, -0.96,\n",
       "       -0.84, -0.72, -0.6 , -0.48, -0.36, -0.24, -0.12,  0.  ,  0.12,\n",
       "        0.24,  0.36,  0.48,  0.6 ,  0.72,  0.84,  0.96,  1.08,  1.2 ,\n",
       "        1.32,  1.44,  1.56,  1.68,  1.8 ,  1.92,  2.04,  2.16,  2.28,\n",
       "        2.4 ,  2.52,  2.64,  2.76,  2.88,  3.  ])"
      ]
     },
     "execution_count": 37,
     "metadata": {},
     "output_type": "execute_result"
    }
   ],
   "source": [
    "x = np.linspace(-3, 3, 51)\n",
    "x"
   ]
  },
  {
   "cell_type": "code",
   "execution_count": 38,
   "id": "voluntary-hamburg",
   "metadata": {},
   "outputs": [
    {
     "data": {
      "text/plain": [
       "array([-6.  , -5.76, -5.52, -5.28, -5.04, -4.8 , -4.56, -4.32, -4.08,\n",
       "       -3.84, -3.6 , -3.36, -3.12, -2.88, -2.64, -2.4 , -2.16, -1.92,\n",
       "       -1.68, -1.44, -1.2 , -0.96, -0.72, -0.48, -0.24,  0.  ,  0.24,\n",
       "        0.48,  0.72,  0.96,  1.2 ,  1.44,  1.68,  1.92,  2.16,  2.4 ,\n",
       "        2.64,  2.88,  3.12,  3.36,  3.6 ,  3.84,  4.08,  4.32,  4.56,\n",
       "        4.8 ,  5.04,  5.28,  5.52,  5.76,  6.  ])"
      ]
     },
     "execution_count": 38,
     "metadata": {},
     "output_type": "execute_result"
    }
   ],
   "source": [
    "y1 = x * 2\n",
    "y1"
   ]
  },
  {
   "cell_type": "code",
   "execution_count": 40,
   "id": "communist-income",
   "metadata": {},
   "outputs": [
    {
     "data": {
      "text/plain": [
       "array([-5.5 , -5.26, -5.02, -4.78, -4.54, -4.3 , -4.06, -3.82, -3.58,\n",
       "       -3.34, -3.1 , -2.86, -2.62, -2.38, -2.14, -1.9 , -1.66, -1.42,\n",
       "       -1.18, -0.94, -0.7 , -0.46, -0.22,  0.02,  0.26,  0.5 ,  0.74,\n",
       "        0.98,  1.22,  1.46,  1.7 ,  1.94,  2.18,  2.42,  2.66,  2.9 ,\n",
       "        3.14,  3.38,  3.62,  3.86,  4.1 ,  4.34,  4.58,  4.82,  5.06,\n",
       "        5.3 ,  5.54,  5.78,  6.02,  6.26,  6.5 ])"
      ]
     },
     "execution_count": 40,
     "metadata": {},
     "output_type": "execute_result"
    }
   ],
   "source": [
    "y2 = (2 * x) + 0.5\n",
    "y2"
   ]
  },
  {
   "cell_type": "code",
   "execution_count": 42,
   "id": "polish-emperor",
   "metadata": {},
   "outputs": [
    {
     "data": {
      "text/plain": [
       "array([  7.5 ,   7.14,   6.78,   6.42,   6.06,   5.7 ,   5.34,   4.98,\n",
       "         4.62,   4.26,   3.9 ,   3.54,   3.18,   2.82,   2.46,   2.1 ,\n",
       "         1.74,   1.38,   1.02,   0.66,   0.3 ,  -0.06,  -0.42,  -0.78,\n",
       "        -1.14,  -1.5 ,  -1.86,  -2.22,  -2.58,  -2.94,  -3.3 ,  -3.66,\n",
       "        -4.02,  -4.38,  -4.74,  -5.1 ,  -5.46,  -5.82,  -6.18,  -6.54,\n",
       "        -6.9 ,  -7.26,  -7.62,  -7.98,  -8.34,  -8.7 ,  -9.06,  -9.42,\n",
       "        -9.78, -10.14, -10.5 ])"
      ]
     },
     "execution_count": 42,
     "metadata": {},
     "output_type": "execute_result"
    }
   ],
   "source": [
    "y3 = (-3 * x) - 1.5\n",
    "y3"
   ]
  },
  {
   "cell_type": "code",
   "execution_count": 43,
   "id": "activated-father",
   "metadata": {},
   "outputs": [
    {
     "data": {
      "text/plain": [
       "array([-0.14112001, -0.25861935, -0.37239904, -0.48082261, -0.58233065,\n",
       "       -0.67546318, -0.75888071, -0.83138346, -0.89192865, -0.93964547,\n",
       "       -0.97384763, -0.9940432 , -0.99994172, -0.99145835, -0.9687151 ,\n",
       "       -0.93203909, -0.88195781, -0.81919157, -0.74464312, -0.65938467,\n",
       "       -0.56464247, -0.46177918, -0.35227423, -0.23770263, -0.11971221,\n",
       "        0.        ,  0.11971221,  0.23770263,  0.35227423,  0.46177918,\n",
       "        0.56464247,  0.65938467,  0.74464312,  0.81919157,  0.88195781,\n",
       "        0.93203909,  0.9687151 ,  0.99145835,  0.99994172,  0.9940432 ,\n",
       "        0.97384763,  0.93964547,  0.89192865,  0.83138346,  0.75888071,\n",
       "        0.67546318,  0.58233065,  0.48082261,  0.37239904,  0.25861935,\n",
       "        0.14112001])"
      ]
     },
     "execution_count": 43,
     "metadata": {},
     "output_type": "execute_result"
    }
   ],
   "source": [
    "y4 = np.sin(x)\n",
    "y4"
   ]
  },
  {
   "cell_type": "code",
   "execution_count": 54,
   "id": "literary-bottom",
   "metadata": {},
   "outputs": [],
   "source": [
    "title_font = {\n",
    "    \"fontsize\": 15,\n",
    "    \"family\": \"serif\",\n",
    "     \"color\":\"#253C7E\"\n",
    "}"
   ]
  },
  {
   "cell_type": "code",
   "execution_count": 55,
   "id": "latter-manchester",
   "metadata": {},
   "outputs": [
    {
     "data": {
      "text/plain": [
       "Text(0.5, 1.0, 'y4 = sin(x) graph')"
      ]
     },
     "execution_count": 55,
     "metadata": {},
     "output_type": "execute_result"
    },
    {
     "data": {
      "image/png": "[encoded data removed]",
      "text/plain": [
       "<Figure size 576x432 with 4 Axes>"
      ]
     },
     "metadata": {
      "needs_background": "light"
     },
     "output_type": "display_data"
    }
   ],
   "source": [
    "fig, ax = plt.subplots(nrows=2, ncols=2)\n",
    "ax1, ax2, ax3, ax4 = ax.flatten()\n",
    "fig.set_size_inches(8, 6)\n",
    "fig.subplots_adjust(wspace=0.3, hspace=0.3)\n",
    "\n",
    "ax1.plot(x, y1)\n",
    "ax1.set_title(\"y1 = 2*x graph\", fontdict = title_font)\n",
    "ax1.set_xlim([-5, 5])\n",
    "\n",
    "ax2.plot(x, y2)\n",
    "ax2.set_title(\"y2 = 2*x + 0.5 graph\", fontdict = title_font)\n",
    "\n",
    "ax3.plot(x, y3)\n",
    "ax3.set_title(\"y3 = -3x - 1.5 graph\", fontdict = title_font)\n",
    "\n",
    "ax4.plot(x, y4)\n",
    "ax4.set_title(\"y4 = sin(x) graph\", fontdict = title_font)\n"
   ]
  },
  {
   "cell_type": "markdown",
   "id": "sound-narrow",
   "metadata": {},
   "source": [
    "**Task 4**"
   ]
  },
  {
   "cell_type": "markdown",
   "id": "three-insert",
   "metadata": {},
   "source": [
    "В этом задании мы будем работать с датасетом, в котором приведены данные по мошенничеству с кредитными данными: Credit Card Fraud Detection (информация об авторах: Andrea Dal Pozzolo, Olivier Caelen, Reid A. Johnson and Gianluca Bontempi. Calibrating Probability with Undersampling for Unbalanced Classification. In Symposium on Computational Intelligence and Data Mining (CIDM), IEEE, 2015).\n",
    "Ознакомьтесь с описанием и скачайте датасет creditcard.csv с сайта Kaggle.com по ссылке:\n",
    "Credit Card Fraud Detection\n",
    "Данный датасет является примером несбалансированных данных, так как мошеннические операции с картами встречаются реже обычных.\n",
    "Импортруйте библиотеку Pandas, а также используйте для графиков стиль “fivethirtyeight”.\n",
    "Посчитайте с помощью метода value_counts количество наблюдений для каждого значения целевой переменной Class и примените к полученным данным метод plot, чтобы построить столбчатую диаграмму. Затем постройте такую же диаграмму, используя логарифмический масштаб.\n",
    "На следующем графике постройте две гистограммы по значениям признака V1 - одну для мошеннических транзакций (Class равен 1) и другую - для обычных (Class равен 0). Подберите значение аргумента density так, чтобы по вертикали графика было расположено не число наблюдений, а плотность распределения. Число бинов должно равняться 20 для обеих гистограмм, а коэффициент alpha сделайте равным 0.5, чтобы гистограммы были полупрозрачными и не загораживали друг друга. Создайте легенду с двумя значениями: “Class 0” и “Class 1”. Гистограмма обычных транзакций должна быть серого цвета, а мошеннических - красного. Горизонтальной оси дайте название “Class”.\n"
   ]
  },
  {
   "cell_type": "code",
   "execution_count": null,
   "id": "macro-romance",
   "metadata": {},
   "outputs": [],
   "source": []
  },
  {
   "cell_type": "code",
   "execution_count": null,
   "id": "mechanical-writing",
   "metadata": {},
   "outputs": [],
   "source": []
  },
  {
   "cell_type": "code",
   "execution_count": null,
   "id": "round-diagram",
   "metadata": {},
   "outputs": [],
   "source": []
  },
  {
   "cell_type": "code",
   "execution_count": null,
   "id": "intermediate-korean",
   "metadata": {},
   "outputs": [],
   "source": []
  }
 ],
 "metadata": {
  "kernelspec": {
   "display_name": "Python 3",
   "language": "python",
   "name": "python3"
  },
  "language_info": {
   "codemirror_mode": {
    "name": "ipython",
    "version": 3
   },
   "file_extension": ".py",
   "mimetype": "text/x-python",
   "name": "python",
   "nbconvert_exporter": "python",
   "pygments_lexer": "ipython3",
   "version": "3.9.1"
  }
 },
 "nbformat": 4,
 "nbformat_minor": 5
}
